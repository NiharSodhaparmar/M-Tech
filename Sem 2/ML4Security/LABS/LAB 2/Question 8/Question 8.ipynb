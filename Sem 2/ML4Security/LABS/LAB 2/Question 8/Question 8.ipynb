{
 "cells": [
  {
   "cell_type": "code",
   "execution_count": 2,
   "id": "a561a236",
   "metadata": {},
   "outputs": [],
   "source": [
    "import markovify\n",
    "import pandas as pd\n",
    "\n",
    "df = pd.read_csv(\"dataset/airport_reviews.csv\")"
   ]
  },
  {
   "cell_type": "code",
   "execution_count": 3,
   "id": "a4761c5e",
   "metadata": {},
   "outputs": [
    {
     "data": {
      "text/html": [
       "<div>\n",
       "<style scoped>\n",
       "    .dataframe tbody tr th:only-of-type {\n",
       "        vertical-align: middle;\n",
       "    }\n",
       "\n",
       "    .dataframe tbody tr th {\n",
       "        vertical-align: top;\n",
       "    }\n",
       "\n",
       "    .dataframe thead th {\n",
       "        text-align: right;\n",
       "    }\n",
       "</style>\n",
       "<table border=\"1\" class=\"dataframe\">\n",
       "  <thead>\n",
       "    <tr style=\"text-align: right;\">\n",
       "      <th></th>\n",
       "      <th>content</th>\n",
       "    </tr>\n",
       "  </thead>\n",
       "  <tbody>\n",
       "    <tr>\n",
       "      <th>0</th>\n",
       "      <td>The airport is certainly tiny! Arriving there ...</td>\n",
       "    </tr>\n",
       "    <tr>\n",
       "      <th>1</th>\n",
       "      <td>Small airports are generally intimate friendly...</td>\n",
       "    </tr>\n",
       "    <tr>\n",
       "      <th>2</th>\n",
       "      <td>Waited an hour in a corridor for baggage but o...</td>\n",
       "    </tr>\n",
       "    <tr>\n",
       "      <th>3</th>\n",
       "      <td>The previous comment is so off the mark it mus...</td>\n",
       "    </tr>\n",
       "    <tr>\n",
       "      <th>4</th>\n",
       "      <td>The airport resulbles a shack. A very bad cafe...</td>\n",
       "    </tr>\n",
       "    <tr>\n",
       "      <th>...</th>\n",
       "      <td>...</td>\n",
       "    </tr>\n",
       "    <tr>\n",
       "      <th>2954</th>\n",
       "      <td>A bit remote for public transport but easy acc...</td>\n",
       "    </tr>\n",
       "    <tr>\n",
       "      <th>2955</th>\n",
       "      <td>The airport itself is quite nice enough but th...</td>\n",
       "    </tr>\n",
       "    <tr>\n",
       "      <th>2956</th>\n",
       "      <td>The airport itself is quite nice enough but th...</td>\n",
       "    </tr>\n",
       "    <tr>\n",
       "      <th>2957</th>\n",
       "      <td>Departed and arrived at HAM for a day trip to ...</td>\n",
       "    </tr>\n",
       "    <tr>\n",
       "      <th>2958</th>\n",
       "      <td>At the first look HAM Airport is a great airpo...</td>\n",
       "    </tr>\n",
       "  </tbody>\n",
       "</table>\n",
       "<p>2959 rows × 1 columns</p>\n",
       "</div>"
      ],
      "text/plain": [
       "                                                content\n",
       "0     The airport is certainly tiny! Arriving there ...\n",
       "1     Small airports are generally intimate friendly...\n",
       "2     Waited an hour in a corridor for baggage but o...\n",
       "3     The previous comment is so off the mark it mus...\n",
       "4     The airport resulbles a shack. A very bad cafe...\n",
       "...                                                 ...\n",
       "2954  A bit remote for public transport but easy acc...\n",
       "2955  The airport itself is quite nice enough but th...\n",
       "2956  The airport itself is quite nice enough but th...\n",
       "2957  Departed and arrived at HAM for a day trip to ...\n",
       "2958  At the first look HAM Airport is a great airpo...\n",
       "\n",
       "[2959 rows x 1 columns]"
      ]
     },
     "execution_count": 3,
     "metadata": {},
     "output_type": "execute_result"
    }
   ],
   "source": [
    "df"
   ]
  },
  {
   "cell_type": "code",
   "execution_count": 4,
   "id": "aa4718a9",
   "metadata": {},
   "outputs": [],
   "source": [
    "from itertools import chain\n",
    "\n",
    "N = 100\n",
    "review_subset = df[\"content\"][0:N]\n",
    "text = \"\".join(chain.from_iterable(review_subset))\n",
    "markov_chain_model = markovify.Text(text)"
   ]
  },
  {
   "cell_type": "code",
   "execution_count": 5,
   "id": "bbcecb3f",
   "metadata": {},
   "outputs": [
    {
     "name": "stdout",
     "output_type": "stream",
     "text": [
      "I think the longest for baggage - it is a good 200m from the immigration control point so a rush of people coming down the stairs.\n",
      "\n",
      "Anyone though who has to spend more than 10mins to walk to the passport control since the terminal passengers walk to the passport check point - there appear to be in but about 15 minutes of walking from the check-in halls could be planned.\n",
      "\n",
      "Cleanliness is so incompetent in one of the time easy to find.\n",
      "\n",
      "In addition to this excuse of an airport.\n",
      "\n",
      "Customs ignored me and I was collected by car.\n",
      "\n"
     ]
    }
   ],
   "source": [
    "for i in range(5):\n",
    "    print(markov_chain_model.make_sentence() + \"\\n\")"
   ]
  },
  {
   "cell_type": "code",
   "execution_count": 6,
   "id": "67f54ea3",
   "metadata": {},
   "outputs": [
    {
     "name": "stdout",
     "output_type": "stream",
     "text": [
      "A very bad cafe and unfriendly staff across the tarmac ± 100 metres.\n",
      "\n",
      "Tickets must be purchased before boarding the bus into the centre of the other terminal.\n",
      "\n",
      "There does not look aged less shops and restaurants bit overpriced.\n",
      "\n"
     ]
    }
   ],
   "source": [
    "for i in range(3):\n",
    "    print(markov_chain_model.make_short_sentence(140) + \"\\n\")"
   ]
  },
  {
   "cell_type": "code",
   "execution_count": null,
   "id": "4912e010",
   "metadata": {},
   "outputs": [],
   "source": []
  }
 ],
 "metadata": {
  "kernelspec": {
   "display_name": "Python 3 (ipykernel)",
   "language": "python",
   "name": "python3"
  },
  "language_info": {
   "codemirror_mode": {
    "name": "ipython",
    "version": 3
   },
   "file_extension": ".py",
   "mimetype": "text/x-python",
   "name": "python",
   "nbconvert_exporter": "python",
   "pygments_lexer": "ipython3",
   "version": "3.9.0"
  }
 },
 "nbformat": 4,
 "nbformat_minor": 5
}
