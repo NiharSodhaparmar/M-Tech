{
 "cells": [
  {
   "cell_type": "code",
   "execution_count": 1,
   "id": "46cd329c",
   "metadata": {},
   "outputs": [],
   "source": [
    "import pandas as pd"
   ]
  },
  {
   "cell_type": "code",
   "execution_count": 2,
   "id": "65457bbb",
   "metadata": {},
   "outputs": [],
   "source": [
    "columns=['duration','protocol_type','service','flag','src_bytes','dst_bytes','land','wrong_fragment','urgent'\n",
    "            ,'hot','num_failed_logins','logged_in','num_compromised','root_shell','su_attempted','num_root'\n",
    "            ,'num_file_creations','num_shells','num_access_files','num_outbound_cmds','is_host_login'\n",
    "            ,'is_guest_login','count','srv_count','serror_rate','srv_serror_rate','rerror_rate','srv_rerror_rate'\n",
    "            ,'same_srv_rate','diff_srv_rate','srv_diff_host_rate','dst_host_count','dst_host_srv_count'\n",
    "            ,'dst_host_same_srv_rate','dst_host_diff_srv_rate','dst_host_same_src_port_rate'\n",
    "            ,'dst_host_srv_diff_host_rate','dst_host_serror_rate','dst_host_srv_serror_rate','dst_host_rerror_rate'\n",
    "            ,'dst_host_srv_rerror_rate','attack','outcome']\n"
   ]
  },
  {
   "cell_type": "code",
   "execution_count": 74,
   "id": "d775db33",
   "metadata": {},
   "outputs": [],
   "source": [
    "from collections import defaultdict\n",
    "\n",
    "training_attack_types = open(\"dataset/training_attack_types\")\n",
    "mapping = defaultdict(list)"
   ]
  },
  {
   "cell_type": "code",
   "execution_count": 75,
   "id": "1433f4fb",
   "metadata": {},
   "outputs": [],
   "source": [
    "Lines = training_attack_types.readlines()\n",
    "for line in Lines:\n",
    "    a, b = line.split(' ')\n",
    "    mapping[b.rstrip()].append(a.rstrip())"
   ]
  },
  {
   "cell_type": "code",
   "execution_count": 76,
   "id": "cdfc3891",
   "metadata": {},
   "outputs": [
    {
     "data": {
      "text/plain": [
       "defaultdict(list,\n",
       "            {'dos': ['back', 'land', 'neptune', 'pod', 'smurf', 'teardrop'],\n",
       "             'u2r': ['buffer_overflow', 'loadmodule', 'perl', 'rootkit'],\n",
       "             'r2l': ['ftp_write',\n",
       "              'guess_passwd',\n",
       "              'imap',\n",
       "              'multihop',\n",
       "              'phf',\n",
       "              'spy',\n",
       "              'warezclient',\n",
       "              'warezmaster'],\n",
       "             'probe': ['ipsweep', 'nmap', 'portsweep', 'satan']})"
      ]
     },
     "execution_count": 76,
     "metadata": {},
     "output_type": "execute_result"
    }
   ],
   "source": [
    "mapping"
   ]
  },
  {
   "cell_type": "code",
   "execution_count": 77,
   "id": "3a58edd4",
   "metadata": {},
   "outputs": [],
   "source": [
    "def invert_dict(d): \n",
    "    inverse = dict() \n",
    "    for key in d: \n",
    "        # Go through the list that is saved in the dict:\n",
    "        for item in d[key]:\n",
    "            # Check if in the inverted dict the key exists\n",
    "            if item not in inverse: \n",
    "                # If not create a new list\n",
    "                inverse[item] = [key] \n",
    "            else: \n",
    "                inverse[item].append(key) \n",
    "    return inverse"
   ]
  },
  {
   "cell_type": "code",
   "execution_count": 78,
   "id": "2e9252de",
   "metadata": {},
   "outputs": [],
   "source": [
    "mapping_inverse = invert_dict(mapping)"
   ]
  },
  {
   "cell_type": "code",
   "execution_count": 79,
   "id": "42d6f1a0",
   "metadata": {},
   "outputs": [
    {
     "data": {
      "text/plain": [
       "{'back': ['dos'],\n",
       " 'land': ['dos'],\n",
       " 'neptune': ['dos'],\n",
       " 'pod': ['dos'],\n",
       " 'smurf': ['dos'],\n",
       " 'teardrop': ['dos'],\n",
       " 'buffer_overflow': ['u2r'],\n",
       " 'loadmodule': ['u2r'],\n",
       " 'perl': ['u2r'],\n",
       " 'rootkit': ['u2r'],\n",
       " 'ftp_write': ['r2l'],\n",
       " 'guess_passwd': ['r2l'],\n",
       " 'imap': ['r2l'],\n",
       " 'multihop': ['r2l'],\n",
       " 'phf': ['r2l'],\n",
       " 'spy': ['r2l'],\n",
       " 'warezclient': ['r2l'],\n",
       " 'warezmaster': ['r2l'],\n",
       " 'ipsweep': ['probe'],\n",
       " 'nmap': ['probe'],\n",
       " 'portsweep': ['probe'],\n",
       " 'satan': ['probe']}"
      ]
     },
     "execution_count": 79,
     "metadata": {},
     "output_type": "execute_result"
    }
   ],
   "source": [
    "mapping_inverse"
   ]
  },
  {
   "cell_type": "code",
   "execution_count": null,
   "id": "cef05430",
   "metadata": {},
   "outputs": [],
   "source": []
  }
 ],
 "metadata": {
  "kernelspec": {
   "display_name": "Python 3 (ipykernel)",
   "language": "python",
   "name": "python3"
  },
  "language_info": {
   "codemirror_mode": {
    "name": "ipython",
    "version": 3
   },
   "file_extension": ".py",
   "mimetype": "text/x-python",
   "name": "python",
   "nbconvert_exporter": "python",
   "pygments_lexer": "ipython3",
   "version": "3.9.0"
  }
 },
 "nbformat": 4,
 "nbformat_minor": 5
}
