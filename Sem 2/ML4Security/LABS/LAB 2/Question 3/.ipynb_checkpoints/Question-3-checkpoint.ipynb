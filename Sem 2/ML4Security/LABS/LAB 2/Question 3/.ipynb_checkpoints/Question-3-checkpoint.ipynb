{
 "cells": [
  {
   "cell_type": "code",
   "execution_count": 1,
   "id": "27cfb93a",
   "metadata": {},
   "outputs": [],
   "source": [
    "import warnings\n",
    "warnings.filterwarnings('ignore')\n",
    "import pandas as pd\n",
    "import numpy as np\n",
    "from sklearn.model_selection import train_test_split "
   ]
  },
  {
   "cell_type": "code",
   "execution_count": 2,
   "id": "2d3d3897",
   "metadata": {},
   "outputs": [],
   "source": [
    "df = pd.read_excel(\"../Data/north_korea_missile_test_database.xlsx\")"
   ]
  },
  {
   "cell_type": "code",
   "execution_count": 3,
   "id": "60921570",
   "metadata": {},
   "outputs": [
    {
     "data": {
      "text/html": [
       "<div>\n",
       "<style scoped>\n",
       "    .dataframe tbody tr th:only-of-type {\n",
       "        vertical-align: middle;\n",
       "    }\n",
       "\n",
       "    .dataframe tbody tr th {\n",
       "        vertical-align: top;\n",
       "    }\n",
       "\n",
       "    .dataframe thead th {\n",
       "        text-align: right;\n",
       "    }\n",
       "</style>\n",
       "<table border=\"1\" class=\"dataframe\">\n",
       "  <thead>\n",
       "    <tr style=\"text-align: right;\">\n",
       "      <th></th>\n",
       "      <th>F1</th>\n",
       "      <th>Date</th>\n",
       "      <th>Date Entered/Updated</th>\n",
       "      <th>Launch Time (UTC)</th>\n",
       "      <th>Missile Name</th>\n",
       "      <th>Missile Type</th>\n",
       "      <th>Launch Agency/Authority</th>\n",
       "      <th>Facility Name</th>\n",
       "      <th>Facility Location</th>\n",
       "      <th>Other Name</th>\n",
       "      <th>Facility Latitude</th>\n",
       "      <th>Facility Longitude</th>\n",
       "      <th>Landing Location</th>\n",
       "      <th>Apogee</th>\n",
       "      <th>Distance Travelled</th>\n",
       "      <th>Confirmation Status</th>\n",
       "      <th>Test Outcome</th>\n",
       "      <th>Additional Information</th>\n",
       "      <th>Source(s)</th>\n",
       "    </tr>\n",
       "  </thead>\n",
       "  <tbody>\n",
       "    <tr>\n",
       "      <th>0</th>\n",
       "      <td>1</td>\n",
       "      <td>1984-04-09</td>\n",
       "      <td>2016-12-23</td>\n",
       "      <td>NaN</td>\n",
       "      <td>Scud-B</td>\n",
       "      <td>SRBM</td>\n",
       "      <td>NaN</td>\n",
       "      <td>Tonghae Satellite Launching Ground</td>\n",
       "      <td>Hwadae County, North Hamgyong Province</td>\n",
       "      <td>Musudan-ri</td>\n",
       "      <td>40.849997</td>\n",
       "      <td>129.666664</td>\n",
       "      <td>Unknown</td>\n",
       "      <td>Unknown</td>\n",
       "      <td>Unknown</td>\n",
       "      <td>Confirmed</td>\n",
       "      <td>Success</td>\n",
       "      <td>First known test by North Korea of a missile w...</td>\n",
       "      <td>http://www.nti.org/media/pdfs/north_korea_miss...</td>\n",
       "    </tr>\n",
       "    <tr>\n",
       "      <th>1</th>\n",
       "      <td>2</td>\n",
       "      <td>1984-04-09</td>\n",
       "      <td>2016-12-23</td>\n",
       "      <td>NaN</td>\n",
       "      <td>Scud-B</td>\n",
       "      <td>SRBM</td>\n",
       "      <td>NaN</td>\n",
       "      <td>Tonghae Satellite Launching Ground</td>\n",
       "      <td>Hwadae County, North Hamgyong Province</td>\n",
       "      <td>Musudan-ri</td>\n",
       "      <td>40.849997</td>\n",
       "      <td>129.666664</td>\n",
       "      <td>Unknown</td>\n",
       "      <td>Unknown</td>\n",
       "      <td>Unknown</td>\n",
       "      <td>Confirmed</td>\n",
       "      <td>Success</td>\n",
       "      <td>NaN</td>\n",
       "      <td>http://www.nti.org/media/pdfs/north_korea_miss...</td>\n",
       "    </tr>\n",
       "    <tr>\n",
       "      <th>2</th>\n",
       "      <td>3</td>\n",
       "      <td>1984-04-09</td>\n",
       "      <td>2016-12-23</td>\n",
       "      <td>NaN</td>\n",
       "      <td>Scud-B</td>\n",
       "      <td>SRBM</td>\n",
       "      <td>NaN</td>\n",
       "      <td>Tonghae Satellite Launching Ground</td>\n",
       "      <td>Hwadae County, North Hamgyong Province</td>\n",
       "      <td>Musudan-ri</td>\n",
       "      <td>40.849997</td>\n",
       "      <td>129.666664</td>\n",
       "      <td>Unknown</td>\n",
       "      <td>200 km</td>\n",
       "      <td>Unknown</td>\n",
       "      <td>Confirmed</td>\n",
       "      <td>Success</td>\n",
       "      <td>NaN</td>\n",
       "      <td>http://www.astronautix.com/g/gitdaeryung.html;...</td>\n",
       "    </tr>\n",
       "    <tr>\n",
       "      <th>3</th>\n",
       "      <td>4</td>\n",
       "      <td>1984-09-01</td>\n",
       "      <td>2016-12-23</td>\n",
       "      <td>NaN</td>\n",
       "      <td>Scud-B</td>\n",
       "      <td>SRBM</td>\n",
       "      <td>NaN</td>\n",
       "      <td>Tonghae Satellite Launching Ground</td>\n",
       "      <td>Hwadae County, North Hamgyong Province</td>\n",
       "      <td>Musudan-ri</td>\n",
       "      <td>40.849997</td>\n",
       "      <td>129.666664</td>\n",
       "      <td>Unknown</td>\n",
       "      <td>Unknown</td>\n",
       "      <td>Unknown</td>\n",
       "      <td>Confirmed</td>\n",
       "      <td>Failure</td>\n",
       "      <td>NaN</td>\n",
       "      <td>Joseph S. Bermudez, \"A History of Ballistic Mi...</td>\n",
       "    </tr>\n",
       "    <tr>\n",
       "      <th>4</th>\n",
       "      <td>5</td>\n",
       "      <td>1984-09-01</td>\n",
       "      <td>2016-12-23</td>\n",
       "      <td>NaN</td>\n",
       "      <td>Scud-B</td>\n",
       "      <td>SRBM</td>\n",
       "      <td>NaN</td>\n",
       "      <td>Tonghae Satellite Launching Ground</td>\n",
       "      <td>Hwadae County, North Hamgyong Province</td>\n",
       "      <td>Musudan-ri</td>\n",
       "      <td>40.849997</td>\n",
       "      <td>129.666664</td>\n",
       "      <td>Unknown</td>\n",
       "      <td>200 km</td>\n",
       "      <td>Unknown</td>\n",
       "      <td>Confirmed</td>\n",
       "      <td>Failure</td>\n",
       "      <td>NaN</td>\n",
       "      <td>http://www.astronautix.com/g/gitdaeryung.html;...</td>\n",
       "    </tr>\n",
       "    <tr>\n",
       "      <th>5</th>\n",
       "      <td>6</td>\n",
       "      <td>1984-09-01</td>\n",
       "      <td>2016-12-23</td>\n",
       "      <td>NaN</td>\n",
       "      <td>Scud-B</td>\n",
       "      <td>SRBM</td>\n",
       "      <td>NaN</td>\n",
       "      <td>Tonghae Satellite Launching Ground</td>\n",
       "      <td>Hwadae County, North Hamgyong Province</td>\n",
       "      <td>Musudan-ri</td>\n",
       "      <td>40.849997</td>\n",
       "      <td>129.666664</td>\n",
       "      <td>Unknown</td>\n",
       "      <td>200 km</td>\n",
       "      <td>Unknown</td>\n",
       "      <td>Confirmed</td>\n",
       "      <td>Failure</td>\n",
       "      <td>NaN</td>\n",
       "      <td>http://www.astronautix.com/g/gitdaeryung.html;...</td>\n",
       "    </tr>\n",
       "    <tr>\n",
       "      <th>6</th>\n",
       "      <td>7</td>\n",
       "      <td>1986-05-01</td>\n",
       "      <td>2016-12-23</td>\n",
       "      <td>NaN</td>\n",
       "      <td>Unknown</td>\n",
       "      <td>Unknown</td>\n",
       "      <td>NaN</td>\n",
       "      <td>Tonghae Satellite Launching Ground</td>\n",
       "      <td>Hwadae County, North Hamgyong Province</td>\n",
       "      <td>Musudan-ri</td>\n",
       "      <td>40.849997</td>\n",
       "      <td>129.666664</td>\n",
       "      <td>Unknown</td>\n",
       "      <td>Unknown</td>\n",
       "      <td>Unknown</td>\n",
       "      <td>Unconfirmed</td>\n",
       "      <td>Unknown</td>\n",
       "      <td>This entry comes from reports of the South Kor...</td>\n",
       "      <td>http://www.nti.org/media/pdfs/north_korea_miss...</td>\n",
       "    </tr>\n",
       "    <tr>\n",
       "      <th>7</th>\n",
       "      <td>8</td>\n",
       "      <td>1990-05-01</td>\n",
       "      <td>2016-12-23</td>\n",
       "      <td>NaN</td>\n",
       "      <td>Nodong</td>\n",
       "      <td>MRBM</td>\n",
       "      <td>NaN</td>\n",
       "      <td>Tonghae Satellite Launching Ground</td>\n",
       "      <td>Hwadae County, North Hamgyong Province</td>\n",
       "      <td>Musudan-ri</td>\n",
       "      <td>40.849997</td>\n",
       "      <td>129.666664</td>\n",
       "      <td>Unknown</td>\n",
       "      <td>150 km</td>\n",
       "      <td>Unknown</td>\n",
       "      <td>Unconfirmed</td>\n",
       "      <td>Failure</td>\n",
       "      <td>US intelligence observed this missile on the l...</td>\n",
       "      <td>http://www.astronautix.com/g/gitdaeryung.html;...</td>\n",
       "    </tr>\n",
       "    <tr>\n",
       "      <th>8</th>\n",
       "      <td>9</td>\n",
       "      <td>1990-06-01</td>\n",
       "      <td>2016-12-23</td>\n",
       "      <td>NaN</td>\n",
       "      <td>Scud-C</td>\n",
       "      <td>SRBM</td>\n",
       "      <td>NaN</td>\n",
       "      <td>Tonghae Satellite Launching Ground</td>\n",
       "      <td>Hwadae County, North Hamgyong Province</td>\n",
       "      <td>Musudan-ri</td>\n",
       "      <td>40.849997</td>\n",
       "      <td>129.666664</td>\n",
       "      <td>Sea of Japan or East Sea</td>\n",
       "      <td>200 km</td>\n",
       "      <td>Unknown</td>\n",
       "      <td>Confirmed</td>\n",
       "      <td>Success</td>\n",
       "      <td>This was the first known test of the Scud-C by...</td>\n",
       "      <td>http://www.nti.org/media/pdfs/north_korea_miss...</td>\n",
       "    </tr>\n",
       "    <tr>\n",
       "      <th>9</th>\n",
       "      <td>10</td>\n",
       "      <td>1991-07-01</td>\n",
       "      <td>2016-12-23</td>\n",
       "      <td>NaN</td>\n",
       "      <td>Scud-C</td>\n",
       "      <td>SRBM</td>\n",
       "      <td>NaN</td>\n",
       "      <td>Chihari Missile Base</td>\n",
       "      <td>Chiha-ri , Kangwon Province, (North Korea)</td>\n",
       "      <td>Chiha-ri Taepodong Base</td>\n",
       "      <td>38.62333</td>\n",
       "      <td>126.6847</td>\n",
       "      <td>Sea of Japan or East Sea</td>\n",
       "      <td>Unknown</td>\n",
       "      <td>Unknown</td>\n",
       "      <td>Confirmed</td>\n",
       "      <td>Success</td>\n",
       "      <td>Bermudez places this test as being launched fr...</td>\n",
       "      <td>http://www.astronautix.com/k/koreanorth.html; ...</td>\n",
       "    </tr>\n",
       "  </tbody>\n",
       "</table>\n",
       "</div>"
      ],
      "text/plain": [
       "   F1       Date Date Entered/Updated Launch Time (UTC) Missile Name  \\\n",
       "0   1 1984-04-09           2016-12-23               NaN       Scud-B   \n",
       "1   2 1984-04-09           2016-12-23               NaN       Scud-B   \n",
       "2   3 1984-04-09           2016-12-23               NaN       Scud-B   \n",
       "3   4 1984-09-01           2016-12-23               NaN       Scud-B   \n",
       "4   5 1984-09-01           2016-12-23               NaN       Scud-B   \n",
       "5   6 1984-09-01           2016-12-23               NaN       Scud-B   \n",
       "6   7 1986-05-01           2016-12-23               NaN      Unknown   \n",
       "7   8 1990-05-01           2016-12-23               NaN       Nodong   \n",
       "8   9 1990-06-01           2016-12-23               NaN       Scud-C   \n",
       "9  10 1991-07-01           2016-12-23               NaN       Scud-C   \n",
       "\n",
       "  Missile Type Launch Agency/Authority                       Facility Name  \\\n",
       "0         SRBM                     NaN  Tonghae Satellite Launching Ground   \n",
       "1         SRBM                     NaN  Tonghae Satellite Launching Ground   \n",
       "2         SRBM                     NaN  Tonghae Satellite Launching Ground   \n",
       "3         SRBM                     NaN  Tonghae Satellite Launching Ground   \n",
       "4         SRBM                     NaN  Tonghae Satellite Launching Ground   \n",
       "5         SRBM                     NaN  Tonghae Satellite Launching Ground   \n",
       "6      Unknown                     NaN  Tonghae Satellite Launching Ground   \n",
       "7         MRBM                     NaN  Tonghae Satellite Launching Ground   \n",
       "8         SRBM                     NaN  Tonghae Satellite Launching Ground   \n",
       "9         SRBM                     NaN                Chihari Missile Base   \n",
       "\n",
       "                            Facility Location               Other Name  \\\n",
       "0      Hwadae County, North Hamgyong Province               Musudan-ri   \n",
       "1      Hwadae County, North Hamgyong Province               Musudan-ri   \n",
       "2      Hwadae County, North Hamgyong Province               Musudan-ri   \n",
       "3      Hwadae County, North Hamgyong Province               Musudan-ri   \n",
       "4      Hwadae County, North Hamgyong Province               Musudan-ri   \n",
       "5      Hwadae County, North Hamgyong Province               Musudan-ri   \n",
       "6      Hwadae County, North Hamgyong Province               Musudan-ri   \n",
       "7      Hwadae County, North Hamgyong Province               Musudan-ri   \n",
       "8      Hwadae County, North Hamgyong Province               Musudan-ri   \n",
       "9  Chiha-ri , Kangwon Province, (North Korea)  Chiha-ri Taepodong Base   \n",
       "\n",
       "  Facility Latitude Facility Longitude          Landing Location   Apogee  \\\n",
       "0         40.849997         129.666664                   Unknown  Unknown   \n",
       "1         40.849997         129.666664                   Unknown  Unknown   \n",
       "2         40.849997         129.666664                   Unknown   200 km   \n",
       "3         40.849997         129.666664                   Unknown  Unknown   \n",
       "4         40.849997         129.666664                   Unknown   200 km   \n",
       "5         40.849997         129.666664                   Unknown   200 km   \n",
       "6         40.849997         129.666664                   Unknown  Unknown   \n",
       "7         40.849997         129.666664                   Unknown   150 km   \n",
       "8         40.849997         129.666664  Sea of Japan or East Sea   200 km   \n",
       "9          38.62333           126.6847  Sea of Japan or East Sea  Unknown   \n",
       "\n",
       "  Distance Travelled Confirmation Status Test Outcome  \\\n",
       "0            Unknown           Confirmed      Success   \n",
       "1            Unknown           Confirmed      Success   \n",
       "2            Unknown           Confirmed      Success   \n",
       "3            Unknown           Confirmed      Failure   \n",
       "4            Unknown           Confirmed      Failure   \n",
       "5            Unknown           Confirmed      Failure   \n",
       "6            Unknown         Unconfirmed      Unknown   \n",
       "7            Unknown         Unconfirmed      Failure   \n",
       "8            Unknown           Confirmed      Success   \n",
       "9            Unknown           Confirmed      Success   \n",
       "\n",
       "                              Additional Information  \\\n",
       "0  First known test by North Korea of a missile w...   \n",
       "1                                                NaN   \n",
       "2                                                NaN   \n",
       "3                                                NaN   \n",
       "4                                                NaN   \n",
       "5                                                NaN   \n",
       "6  This entry comes from reports of the South Kor...   \n",
       "7  US intelligence observed this missile on the l...   \n",
       "8  This was the first known test of the Scud-C by...   \n",
       "9  Bermudez places this test as being launched fr...   \n",
       "\n",
       "                                           Source(s)  \n",
       "0  http://www.nti.org/media/pdfs/north_korea_miss...  \n",
       "1  http://www.nti.org/media/pdfs/north_korea_miss...  \n",
       "2  http://www.astronautix.com/g/gitdaeryung.html;...  \n",
       "3  Joseph S. Bermudez, \"A History of Ballistic Mi...  \n",
       "4  http://www.astronautix.com/g/gitdaeryung.html;...  \n",
       "5  http://www.astronautix.com/g/gitdaeryung.html;...  \n",
       "6  http://www.nti.org/media/pdfs/north_korea_miss...  \n",
       "7  http://www.astronautix.com/g/gitdaeryung.html;...  \n",
       "8  http://www.nti.org/media/pdfs/north_korea_miss...  \n",
       "9  http://www.astronautix.com/k/koreanorth.html; ...  "
      ]
     },
     "execution_count": 3,
     "metadata": {},
     "output_type": "execute_result"
    }
   ],
   "source": [
    "df.head(10)"
   ]
  },
  {
   "cell_type": "code",
   "execution_count": 4,
   "id": "a60c987e",
   "metadata": {},
   "outputs": [
    {
     "data": {
      "text/plain": [
       "123"
      ]
     },
     "execution_count": 4,
     "metadata": {},
     "output_type": "execute_result"
    }
   ],
   "source": [
    "len(df[\"Additional Information\"].unique())"
   ]
  },
  {
   "cell_type": "code",
   "execution_count": 5,
   "id": "301aaa20",
   "metadata": {},
   "outputs": [],
   "source": [
    "from datetime import datetime"
   ]
  },
  {
   "cell_type": "code",
   "execution_count": 6,
   "id": "6efcdb68",
   "metadata": {},
   "outputs": [],
   "source": [
    "hours = []\n",
    "minutes = []\n",
    "seconds = []\n",
    "for i in range(222):\n",
    "    if(df['Launch Time (UTC)'][i] == \"Unknown\"):\n",
    "        df['Launch Time (UTC)'][i] = float(\"NaN\")\n",
    "#     try:    \n",
    "    if(type(df['Launch Time (UTC)'][i]) != float):\n",
    "        hours.append(int(df['Launch Time (UTC)'][i].strftime(\"%H\")))\n",
    "        minutes.append(int(df['Launch Time (UTC)'][i].strftime(\"%M\")))\n",
    "        seconds.append(int(df['Launch Time (UTC)'][i].strftime(\"%S\")))\n",
    "    else:\n",
    "#         print(df['Launch Time (UTC)'][i])\n",
    "            hours.append(0)\n",
    "            minutes.append(0)\n",
    "            seconds.append(0)\n",
    "#     except:\n",
    "#         print(\"except: \" + df['Launch Time (UTC)'][i])\n",
    "# #         hours.append(0)\n",
    "# #         minutes.append(0)\n",
    "# #         seconds.append(0)\n",
    "\n",
    "    "
   ]
  },
  {
   "cell_type": "code",
   "execution_count": 7,
   "id": "2ac33e99",
   "metadata": {},
   "outputs": [],
   "source": [
    "df['hours'] = hours\n",
    "df['minutes'] = minutes\n",
    "df['seconds'] = seconds"
   ]
  },
  {
   "cell_type": "code",
   "execution_count": 8,
   "id": "986fe379",
   "metadata": {},
   "outputs": [],
   "source": [
    "months = []\n",
    "years = []\n",
    "days = []\n",
    "for i in range(222):\n",
    "#     try:\n",
    "    months.append(int(df['Date'][i].strftime(\"%m\")))\n",
    "    years.append(int(df['Date'][i].strftime(\"%Y\")))\n",
    "    days.append(int(df['Date'][i].strftime(\"%d\")))\n",
    "#     except:\n",
    "#         print(df['Date'][i])\n",
    "#         months.append(0)\n",
    "#         years.append(0)\n",
    "#         days.append(0)\n"
   ]
  },
  {
   "cell_type": "code",
   "execution_count": 9,
   "id": "15fbbea4",
   "metadata": {},
   "outputs": [],
   "source": [
    "df['month'] = months\n",
    "df['day'] = days\n",
    "df['year'] = years"
   ]
  },
  {
   "cell_type": "code",
   "execution_count": 10,
   "id": "1ca4b94f",
   "metadata": {},
   "outputs": [
    {
     "name": "stdout",
     "output_type": "stream",
     "text": [
      "<class 'pandas.core.frame.DataFrame'>\n",
      "RangeIndex: 222 entries, 0 to 221\n",
      "Data columns (total 25 columns):\n",
      " #   Column                   Non-Null Count  Dtype         \n",
      "---  ------                   --------------  -----         \n",
      " 0   F1                       222 non-null    int64         \n",
      " 1   Date                     222 non-null    datetime64[ns]\n",
      " 2   Date Entered/Updated     222 non-null    datetime64[ns]\n",
      " 3   Launch Time (UTC)        140 non-null    object        \n",
      " 4   Missile Name             222 non-null    object        \n",
      " 5   Missile Type             222 non-null    object        \n",
      " 6   Launch Agency/Authority  11 non-null     object        \n",
      " 7   Facility Name            222 non-null    object        \n",
      " 8   Facility Location        222 non-null    object        \n",
      " 9   Other Name               87 non-null     object        \n",
      " 10  Facility Latitude        222 non-null    object        \n",
      " 11  Facility Longitude       222 non-null    object        \n",
      " 12  Landing Location         208 non-null    object        \n",
      " 13  Apogee                   206 non-null    object        \n",
      " 14  Distance Travelled       204 non-null    object        \n",
      " 15  Confirmation Status      222 non-null    object        \n",
      " 16  Test Outcome             222 non-null    object        \n",
      " 17  Additional Information   179 non-null    object        \n",
      " 18  Source(s)                220 non-null    object        \n",
      " 19  hours                    222 non-null    int64         \n",
      " 20  minutes                  222 non-null    int64         \n",
      " 21  seconds                  222 non-null    int64         \n",
      " 22  month                    222 non-null    int64         \n",
      " 23  day                      222 non-null    int64         \n",
      " 24  year                     222 non-null    int64         \n",
      "dtypes: datetime64[ns](2), int64(7), object(16)\n",
      "memory usage: 43.5+ KB\n"
     ]
    }
   ],
   "source": [
    "df.info()"
   ]
  },
  {
   "cell_type": "code",
   "execution_count": 11,
   "id": "ef5e97c9",
   "metadata": {},
   "outputs": [],
   "source": [
    "df1 = df.drop(['F1', 'Date', 'Date Entered/Updated', 'Launch Time (UTC)', 'Launch Agency/Authority', 'Source(s)', 'Facility Location', 'Other Name', 'Additional Information'], axis=1)"
   ]
  },
  {
   "cell_type": "code",
   "execution_count": 12,
   "id": "40ba2822",
   "metadata": {},
   "outputs": [
    {
     "data": {
      "text/html": [
       "<div>\n",
       "<style scoped>\n",
       "    .dataframe tbody tr th:only-of-type {\n",
       "        vertical-align: middle;\n",
       "    }\n",
       "\n",
       "    .dataframe tbody tr th {\n",
       "        vertical-align: top;\n",
       "    }\n",
       "\n",
       "    .dataframe thead th {\n",
       "        text-align: right;\n",
       "    }\n",
       "</style>\n",
       "<table border=\"1\" class=\"dataframe\">\n",
       "  <thead>\n",
       "    <tr style=\"text-align: right;\">\n",
       "      <th></th>\n",
       "      <th>Missile Name</th>\n",
       "      <th>Missile Type</th>\n",
       "      <th>Facility Name</th>\n",
       "      <th>Facility Latitude</th>\n",
       "      <th>Facility Longitude</th>\n",
       "      <th>Landing Location</th>\n",
       "      <th>Apogee</th>\n",
       "      <th>Distance Travelled</th>\n",
       "      <th>Confirmation Status</th>\n",
       "      <th>Test Outcome</th>\n",
       "      <th>hours</th>\n",
       "      <th>minutes</th>\n",
       "      <th>seconds</th>\n",
       "      <th>month</th>\n",
       "      <th>day</th>\n",
       "      <th>year</th>\n",
       "    </tr>\n",
       "  </thead>\n",
       "  <tbody>\n",
       "    <tr>\n",
       "      <th>0</th>\n",
       "      <td>Scud-B</td>\n",
       "      <td>SRBM</td>\n",
       "      <td>Tonghae Satellite Launching Ground</td>\n",
       "      <td>40.849997</td>\n",
       "      <td>129.666664</td>\n",
       "      <td>Unknown</td>\n",
       "      <td>Unknown</td>\n",
       "      <td>Unknown</td>\n",
       "      <td>Confirmed</td>\n",
       "      <td>Success</td>\n",
       "      <td>0</td>\n",
       "      <td>0</td>\n",
       "      <td>0</td>\n",
       "      <td>4</td>\n",
       "      <td>9</td>\n",
       "      <td>1984</td>\n",
       "    </tr>\n",
       "    <tr>\n",
       "      <th>1</th>\n",
       "      <td>Scud-B</td>\n",
       "      <td>SRBM</td>\n",
       "      <td>Tonghae Satellite Launching Ground</td>\n",
       "      <td>40.849997</td>\n",
       "      <td>129.666664</td>\n",
       "      <td>Unknown</td>\n",
       "      <td>Unknown</td>\n",
       "      <td>Unknown</td>\n",
       "      <td>Confirmed</td>\n",
       "      <td>Success</td>\n",
       "      <td>0</td>\n",
       "      <td>0</td>\n",
       "      <td>0</td>\n",
       "      <td>4</td>\n",
       "      <td>9</td>\n",
       "      <td>1984</td>\n",
       "    </tr>\n",
       "    <tr>\n",
       "      <th>2</th>\n",
       "      <td>Scud-B</td>\n",
       "      <td>SRBM</td>\n",
       "      <td>Tonghae Satellite Launching Ground</td>\n",
       "      <td>40.849997</td>\n",
       "      <td>129.666664</td>\n",
       "      <td>Unknown</td>\n",
       "      <td>200 km</td>\n",
       "      <td>Unknown</td>\n",
       "      <td>Confirmed</td>\n",
       "      <td>Success</td>\n",
       "      <td>0</td>\n",
       "      <td>0</td>\n",
       "      <td>0</td>\n",
       "      <td>4</td>\n",
       "      <td>9</td>\n",
       "      <td>1984</td>\n",
       "    </tr>\n",
       "    <tr>\n",
       "      <th>3</th>\n",
       "      <td>Scud-B</td>\n",
       "      <td>SRBM</td>\n",
       "      <td>Tonghae Satellite Launching Ground</td>\n",
       "      <td>40.849997</td>\n",
       "      <td>129.666664</td>\n",
       "      <td>Unknown</td>\n",
       "      <td>Unknown</td>\n",
       "      <td>Unknown</td>\n",
       "      <td>Confirmed</td>\n",
       "      <td>Failure</td>\n",
       "      <td>0</td>\n",
       "      <td>0</td>\n",
       "      <td>0</td>\n",
       "      <td>9</td>\n",
       "      <td>1</td>\n",
       "      <td>1984</td>\n",
       "    </tr>\n",
       "    <tr>\n",
       "      <th>4</th>\n",
       "      <td>Scud-B</td>\n",
       "      <td>SRBM</td>\n",
       "      <td>Tonghae Satellite Launching Ground</td>\n",
       "      <td>40.849997</td>\n",
       "      <td>129.666664</td>\n",
       "      <td>Unknown</td>\n",
       "      <td>200 km</td>\n",
       "      <td>Unknown</td>\n",
       "      <td>Confirmed</td>\n",
       "      <td>Failure</td>\n",
       "      <td>0</td>\n",
       "      <td>0</td>\n",
       "      <td>0</td>\n",
       "      <td>9</td>\n",
       "      <td>1</td>\n",
       "      <td>1984</td>\n",
       "    </tr>\n",
       "  </tbody>\n",
       "</table>\n",
       "</div>"
      ],
      "text/plain": [
       "  Missile Name Missile Type                       Facility Name  \\\n",
       "0       Scud-B         SRBM  Tonghae Satellite Launching Ground   \n",
       "1       Scud-B         SRBM  Tonghae Satellite Launching Ground   \n",
       "2       Scud-B         SRBM  Tonghae Satellite Launching Ground   \n",
       "3       Scud-B         SRBM  Tonghae Satellite Launching Ground   \n",
       "4       Scud-B         SRBM  Tonghae Satellite Launching Ground   \n",
       "\n",
       "  Facility Latitude Facility Longitude Landing Location   Apogee  \\\n",
       "0         40.849997         129.666664          Unknown  Unknown   \n",
       "1         40.849997         129.666664          Unknown  Unknown   \n",
       "2         40.849997         129.666664          Unknown   200 km   \n",
       "3         40.849997         129.666664          Unknown  Unknown   \n",
       "4         40.849997         129.666664          Unknown   200 km   \n",
       "\n",
       "  Distance Travelled Confirmation Status Test Outcome  hours  minutes  \\\n",
       "0            Unknown           Confirmed      Success      0        0   \n",
       "1            Unknown           Confirmed      Success      0        0   \n",
       "2            Unknown           Confirmed      Success      0        0   \n",
       "3            Unknown           Confirmed      Failure      0        0   \n",
       "4            Unknown           Confirmed      Failure      0        0   \n",
       "\n",
       "   seconds  month  day  year  \n",
       "0        0      4    9  1984  \n",
       "1        0      4    9  1984  \n",
       "2        0      4    9  1984  \n",
       "3        0      9    1  1984  \n",
       "4        0      9    1  1984  "
      ]
     },
     "execution_count": 12,
     "metadata": {},
     "output_type": "execute_result"
    }
   ],
   "source": [
    "df1.head()"
   ]
  },
  {
   "cell_type": "markdown",
   "id": "cc38535b",
   "metadata": {},
   "source": [
    "### Null Handling"
   ]
  },
  {
   "cell_type": "code",
   "execution_count": 13,
   "id": "0aebc374",
   "metadata": {},
   "outputs": [],
   "source": [
    "column = df1.columns"
   ]
  },
  {
   "cell_type": "code",
   "execution_count": 14,
   "id": "a6d66240",
   "metadata": {},
   "outputs": [],
   "source": [
    "for j in column:\n",
    "    for i in range(df1.shape[0]):\n",
    "        if df1[j][i] == \"Unknown\" or df1[j][i] == \"None\":\n",
    "            df1[j][i] = None"
   ]
  },
  {
   "cell_type": "code",
   "execution_count": 15,
   "id": "64e01e18",
   "metadata": {},
   "outputs": [],
   "source": [
    "fill_column = ['Missile Name', 'Missile Type', 'Facility Name', 'Facility Latitude', 'Facility Longitude', 'Landing Location', 'Test Outcome']"
   ]
  },
  {
   "cell_type": "code",
   "execution_count": 16,
   "id": "0e1e52a1",
   "metadata": {},
   "outputs": [],
   "source": [
    "for i in fill_column:\n",
    "    df1[i].fillna(df1[i].mode()[0], inplace = True);"
   ]
  },
  {
   "cell_type": "markdown",
   "id": "73c2522a",
   "metadata": {},
   "source": [
    "## Numeric Conversion"
   ]
  },
  {
   "cell_type": "code",
   "execution_count": 17,
   "id": "be39d6ce",
   "metadata": {},
   "outputs": [],
   "source": [
    "for i in [\"Facility Latitude\", \"Facility Longitude\"]:\n",
    "    for j in range(df1.shape[0]):\n",
    "        df1[i][j] = int(df1[i][j])"
   ]
  },
  {
   "cell_type": "code",
   "execution_count": 18,
   "id": "39f65d91",
   "metadata": {},
   "outputs": [],
   "source": [
    "onehot_column = ['Missile Name', 'Missile Type', 'Facility Name', 'Landing Location', 'Confirmation Status', 'Test Outcome']"
   ]
  },
  {
   "cell_type": "code",
   "execution_count": 19,
   "id": "c3239f86",
   "metadata": {},
   "outputs": [],
   "source": [
    "df2 = pd.concat([df1, pd.get_dummies(df1[\"Missile Name\"], drop_first = True),\n",
    "                    pd.get_dummies(df1[\"Missile Type\"], drop_first = True),\n",
    "                    pd.get_dummies(df1[\"Facility Name\"], drop_first = True),\n",
    "                    pd.get_dummies(df1[\"Landing Location\"], drop_first = True),\n",
    "                    pd.get_dummies(df1[\"Confirmation Status\"], drop_first = True),\n",
    "                    pd.get_dummies(df1[\"Test Outcome\"], drop_first = True)\n",
    "                ], axis = 1)"
   ]
  },
  {
   "cell_type": "code",
   "execution_count": 20,
   "id": "93a1ac3b",
   "metadata": {},
   "outputs": [],
   "source": [
    "df2.drop(onehot_column, axis = 1, inplace=True)"
   ]
  },
  {
   "cell_type": "code",
   "execution_count": 21,
   "id": "72a246d5",
   "metadata": {},
   "outputs": [],
   "source": [
    "df2.rename(columns = {\"Success\" : \"Test Outcome\"},inplace = True)"
   ]
  },
  {
   "cell_type": "code",
   "execution_count": 22,
   "id": "07110640",
   "metadata": {},
   "outputs": [
    {
     "data": {
      "text/plain": [
       "(222, 88)"
      ]
     },
     "execution_count": 22,
     "metadata": {},
     "output_type": "execute_result"
    }
   ],
   "source": [
    "df2.shape"
   ]
  },
  {
   "cell_type": "code",
   "execution_count": 23,
   "id": "2b2e4adf",
   "metadata": {},
   "outputs": [],
   "source": [
    "apogee = [] \n",
    "\n",
    "for i in range(df2.shape[0]):\n",
    "    if(df2[\"Apogee\"][i] == None):\n",
    "        apogee.append(None);\n",
    "        continue;\n",
    "    try:\n",
    "        \n",
    "#         df2[\"Apogee\"][i] = float((str(df2[\"Apogee\"][i]).split(\" \"))[0])\n",
    "        apogee.append(float((str(df2[\"Apogee\"][i]).split(\" \"))[0]))\n",
    "    except:\n",
    "#         if(np.isnan(int(df2[\"Apogee\"][i]))):\n",
    "#             continue;\n",
    "#         else:\n",
    "#         df2[\"Apogee\"][i] = 58.0\n",
    "        apogee.append(58.0)\n",
    "#         print(df2[\"Apogee\"][i])\n",
    "#         print(i)\n",
    "#         print(type(df2[\"Apogee\"][i]))\n"
   ]
  },
  {
   "cell_type": "code",
   "execution_count": 24,
   "id": "a6dc0e47",
   "metadata": {},
   "outputs": [],
   "source": [
    "df2[\"Apogee\"] = apogee"
   ]
  },
  {
   "cell_type": "code",
   "execution_count": 25,
   "id": "5f898670",
   "metadata": {},
   "outputs": [],
   "source": [
    "distance = []\n",
    "for i in range(df2.shape[0]):\n",
    "    if(df2[\"Distance Travelled\"][i] == None):\n",
    "        distance.append(None);\n",
    "        continue;\n",
    "    try:\n",
    "        \n",
    "#         df2[\"Apogee\"][i] = float((str(df2[\"Apogee\"][i]).split(\" \"))[0])\n",
    "        distance.append(float((str(df2[\"Distance Travelled\"][i]).split(\" \"))[0]))\n",
    "    except:\n",
    "        if (df2[\"Distance Travelled\"][i].split(\" \"))[0] == \"1,380\":\n",
    "            distance.append(1380.0)\n",
    "            continue;\n",
    "#         else:\n",
    "#         df2[\"Apogee\"][i] = 58.0\n",
    "        distance.append(390.0)\n",
    "#         print(df2[\"Distance Travelled\"][i])\n",
    "#         print(i)\n",
    "#         print(type(df2[\"Distance Travelled\"][i]))"
   ]
  },
  {
   "cell_type": "code",
   "execution_count": 26,
   "id": "fd28578e",
   "metadata": {},
   "outputs": [],
   "source": [
    "df2[\"Distance Travelled\"] = distance"
   ]
  },
  {
   "cell_type": "code",
   "execution_count": 27,
   "id": "da54b32e",
   "metadata": {},
   "outputs": [
    {
     "data": {
      "text/plain": [
       "90.0"
      ]
     },
     "execution_count": 27,
     "metadata": {},
     "output_type": "execute_result"
    }
   ],
   "source": [
    "df2[\"Apogee\"].median()"
   ]
  },
  {
   "cell_type": "code",
   "execution_count": 28,
   "id": "b22bd78a",
   "metadata": {},
   "outputs": [
    {
     "data": {
      "text/plain": [
       "<matplotlib.lines.Line2D at 0x1f600896070>"
      ]
     },
     "execution_count": 28,
     "metadata": {},
     "output_type": "execute_result"
    },
    {
     "data": {
      "image/png": "[encoded data removed]",
      "text/plain": [
       "<Figure size 640x480 with 1 Axes>"
      ]
     },
     "metadata": {},
     "output_type": "display_data"
    }
   ],
   "source": [
    "import seaborn as sns\n",
    "import matplotlib.pyplot as plt\n",
    "sns.distplot(df2[\"Apogee\"])\n",
    "plt.axvline(x=df2[\"Apogee\"].mean(),\n",
    "            color='red')\n",
    "plt.axvline(x=df2[\"Apogee\"].median(),\n",
    "            color='blue')\n",
    "plt.axvline(x=df2[\"Apogee\"].mode()[0],\n",
    "            color='green')"
   ]
  },
  {
   "cell_type": "code",
   "execution_count": 29,
   "id": "60d8735c",
   "metadata": {},
   "outputs": [
    {
     "data": {
      "text/plain": [
       "<matplotlib.lines.Line2D at 0x1f6009892b0>"
      ]
     },
     "execution_count": 29,
     "metadata": {},
     "output_type": "execute_result"
    },
    {
     "data": {
      "image/png": "[encoded data removed]",
      "text/plain": [
       "<Figure size 640x480 with 1 Axes>"
      ]
     },
     "metadata": {},
     "output_type": "display_data"
    }
   ],
   "source": [
    "sns.distplot(df2[\"Distance Travelled\"])\n",
    "plt.axvline(x=df2[\"Distance Travelled\"].mean(),\n",
    "            color='red')\n",
    "plt.axvline(x=df2[\"Distance Travelled\"].median(),\n",
    "            color='blue')\n",
    "plt.axvline(x=df2[\"Distance Travelled\"].mode()[0],\n",
    "            color='green')"
   ]
  },
  {
   "cell_type": "code",
   "execution_count": 30,
   "id": "8d7a231e",
   "metadata": {},
   "outputs": [],
   "source": [
    "df2[\"Distance Travelled\"].fillna(df2[\"Distance Travelled\"].mean(), inplace = True)\n",
    "df2[\"Apogee\"].fillna(df2[\"Apogee\"].mean(), inplace = True)"
   ]
  },
  {
   "cell_type": "code",
   "execution_count": 31,
   "id": "138ef82e",
   "metadata": {},
   "outputs": [
    {
     "name": "stdout",
     "output_type": "stream",
     "text": [
      "<class 'pandas.core.frame.DataFrame'>\n",
      "RangeIndex: 222 entries, 0 to 221\n",
      "Data columns (total 88 columns):\n",
      " #   Column                                           Non-Null Count  Dtype  \n",
      "---  ------                                           --------------  -----  \n",
      " 0   Facility Latitude                                222 non-null    float64\n",
      " 1   Facility Longitude                               222 non-null    float64\n",
      " 2   Apogee                                           222 non-null    float64\n",
      " 3   Distance Travelled                               222 non-null    float64\n",
      " 4   hours                                            222 non-null    int64  \n",
      " 5   minutes                                          222 non-null    int64  \n",
      " 6   seconds                                          222 non-null    int64  \n",
      " 7   month                                            222 non-null    int64  \n",
      " 8   day                                              222 non-null    int64  \n",
      " 9   year                                             222 non-null    int64  \n",
      " 10  Hwasong-12                                       222 non-null    uint8  \n",
      " 11  Hwasong-14                                       222 non-null    uint8  \n",
      " 12  Hwasong-15                                       222 non-null    uint8  \n",
      " 13  Hwasong-17                                       222 non-null    uint8  \n",
      " 14  Hwasong-8                                        222 non-null    uint8  \n",
      " 15  Hwasong-8 MARV                                   222 non-null    uint8  \n",
      " 16  KN-02                                            222 non-null    uint8  \n",
      " 17  KN-23                                            222 non-null    uint8  \n",
      " 18  KN-24                                            222 non-null    uint8  \n",
      " 19  KN-25                                            222 non-null    uint8  \n",
      " 20  Musudan                                          222 non-null    uint8  \n",
      " 21  Navalized KN-23                                  222 non-null    uint8  \n",
      " 22  New IRBM (2022)                                  222 non-null    uint8  \n",
      " 23  Nodong                                           222 non-null    uint8  \n",
      " 24  Pukguksong-1                                     222 non-null    uint8  \n",
      " 25  Pukguksong-2                                     222 non-null    uint8  \n",
      " 26  Pukguksong-3                                     222 non-null    uint8  \n",
      " 27  Rail-mobile KN-23                                222 non-null    uint8  \n",
      " 28  Scud-B                                           222 non-null    uint8  \n",
      " 29  Scud-B MaRV                                      222 non-null    uint8  \n",
      " 30  Scud-C                                           222 non-null    uint8  \n",
      " 31  Scud-C MaRV                                      222 non-null    uint8  \n",
      " 32  Taepodong-1                                      222 non-null    uint8  \n",
      " 33  Unha                                             222 non-null    uint8  \n",
      " 34  Unha-3                                           222 non-null    uint8  \n",
      " 35  Unnamed large solid-propellant SRBM (KN-23 Mod)  222 non-null    uint8  \n",
      " 36  Unnamed small solid-propellant SRBM (2022)       222 non-null    uint8  \n",
      " 37  ICBM                                             222 non-null    uint8  \n",
      " 38  IRBM                                             222 non-null    uint8  \n",
      " 39  MRBM                                             222 non-null    uint8  \n",
      " 40  SLBM                                             222 non-null    uint8  \n",
      " 41  SLV                                              222 non-null    uint8  \n",
      " 42  SRBM                                             222 non-null    uint8  \n",
      " 43  Chihari Missile Base                             222 non-null    uint8  \n",
      " 44  Hodo Peninsula                                   222 non-null    uint8  \n",
      " 45  Hungnam                                          222 non-null    uint8  \n",
      " 46  Hwangju                                          222 non-null    uint8  \n",
      " 47  Kaechon Air Base                                 222 non-null    uint8  \n",
      " 48  Kaesong                                          222 non-null    uint8  \n",
      " 49  Kittaeryong Missile Base                         222 non-null    uint8  \n",
      " 50  Koksan                                           222 non-null    uint8  \n",
      " 51  Kusong Testing Ground                            222 non-null    uint8  \n",
      " 52  Kwail Airbase                                    222 non-null    uint8  \n",
      " 53  Lake Yonpung                                     222 non-null    uint8  \n",
      " 54  Masikryong                                       222 non-null    uint8  \n",
      " 55  Munchon                                          222 non-null    uint8  \n",
      " 56  Mupyong-ni Arms Plant                            222 non-null    uint8  \n",
      " 57  Nampo                                            222 non-null    uint8  \n",
      " 58  North Kusong Testing Ground                      222 non-null    uint8  \n",
      " 59  Panghyon                                         222 non-null    uint8  \n",
      " 60  Panghyon Airbase                                 222 non-null    uint8  \n",
      " 61  Pukchang Airfield                                222 non-null    uint8  \n",
      " 62  Pyongsong Field                                  222 non-null    uint8  \n",
      " 63  Pyongyang International Airport                  222 non-null    uint8  \n",
      " 64  Samsok                                           222 non-null    uint8  \n",
      " 65  Sangum-ri                                        222 non-null    uint8  \n",
      " 66  Sinpo Shipyard                                   222 non-null    uint8  \n",
      " 67  Sohae Satellite Launching Station                222 non-null    uint8  \n",
      " 68  Sondok                                           222 non-null    uint8  \n",
      " 69  Sondok Airbase                                   222 non-null    uint8  \n",
      " 70  Sukchon                                          222 non-null    uint8  \n",
      " 71  Sunan                                            222 non-null    uint8  \n",
      " 72  Sunchon                                          222 non-null    uint8  \n",
      " 73  Sunchon Airbase                                  222 non-null    uint8  \n",
      " 74  Taechon Reservoir                                222 non-null    uint8  \n",
      " 75  Tongchan                                         222 non-null    uint8  \n",
      " 76  Tonghae Satellite Launching Ground               222 non-null    uint8  \n",
      " 77  Uiju                                             222 non-null    uint8  \n",
      " 78  West Sunan                                       222 non-null    uint8  \n",
      " 79  Wonsan Kalma International Airport               222 non-null    uint8  \n",
      " 80  Yangdok                                          222 non-null    uint8  \n",
      " 81  Yonghung Bay                                     222 non-null    uint8  \n",
      " 82  Yonpo Airport                                    222 non-null    uint8  \n",
      " 83  Pacific Ocean                                    222 non-null    uint8  \n",
      " 84  Sea of Japan or East Sea                         222 non-null    uint8  \n",
      " 85  Yellow Sea or West Sea                           222 non-null    uint8  \n",
      " 86  Unconfirmed                                      222 non-null    uint8  \n",
      " 87  Test Outcome                                     222 non-null    uint8  \n",
      "dtypes: float64(4), int64(6), uint8(78)\n",
      "memory usage: 34.4 KB\n"
     ]
    }
   ],
   "source": [
    "df2.info()"
   ]
  },
  {
   "cell_type": "code",
   "execution_count": 32,
   "id": "f938b13d",
   "metadata": {},
   "outputs": [],
   "source": [
    "# df2.to_csv(\"../Data/north_korea_missile_test_database_num.csv\")"
   ]
  },
  {
   "cell_type": "code",
   "execution_count": 33,
   "id": "063898ed",
   "metadata": {},
   "outputs": [],
   "source": [
    "X = df2.drop([\"Test Outcome\"], axis = 1)\n",
    "y = df2['Test Outcome']"
   ]
  },
  {
   "cell_type": "code",
   "execution_count": 34,
   "id": "44824a82",
   "metadata": {},
   "outputs": [],
   "source": [
    "from sklearn.preprocessing import StandardScaler\n",
    "standardScaler = StandardScaler()"
   ]
  },
  {
   "cell_type": "markdown",
   "id": "f4af8c80",
   "metadata": {},
   "source": [
    "## Use Standard Scaler"
   ]
  },
  {
   "cell_type": "code",
   "execution_count": 35,
   "id": "fda31234",
   "metadata": {},
   "outputs": [],
   "source": [
    "X = standardScaler.fit_transform(X)"
   ]
  },
  {
   "cell_type": "code",
   "execution_count": 36,
   "id": "6b3349ff",
   "metadata": {},
   "outputs": [],
   "source": [
    "X_train,X_test, y_train, y_test = train_test_split(X, y, test_size=0.2)"
   ]
  },
  {
   "cell_type": "code",
   "execution_count": 37,
   "id": "e42dc2d3",
   "metadata": {},
   "outputs": [],
   "source": [
    "X_train, X_val, y_train, y_val = train_test_split(X_train, y_train, test_size= 0.2)"
   ]
  },
  {
   "cell_type": "code",
   "execution_count": 38,
   "id": "46a8059d",
   "metadata": {},
   "outputs": [
    {
     "data": {
      "text/plain": [
       "((141, 87), (141,))"
      ]
     },
     "execution_count": 38,
     "metadata": {},
     "output_type": "execute_result"
    }
   ],
   "source": [
    "X_train.shape, y_train.shape"
   ]
  },
  {
   "cell_type": "code",
   "execution_count": 39,
   "id": "67409c34",
   "metadata": {},
   "outputs": [
    {
     "data": {
      "text/plain": [
       "((36, 87), (36,))"
      ]
     },
     "execution_count": 39,
     "metadata": {},
     "output_type": "execute_result"
    }
   ],
   "source": [
    "X_val.shape, y_val.shape"
   ]
  },
  {
   "cell_type": "code",
   "execution_count": 40,
   "id": "beead572",
   "metadata": {},
   "outputs": [
    {
     "data": {
      "text/plain": [
       "((45, 87), (45,))"
      ]
     },
     "execution_count": 40,
     "metadata": {},
     "output_type": "execute_result"
    }
   ],
   "source": [
    "X_test.shape, y_test.shape"
   ]
  },
  {
   "cell_type": "markdown",
   "id": "9046f38a",
   "metadata": {},
   "source": [
    "## Question- 3"
   ]
  },
  {
   "cell_type": "code",
   "execution_count": 41,
   "id": "2087507a",
   "metadata": {},
   "outputs": [],
   "source": [
    "from sklearn.linear_model import LogisticRegression\n",
    "from sklearn.tree import DecisionTreeClassifier\n",
    "from sklearn.ensemble import IsolationForest\n",
    "from sklearn.svm import SVC\n",
    "from sklearn.neighbors import KNeighborsClassifier\n",
    "from sklearn.naive_bayes import GaussianNB"
   ]
  },
  {
   "cell_type": "code",
   "execution_count": 42,
   "id": "7b8be9cf",
   "metadata": {},
   "outputs": [
    {
     "data": {
      "text/html": [
       "<style>#sk-container-id-1 {color: black;background-color: white;}#sk-container-id-1 pre{padding: 0;}#sk-container-id-1 div.sk-toggleable {background-color: white;}#sk-container-id-1 label.sk-toggleable__label {cursor: pointer;display: block;width: 100%;margin-bottom: 0;padding: 0.3em;box-sizing: border-box;text-align: center;}#sk-container-id-1 label.sk-toggleable__label-arrow:before {content: \"▸\";float: left;margin-right: 0.25em;color: #696969;}#sk-container-id-1 label.sk-toggleable__label-arrow:hover:before {color: black;}#sk-container-id-1 div.sk-estimator:hover label.sk-toggleable__label-arrow:before {color: black;}#sk-container-id-1 div.sk-toggleable__content {max-height: 0;max-width: 0;overflow: hidden;text-align: left;background-color: #f0f8ff;}#sk-container-id-1 div.sk-toggleable__content pre {margin: 0.2em;color: black;border-radius: 0.25em;background-color: #f0f8ff;}#sk-container-id-1 input.sk-toggleable__control:checked~div.sk-toggleable__content {max-height: 200px;max-width: 100%;overflow: auto;}#sk-container-id-1 input.sk-toggleable__control:checked~label.sk-toggleable__label-arrow:before {content: \"▾\";}#sk-container-id-1 div.sk-estimator input.sk-toggleable__control:checked~label.sk-toggleable__label {background-color: #d4ebff;}#sk-container-id-1 div.sk-label input.sk-toggleable__control:checked~label.sk-toggleable__label {background-color: #d4ebff;}#sk-container-id-1 input.sk-hidden--visually {border: 0;clip: rect(1px 1px 1px 1px);clip: rect(1px, 1px, 1px, 1px);height: 1px;margin: -1px;overflow: hidden;padding: 0;position: absolute;width: 1px;}#sk-container-id-1 div.sk-estimator {font-family: monospace;background-color: #f0f8ff;border: 1px dotted black;border-radius: 0.25em;box-sizing: border-box;margin-bottom: 0.5em;}#sk-container-id-1 div.sk-estimator:hover {background-color: #d4ebff;}#sk-container-id-1 div.sk-parallel-item::after {content: \"\";width: 100%;border-bottom: 1px solid gray;flex-grow: 1;}#sk-container-id-1 div.sk-label:hover label.sk-toggleable__label {background-color: #d4ebff;}#sk-container-id-1 div.sk-serial::before {content: \"\";position: absolute;border-left: 1px solid gray;box-sizing: border-box;top: 0;bottom: 0;left: 50%;z-index: 0;}#sk-container-id-1 div.sk-serial {display: flex;flex-direction: column;align-items: center;background-color: white;padding-right: 0.2em;padding-left: 0.2em;position: relative;}#sk-container-id-1 div.sk-item {position: relative;z-index: 1;}#sk-container-id-1 div.sk-parallel {display: flex;align-items: stretch;justify-content: center;background-color: white;position: relative;}#sk-container-id-1 div.sk-item::before, #sk-container-id-1 div.sk-parallel-item::before {content: \"\";position: absolute;border-left: 1px solid gray;box-sizing: border-box;top: 0;bottom: 0;left: 50%;z-index: -1;}#sk-container-id-1 div.sk-parallel-item {display: flex;flex-direction: column;z-index: 1;position: relative;background-color: white;}#sk-container-id-1 div.sk-parallel-item:first-child::after {align-self: flex-end;width: 50%;}#sk-container-id-1 div.sk-parallel-item:last-child::after {align-self: flex-start;width: 50%;}#sk-container-id-1 div.sk-parallel-item:only-child::after {width: 0;}#sk-container-id-1 div.sk-dashed-wrapped {border: 1px dashed gray;margin: 0 0.4em 0.5em 0.4em;box-sizing: border-box;padding-bottom: 0.4em;background-color: white;}#sk-container-id-1 div.sk-label label {font-family: monospace;font-weight: bold;display: inline-block;line-height: 1.2em;}#sk-container-id-1 div.sk-label-container {text-align: center;}#sk-container-id-1 div.sk-container {/* jupyter's `normalize.less` sets `[hidden] { display: none; }` but bootstrap.min.css set `[hidden] { display: none !important; }` so we also need the `!important` here to be able to override the default hidden behavior on the sphinx rendered scikit-learn.org. See: https://github.com/scikit-learn/scikit-learn/issues/21755 */display: inline-block !important;position: relative;}#sk-container-id-1 div.sk-text-repr-fallback {display: none;}</style><div id=\"sk-container-id-1\" class=\"sk-top-container\"><div class=\"sk-text-repr-fallback\"><pre>LogisticRegression()</pre><b>In a Jupyter environment, please rerun this cell to show the HTML representation or trust the notebook. <br />On GitHub, the HTML representation is unable to render, please try loading this page with nbviewer.org.</b></div><div class=\"sk-container\" hidden><div class=\"sk-item\"><div class=\"sk-estimator sk-toggleable\"><input class=\"sk-toggleable__control sk-hidden--visually\" id=\"sk-estimator-id-1\" type=\"checkbox\" checked><label for=\"sk-estimator-id-1\" class=\"sk-toggleable__label sk-toggleable__label-arrow\">LogisticRegression</label><div class=\"sk-toggleable__content\"><pre>LogisticRegression()</pre></div></div></div></div></div>"
      ],
      "text/plain": [
       "LogisticRegression()"
      ]
     },
     "execution_count": 42,
     "metadata": {},
     "output_type": "execute_result"
    }
   ],
   "source": [
    "logisticRegression = LogisticRegression()\n",
    "logisticRegression.fit(X_train, y_train)"
   ]
  },
  {
   "cell_type": "code",
   "execution_count": 43,
   "id": "f8140cbe",
   "metadata": {},
   "outputs": [
    {
     "data": {
      "text/html": [
       "<style>#sk-container-id-2 {color: black;background-color: white;}#sk-container-id-2 pre{padding: 0;}#sk-container-id-2 div.sk-toggleable {background-color: white;}#sk-container-id-2 label.sk-toggleable__label {cursor: pointer;display: block;width: 100%;margin-bottom: 0;padding: 0.3em;box-sizing: border-box;text-align: center;}#sk-container-id-2 label.sk-toggleable__label-arrow:before {content: \"▸\";float: left;margin-right: 0.25em;color: #696969;}#sk-container-id-2 label.sk-toggleable__label-arrow:hover:before {color: black;}#sk-container-id-2 div.sk-estimator:hover label.sk-toggleable__label-arrow:before {color: black;}#sk-container-id-2 div.sk-toggleable__content {max-height: 0;max-width: 0;overflow: hidden;text-align: left;background-color: #f0f8ff;}#sk-container-id-2 div.sk-toggleable__content pre {margin: 0.2em;color: black;border-radius: 0.25em;background-color: #f0f8ff;}#sk-container-id-2 input.sk-toggleable__control:checked~div.sk-toggleable__content {max-height: 200px;max-width: 100%;overflow: auto;}#sk-container-id-2 input.sk-toggleable__control:checked~label.sk-toggleable__label-arrow:before {content: \"▾\";}#sk-container-id-2 div.sk-estimator input.sk-toggleable__control:checked~label.sk-toggleable__label {background-color: #d4ebff;}#sk-container-id-2 div.sk-label input.sk-toggleable__control:checked~label.sk-toggleable__label {background-color: #d4ebff;}#sk-container-id-2 input.sk-hidden--visually {border: 0;clip: rect(1px 1px 1px 1px);clip: rect(1px, 1px, 1px, 1px);height: 1px;margin: -1px;overflow: hidden;padding: 0;position: absolute;width: 1px;}#sk-container-id-2 div.sk-estimator {font-family: monospace;background-color: #f0f8ff;border: 1px dotted black;border-radius: 0.25em;box-sizing: border-box;margin-bottom: 0.5em;}#sk-container-id-2 div.sk-estimator:hover {background-color: #d4ebff;}#sk-container-id-2 div.sk-parallel-item::after {content: \"\";width: 100%;border-bottom: 1px solid gray;flex-grow: 1;}#sk-container-id-2 div.sk-label:hover label.sk-toggleable__label {background-color: #d4ebff;}#sk-container-id-2 div.sk-serial::before {content: \"\";position: absolute;border-left: 1px solid gray;box-sizing: border-box;top: 0;bottom: 0;left: 50%;z-index: 0;}#sk-container-id-2 div.sk-serial {display: flex;flex-direction: column;align-items: center;background-color: white;padding-right: 0.2em;padding-left: 0.2em;position: relative;}#sk-container-id-2 div.sk-item {position: relative;z-index: 1;}#sk-container-id-2 div.sk-parallel {display: flex;align-items: stretch;justify-content: center;background-color: white;position: relative;}#sk-container-id-2 div.sk-item::before, #sk-container-id-2 div.sk-parallel-item::before {content: \"\";position: absolute;border-left: 1px solid gray;box-sizing: border-box;top: 0;bottom: 0;left: 50%;z-index: -1;}#sk-container-id-2 div.sk-parallel-item {display: flex;flex-direction: column;z-index: 1;position: relative;background-color: white;}#sk-container-id-2 div.sk-parallel-item:first-child::after {align-self: flex-end;width: 50%;}#sk-container-id-2 div.sk-parallel-item:last-child::after {align-self: flex-start;width: 50%;}#sk-container-id-2 div.sk-parallel-item:only-child::after {width: 0;}#sk-container-id-2 div.sk-dashed-wrapped {border: 1px dashed gray;margin: 0 0.4em 0.5em 0.4em;box-sizing: border-box;padding-bottom: 0.4em;background-color: white;}#sk-container-id-2 div.sk-label label {font-family: monospace;font-weight: bold;display: inline-block;line-height: 1.2em;}#sk-container-id-2 div.sk-label-container {text-align: center;}#sk-container-id-2 div.sk-container {/* jupyter's `normalize.less` sets `[hidden] { display: none; }` but bootstrap.min.css set `[hidden] { display: none !important; }` so we also need the `!important` here to be able to override the default hidden behavior on the sphinx rendered scikit-learn.org. See: https://github.com/scikit-learn/scikit-learn/issues/21755 */display: inline-block !important;position: relative;}#sk-container-id-2 div.sk-text-repr-fallback {display: none;}</style><div id=\"sk-container-id-2\" class=\"sk-top-container\"><div class=\"sk-text-repr-fallback\"><pre>DecisionTreeClassifier()</pre><b>In a Jupyter environment, please rerun this cell to show the HTML representation or trust the notebook. <br />On GitHub, the HTML representation is unable to render, please try loading this page with nbviewer.org.</b></div><div class=\"sk-container\" hidden><div class=\"sk-item\"><div class=\"sk-estimator sk-toggleable\"><input class=\"sk-toggleable__control sk-hidden--visually\" id=\"sk-estimator-id-2\" type=\"checkbox\" checked><label for=\"sk-estimator-id-2\" class=\"sk-toggleable__label sk-toggleable__label-arrow\">DecisionTreeClassifier</label><div class=\"sk-toggleable__content\"><pre>DecisionTreeClassifier()</pre></div></div></div></div></div>"
      ],
      "text/plain": [
       "DecisionTreeClassifier()"
      ]
     },
     "execution_count": 43,
     "metadata": {},
     "output_type": "execute_result"
    }
   ],
   "source": [
    "decisionTree = DecisionTreeClassifier()\n",
    "decisionTree.fit(X_train, y_train)"
   ]
  },
  {
   "cell_type": "code",
   "execution_count": 44,
   "id": "c2b34254",
   "metadata": {},
   "outputs": [
    {
     "data": {
      "text/html": [
       "<style>#sk-container-id-3 {color: black;background-color: white;}#sk-container-id-3 pre{padding: 0;}#sk-container-id-3 div.sk-toggleable {background-color: white;}#sk-container-id-3 label.sk-toggleable__label {cursor: pointer;display: block;width: 100%;margin-bottom: 0;padding: 0.3em;box-sizing: border-box;text-align: center;}#sk-container-id-3 label.sk-toggleable__label-arrow:before {content: \"▸\";float: left;margin-right: 0.25em;color: #696969;}#sk-container-id-3 label.sk-toggleable__label-arrow:hover:before {color: black;}#sk-container-id-3 div.sk-estimator:hover label.sk-toggleable__label-arrow:before {color: black;}#sk-container-id-3 div.sk-toggleable__content {max-height: 0;max-width: 0;overflow: hidden;text-align: left;background-color: #f0f8ff;}#sk-container-id-3 div.sk-toggleable__content pre {margin: 0.2em;color: black;border-radius: 0.25em;background-color: #f0f8ff;}#sk-container-id-3 input.sk-toggleable__control:checked~div.sk-toggleable__content {max-height: 200px;max-width: 100%;overflow: auto;}#sk-container-id-3 input.sk-toggleable__control:checked~label.sk-toggleable__label-arrow:before {content: \"▾\";}#sk-container-id-3 div.sk-estimator input.sk-toggleable__control:checked~label.sk-toggleable__label {background-color: #d4ebff;}#sk-container-id-3 div.sk-label input.sk-toggleable__control:checked~label.sk-toggleable__label {background-color: #d4ebff;}#sk-container-id-3 input.sk-hidden--visually {border: 0;clip: rect(1px 1px 1px 1px);clip: rect(1px, 1px, 1px, 1px);height: 1px;margin: -1px;overflow: hidden;padding: 0;position: absolute;width: 1px;}#sk-container-id-3 div.sk-estimator {font-family: monospace;background-color: #f0f8ff;border: 1px dotted black;border-radius: 0.25em;box-sizing: border-box;margin-bottom: 0.5em;}#sk-container-id-3 div.sk-estimator:hover {background-color: #d4ebff;}#sk-container-id-3 div.sk-parallel-item::after {content: \"\";width: 100%;border-bottom: 1px solid gray;flex-grow: 1;}#sk-container-id-3 div.sk-label:hover label.sk-toggleable__label {background-color: #d4ebff;}#sk-container-id-3 div.sk-serial::before {content: \"\";position: absolute;border-left: 1px solid gray;box-sizing: border-box;top: 0;bottom: 0;left: 50%;z-index: 0;}#sk-container-id-3 div.sk-serial {display: flex;flex-direction: column;align-items: center;background-color: white;padding-right: 0.2em;padding-left: 0.2em;position: relative;}#sk-container-id-3 div.sk-item {position: relative;z-index: 1;}#sk-container-id-3 div.sk-parallel {display: flex;align-items: stretch;justify-content: center;background-color: white;position: relative;}#sk-container-id-3 div.sk-item::before, #sk-container-id-3 div.sk-parallel-item::before {content: \"\";position: absolute;border-left: 1px solid gray;box-sizing: border-box;top: 0;bottom: 0;left: 50%;z-index: -1;}#sk-container-id-3 div.sk-parallel-item {display: flex;flex-direction: column;z-index: 1;position: relative;background-color: white;}#sk-container-id-3 div.sk-parallel-item:first-child::after {align-self: flex-end;width: 50%;}#sk-container-id-3 div.sk-parallel-item:last-child::after {align-self: flex-start;width: 50%;}#sk-container-id-3 div.sk-parallel-item:only-child::after {width: 0;}#sk-container-id-3 div.sk-dashed-wrapped {border: 1px dashed gray;margin: 0 0.4em 0.5em 0.4em;box-sizing: border-box;padding-bottom: 0.4em;background-color: white;}#sk-container-id-3 div.sk-label label {font-family: monospace;font-weight: bold;display: inline-block;line-height: 1.2em;}#sk-container-id-3 div.sk-label-container {text-align: center;}#sk-container-id-3 div.sk-container {/* jupyter's `normalize.less` sets `[hidden] { display: none; }` but bootstrap.min.css set `[hidden] { display: none !important; }` so we also need the `!important` here to be able to override the default hidden behavior on the sphinx rendered scikit-learn.org. See: https://github.com/scikit-learn/scikit-learn/issues/21755 */display: inline-block !important;position: relative;}#sk-container-id-3 div.sk-text-repr-fallback {display: none;}</style><div id=\"sk-container-id-3\" class=\"sk-top-container\"><div class=\"sk-text-repr-fallback\"><pre>IsolationForest()</pre><b>In a Jupyter environment, please rerun this cell to show the HTML representation or trust the notebook. <br />On GitHub, the HTML representation is unable to render, please try loading this page with nbviewer.org.</b></div><div class=\"sk-container\" hidden><div class=\"sk-item\"><div class=\"sk-estimator sk-toggleable\"><input class=\"sk-toggleable__control sk-hidden--visually\" id=\"sk-estimator-id-3\" type=\"checkbox\" checked><label for=\"sk-estimator-id-3\" class=\"sk-toggleable__label sk-toggleable__label-arrow\">IsolationForest</label><div class=\"sk-toggleable__content\"><pre>IsolationForest()</pre></div></div></div></div></div>"
      ],
      "text/plain": [
       "IsolationForest()"
      ]
     },
     "execution_count": 44,
     "metadata": {},
     "output_type": "execute_result"
    }
   ],
   "source": [
    "isolationForest = IsolationForest()\n",
    "isolationForest.fit(X_train, y_train)"
   ]
  },
  {
   "cell_type": "code",
   "execution_count": 45,
   "id": "ca3b4216",
   "metadata": {},
   "outputs": [
    {
     "data": {
      "text/html": [
       "<style>#sk-container-id-4 {color: black;background-color: white;}#sk-container-id-4 pre{padding: 0;}#sk-container-id-4 div.sk-toggleable {background-color: white;}#sk-container-id-4 label.sk-toggleable__label {cursor: pointer;display: block;width: 100%;margin-bottom: 0;padding: 0.3em;box-sizing: border-box;text-align: center;}#sk-container-id-4 label.sk-toggleable__label-arrow:before {content: \"▸\";float: left;margin-right: 0.25em;color: #696969;}#sk-container-id-4 label.sk-toggleable__label-arrow:hover:before {color: black;}#sk-container-id-4 div.sk-estimator:hover label.sk-toggleable__label-arrow:before {color: black;}#sk-container-id-4 div.sk-toggleable__content {max-height: 0;max-width: 0;overflow: hidden;text-align: left;background-color: #f0f8ff;}#sk-container-id-4 div.sk-toggleable__content pre {margin: 0.2em;color: black;border-radius: 0.25em;background-color: #f0f8ff;}#sk-container-id-4 input.sk-toggleable__control:checked~div.sk-toggleable__content {max-height: 200px;max-width: 100%;overflow: auto;}#sk-container-id-4 input.sk-toggleable__control:checked~label.sk-toggleable__label-arrow:before {content: \"▾\";}#sk-container-id-4 div.sk-estimator input.sk-toggleable__control:checked~label.sk-toggleable__label {background-color: #d4ebff;}#sk-container-id-4 div.sk-label input.sk-toggleable__control:checked~label.sk-toggleable__label {background-color: #d4ebff;}#sk-container-id-4 input.sk-hidden--visually {border: 0;clip: rect(1px 1px 1px 1px);clip: rect(1px, 1px, 1px, 1px);height: 1px;margin: -1px;overflow: hidden;padding: 0;position: absolute;width: 1px;}#sk-container-id-4 div.sk-estimator {font-family: monospace;background-color: #f0f8ff;border: 1px dotted black;border-radius: 0.25em;box-sizing: border-box;margin-bottom: 0.5em;}#sk-container-id-4 div.sk-estimator:hover {background-color: #d4ebff;}#sk-container-id-4 div.sk-parallel-item::after {content: \"\";width: 100%;border-bottom: 1px solid gray;flex-grow: 1;}#sk-container-id-4 div.sk-label:hover label.sk-toggleable__label {background-color: #d4ebff;}#sk-container-id-4 div.sk-serial::before {content: \"\";position: absolute;border-left: 1px solid gray;box-sizing: border-box;top: 0;bottom: 0;left: 50%;z-index: 0;}#sk-container-id-4 div.sk-serial {display: flex;flex-direction: column;align-items: center;background-color: white;padding-right: 0.2em;padding-left: 0.2em;position: relative;}#sk-container-id-4 div.sk-item {position: relative;z-index: 1;}#sk-container-id-4 div.sk-parallel {display: flex;align-items: stretch;justify-content: center;background-color: white;position: relative;}#sk-container-id-4 div.sk-item::before, #sk-container-id-4 div.sk-parallel-item::before {content: \"\";position: absolute;border-left: 1px solid gray;box-sizing: border-box;top: 0;bottom: 0;left: 50%;z-index: -1;}#sk-container-id-4 div.sk-parallel-item {display: flex;flex-direction: column;z-index: 1;position: relative;background-color: white;}#sk-container-id-4 div.sk-parallel-item:first-child::after {align-self: flex-end;width: 50%;}#sk-container-id-4 div.sk-parallel-item:last-child::after {align-self: flex-start;width: 50%;}#sk-container-id-4 div.sk-parallel-item:only-child::after {width: 0;}#sk-container-id-4 div.sk-dashed-wrapped {border: 1px dashed gray;margin: 0 0.4em 0.5em 0.4em;box-sizing: border-box;padding-bottom: 0.4em;background-color: white;}#sk-container-id-4 div.sk-label label {font-family: monospace;font-weight: bold;display: inline-block;line-height: 1.2em;}#sk-container-id-4 div.sk-label-container {text-align: center;}#sk-container-id-4 div.sk-container {/* jupyter's `normalize.less` sets `[hidden] { display: none; }` but bootstrap.min.css set `[hidden] { display: none !important; }` so we also need the `!important` here to be able to override the default hidden behavior on the sphinx rendered scikit-learn.org. See: https://github.com/scikit-learn/scikit-learn/issues/21755 */display: inline-block !important;position: relative;}#sk-container-id-4 div.sk-text-repr-fallback {display: none;}</style><div id=\"sk-container-id-4\" class=\"sk-top-container\"><div class=\"sk-text-repr-fallback\"><pre>SVC()</pre><b>In a Jupyter environment, please rerun this cell to show the HTML representation or trust the notebook. <br />On GitHub, the HTML representation is unable to render, please try loading this page with nbviewer.org.</b></div><div class=\"sk-container\" hidden><div class=\"sk-item\"><div class=\"sk-estimator sk-toggleable\"><input class=\"sk-toggleable__control sk-hidden--visually\" id=\"sk-estimator-id-4\" type=\"checkbox\" checked><label for=\"sk-estimator-id-4\" class=\"sk-toggleable__label sk-toggleable__label-arrow\">SVC</label><div class=\"sk-toggleable__content\"><pre>SVC()</pre></div></div></div></div></div>"
      ],
      "text/plain": [
       "SVC()"
      ]
     },
     "execution_count": 45,
     "metadata": {},
     "output_type": "execute_result"
    }
   ],
   "source": [
    "svm = SVC()\n",
    "svm.fit(X_train, y_train)"
   ]
  },
  {
   "cell_type": "code",
   "execution_count": 46,
   "id": "d6b90ca7",
   "metadata": {},
   "outputs": [
    {
     "data": {
      "text/html": [
       "<style>#sk-container-id-5 {color: black;background-color: white;}#sk-container-id-5 pre{padding: 0;}#sk-container-id-5 div.sk-toggleable {background-color: white;}#sk-container-id-5 label.sk-toggleable__label {cursor: pointer;display: block;width: 100%;margin-bottom: 0;padding: 0.3em;box-sizing: border-box;text-align: center;}#sk-container-id-5 label.sk-toggleable__label-arrow:before {content: \"▸\";float: left;margin-right: 0.25em;color: #696969;}#sk-container-id-5 label.sk-toggleable__label-arrow:hover:before {color: black;}#sk-container-id-5 div.sk-estimator:hover label.sk-toggleable__label-arrow:before {color: black;}#sk-container-id-5 div.sk-toggleable__content {max-height: 0;max-width: 0;overflow: hidden;text-align: left;background-color: #f0f8ff;}#sk-container-id-5 div.sk-toggleable__content pre {margin: 0.2em;color: black;border-radius: 0.25em;background-color: #f0f8ff;}#sk-container-id-5 input.sk-toggleable__control:checked~div.sk-toggleable__content {max-height: 200px;max-width: 100%;overflow: auto;}#sk-container-id-5 input.sk-toggleable__control:checked~label.sk-toggleable__label-arrow:before {content: \"▾\";}#sk-container-id-5 div.sk-estimator input.sk-toggleable__control:checked~label.sk-toggleable__label {background-color: #d4ebff;}#sk-container-id-5 div.sk-label input.sk-toggleable__control:checked~label.sk-toggleable__label {background-color: #d4ebff;}#sk-container-id-5 input.sk-hidden--visually {border: 0;clip: rect(1px 1px 1px 1px);clip: rect(1px, 1px, 1px, 1px);height: 1px;margin: -1px;overflow: hidden;padding: 0;position: absolute;width: 1px;}#sk-container-id-5 div.sk-estimator {font-family: monospace;background-color: #f0f8ff;border: 1px dotted black;border-radius: 0.25em;box-sizing: border-box;margin-bottom: 0.5em;}#sk-container-id-5 div.sk-estimator:hover {background-color: #d4ebff;}#sk-container-id-5 div.sk-parallel-item::after {content: \"\";width: 100%;border-bottom: 1px solid gray;flex-grow: 1;}#sk-container-id-5 div.sk-label:hover label.sk-toggleable__label {background-color: #d4ebff;}#sk-container-id-5 div.sk-serial::before {content: \"\";position: absolute;border-left: 1px solid gray;box-sizing: border-box;top: 0;bottom: 0;left: 50%;z-index: 0;}#sk-container-id-5 div.sk-serial {display: flex;flex-direction: column;align-items: center;background-color: white;padding-right: 0.2em;padding-left: 0.2em;position: relative;}#sk-container-id-5 div.sk-item {position: relative;z-index: 1;}#sk-container-id-5 div.sk-parallel {display: flex;align-items: stretch;justify-content: center;background-color: white;position: relative;}#sk-container-id-5 div.sk-item::before, #sk-container-id-5 div.sk-parallel-item::before {content: \"\";position: absolute;border-left: 1px solid gray;box-sizing: border-box;top: 0;bottom: 0;left: 50%;z-index: -1;}#sk-container-id-5 div.sk-parallel-item {display: flex;flex-direction: column;z-index: 1;position: relative;background-color: white;}#sk-container-id-5 div.sk-parallel-item:first-child::after {align-self: flex-end;width: 50%;}#sk-container-id-5 div.sk-parallel-item:last-child::after {align-self: flex-start;width: 50%;}#sk-container-id-5 div.sk-parallel-item:only-child::after {width: 0;}#sk-container-id-5 div.sk-dashed-wrapped {border: 1px dashed gray;margin: 0 0.4em 0.5em 0.4em;box-sizing: border-box;padding-bottom: 0.4em;background-color: white;}#sk-container-id-5 div.sk-label label {font-family: monospace;font-weight: bold;display: inline-block;line-height: 1.2em;}#sk-container-id-5 div.sk-label-container {text-align: center;}#sk-container-id-5 div.sk-container {/* jupyter's `normalize.less` sets `[hidden] { display: none; }` but bootstrap.min.css set `[hidden] { display: none !important; }` so we also need the `!important` here to be able to override the default hidden behavior on the sphinx rendered scikit-learn.org. See: https://github.com/scikit-learn/scikit-learn/issues/21755 */display: inline-block !important;position: relative;}#sk-container-id-5 div.sk-text-repr-fallback {display: none;}</style><div id=\"sk-container-id-5\" class=\"sk-top-container\"><div class=\"sk-text-repr-fallback\"><pre>KNeighborsClassifier()</pre><b>In a Jupyter environment, please rerun this cell to show the HTML representation or trust the notebook. <br />On GitHub, the HTML representation is unable to render, please try loading this page with nbviewer.org.</b></div><div class=\"sk-container\" hidden><div class=\"sk-item\"><div class=\"sk-estimator sk-toggleable\"><input class=\"sk-toggleable__control sk-hidden--visually\" id=\"sk-estimator-id-5\" type=\"checkbox\" checked><label for=\"sk-estimator-id-5\" class=\"sk-toggleable__label sk-toggleable__label-arrow\">KNeighborsClassifier</label><div class=\"sk-toggleable__content\"><pre>KNeighborsClassifier()</pre></div></div></div></div></div>"
      ],
      "text/plain": [
       "KNeighborsClassifier()"
      ]
     },
     "execution_count": 46,
     "metadata": {},
     "output_type": "execute_result"
    }
   ],
   "source": [
    "knn = KNeighborsClassifier()\n",
    "knn.fit(X_train, y_train)"
   ]
  },
  {
   "cell_type": "code",
   "execution_count": 47,
   "id": "d74c570c",
   "metadata": {},
   "outputs": [
    {
     "data": {
      "text/html": [
       "<style>#sk-container-id-6 {color: black;background-color: white;}#sk-container-id-6 pre{padding: 0;}#sk-container-id-6 div.sk-toggleable {background-color: white;}#sk-container-id-6 label.sk-toggleable__label {cursor: pointer;display: block;width: 100%;margin-bottom: 0;padding: 0.3em;box-sizing: border-box;text-align: center;}#sk-container-id-6 label.sk-toggleable__label-arrow:before {content: \"▸\";float: left;margin-right: 0.25em;color: #696969;}#sk-container-id-6 label.sk-toggleable__label-arrow:hover:before {color: black;}#sk-container-id-6 div.sk-estimator:hover label.sk-toggleable__label-arrow:before {color: black;}#sk-container-id-6 div.sk-toggleable__content {max-height: 0;max-width: 0;overflow: hidden;text-align: left;background-color: #f0f8ff;}#sk-container-id-6 div.sk-toggleable__content pre {margin: 0.2em;color: black;border-radius: 0.25em;background-color: #f0f8ff;}#sk-container-id-6 input.sk-toggleable__control:checked~div.sk-toggleable__content {max-height: 200px;max-width: 100%;overflow: auto;}#sk-container-id-6 input.sk-toggleable__control:checked~label.sk-toggleable__label-arrow:before {content: \"▾\";}#sk-container-id-6 div.sk-estimator input.sk-toggleable__control:checked~label.sk-toggleable__label {background-color: #d4ebff;}#sk-container-id-6 div.sk-label input.sk-toggleable__control:checked~label.sk-toggleable__label {background-color: #d4ebff;}#sk-container-id-6 input.sk-hidden--visually {border: 0;clip: rect(1px 1px 1px 1px);clip: rect(1px, 1px, 1px, 1px);height: 1px;margin: -1px;overflow: hidden;padding: 0;position: absolute;width: 1px;}#sk-container-id-6 div.sk-estimator {font-family: monospace;background-color: #f0f8ff;border: 1px dotted black;border-radius: 0.25em;box-sizing: border-box;margin-bottom: 0.5em;}#sk-container-id-6 div.sk-estimator:hover {background-color: #d4ebff;}#sk-container-id-6 div.sk-parallel-item::after {content: \"\";width: 100%;border-bottom: 1px solid gray;flex-grow: 1;}#sk-container-id-6 div.sk-label:hover label.sk-toggleable__label {background-color: #d4ebff;}#sk-container-id-6 div.sk-serial::before {content: \"\";position: absolute;border-left: 1px solid gray;box-sizing: border-box;top: 0;bottom: 0;left: 50%;z-index: 0;}#sk-container-id-6 div.sk-serial {display: flex;flex-direction: column;align-items: center;background-color: white;padding-right: 0.2em;padding-left: 0.2em;position: relative;}#sk-container-id-6 div.sk-item {position: relative;z-index: 1;}#sk-container-id-6 div.sk-parallel {display: flex;align-items: stretch;justify-content: center;background-color: white;position: relative;}#sk-container-id-6 div.sk-item::before, #sk-container-id-6 div.sk-parallel-item::before {content: \"\";position: absolute;border-left: 1px solid gray;box-sizing: border-box;top: 0;bottom: 0;left: 50%;z-index: -1;}#sk-container-id-6 div.sk-parallel-item {display: flex;flex-direction: column;z-index: 1;position: relative;background-color: white;}#sk-container-id-6 div.sk-parallel-item:first-child::after {align-self: flex-end;width: 50%;}#sk-container-id-6 div.sk-parallel-item:last-child::after {align-self: flex-start;width: 50%;}#sk-container-id-6 div.sk-parallel-item:only-child::after {width: 0;}#sk-container-id-6 div.sk-dashed-wrapped {border: 1px dashed gray;margin: 0 0.4em 0.5em 0.4em;box-sizing: border-box;padding-bottom: 0.4em;background-color: white;}#sk-container-id-6 div.sk-label label {font-family: monospace;font-weight: bold;display: inline-block;line-height: 1.2em;}#sk-container-id-6 div.sk-label-container {text-align: center;}#sk-container-id-6 div.sk-container {/* jupyter's `normalize.less` sets `[hidden] { display: none; }` but bootstrap.min.css set `[hidden] { display: none !important; }` so we also need the `!important` here to be able to override the default hidden behavior on the sphinx rendered scikit-learn.org. See: https://github.com/scikit-learn/scikit-learn/issues/21755 */display: inline-block !important;position: relative;}#sk-container-id-6 div.sk-text-repr-fallback {display: none;}</style><div id=\"sk-container-id-6\" class=\"sk-top-container\"><div class=\"sk-text-repr-fallback\"><pre>GaussianNB()</pre><b>In a Jupyter environment, please rerun this cell to show the HTML representation or trust the notebook. <br />On GitHub, the HTML representation is unable to render, please try loading this page with nbviewer.org.</b></div><div class=\"sk-container\" hidden><div class=\"sk-item\"><div class=\"sk-estimator sk-toggleable\"><input class=\"sk-toggleable__control sk-hidden--visually\" id=\"sk-estimator-id-6\" type=\"checkbox\" checked><label for=\"sk-estimator-id-6\" class=\"sk-toggleable__label sk-toggleable__label-arrow\">GaussianNB</label><div class=\"sk-toggleable__content\"><pre>GaussianNB()</pre></div></div></div></div></div>"
      ],
      "text/plain": [
       "GaussianNB()"
      ]
     },
     "execution_count": 47,
     "metadata": {},
     "output_type": "execute_result"
    }
   ],
   "source": [
    "gaussian = GaussianNB()\n",
    "gaussian.fit(X_train, y_train)"
   ]
  },
  {
   "cell_type": "code",
   "execution_count": 48,
   "id": "479c7c78",
   "metadata": {},
   "outputs": [],
   "source": [
    "ypred_logistic = logisticRegression.predict(X_val)\n",
    "ypred_decision = decisionTree.predict(X_val)\n",
    "ypred_isolation = isolationForest.predict(X_val)\n",
    "ypred_svc = svm.predict(X_val)\n",
    "ypred_knn = knn.predict(X_val)\n",
    "ypred_gaussian = gaussian.predict(X_val)"
   ]
  },
  {
   "cell_type": "code",
   "execution_count": 49,
   "id": "57fc5f3e",
   "metadata": {},
   "outputs": [
    {
     "ename": "TypeError",
     "evalue": "can only concatenate str (not \"numpy.float64\") to str",
     "output_type": "error",
     "traceback": [
      "\u001b[1;31m---------------------------------------------------------------------------\u001b[0m",
      "\u001b[1;31mTypeError\u001b[0m                                 Traceback (most recent call last)",
      "Cell \u001b[1;32mIn [49], line 2\u001b[0m\n\u001b[0;32m      1\u001b[0m \u001b[38;5;28;01mfrom\u001b[39;00m \u001b[38;5;21;01msklearn\u001b[39;00m\u001b[38;5;21;01m.\u001b[39;00m\u001b[38;5;21;01mmetrics\u001b[39;00m \u001b[38;5;28;01mimport\u001b[39;00m accuracy_score\n\u001b[1;32m----> 2\u001b[0m \u001b[38;5;28mprint\u001b[39m(\u001b[38;5;124;43m\"\u001b[39;49m\u001b[38;5;124;43mLogistic Regression : \u001b[39;49m\u001b[38;5;124;43m\"\u001b[39;49m\u001b[43m \u001b[49m\u001b[38;5;241;43m+\u001b[39;49m\u001b[43m \u001b[49m\u001b[43maccuracy_score\u001b[49m\u001b[43m(\u001b[49m\u001b[43my_val\u001b[49m\u001b[43m,\u001b[49m\u001b[43m \u001b[49m\u001b[43mypred_logistic\u001b[49m\u001b[43m)\u001b[49m)\n\u001b[0;32m      3\u001b[0m \u001b[38;5;28mprint\u001b[39m(\u001b[38;5;124m\"\u001b[39m\u001b[38;5;124mDecision Tree : \u001b[39m\u001b[38;5;124m\"\u001b[39m \u001b[38;5;241m+\u001b[39m accuracy_score(y_val, ypred_decision))\n\u001b[0;32m      4\u001b[0m \u001b[38;5;28mprint\u001b[39m(\u001b[38;5;124m\"\u001b[39m\u001b[38;5;124mIsolation Forest : \u001b[39m\u001b[38;5;124m\"\u001b[39m \u001b[38;5;241m+\u001b[39m accuracy_score(y_val, ypred_isolation))\n",
      "\u001b[1;31mTypeError\u001b[0m: can only concatenate str (not \"numpy.float64\") to str"
     ]
    }
   ],
   "source": [
    "from sklearn.metrics import accuracy_score\n",
    "print(\"Logistic Regression : \", accuracy_score(y_val, ypred_logistic))\n",
    "print(\"Decision Tree : \", accuracy_score(y_val, ypred_decision))\n",
    "print(\"Isolation Forest : \" , accuracy_score(y_val, ypred_isolation))\n",
    "print(\"svm : \" , accuracy_score(y_val, ypred_isolation))\n",
    "print(\"knn : \" , accuracy_score(y_val, ypred_knn))\n",
    "print(\"gaussian : \"  accuracy_score(y_val, ypred_gaussian))"
   ]
  },
  {
   "cell_type": "code",
   "execution_count": null,
   "id": "a915443b",
   "metadata": {},
   "outputs": [],
   "source": []
  }
 ],
 "metadata": {
  "kernelspec": {
   "display_name": "Python 3 (ipykernel)",
   "language": "python",
   "name": "python3"
  },
  "language_info": {
   "codemirror_mode": {
    "name": "ipython",
    "version": 3
   },
   "file_extension": ".py",
   "mimetype": "text/x-python",
   "name": "python",
   "nbconvert_exporter": "python",
   "pygments_lexer": "ipython3",
   "version": "3.9.0"
  }
 },
 "nbformat": 4,
 "nbformat_minor": 5
}
