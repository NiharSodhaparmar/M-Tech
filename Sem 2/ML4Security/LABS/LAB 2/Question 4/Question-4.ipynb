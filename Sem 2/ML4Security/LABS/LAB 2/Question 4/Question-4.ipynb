{
 "cells": [
  {
   "cell_type": "code",
   "execution_count": 12,
   "id": "904d4137",
   "metadata": {},
   "outputs": [],
   "source": [
    "import pandas as pd\n",
    "import numpy as np\n",
    "import seaborn as sns\n",
    "import matplotlib.pyplot as plt\n",
    "%matplotlib inline"
   ]
  },
  {
   "cell_type": "code",
   "execution_count": 13,
   "id": "d40f0931",
   "metadata": {},
   "outputs": [],
   "source": [
    "df = pd.read_csv(\"./dataset/Darknet.csv\")"
   ]
  },
  {
   "cell_type": "code",
   "execution_count": 14,
   "id": "3d4bda09",
   "metadata": {},
   "outputs": [
    {
     "data": {
      "text/html": [
       "<div>\n",
       "<style scoped>\n",
       "    .dataframe tbody tr th:only-of-type {\n",
       "        vertical-align: middle;\n",
       "    }\n",
       "\n",
       "    .dataframe tbody tr th {\n",
       "        vertical-align: top;\n",
       "    }\n",
       "\n",
       "    .dataframe thead th {\n",
       "        text-align: right;\n",
       "    }\n",
       "</style>\n",
       "<table border=\"1\" class=\"dataframe\">\n",
       "  <thead>\n",
       "    <tr style=\"text-align: right;\">\n",
       "      <th></th>\n",
       "      <th>Flow ID</th>\n",
       "      <th>Src IP</th>\n",
       "      <th>Src Port</th>\n",
       "      <th>Dst IP</th>\n",
       "      <th>Dst Port</th>\n",
       "      <th>Protocol</th>\n",
       "      <th>Timestamp</th>\n",
       "      <th>Flow Duration</th>\n",
       "      <th>Total Fwd Packet</th>\n",
       "      <th>Total Bwd packets</th>\n",
       "      <th>...</th>\n",
       "      <th>Active Mean</th>\n",
       "      <th>Active Std</th>\n",
       "      <th>Active Max</th>\n",
       "      <th>Active Min</th>\n",
       "      <th>Idle Mean</th>\n",
       "      <th>Idle Std</th>\n",
       "      <th>Idle Max</th>\n",
       "      <th>Idle Min</th>\n",
       "      <th>Label</th>\n",
       "      <th>Label.1</th>\n",
       "    </tr>\n",
       "  </thead>\n",
       "  <tbody>\n",
       "    <tr>\n",
       "      <th>0</th>\n",
       "      <td>10.152.152.11-216.58.220.99-57158-443-6</td>\n",
       "      <td>10.152.152.11</td>\n",
       "      <td>57158</td>\n",
       "      <td>216.58.220.99</td>\n",
       "      <td>443</td>\n",
       "      <td>6</td>\n",
       "      <td>24/07/2015 04:09:48 PM</td>\n",
       "      <td>229</td>\n",
       "      <td>1</td>\n",
       "      <td>1</td>\n",
       "      <td>...</td>\n",
       "      <td>0</td>\n",
       "      <td>0</td>\n",
       "      <td>0</td>\n",
       "      <td>0</td>\n",
       "      <td>0.000000e+00</td>\n",
       "      <td>0.000</td>\n",
       "      <td>0.000000e+00</td>\n",
       "      <td>0.000000e+00</td>\n",
       "      <td>Non-Tor</td>\n",
       "      <td>AUDIO-STREAMING</td>\n",
       "    </tr>\n",
       "    <tr>\n",
       "      <th>1</th>\n",
       "      <td>10.152.152.11-216.58.220.99-57159-443-6</td>\n",
       "      <td>10.152.152.11</td>\n",
       "      <td>57159</td>\n",
       "      <td>216.58.220.99</td>\n",
       "      <td>443</td>\n",
       "      <td>6</td>\n",
       "      <td>24/07/2015 04:09:48 PM</td>\n",
       "      <td>407</td>\n",
       "      <td>1</td>\n",
       "      <td>1</td>\n",
       "      <td>...</td>\n",
       "      <td>0</td>\n",
       "      <td>0</td>\n",
       "      <td>0</td>\n",
       "      <td>0</td>\n",
       "      <td>0.000000e+00</td>\n",
       "      <td>0.000</td>\n",
       "      <td>0.000000e+00</td>\n",
       "      <td>0.000000e+00</td>\n",
       "      <td>Non-Tor</td>\n",
       "      <td>AUDIO-STREAMING</td>\n",
       "    </tr>\n",
       "    <tr>\n",
       "      <th>2</th>\n",
       "      <td>10.152.152.11-216.58.220.99-57160-443-6</td>\n",
       "      <td>10.152.152.11</td>\n",
       "      <td>57160</td>\n",
       "      <td>216.58.220.99</td>\n",
       "      <td>443</td>\n",
       "      <td>6</td>\n",
       "      <td>24/07/2015 04:09:48 PM</td>\n",
       "      <td>431</td>\n",
       "      <td>1</td>\n",
       "      <td>1</td>\n",
       "      <td>...</td>\n",
       "      <td>0</td>\n",
       "      <td>0</td>\n",
       "      <td>0</td>\n",
       "      <td>0</td>\n",
       "      <td>0.000000e+00</td>\n",
       "      <td>0.000</td>\n",
       "      <td>0.000000e+00</td>\n",
       "      <td>0.000000e+00</td>\n",
       "      <td>Non-Tor</td>\n",
       "      <td>AUDIO-STREAMING</td>\n",
       "    </tr>\n",
       "    <tr>\n",
       "      <th>3</th>\n",
       "      <td>10.152.152.11-74.125.136.120-49134-443-6</td>\n",
       "      <td>10.152.152.11</td>\n",
       "      <td>49134</td>\n",
       "      <td>74.125.136.120</td>\n",
       "      <td>443</td>\n",
       "      <td>6</td>\n",
       "      <td>24/07/2015 04:09:48 PM</td>\n",
       "      <td>359</td>\n",
       "      <td>1</td>\n",
       "      <td>1</td>\n",
       "      <td>...</td>\n",
       "      <td>0</td>\n",
       "      <td>0</td>\n",
       "      <td>0</td>\n",
       "      <td>0</td>\n",
       "      <td>0.000000e+00</td>\n",
       "      <td>0.000</td>\n",
       "      <td>0.000000e+00</td>\n",
       "      <td>0.000000e+00</td>\n",
       "      <td>Non-Tor</td>\n",
       "      <td>AUDIO-STREAMING</td>\n",
       "    </tr>\n",
       "    <tr>\n",
       "      <th>4</th>\n",
       "      <td>10.152.152.11-173.194.65.127-34697-19305-6</td>\n",
       "      <td>10.152.152.11</td>\n",
       "      <td>34697</td>\n",
       "      <td>173.194.65.127</td>\n",
       "      <td>19305</td>\n",
       "      <td>6</td>\n",
       "      <td>24/07/2015 04:09:45 PM</td>\n",
       "      <td>10778451</td>\n",
       "      <td>591</td>\n",
       "      <td>400</td>\n",
       "      <td>...</td>\n",
       "      <td>0</td>\n",
       "      <td>0</td>\n",
       "      <td>0</td>\n",
       "      <td>0</td>\n",
       "      <td>1.437760e+15</td>\n",
       "      <td>3117718.131</td>\n",
       "      <td>1.437760e+15</td>\n",
       "      <td>1.437760e+15</td>\n",
       "      <td>Non-Tor</td>\n",
       "      <td>AUDIO-STREAMING</td>\n",
       "    </tr>\n",
       "  </tbody>\n",
       "</table>\n",
       "<p>5 rows × 85 columns</p>\n",
       "</div>"
      ],
      "text/plain": [
       "                                      Flow ID         Src IP  Src Port  \\\n",
       "0     10.152.152.11-216.58.220.99-57158-443-6  10.152.152.11     57158   \n",
       "1     10.152.152.11-216.58.220.99-57159-443-6  10.152.152.11     57159   \n",
       "2     10.152.152.11-216.58.220.99-57160-443-6  10.152.152.11     57160   \n",
       "3    10.152.152.11-74.125.136.120-49134-443-6  10.152.152.11     49134   \n",
       "4  10.152.152.11-173.194.65.127-34697-19305-6  10.152.152.11     34697   \n",
       "\n",
       "           Dst IP  Dst Port  Protocol               Timestamp  Flow Duration  \\\n",
       "0   216.58.220.99       443         6  24/07/2015 04:09:48 PM            229   \n",
       "1   216.58.220.99       443         6  24/07/2015 04:09:48 PM            407   \n",
       "2   216.58.220.99       443         6  24/07/2015 04:09:48 PM            431   \n",
       "3  74.125.136.120       443         6  24/07/2015 04:09:48 PM            359   \n",
       "4  173.194.65.127     19305         6  24/07/2015 04:09:45 PM       10778451   \n",
       "\n",
       "   Total Fwd Packet  Total Bwd packets  ...  Active Mean  Active Std  \\\n",
       "0                 1                  1  ...            0           0   \n",
       "1                 1                  1  ...            0           0   \n",
       "2                 1                  1  ...            0           0   \n",
       "3                 1                  1  ...            0           0   \n",
       "4               591                400  ...            0           0   \n",
       "\n",
       "   Active Max  Active Min     Idle Mean     Idle Std      Idle Max  \\\n",
       "0           0           0  0.000000e+00        0.000  0.000000e+00   \n",
       "1           0           0  0.000000e+00        0.000  0.000000e+00   \n",
       "2           0           0  0.000000e+00        0.000  0.000000e+00   \n",
       "3           0           0  0.000000e+00        0.000  0.000000e+00   \n",
       "4           0           0  1.437760e+15  3117718.131  1.437760e+15   \n",
       "\n",
       "       Idle Min    Label          Label.1  \n",
       "0  0.000000e+00  Non-Tor  AUDIO-STREAMING  \n",
       "1  0.000000e+00  Non-Tor  AUDIO-STREAMING  \n",
       "2  0.000000e+00  Non-Tor  AUDIO-STREAMING  \n",
       "3  0.000000e+00  Non-Tor  AUDIO-STREAMING  \n",
       "4  1.437760e+15  Non-Tor  AUDIO-STREAMING  \n",
       "\n",
       "[5 rows x 85 columns]"
      ]
     },
     "execution_count": 14,
     "metadata": {},
     "output_type": "execute_result"
    }
   ],
   "source": [
    "df.head()"
   ]
  },
  {
   "cell_type": "code",
   "execution_count": 15,
   "id": "b0329057",
   "metadata": {},
   "outputs": [
    {
     "data": {
      "text/plain": [
       "array(['Non-Tor', 'NonVPN', 'Tor', 'VPN'], dtype=object)"
      ]
     },
     "execution_count": 15,
     "metadata": {},
     "output_type": "execute_result"
    }
   ],
   "source": [
    "df[\"Label\"].unique()"
   ]
  },
  {
   "cell_type": "markdown",
   "id": "cf5710c2",
   "metadata": {},
   "source": [
    "### Preprocessing"
   ]
  },
  {
   "cell_type": "code",
   "execution_count": 16,
   "id": "22e46bc0",
   "metadata": {},
   "outputs": [],
   "source": [
    "df[\"Label.2\"] = df[\"Label\"]"
   ]
  },
  {
   "cell_type": "code",
   "execution_count": 17,
   "id": "9acfcae5",
   "metadata": {},
   "outputs": [
    {
     "name": "stderr",
     "output_type": "stream",
     "text": [
      "C:\\Users\\nihar\\AppData\\Local\\Temp\\ipykernel_5140\\3839010055.py:1: SettingWithCopyWarning: \n",
      "A value is trying to be set on a copy of a slice from a DataFrame\n",
      "\n",
      "See the caveats in the documentation: https://pandas.pydata.org/pandas-docs/stable/user_guide/indexing.html#returning-a-view-versus-a-copy\n",
      "  df['Label.2'].loc[(df['Label'] == 'Non-Tor') | (df['Label'] == 'NonVPN')] = 'Benign'\n",
      "C:\\Users\\nihar\\AppData\\Local\\Temp\\ipykernel_5140\\3839010055.py:2: SettingWithCopyWarning: \n",
      "A value is trying to be set on a copy of a slice from a DataFrame\n",
      "\n",
      "See the caveats in the documentation: https://pandas.pydata.org/pandas-docs/stable/user_guide/indexing.html#returning-a-view-versus-a-copy\n",
      "  df['Label.2'].loc[(df['Label'] == 'Tor') | (df['Label'] == 'VPN')] = 'Darknet'\n"
     ]
    }
   ],
   "source": [
    "df['Label.2'].loc[(df['Label'] == 'Non-Tor') | (df['Label'] == 'NonVPN')] = 'Benign'\n",
    "df['Label.2'].loc[(df['Label'] == 'Tor') | (df['Label'] == 'VPN')] = 'Darknet'\n"
   ]
  },
  {
   "cell_type": "code",
   "execution_count": 18,
   "id": "7c7978cb",
   "metadata": {},
   "outputs": [],
   "source": [
    "df.replace([np.inf, -np.inf], np.nan, inplace=True)"
   ]
  },
  {
   "cell_type": "code",
   "execution_count": 19,
   "id": "39b37f41",
   "metadata": {},
   "outputs": [],
   "source": [
    "df.fillna(0, inplace = True)"
   ]
  },
  {
   "cell_type": "code",
   "execution_count": 20,
   "id": "58216228",
   "metadata": {},
   "outputs": [
    {
     "data": {
      "text/plain": [
       "Flow ID     0\n",
       "Src IP      0\n",
       "Src Port    0\n",
       "Dst IP      0\n",
       "Dst Port    0\n",
       "           ..\n",
       "Idle Max    0\n",
       "Idle Min    0\n",
       "Label       0\n",
       "Label.1     0\n",
       "Label.2     0\n",
       "Length: 86, dtype: int64"
      ]
     },
     "execution_count": 20,
     "metadata": {},
     "output_type": "execute_result"
    }
   ],
   "source": [
    "df.isnull().sum()"
   ]
  },
  {
   "cell_type": "code",
   "execution_count": 21,
   "id": "a0cc5829",
   "metadata": {},
   "outputs": [],
   "source": [
    "df1 = df.drop([\"Timestamp\"],axis = 1)"
   ]
  },
  {
   "cell_type": "code",
   "execution_count": 22,
   "id": "482bc2a2",
   "metadata": {},
   "outputs": [],
   "source": [
    "df1 = df1.loc[:, df1.apply(pd.Series.nunique) != 1]"
   ]
  },
  {
   "cell_type": "code",
   "execution_count": 23,
   "id": "4f0656c2",
   "metadata": {},
   "outputs": [
    {
     "data": {
      "text/plain": [
       "Flow ID     0\n",
       "Src IP      0\n",
       "Src Port    0\n",
       "Dst IP      0\n",
       "Dst Port    0\n",
       "           ..\n",
       "Idle Max    0\n",
       "Idle Min    0\n",
       "Label       0\n",
       "Label.1     0\n",
       "Label.2     0\n",
       "Length: 70, dtype: int64"
      ]
     },
     "execution_count": 23,
     "metadata": {},
     "output_type": "execute_result"
    }
   ],
   "source": [
    "df1.isnull().sum()"
   ]
  },
  {
   "cell_type": "code",
   "execution_count": 24,
   "id": "9dae61ea",
   "metadata": {},
   "outputs": [],
   "source": [
    "df1.drop([\"Flow ID\"],axis = 1,inplace = True)\n",
    "df1.drop([\"Src IP\"],axis = 1,inplace = True)\n",
    "df1.drop([\"Dst IP\"],axis = 1,inplace = True)\n",
    "df1.drop([\"Src Port\"],axis = 1,inplace = True)\n",
    "df1.drop([\"Dst Port\"],axis = 1,inplace = True)\n",
    "df1.drop([\"Flow Duration\"],axis = 1,inplace = True)\n",
    "df1.drop([\"Idle Mean\"],axis = 1,inplace = True)\n",
    "df1.drop([\"Idle Std\"],axis = 1,inplace = True)\n",
    "df1.drop([\"Idle Max\"],axis = 1,inplace = True)\n",
    "df1.drop([\"Idle Min\"],axis = 1,inplace = True)"
   ]
  },
  {
   "cell_type": "code",
   "execution_count": 25,
   "id": "1fc5ba99",
   "metadata": {},
   "outputs": [],
   "source": [
    "from sklearn.preprocessing import OneHotEncoder\n",
    "\n",
    "df1[\"Label.2\"] = df1[\"Label.2\"].map({\"Benign\":0,\"Darknet\":+1})"
   ]
  },
  {
   "cell_type": "code",
   "execution_count": 26,
   "id": "5899313e",
   "metadata": {
    "scrolled": true
   },
   "outputs": [
    {
     "data": {
      "text/html": [
       "<div>\n",
       "<style scoped>\n",
       "    .dataframe tbody tr th:only-of-type {\n",
       "        vertical-align: middle;\n",
       "    }\n",
       "\n",
       "    .dataframe tbody tr th {\n",
       "        vertical-align: top;\n",
       "    }\n",
       "\n",
       "    .dataframe thead th {\n",
       "        text-align: right;\n",
       "    }\n",
       "</style>\n",
       "<table border=\"1\" class=\"dataframe\">\n",
       "  <thead>\n",
       "    <tr style=\"text-align: right;\">\n",
       "      <th></th>\n",
       "      <th>Protocol</th>\n",
       "      <th>Total Fwd Packet</th>\n",
       "      <th>Total Bwd packets</th>\n",
       "      <th>Total Length of Fwd Packet</th>\n",
       "      <th>Total Length of Bwd Packet</th>\n",
       "      <th>Fwd Packet Length Max</th>\n",
       "      <th>Fwd Packet Length Min</th>\n",
       "      <th>Fwd Packet Length Mean</th>\n",
       "      <th>Fwd Packet Length Std</th>\n",
       "      <th>Bwd Packet Length Max</th>\n",
       "      <th>...</th>\n",
       "      <th>Subflow Fwd Packets</th>\n",
       "      <th>Subflow Fwd Bytes</th>\n",
       "      <th>Subflow Bwd Bytes</th>\n",
       "      <th>FWD Init Win Bytes</th>\n",
       "      <th>Bwd Init Win Bytes</th>\n",
       "      <th>Fwd Act Data Pkts</th>\n",
       "      <th>Fwd Seg Size Min</th>\n",
       "      <th>Label</th>\n",
       "      <th>Label.1</th>\n",
       "      <th>Label.2</th>\n",
       "    </tr>\n",
       "  </thead>\n",
       "  <tbody>\n",
       "    <tr>\n",
       "      <th>0</th>\n",
       "      <td>6</td>\n",
       "      <td>1</td>\n",
       "      <td>1</td>\n",
       "      <td>0</td>\n",
       "      <td>0</td>\n",
       "      <td>0</td>\n",
       "      <td>0</td>\n",
       "      <td>0.000000</td>\n",
       "      <td>0.000000</td>\n",
       "      <td>0</td>\n",
       "      <td>...</td>\n",
       "      <td>0</td>\n",
       "      <td>0</td>\n",
       "      <td>0</td>\n",
       "      <td>1892</td>\n",
       "      <td>1047</td>\n",
       "      <td>0</td>\n",
       "      <td>20</td>\n",
       "      <td>Non-Tor</td>\n",
       "      <td>AUDIO-STREAMING</td>\n",
       "      <td>0</td>\n",
       "    </tr>\n",
       "    <tr>\n",
       "      <th>1</th>\n",
       "      <td>6</td>\n",
       "      <td>1</td>\n",
       "      <td>1</td>\n",
       "      <td>0</td>\n",
       "      <td>0</td>\n",
       "      <td>0</td>\n",
       "      <td>0</td>\n",
       "      <td>0.000000</td>\n",
       "      <td>0.000000</td>\n",
       "      <td>0</td>\n",
       "      <td>...</td>\n",
       "      <td>0</td>\n",
       "      <td>0</td>\n",
       "      <td>0</td>\n",
       "      <td>1987</td>\n",
       "      <td>1047</td>\n",
       "      <td>0</td>\n",
       "      <td>20</td>\n",
       "      <td>Non-Tor</td>\n",
       "      <td>AUDIO-STREAMING</td>\n",
       "      <td>0</td>\n",
       "    </tr>\n",
       "    <tr>\n",
       "      <th>2</th>\n",
       "      <td>6</td>\n",
       "      <td>1</td>\n",
       "      <td>1</td>\n",
       "      <td>0</td>\n",
       "      <td>0</td>\n",
       "      <td>0</td>\n",
       "      <td>0</td>\n",
       "      <td>0.000000</td>\n",
       "      <td>0.000000</td>\n",
       "      <td>0</td>\n",
       "      <td>...</td>\n",
       "      <td>0</td>\n",
       "      <td>0</td>\n",
       "      <td>0</td>\n",
       "      <td>2049</td>\n",
       "      <td>1047</td>\n",
       "      <td>0</td>\n",
       "      <td>20</td>\n",
       "      <td>Non-Tor</td>\n",
       "      <td>AUDIO-STREAMING</td>\n",
       "      <td>0</td>\n",
       "    </tr>\n",
       "    <tr>\n",
       "      <th>3</th>\n",
       "      <td>6</td>\n",
       "      <td>1</td>\n",
       "      <td>1</td>\n",
       "      <td>0</td>\n",
       "      <td>0</td>\n",
       "      <td>0</td>\n",
       "      <td>0</td>\n",
       "      <td>0.000000</td>\n",
       "      <td>0.000000</td>\n",
       "      <td>0</td>\n",
       "      <td>...</td>\n",
       "      <td>0</td>\n",
       "      <td>0</td>\n",
       "      <td>0</td>\n",
       "      <td>2008</td>\n",
       "      <td>1047</td>\n",
       "      <td>0</td>\n",
       "      <td>20</td>\n",
       "      <td>Non-Tor</td>\n",
       "      <td>AUDIO-STREAMING</td>\n",
       "      <td>0</td>\n",
       "    </tr>\n",
       "    <tr>\n",
       "      <th>4</th>\n",
       "      <td>6</td>\n",
       "      <td>591</td>\n",
       "      <td>400</td>\n",
       "      <td>64530</td>\n",
       "      <td>6659</td>\n",
       "      <td>131</td>\n",
       "      <td>0</td>\n",
       "      <td>109.187817</td>\n",
       "      <td>22.283313</td>\n",
       "      <td>498</td>\n",
       "      <td>...</td>\n",
       "      <td>0</td>\n",
       "      <td>65</td>\n",
       "      <td>6</td>\n",
       "      <td>1382</td>\n",
       "      <td>2320</td>\n",
       "      <td>581</td>\n",
       "      <td>20</td>\n",
       "      <td>Non-Tor</td>\n",
       "      <td>AUDIO-STREAMING</td>\n",
       "      <td>0</td>\n",
       "    </tr>\n",
       "  </tbody>\n",
       "</table>\n",
       "<p>5 rows × 60 columns</p>\n",
       "</div>"
      ],
      "text/plain": [
       "   Protocol  Total Fwd Packet  Total Bwd packets  Total Length of Fwd Packet  \\\n",
       "0         6                 1                  1                           0   \n",
       "1         6                 1                  1                           0   \n",
       "2         6                 1                  1                           0   \n",
       "3         6                 1                  1                           0   \n",
       "4         6               591                400                       64530   \n",
       "\n",
       "   Total Length of Bwd Packet  Fwd Packet Length Max  Fwd Packet Length Min  \\\n",
       "0                           0                      0                      0   \n",
       "1                           0                      0                      0   \n",
       "2                           0                      0                      0   \n",
       "3                           0                      0                      0   \n",
       "4                        6659                    131                      0   \n",
       "\n",
       "   Fwd Packet Length Mean  Fwd Packet Length Std  Bwd Packet Length Max  ...  \\\n",
       "0                0.000000               0.000000                      0  ...   \n",
       "1                0.000000               0.000000                      0  ...   \n",
       "2                0.000000               0.000000                      0  ...   \n",
       "3                0.000000               0.000000                      0  ...   \n",
       "4              109.187817              22.283313                    498  ...   \n",
       "\n",
       "   Subflow Fwd Packets  Subflow Fwd Bytes  Subflow Bwd Bytes  \\\n",
       "0                    0                  0                  0   \n",
       "1                    0                  0                  0   \n",
       "2                    0                  0                  0   \n",
       "3                    0                  0                  0   \n",
       "4                    0                 65                  6   \n",
       "\n",
       "   FWD Init Win Bytes  Bwd Init Win Bytes  Fwd Act Data Pkts  \\\n",
       "0                1892                1047                  0   \n",
       "1                1987                1047                  0   \n",
       "2                2049                1047                  0   \n",
       "3                2008                1047                  0   \n",
       "4                1382                2320                581   \n",
       "\n",
       "   Fwd Seg Size Min    Label          Label.1  Label.2  \n",
       "0                20  Non-Tor  AUDIO-STREAMING        0  \n",
       "1                20  Non-Tor  AUDIO-STREAMING        0  \n",
       "2                20  Non-Tor  AUDIO-STREAMING        0  \n",
       "3                20  Non-Tor  AUDIO-STREAMING        0  \n",
       "4                20  Non-Tor  AUDIO-STREAMING        0  \n",
       "\n",
       "[5 rows x 60 columns]"
      ]
     },
     "execution_count": 26,
     "metadata": {},
     "output_type": "execute_result"
    }
   ],
   "source": [
    "df1.head()"
   ]
  },
  {
   "cell_type": "code",
   "execution_count": 27,
   "id": "c5637061",
   "metadata": {},
   "outputs": [],
   "source": [
    "df1.rename(columns = {\"Label\" : \"Type\", \"Label.1\" : \"Subtype\"}, inplace = True)"
   ]
  },
  {
   "cell_type": "code",
   "execution_count": 28,
   "id": "5f90b3d2",
   "metadata": {},
   "outputs": [
    {
     "name": "stderr",
     "output_type": "stream",
     "text": [
      "C:\\Users\\nihar\\AppData\\Local\\Temp\\ipykernel_5140\\2997331084.py:1: SettingWithCopyWarning: \n",
      "A value is trying to be set on a copy of a slice from a DataFrame\n",
      "\n",
      "See the caveats in the documentation: https://pandas.pydata.org/pandas-docs/stable/user_guide/indexing.html#returning-a-view-versus-a-copy\n",
      "  df1[\"Subtype\"].loc[df1[\"Subtype\"] == \"AUDIO-STREAMING\"] = \"Audio-Streaming\"\n",
      "C:\\Users\\nihar\\AppData\\Local\\Temp\\ipykernel_5140\\2997331084.py:2: SettingWithCopyWarning: \n",
      "A value is trying to be set on a copy of a slice from a DataFrame\n",
      "\n",
      "See the caveats in the documentation: https://pandas.pydata.org/pandas-docs/stable/user_guide/indexing.html#returning-a-view-versus-a-copy\n",
      "  df1[\"Subtype\"].loc[df1[\"Subtype\"] == \"File-transfer\"] = \"File-Transfer\"\n",
      "C:\\Users\\nihar\\AppData\\Local\\Temp\\ipykernel_5140\\2997331084.py:3: SettingWithCopyWarning: \n",
      "A value is trying to be set on a copy of a slice from a DataFrame\n",
      "\n",
      "See the caveats in the documentation: https://pandas.pydata.org/pandas-docs/stable/user_guide/indexing.html#returning-a-view-versus-a-copy\n",
      "  df1[\"Subtype\"].loc[df1[\"Subtype\"] == \"Video-streaming\"] = \"Video-Streaming\"\n"
     ]
    }
   ],
   "source": [
    "df1[\"Subtype\"].loc[df1[\"Subtype\"] == \"AUDIO-STREAMING\"] = \"Audio-Streaming\"\n",
    "df1[\"Subtype\"].loc[df1[\"Subtype\"] == \"File-transfer\"] = \"File-Transfer\"\n",
    "df1[\"Subtype\"].loc[df1[\"Subtype\"] == \"Video-streaming\"] = \"Video-Streaming\""
   ]
  },
  {
   "cell_type": "code",
   "execution_count": 29,
   "id": "6d61e0e1",
   "metadata": {},
   "outputs": [],
   "source": [
    "from sklearn.tree import DecisionTreeClassifier\n",
    "from sklearn.metrics import accuracy_score as acc_score\n",
    "from sklearn.metrics import classification_report as class_re\n",
    "from sklearn.preprocessing import StandardScaler\n",
    "from sklearn.model_selection import train_test_split as t_t_s\n",
    "from sklearn.preprocessing import OneHotEncoder as ohe\n",
    "subtypes = ['Audio-Streaming', 'Browsing', 'Chat', 'Email', 'File-Transfer', 'P2P', 'VOIP', 'Video-Streaming']\n",
    "subtypes_ds = pd.DataFrame(subtypes, columns=['subtypes'])\n",
    "\n",
    "encoder = ohe()\n",
    "\n",
    "\n",
    "df1[\"Subtype\"] = df1[\"Subtype\"].astype('category')\n",
    "df1[\"Subtype_Encoded\"] = df1[\"Subtype\"].cat.codes"
   ]
  },
  {
   "cell_type": "code",
   "execution_count": 30,
   "id": "f2dfd015",
   "metadata": {},
   "outputs": [
    {
     "data": {
      "text/html": [
       "<div>\n",
       "<style scoped>\n",
       "    .dataframe tbody tr th:only-of-type {\n",
       "        vertical-align: middle;\n",
       "    }\n",
       "\n",
       "    .dataframe tbody tr th {\n",
       "        vertical-align: top;\n",
       "    }\n",
       "\n",
       "    .dataframe thead th {\n",
       "        text-align: right;\n",
       "    }\n",
       "</style>\n",
       "<table border=\"1\" class=\"dataframe\">\n",
       "  <thead>\n",
       "    <tr style=\"text-align: right;\">\n",
       "      <th></th>\n",
       "      <th>0</th>\n",
       "      <th>1</th>\n",
       "      <th>2</th>\n",
       "      <th>3</th>\n",
       "      <th>4</th>\n",
       "      <th>5</th>\n",
       "      <th>6</th>\n",
       "      <th>7</th>\n",
       "    </tr>\n",
       "  </thead>\n",
       "  <tbody>\n",
       "    <tr>\n",
       "      <th>0</th>\n",
       "      <td>1.0</td>\n",
       "      <td>0.0</td>\n",
       "      <td>0.0</td>\n",
       "      <td>0.0</td>\n",
       "      <td>0.0</td>\n",
       "      <td>0.0</td>\n",
       "      <td>0.0</td>\n",
       "      <td>0.0</td>\n",
       "    </tr>\n",
       "    <tr>\n",
       "      <th>1</th>\n",
       "      <td>1.0</td>\n",
       "      <td>0.0</td>\n",
       "      <td>0.0</td>\n",
       "      <td>0.0</td>\n",
       "      <td>0.0</td>\n",
       "      <td>0.0</td>\n",
       "      <td>0.0</td>\n",
       "      <td>0.0</td>\n",
       "    </tr>\n",
       "    <tr>\n",
       "      <th>2</th>\n",
       "      <td>1.0</td>\n",
       "      <td>0.0</td>\n",
       "      <td>0.0</td>\n",
       "      <td>0.0</td>\n",
       "      <td>0.0</td>\n",
       "      <td>0.0</td>\n",
       "      <td>0.0</td>\n",
       "      <td>0.0</td>\n",
       "    </tr>\n",
       "    <tr>\n",
       "      <th>3</th>\n",
       "      <td>1.0</td>\n",
       "      <td>0.0</td>\n",
       "      <td>0.0</td>\n",
       "      <td>0.0</td>\n",
       "      <td>0.0</td>\n",
       "      <td>0.0</td>\n",
       "      <td>0.0</td>\n",
       "      <td>0.0</td>\n",
       "    </tr>\n",
       "    <tr>\n",
       "      <th>4</th>\n",
       "      <td>1.0</td>\n",
       "      <td>0.0</td>\n",
       "      <td>0.0</td>\n",
       "      <td>0.0</td>\n",
       "      <td>0.0</td>\n",
       "      <td>0.0</td>\n",
       "      <td>0.0</td>\n",
       "      <td>0.0</td>\n",
       "    </tr>\n",
       "    <tr>\n",
       "      <th>...</th>\n",
       "      <td>...</td>\n",
       "      <td>...</td>\n",
       "      <td>...</td>\n",
       "      <td>...</td>\n",
       "      <td>...</td>\n",
       "      <td>...</td>\n",
       "      <td>...</td>\n",
       "      <td>...</td>\n",
       "    </tr>\n",
       "    <tr>\n",
       "      <th>141525</th>\n",
       "      <td>0.0</td>\n",
       "      <td>0.0</td>\n",
       "      <td>0.0</td>\n",
       "      <td>0.0</td>\n",
       "      <td>0.0</td>\n",
       "      <td>0.0</td>\n",
       "      <td>1.0</td>\n",
       "      <td>0.0</td>\n",
       "    </tr>\n",
       "    <tr>\n",
       "      <th>141526</th>\n",
       "      <td>0.0</td>\n",
       "      <td>0.0</td>\n",
       "      <td>0.0</td>\n",
       "      <td>0.0</td>\n",
       "      <td>0.0</td>\n",
       "      <td>0.0</td>\n",
       "      <td>1.0</td>\n",
       "      <td>0.0</td>\n",
       "    </tr>\n",
       "    <tr>\n",
       "      <th>141527</th>\n",
       "      <td>0.0</td>\n",
       "      <td>0.0</td>\n",
       "      <td>0.0</td>\n",
       "      <td>0.0</td>\n",
       "      <td>0.0</td>\n",
       "      <td>0.0</td>\n",
       "      <td>1.0</td>\n",
       "      <td>0.0</td>\n",
       "    </tr>\n",
       "    <tr>\n",
       "      <th>141528</th>\n",
       "      <td>0.0</td>\n",
       "      <td>0.0</td>\n",
       "      <td>0.0</td>\n",
       "      <td>0.0</td>\n",
       "      <td>0.0</td>\n",
       "      <td>0.0</td>\n",
       "      <td>1.0</td>\n",
       "      <td>0.0</td>\n",
       "    </tr>\n",
       "    <tr>\n",
       "      <th>141529</th>\n",
       "      <td>0.0</td>\n",
       "      <td>0.0</td>\n",
       "      <td>0.0</td>\n",
       "      <td>0.0</td>\n",
       "      <td>0.0</td>\n",
       "      <td>0.0</td>\n",
       "      <td>1.0</td>\n",
       "      <td>0.0</td>\n",
       "    </tr>\n",
       "  </tbody>\n",
       "</table>\n",
       "<p>141530 rows × 8 columns</p>\n",
       "</div>"
      ],
      "text/plain": [
       "          0    1    2    3    4    5    6    7\n",
       "0       1.0  0.0  0.0  0.0  0.0  0.0  0.0  0.0\n",
       "1       1.0  0.0  0.0  0.0  0.0  0.0  0.0  0.0\n",
       "2       1.0  0.0  0.0  0.0  0.0  0.0  0.0  0.0\n",
       "3       1.0  0.0  0.0  0.0  0.0  0.0  0.0  0.0\n",
       "4       1.0  0.0  0.0  0.0  0.0  0.0  0.0  0.0\n",
       "...     ...  ...  ...  ...  ...  ...  ...  ...\n",
       "141525  0.0  0.0  0.0  0.0  0.0  0.0  1.0  0.0\n",
       "141526  0.0  0.0  0.0  0.0  0.0  0.0  1.0  0.0\n",
       "141527  0.0  0.0  0.0  0.0  0.0  0.0  1.0  0.0\n",
       "141528  0.0  0.0  0.0  0.0  0.0  0.0  1.0  0.0\n",
       "141529  0.0  0.0  0.0  0.0  0.0  0.0  1.0  0.0\n",
       "\n",
       "[141530 rows x 8 columns]"
      ]
     },
     "execution_count": 30,
     "metadata": {},
     "output_type": "execute_result"
    }
   ],
   "source": [
    "ds_encoded = pd.DataFrame(encoder.fit_transform(df1[['Subtype_Encoded']]).toarray())\n",
    "ds_encoded"
   ]
  },
  {
   "cell_type": "code",
   "execution_count": 31,
   "id": "bcbbb3d6",
   "metadata": {},
   "outputs": [],
   "source": [
    "df2 = df1.join(ds_encoded)"
   ]
  },
  {
   "cell_type": "code",
   "execution_count": 32,
   "id": "fb31a032",
   "metadata": {},
   "outputs": [],
   "source": [
    "subtypes = ['Audio-Streaming', 'Browsing', 'Chat', 'Email', 'File-Transfer', 'P2P', 'VOIP', 'Video-Streaming']\n",
    "df2.rename(columns = {0 : \"Audio-Streaming\", 1 : \"Browsing\", 2 : \"Chat\", 3 : \"Email\", 4 : \"File-Transfer\", 5 : \"P2P\", 6 : \"VOIP\", 7 : \"Video-Streaming\"}, inplace = True)"
   ]
  },
  {
   "cell_type": "code",
   "execution_count": 33,
   "id": "32ae4ef2",
   "metadata": {},
   "outputs": [],
   "source": [
    "df3 = df2.drop([\"Type\", \"Subtype\", \"Subtype_Encoded\"], axis = 1)"
   ]
  },
  {
   "cell_type": "markdown",
   "id": "6cf2db18",
   "metadata": {},
   "source": [
    "### 1. Binary classification"
   ]
  },
  {
   "cell_type": "code",
   "execution_count": 34,
   "id": "222dd637",
   "metadata": {},
   "outputs": [],
   "source": [
    "from sklearn.model_selection import train_test_split\n",
    "\n",
    "X = df3.drop([\"Label.2\"], axis = 1)\n",
    "y = df3[\"Label.2\"]\n",
    "\n",
    "X_train, X_test, y_train, y_test = train_test_split(X, y, test_size=0.30, random_state=42)"
   ]
  },
  {
   "cell_type": "code",
   "execution_count": 36,
   "id": "a3093598",
   "metadata": {},
   "outputs": [
    {
     "data": {
      "text/html": [
       "<style>#sk-container-id-1 {color: black;background-color: white;}#sk-container-id-1 pre{padding: 0;}#sk-container-id-1 div.sk-toggleable {background-color: white;}#sk-container-id-1 label.sk-toggleable__label {cursor: pointer;display: block;width: 100%;margin-bottom: 0;padding: 0.3em;box-sizing: border-box;text-align: center;}#sk-container-id-1 label.sk-toggleable__label-arrow:before {content: \"▸\";float: left;margin-right: 0.25em;color: #696969;}#sk-container-id-1 label.sk-toggleable__label-arrow:hover:before {color: black;}#sk-container-id-1 div.sk-estimator:hover label.sk-toggleable__label-arrow:before {color: black;}#sk-container-id-1 div.sk-toggleable__content {max-height: 0;max-width: 0;overflow: hidden;text-align: left;background-color: #f0f8ff;}#sk-container-id-1 div.sk-toggleable__content pre {margin: 0.2em;color: black;border-radius: 0.25em;background-color: #f0f8ff;}#sk-container-id-1 input.sk-toggleable__control:checked~div.sk-toggleable__content {max-height: 200px;max-width: 100%;overflow: auto;}#sk-container-id-1 input.sk-toggleable__control:checked~label.sk-toggleable__label-arrow:before {content: \"▾\";}#sk-container-id-1 div.sk-estimator input.sk-toggleable__control:checked~label.sk-toggleable__label {background-color: #d4ebff;}#sk-container-id-1 div.sk-label input.sk-toggleable__control:checked~label.sk-toggleable__label {background-color: #d4ebff;}#sk-container-id-1 input.sk-hidden--visually {border: 0;clip: rect(1px 1px 1px 1px);clip: rect(1px, 1px, 1px, 1px);height: 1px;margin: -1px;overflow: hidden;padding: 0;position: absolute;width: 1px;}#sk-container-id-1 div.sk-estimator {font-family: monospace;background-color: #f0f8ff;border: 1px dotted black;border-radius: 0.25em;box-sizing: border-box;margin-bottom: 0.5em;}#sk-container-id-1 div.sk-estimator:hover {background-color: #d4ebff;}#sk-container-id-1 div.sk-parallel-item::after {content: \"\";width: 100%;border-bottom: 1px solid gray;flex-grow: 1;}#sk-container-id-1 div.sk-label:hover label.sk-toggleable__label {background-color: #d4ebff;}#sk-container-id-1 div.sk-serial::before {content: \"\";position: absolute;border-left: 1px solid gray;box-sizing: border-box;top: 0;bottom: 0;left: 50%;z-index: 0;}#sk-container-id-1 div.sk-serial {display: flex;flex-direction: column;align-items: center;background-color: white;padding-right: 0.2em;padding-left: 0.2em;position: relative;}#sk-container-id-1 div.sk-item {position: relative;z-index: 1;}#sk-container-id-1 div.sk-parallel {display: flex;align-items: stretch;justify-content: center;background-color: white;position: relative;}#sk-container-id-1 div.sk-item::before, #sk-container-id-1 div.sk-parallel-item::before {content: \"\";position: absolute;border-left: 1px solid gray;box-sizing: border-box;top: 0;bottom: 0;left: 50%;z-index: -1;}#sk-container-id-1 div.sk-parallel-item {display: flex;flex-direction: column;z-index: 1;position: relative;background-color: white;}#sk-container-id-1 div.sk-parallel-item:first-child::after {align-self: flex-end;width: 50%;}#sk-container-id-1 div.sk-parallel-item:last-child::after {align-self: flex-start;width: 50%;}#sk-container-id-1 div.sk-parallel-item:only-child::after {width: 0;}#sk-container-id-1 div.sk-dashed-wrapped {border: 1px dashed gray;margin: 0 0.4em 0.5em 0.4em;box-sizing: border-box;padding-bottom: 0.4em;background-color: white;}#sk-container-id-1 div.sk-label label {font-family: monospace;font-weight: bold;display: inline-block;line-height: 1.2em;}#sk-container-id-1 div.sk-label-container {text-align: center;}#sk-container-id-1 div.sk-container {/* jupyter's `normalize.less` sets `[hidden] { display: none; }` but bootstrap.min.css set `[hidden] { display: none !important; }` so we also need the `!important` here to be able to override the default hidden behavior on the sphinx rendered scikit-learn.org. See: https://github.com/scikit-learn/scikit-learn/issues/21755 */display: inline-block !important;position: relative;}#sk-container-id-1 div.sk-text-repr-fallback {display: none;}</style><div id=\"sk-container-id-1\" class=\"sk-top-container\"><div class=\"sk-text-repr-fallback\"><pre>DecisionTreeClassifier(criterion=&#x27;entropy&#x27;)</pre><b>In a Jupyter environment, please rerun this cell to show the HTML representation or trust the notebook. <br />On GitHub, the HTML representation is unable to render, please try loading this page with nbviewer.org.</b></div><div class=\"sk-container\" hidden><div class=\"sk-item\"><div class=\"sk-estimator sk-toggleable\"><input class=\"sk-toggleable__control sk-hidden--visually\" id=\"sk-estimator-id-1\" type=\"checkbox\" checked><label for=\"sk-estimator-id-1\" class=\"sk-toggleable__label sk-toggleable__label-arrow\">DecisionTreeClassifier</label><div class=\"sk-toggleable__content\"><pre>DecisionTreeClassifier(criterion=&#x27;entropy&#x27;)</pre></div></div></div></div></div>"
      ],
      "text/plain": [
       "DecisionTreeClassifier(criterion='entropy')"
      ]
     },
     "execution_count": 36,
     "metadata": {},
     "output_type": "execute_result"
    }
   ],
   "source": [
    "from sklearn.ensemble import RandomForestClassifier as RFClass\n",
    "from sklearn.linear_model import LogisticRegression\n",
    "from sklearn.tree import DecisionTreeClassifier\n",
    "# ranForModel = RFClass(n_estimators=10, criterion = \"entropy\")\n",
    "# ranForModel = LogisticRegression(solver='sag')\n",
    "ranForModel = DecisionTreeClassifier(criterion=\"entropy\")\n",
    "ranForModel.fit(X_train, y_train)"
   ]
  },
  {
   "cell_type": "code",
   "execution_count": 37,
   "id": "273b24c8",
   "metadata": {},
   "outputs": [
    {
     "name": "stdout",
     "output_type": "stream",
     "text": [
      "Predicted Class: [0 1 0 ... 0 0 0]\n",
      "Confusion Matrix:\n",
      " [[34859   311]\n",
      " [  325  6964]]\n",
      "Accuracy: 0.9850208436373914\n",
      "F_score: 0.9563306783850591\n",
      "Classification Report:\n",
      "               precision    recall  f1-score   support\n",
      "\n",
      "           0       0.99      0.99      0.99     35170\n",
      "           1       0.96      0.96      0.96      7289\n",
      "\n",
      "    accuracy                           0.99     42459\n",
      "   macro avg       0.97      0.97      0.97     42459\n",
      "weighted avg       0.99      0.99      0.99     42459\n",
      "\n"
     ]
    }
   ],
   "source": [
    "from sklearn.metrics import accuracy_score\n",
    "from sklearn.metrics import f1_score\n",
    "from sklearn.metrics import classification_report as class_re\n",
    "from sklearn.metrics import confusion_matrix as c_m\n",
    "\n",
    "ranForPredict = ranForModel.predict(X_test)\n",
    "\n",
    "print(\"Predicted Class:\",ranForPredict)\n",
    "print(\"Confusion Matrix:\\n\",c_m(y_test ,ranForPredict))\n",
    "print(\"Accuracy:\", accuracy_score(y_test ,ranForPredict))\n",
    "print(\"F_score:\", f1_score(y_test ,ranForPredict))\n",
    "print(\"Classification Report:\\n\",class_re(y_test ,ranForPredict))"
   ]
  },
  {
   "cell_type": "markdown",
   "id": "7c682a07",
   "metadata": {},
   "source": [
    "### 2. Multiclass Classification "
   ]
  },
  {
   "cell_type": "code",
   "execution_count": 38,
   "id": "28de23f6",
   "metadata": {},
   "outputs": [],
   "source": [
    "df4 = df2.drop(['Audio-Streaming', 'Browsing', 'Chat', 'Email', 'File-Transfer', 'P2P', 'VOIP', 'Video-Streaming', 'Type', 'Subtype'], axis = 1)"
   ]
  },
  {
   "cell_type": "code",
   "execution_count": 39,
   "id": "63ca5b11",
   "metadata": {},
   "outputs": [],
   "source": [
    "from sklearn.model_selection import train_test_split\n",
    "\n",
    "X1 = df4.drop([\"Subtype_Encoded\"], axis = 1)\n",
    "y1 = df4[\"Subtype_Encoded\"]\n",
    "\n",
    "X1_train, X1_test, y1_train, y1_test = train_test_split(X1, y1, test_size=0.30, random_state=42)"
   ]
  },
  {
   "cell_type": "code",
   "execution_count": 40,
   "id": "752cb0b0",
   "metadata": {},
   "outputs": [
    {
     "data": {
      "text/html": [
       "<style>#sk-container-id-2 {color: black;background-color: white;}#sk-container-id-2 pre{padding: 0;}#sk-container-id-2 div.sk-toggleable {background-color: white;}#sk-container-id-2 label.sk-toggleable__label {cursor: pointer;display: block;width: 100%;margin-bottom: 0;padding: 0.3em;box-sizing: border-box;text-align: center;}#sk-container-id-2 label.sk-toggleable__label-arrow:before {content: \"▸\";float: left;margin-right: 0.25em;color: #696969;}#sk-container-id-2 label.sk-toggleable__label-arrow:hover:before {color: black;}#sk-container-id-2 div.sk-estimator:hover label.sk-toggleable__label-arrow:before {color: black;}#sk-container-id-2 div.sk-toggleable__content {max-height: 0;max-width: 0;overflow: hidden;text-align: left;background-color: #f0f8ff;}#sk-container-id-2 div.sk-toggleable__content pre {margin: 0.2em;color: black;border-radius: 0.25em;background-color: #f0f8ff;}#sk-container-id-2 input.sk-toggleable__control:checked~div.sk-toggleable__content {max-height: 200px;max-width: 100%;overflow: auto;}#sk-container-id-2 input.sk-toggleable__control:checked~label.sk-toggleable__label-arrow:before {content: \"▾\";}#sk-container-id-2 div.sk-estimator input.sk-toggleable__control:checked~label.sk-toggleable__label {background-color: #d4ebff;}#sk-container-id-2 div.sk-label input.sk-toggleable__control:checked~label.sk-toggleable__label {background-color: #d4ebff;}#sk-container-id-2 input.sk-hidden--visually {border: 0;clip: rect(1px 1px 1px 1px);clip: rect(1px, 1px, 1px, 1px);height: 1px;margin: -1px;overflow: hidden;padding: 0;position: absolute;width: 1px;}#sk-container-id-2 div.sk-estimator {font-family: monospace;background-color: #f0f8ff;border: 1px dotted black;border-radius: 0.25em;box-sizing: border-box;margin-bottom: 0.5em;}#sk-container-id-2 div.sk-estimator:hover {background-color: #d4ebff;}#sk-container-id-2 div.sk-parallel-item::after {content: \"\";width: 100%;border-bottom: 1px solid gray;flex-grow: 1;}#sk-container-id-2 div.sk-label:hover label.sk-toggleable__label {background-color: #d4ebff;}#sk-container-id-2 div.sk-serial::before {content: \"\";position: absolute;border-left: 1px solid gray;box-sizing: border-box;top: 0;bottom: 0;left: 50%;z-index: 0;}#sk-container-id-2 div.sk-serial {display: flex;flex-direction: column;align-items: center;background-color: white;padding-right: 0.2em;padding-left: 0.2em;position: relative;}#sk-container-id-2 div.sk-item {position: relative;z-index: 1;}#sk-container-id-2 div.sk-parallel {display: flex;align-items: stretch;justify-content: center;background-color: white;position: relative;}#sk-container-id-2 div.sk-item::before, #sk-container-id-2 div.sk-parallel-item::before {content: \"\";position: absolute;border-left: 1px solid gray;box-sizing: border-box;top: 0;bottom: 0;left: 50%;z-index: -1;}#sk-container-id-2 div.sk-parallel-item {display: flex;flex-direction: column;z-index: 1;position: relative;background-color: white;}#sk-container-id-2 div.sk-parallel-item:first-child::after {align-self: flex-end;width: 50%;}#sk-container-id-2 div.sk-parallel-item:last-child::after {align-self: flex-start;width: 50%;}#sk-container-id-2 div.sk-parallel-item:only-child::after {width: 0;}#sk-container-id-2 div.sk-dashed-wrapped {border: 1px dashed gray;margin: 0 0.4em 0.5em 0.4em;box-sizing: border-box;padding-bottom: 0.4em;background-color: white;}#sk-container-id-2 div.sk-label label {font-family: monospace;font-weight: bold;display: inline-block;line-height: 1.2em;}#sk-container-id-2 div.sk-label-container {text-align: center;}#sk-container-id-2 div.sk-container {/* jupyter's `normalize.less` sets `[hidden] { display: none; }` but bootstrap.min.css set `[hidden] { display: none !important; }` so we also need the `!important` here to be able to override the default hidden behavior on the sphinx rendered scikit-learn.org. See: https://github.com/scikit-learn/scikit-learn/issues/21755 */display: inline-block !important;position: relative;}#sk-container-id-2 div.sk-text-repr-fallback {display: none;}</style><div id=\"sk-container-id-2\" class=\"sk-top-container\"><div class=\"sk-text-repr-fallback\"><pre>RandomForestClassifier(criterion=&#x27;entropy&#x27;, n_estimators=10)</pre><b>In a Jupyter environment, please rerun this cell to show the HTML representation or trust the notebook. <br />On GitHub, the HTML representation is unable to render, please try loading this page with nbviewer.org.</b></div><div class=\"sk-container\" hidden><div class=\"sk-item\"><div class=\"sk-estimator sk-toggleable\"><input class=\"sk-toggleable__control sk-hidden--visually\" id=\"sk-estimator-id-2\" type=\"checkbox\" checked><label for=\"sk-estimator-id-2\" class=\"sk-toggleable__label sk-toggleable__label-arrow\">RandomForestClassifier</label><div class=\"sk-toggleable__content\"><pre>RandomForestClassifier(criterion=&#x27;entropy&#x27;, n_estimators=10)</pre></div></div></div></div></div>"
      ],
      "text/plain": [
       "RandomForestClassifier(criterion='entropy', n_estimators=10)"
      ]
     },
     "execution_count": 40,
     "metadata": {},
     "output_type": "execute_result"
    }
   ],
   "source": [
    "from sklearn.ensemble import RandomForestClassifier as RFClass\n",
    "ranForModel1 = RFClass(n_estimators=10, criterion = \"entropy\")\n",
    "ranForModel1.fit(X1_train, y1_train)"
   ]
  },
  {
   "cell_type": "code",
   "execution_count": 41,
   "id": "3d77d2db",
   "metadata": {},
   "outputs": [
    {
     "name": "stdout",
     "output_type": "stream",
     "text": [
      "Predicted Class: [5 3 1 ... 0 4 2]\n",
      "Accuracy: 0.8544478202501237\n",
      "Classification Report:\n",
      "               precision    recall  f1-score   support\n",
      "\n",
      "           0       0.84      0.86      0.85      5363\n",
      "           1       0.87      0.91      0.89      9894\n",
      "           2       0.73      0.75      0.74      3450\n",
      "           3       0.63      0.57      0.60      1862\n",
      "           4       0.80      0.74      0.77      3382\n",
      "           5       0.96      0.97      0.97     14496\n",
      "           6       0.65      0.61      0.63      1100\n",
      "           7       0.68      0.62      0.65      2912\n",
      "\n",
      "    accuracy                           0.85     42459\n",
      "   macro avg       0.77      0.75      0.76     42459\n",
      "weighted avg       0.85      0.85      0.85     42459\n",
      "\n"
     ]
    }
   ],
   "source": [
    "from sklearn.metrics import accuracy_score\n",
    "from sklearn.metrics import f1_score\n",
    "from sklearn.metrics import classification_report as class_re\n",
    "from sklearn.metrics import confusion_matrix as c_m\n",
    "\n",
    "ranForPredict = ranForModel1.predict(X1_test)\n",
    "\n",
    "print(\"Predicted Class:\",ranForPredict)\n",
    "# print(\"Confusion Matrix:\\n\",c_m(y1_test ,ranForPredict))\n",
    "print(\"Accuracy:\", accuracy_score(y1_test ,ranForPredict))\n",
    "# print(\"F_score:\", f1_score(y1_test ,ranForPredict))\n",
    "print(\"Classification Report:\\n\",class_re(y1_test ,ranForPredict))"
   ]
  },
  {
   "cell_type": "code",
   "execution_count": null,
   "id": "fbc0aa1a",
   "metadata": {},
   "outputs": [],
   "source": [
    "    "
   ]
  }
 ],
 "metadata": {
  "kernelspec": {
   "display_name": "Python 3 (ipykernel)",
   "language": "python",
   "name": "python3"
  },
  "language_info": {
   "codemirror_mode": {
    "name": "ipython",
    "version": 3
   },
   "file_extension": ".py",
   "mimetype": "text/x-python",
   "name": "python",
   "nbconvert_exporter": "python",
   "pygments_lexer": "ipython3",
   "version": "3.9.0"
  }
 },
 "nbformat": 4,
 "nbformat_minor": 5
}
