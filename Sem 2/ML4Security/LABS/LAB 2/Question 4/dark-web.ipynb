{
 "cells": [
  {
   "cell_type": "code",
   "execution_count": 1,
   "id": "contemporary-reading",
   "metadata": {
    "_cell_guid": "b1076dfc-b9ad-4769-8c92-a6c4dae69d19",
    "_uuid": "8f2839f25d086af736a60e9eeb907d3b93b6e0e5",
    "execution": {
     "iopub.execute_input": "2021-05-03T06:36:03.805759Z",
     "iopub.status.busy": "2021-05-03T06:36:03.803961Z",
     "iopub.status.idle": "2021-05-03T06:36:03.830722Z",
     "shell.execute_reply": "2021-05-03T06:36:03.829832Z"
    },
    "papermill": {
     "duration": 0.063644,
     "end_time": "2021-05-03T06:36:03.830960",
     "exception": false,
     "start_time": "2021-05-03T06:36:03.767316",
     "status": "completed"
    },
    "tags": []
   },
   "outputs": [],
   "source": [
    "import numpy as np\n",
    "import pandas as pd"
   ]
  },
  {
   "cell_type": "code",
   "execution_count": 3,
   "id": "nonprofit-journalist",
   "metadata": {
    "execution": {
     "iopub.execute_input": "2021-05-03T06:36:03.898568Z",
     "iopub.status.busy": "2021-05-03T06:36:03.897873Z",
     "iopub.status.idle": "2021-05-03T06:36:07.171542Z",
     "shell.execute_reply": "2021-05-03T06:36:07.170985Z"
    },
    "papermill": {
     "duration": 3.30887,
     "end_time": "2021-05-03T06:36:07.171701",
     "exception": false,
     "start_time": "2021-05-03T06:36:03.862831",
     "status": "completed"
    },
    "tags": []
   },
   "outputs": [
    {
     "data": {
      "text/html": [
       "<div>\n",
       "<style scoped>\n",
       "    .dataframe tbody tr th:only-of-type {\n",
       "        vertical-align: middle;\n",
       "    }\n",
       "\n",
       "    .dataframe tbody tr th {\n",
       "        vertical-align: top;\n",
       "    }\n",
       "\n",
       "    .dataframe thead th {\n",
       "        text-align: right;\n",
       "    }\n",
       "</style>\n",
       "<table border=\"1\" class=\"dataframe\">\n",
       "  <thead>\n",
       "    <tr style=\"text-align: right;\">\n",
       "      <th></th>\n",
       "      <th>Flow ID</th>\n",
       "      <th>Src IP</th>\n",
       "      <th>Src Port</th>\n",
       "      <th>Dst IP</th>\n",
       "      <th>Dst Port</th>\n",
       "      <th>Protocol</th>\n",
       "      <th>Timestamp</th>\n",
       "      <th>Flow Duration</th>\n",
       "      <th>Total Fwd Packet</th>\n",
       "      <th>Total Bwd packets</th>\n",
       "      <th>...</th>\n",
       "      <th>Active Mean</th>\n",
       "      <th>Active Std</th>\n",
       "      <th>Active Max</th>\n",
       "      <th>Active Min</th>\n",
       "      <th>Idle Mean</th>\n",
       "      <th>Idle Std</th>\n",
       "      <th>Idle Max</th>\n",
       "      <th>Idle Min</th>\n",
       "      <th>Label</th>\n",
       "      <th>Label.1</th>\n",
       "    </tr>\n",
       "  </thead>\n",
       "  <tbody>\n",
       "    <tr>\n",
       "      <th>0</th>\n",
       "      <td>10.152.152.11-216.58.220.99-57158-443-6</td>\n",
       "      <td>10.152.152.11</td>\n",
       "      <td>57158</td>\n",
       "      <td>216.58.220.99</td>\n",
       "      <td>443</td>\n",
       "      <td>6</td>\n",
       "      <td>24/07/2015 04:09:48 PM</td>\n",
       "      <td>229</td>\n",
       "      <td>1</td>\n",
       "      <td>1</td>\n",
       "      <td>...</td>\n",
       "      <td>0</td>\n",
       "      <td>0</td>\n",
       "      <td>0</td>\n",
       "      <td>0</td>\n",
       "      <td>0.000000e+00</td>\n",
       "      <td>0.000000e+00</td>\n",
       "      <td>0.000000e+00</td>\n",
       "      <td>0.000000e+00</td>\n",
       "      <td>Non-Tor</td>\n",
       "      <td>AUDIO-STREAMING</td>\n",
       "    </tr>\n",
       "    <tr>\n",
       "      <th>1</th>\n",
       "      <td>10.152.152.11-216.58.220.99-57159-443-6</td>\n",
       "      <td>10.152.152.11</td>\n",
       "      <td>57159</td>\n",
       "      <td>216.58.220.99</td>\n",
       "      <td>443</td>\n",
       "      <td>6</td>\n",
       "      <td>24/07/2015 04:09:48 PM</td>\n",
       "      <td>407</td>\n",
       "      <td>1</td>\n",
       "      <td>1</td>\n",
       "      <td>...</td>\n",
       "      <td>0</td>\n",
       "      <td>0</td>\n",
       "      <td>0</td>\n",
       "      <td>0</td>\n",
       "      <td>0.000000e+00</td>\n",
       "      <td>0.000000e+00</td>\n",
       "      <td>0.000000e+00</td>\n",
       "      <td>0.000000e+00</td>\n",
       "      <td>Non-Tor</td>\n",
       "      <td>AUDIO-STREAMING</td>\n",
       "    </tr>\n",
       "    <tr>\n",
       "      <th>2</th>\n",
       "      <td>10.152.152.11-216.58.220.99-57160-443-6</td>\n",
       "      <td>10.152.152.11</td>\n",
       "      <td>57160</td>\n",
       "      <td>216.58.220.99</td>\n",
       "      <td>443</td>\n",
       "      <td>6</td>\n",
       "      <td>24/07/2015 04:09:48 PM</td>\n",
       "      <td>431</td>\n",
       "      <td>1</td>\n",
       "      <td>1</td>\n",
       "      <td>...</td>\n",
       "      <td>0</td>\n",
       "      <td>0</td>\n",
       "      <td>0</td>\n",
       "      <td>0</td>\n",
       "      <td>0.000000e+00</td>\n",
       "      <td>0.000000e+00</td>\n",
       "      <td>0.000000e+00</td>\n",
       "      <td>0.000000e+00</td>\n",
       "      <td>Non-Tor</td>\n",
       "      <td>AUDIO-STREAMING</td>\n",
       "    </tr>\n",
       "    <tr>\n",
       "      <th>3</th>\n",
       "      <td>10.152.152.11-74.125.136.120-49134-443-6</td>\n",
       "      <td>10.152.152.11</td>\n",
       "      <td>49134</td>\n",
       "      <td>74.125.136.120</td>\n",
       "      <td>443</td>\n",
       "      <td>6</td>\n",
       "      <td>24/07/2015 04:09:48 PM</td>\n",
       "      <td>359</td>\n",
       "      <td>1</td>\n",
       "      <td>1</td>\n",
       "      <td>...</td>\n",
       "      <td>0</td>\n",
       "      <td>0</td>\n",
       "      <td>0</td>\n",
       "      <td>0</td>\n",
       "      <td>0.000000e+00</td>\n",
       "      <td>0.000000e+00</td>\n",
       "      <td>0.000000e+00</td>\n",
       "      <td>0.000000e+00</td>\n",
       "      <td>Non-Tor</td>\n",
       "      <td>AUDIO-STREAMING</td>\n",
       "    </tr>\n",
       "    <tr>\n",
       "      <th>4</th>\n",
       "      <td>10.152.152.11-173.194.65.127-34697-19305-6</td>\n",
       "      <td>10.152.152.11</td>\n",
       "      <td>34697</td>\n",
       "      <td>173.194.65.127</td>\n",
       "      <td>19305</td>\n",
       "      <td>6</td>\n",
       "      <td>24/07/2015 04:09:45 PM</td>\n",
       "      <td>10778451</td>\n",
       "      <td>591</td>\n",
       "      <td>400</td>\n",
       "      <td>...</td>\n",
       "      <td>0</td>\n",
       "      <td>0</td>\n",
       "      <td>0</td>\n",
       "      <td>0</td>\n",
       "      <td>1.437760e+15</td>\n",
       "      <td>3.117718e+06</td>\n",
       "      <td>1.437760e+15</td>\n",
       "      <td>1.437760e+15</td>\n",
       "      <td>Non-Tor</td>\n",
       "      <td>AUDIO-STREAMING</td>\n",
       "    </tr>\n",
       "    <tr>\n",
       "      <th>...</th>\n",
       "      <td>...</td>\n",
       "      <td>...</td>\n",
       "      <td>...</td>\n",
       "      <td>...</td>\n",
       "      <td>...</td>\n",
       "      <td>...</td>\n",
       "      <td>...</td>\n",
       "      <td>...</td>\n",
       "      <td>...</td>\n",
       "      <td>...</td>\n",
       "      <td>...</td>\n",
       "      <td>...</td>\n",
       "      <td>...</td>\n",
       "      <td>...</td>\n",
       "      <td>...</td>\n",
       "      <td>...</td>\n",
       "      <td>...</td>\n",
       "      <td>...</td>\n",
       "      <td>...</td>\n",
       "      <td>...</td>\n",
       "      <td>...</td>\n",
       "    </tr>\n",
       "    <tr>\n",
       "      <th>141525</th>\n",
       "      <td>10.8.8.246-224.0.0.252-55219-5355-17</td>\n",
       "      <td>10.8.8.246</td>\n",
       "      <td>55219</td>\n",
       "      <td>224.0.0.252</td>\n",
       "      <td>5355</td>\n",
       "      <td>17</td>\n",
       "      <td>22/05/2015 01:55:03 PM</td>\n",
       "      <td>411806</td>\n",
       "      <td>2</td>\n",
       "      <td>0</td>\n",
       "      <td>...</td>\n",
       "      <td>0</td>\n",
       "      <td>0</td>\n",
       "      <td>0</td>\n",
       "      <td>0</td>\n",
       "      <td>0.000000e+00</td>\n",
       "      <td>0.000000e+00</td>\n",
       "      <td>0.000000e+00</td>\n",
       "      <td>0.000000e+00</td>\n",
       "      <td>VPN</td>\n",
       "      <td>VOIP</td>\n",
       "    </tr>\n",
       "    <tr>\n",
       "      <th>141526</th>\n",
       "      <td>10.8.8.246-224.0.0.252-64207-5355-17</td>\n",
       "      <td>10.8.8.246</td>\n",
       "      <td>64207</td>\n",
       "      <td>224.0.0.252</td>\n",
       "      <td>5355</td>\n",
       "      <td>17</td>\n",
       "      <td>22/05/2015 02:09:05 PM</td>\n",
       "      <td>411574</td>\n",
       "      <td>2</td>\n",
       "      <td>0</td>\n",
       "      <td>...</td>\n",
       "      <td>0</td>\n",
       "      <td>0</td>\n",
       "      <td>0</td>\n",
       "      <td>0</td>\n",
       "      <td>0.000000e+00</td>\n",
       "      <td>0.000000e+00</td>\n",
       "      <td>0.000000e+00</td>\n",
       "      <td>0.000000e+00</td>\n",
       "      <td>VPN</td>\n",
       "      <td>VOIP</td>\n",
       "    </tr>\n",
       "    <tr>\n",
       "      <th>141527</th>\n",
       "      <td>10.8.8.246-224.0.0.252-61115-5355-17</td>\n",
       "      <td>10.8.8.246</td>\n",
       "      <td>61115</td>\n",
       "      <td>224.0.0.252</td>\n",
       "      <td>5355</td>\n",
       "      <td>17</td>\n",
       "      <td>22/05/2015 02:19:31 PM</td>\n",
       "      <td>422299</td>\n",
       "      <td>2</td>\n",
       "      <td>0</td>\n",
       "      <td>...</td>\n",
       "      <td>0</td>\n",
       "      <td>0</td>\n",
       "      <td>0</td>\n",
       "      <td>0</td>\n",
       "      <td>0.000000e+00</td>\n",
       "      <td>0.000000e+00</td>\n",
       "      <td>0.000000e+00</td>\n",
       "      <td>0.000000e+00</td>\n",
       "      <td>VPN</td>\n",
       "      <td>VOIP</td>\n",
       "    </tr>\n",
       "    <tr>\n",
       "      <th>141528</th>\n",
       "      <td>10.8.8.246-224.0.0.252-64790-5355-17</td>\n",
       "      <td>10.8.8.246</td>\n",
       "      <td>64790</td>\n",
       "      <td>224.0.0.252</td>\n",
       "      <td>5355</td>\n",
       "      <td>17</td>\n",
       "      <td>22/05/2015 02:29:55 PM</td>\n",
       "      <td>411855</td>\n",
       "      <td>2</td>\n",
       "      <td>0</td>\n",
       "      <td>...</td>\n",
       "      <td>0</td>\n",
       "      <td>0</td>\n",
       "      <td>0</td>\n",
       "      <td>0</td>\n",
       "      <td>0.000000e+00</td>\n",
       "      <td>0.000000e+00</td>\n",
       "      <td>0.000000e+00</td>\n",
       "      <td>0.000000e+00</td>\n",
       "      <td>VPN</td>\n",
       "      <td>VOIP</td>\n",
       "    </tr>\n",
       "    <tr>\n",
       "      <th>141529</th>\n",
       "      <td>80.239.235.110-10.8.8.246-11666-60245-17</td>\n",
       "      <td>80.239.235.110</td>\n",
       "      <td>11666</td>\n",
       "      <td>10.8.8.246</td>\n",
       "      <td>60245</td>\n",
       "      <td>17</td>\n",
       "      <td>22/05/2015 02:31:23 PM</td>\n",
       "      <td>119990044</td>\n",
       "      <td>5995</td>\n",
       "      <td>6000</td>\n",
       "      <td>...</td>\n",
       "      <td>0</td>\n",
       "      <td>0</td>\n",
       "      <td>0</td>\n",
       "      <td>0</td>\n",
       "      <td>1.432320e+15</td>\n",
       "      <td>3.463689e+07</td>\n",
       "      <td>1.432320e+15</td>\n",
       "      <td>1.432320e+15</td>\n",
       "      <td>VPN</td>\n",
       "      <td>VOIP</td>\n",
       "    </tr>\n",
       "  </tbody>\n",
       "</table>\n",
       "<p>141530 rows × 85 columns</p>\n",
       "</div>"
      ],
      "text/plain": [
       "                                           Flow ID          Src IP  Src Port  \\\n",
       "0          10.152.152.11-216.58.220.99-57158-443-6   10.152.152.11     57158   \n",
       "1          10.152.152.11-216.58.220.99-57159-443-6   10.152.152.11     57159   \n",
       "2          10.152.152.11-216.58.220.99-57160-443-6   10.152.152.11     57160   \n",
       "3         10.152.152.11-74.125.136.120-49134-443-6   10.152.152.11     49134   \n",
       "4       10.152.152.11-173.194.65.127-34697-19305-6   10.152.152.11     34697   \n",
       "...                                            ...             ...       ...   \n",
       "141525        10.8.8.246-224.0.0.252-55219-5355-17      10.8.8.246     55219   \n",
       "141526        10.8.8.246-224.0.0.252-64207-5355-17      10.8.8.246     64207   \n",
       "141527        10.8.8.246-224.0.0.252-61115-5355-17      10.8.8.246     61115   \n",
       "141528        10.8.8.246-224.0.0.252-64790-5355-17      10.8.8.246     64790   \n",
       "141529    80.239.235.110-10.8.8.246-11666-60245-17  80.239.235.110     11666   \n",
       "\n",
       "                Dst IP  Dst Port  Protocol               Timestamp  \\\n",
       "0        216.58.220.99       443         6  24/07/2015 04:09:48 PM   \n",
       "1        216.58.220.99       443         6  24/07/2015 04:09:48 PM   \n",
       "2        216.58.220.99       443         6  24/07/2015 04:09:48 PM   \n",
       "3       74.125.136.120       443         6  24/07/2015 04:09:48 PM   \n",
       "4       173.194.65.127     19305         6  24/07/2015 04:09:45 PM   \n",
       "...                ...       ...       ...                     ...   \n",
       "141525     224.0.0.252      5355        17  22/05/2015 01:55:03 PM   \n",
       "141526     224.0.0.252      5355        17  22/05/2015 02:09:05 PM   \n",
       "141527     224.0.0.252      5355        17  22/05/2015 02:19:31 PM   \n",
       "141528     224.0.0.252      5355        17  22/05/2015 02:29:55 PM   \n",
       "141529      10.8.8.246     60245        17  22/05/2015 02:31:23 PM   \n",
       "\n",
       "        Flow Duration  Total Fwd Packet  Total Bwd packets  ...  Active Mean  \\\n",
       "0                 229                 1                  1  ...            0   \n",
       "1                 407                 1                  1  ...            0   \n",
       "2                 431                 1                  1  ...            0   \n",
       "3                 359                 1                  1  ...            0   \n",
       "4            10778451               591                400  ...            0   \n",
       "...               ...               ...                ...  ...          ...   \n",
       "141525         411806                 2                  0  ...            0   \n",
       "141526         411574                 2                  0  ...            0   \n",
       "141527         422299                 2                  0  ...            0   \n",
       "141528         411855                 2                  0  ...            0   \n",
       "141529      119990044              5995               6000  ...            0   \n",
       "\n",
       "        Active Std  Active Max  Active Min     Idle Mean      Idle Std  \\\n",
       "0                0           0           0  0.000000e+00  0.000000e+00   \n",
       "1                0           0           0  0.000000e+00  0.000000e+00   \n",
       "2                0           0           0  0.000000e+00  0.000000e+00   \n",
       "3                0           0           0  0.000000e+00  0.000000e+00   \n",
       "4                0           0           0  1.437760e+15  3.117718e+06   \n",
       "...            ...         ...         ...           ...           ...   \n",
       "141525           0           0           0  0.000000e+00  0.000000e+00   \n",
       "141526           0           0           0  0.000000e+00  0.000000e+00   \n",
       "141527           0           0           0  0.000000e+00  0.000000e+00   \n",
       "141528           0           0           0  0.000000e+00  0.000000e+00   \n",
       "141529           0           0           0  1.432320e+15  3.463689e+07   \n",
       "\n",
       "            Idle Max      Idle Min    Label          Label.1  \n",
       "0       0.000000e+00  0.000000e+00  Non-Tor  AUDIO-STREAMING  \n",
       "1       0.000000e+00  0.000000e+00  Non-Tor  AUDIO-STREAMING  \n",
       "2       0.000000e+00  0.000000e+00  Non-Tor  AUDIO-STREAMING  \n",
       "3       0.000000e+00  0.000000e+00  Non-Tor  AUDIO-STREAMING  \n",
       "4       1.437760e+15  1.437760e+15  Non-Tor  AUDIO-STREAMING  \n",
       "...              ...           ...      ...              ...  \n",
       "141525  0.000000e+00  0.000000e+00      VPN             VOIP  \n",
       "141526  0.000000e+00  0.000000e+00      VPN             VOIP  \n",
       "141527  0.000000e+00  0.000000e+00      VPN             VOIP  \n",
       "141528  0.000000e+00  0.000000e+00      VPN             VOIP  \n",
       "141529  1.432320e+15  1.432320e+15      VPN             VOIP  \n",
       "\n",
       "[141530 rows x 85 columns]"
      ]
     },
     "execution_count": 3,
     "metadata": {},
     "output_type": "execute_result"
    }
   ],
   "source": [
    "internet_ds = pd.read_csv(\"dataset/Darknet.csv\")\n",
    "internet_ds"
   ]
  },
  {
   "cell_type": "code",
   "execution_count": 4,
   "id": "increasing-interstate",
   "metadata": {
    "execution": {
     "iopub.execute_input": "2021-05-03T06:36:08.458708Z",
     "iopub.status.busy": "2021-05-03T06:36:08.457924Z",
     "iopub.status.idle": "2021-05-03T06:36:08.557437Z",
     "shell.execute_reply": "2021-05-03T06:36:08.557936Z"
    },
    "papermill": {
     "duration": 0.139245,
     "end_time": "2021-05-03T06:36:08.558099",
     "exception": false,
     "start_time": "2021-05-03T06:36:08.418854",
     "status": "completed"
    },
    "tags": []
   },
   "outputs": [],
   "source": [
    "internet_ds.rename(columns = {\"Label\" : \"Type\", \"Label.1\" : \"Subtype\"}, inplace = True)"
   ]
  },
  {
   "cell_type": "code",
   "execution_count": 5,
   "id": "written-recycling",
   "metadata": {
    "execution": {
     "iopub.execute_input": "2021-05-03T06:36:08.640325Z",
     "iopub.status.busy": "2021-05-03T06:36:08.639706Z",
     "iopub.status.idle": "2021-05-03T06:36:08.645934Z",
     "shell.execute_reply": "2021-05-03T06:36:08.646479Z"
    },
    "papermill": {
     "duration": 0.053604,
     "end_time": "2021-05-03T06:36:08.646705",
     "exception": false,
     "start_time": "2021-05-03T06:36:08.593101",
     "status": "completed"
    },
    "tags": []
   },
   "outputs": [
    {
     "data": {
      "text/plain": [
       "array(['Non-Tor', 'NonVPN', 'Tor', 'VPN'], dtype=object)"
      ]
     },
     "execution_count": 5,
     "metadata": {},
     "output_type": "execute_result"
    }
   ],
   "source": [
    "internet_ds[\"Type\"].unique()"
   ]
  },
  {
   "cell_type": "code",
   "execution_count": 6,
   "id": "satellite-determination",
   "metadata": {
    "execution": {
     "iopub.execute_input": "2021-05-03T06:36:08.729333Z",
     "iopub.status.busy": "2021-05-03T06:36:08.728686Z",
     "iopub.status.idle": "2021-05-03T06:36:08.735175Z",
     "shell.execute_reply": "2021-05-03T06:36:08.735744Z"
    },
    "papermill": {
     "duration": 0.054253,
     "end_time": "2021-05-03T06:36:08.735933",
     "exception": false,
     "start_time": "2021-05-03T06:36:08.681680",
     "status": "completed"
    },
    "tags": []
   },
   "outputs": [
    {
     "data": {
      "text/plain": [
       "array(['AUDIO-STREAMING', 'Browsing', 'Chat', 'Email', 'File-Transfer',\n",
       "       'File-transfer', 'P2P', 'Video-Streaming', 'Audio-Streaming',\n",
       "       'Video-streaming', 'VOIP'], dtype=object)"
      ]
     },
     "execution_count": 6,
     "metadata": {},
     "output_type": "execute_result"
    }
   ],
   "source": [
    "internet_ds[\"Subtype\"].unique()"
   ]
  },
  {
   "cell_type": "code",
   "execution_count": 7,
   "id": "sonic-indicator",
   "metadata": {
    "execution": {
     "iopub.execute_input": "2021-05-03T06:36:09.062178Z",
     "iopub.status.busy": "2021-05-03T06:36:09.060641Z",
     "iopub.status.idle": "2021-05-03T06:36:09.114165Z",
     "shell.execute_reply": "2021-05-03T06:36:09.114658Z"
    },
    "papermill": {
     "duration": 0.116632,
     "end_time": "2021-05-03T06:36:09.114844",
     "exception": false,
     "start_time": "2021-05-03T06:36:08.998212",
     "status": "completed"
    },
    "tags": []
   },
   "outputs": [
    {
     "name": "stderr",
     "output_type": "stream",
     "text": [
      "C:\\Users\\nihar\\AppData\\Local\\Temp\\ipykernel_2920\\1128270604.py:1: SettingWithCopyWarning: \n",
      "A value is trying to be set on a copy of a slice from a DataFrame\n",
      "\n",
      "See the caveats in the documentation: https://pandas.pydata.org/pandas-docs/stable/user_guide/indexing.html#returning-a-view-versus-a-copy\n",
      "  internet_ds[\"Subtype\"].loc[internet_ds[\"Subtype\"] == \"AUDIO-STREAMING\"] = \"Audio-Streaming\"\n",
      "C:\\Users\\nihar\\AppData\\Local\\Temp\\ipykernel_2920\\1128270604.py:2: SettingWithCopyWarning: \n",
      "A value is trying to be set on a copy of a slice from a DataFrame\n",
      "\n",
      "See the caveats in the documentation: https://pandas.pydata.org/pandas-docs/stable/user_guide/indexing.html#returning-a-view-versus-a-copy\n",
      "  internet_ds[\"Subtype\"].loc[internet_ds[\"Subtype\"] == \"File-transfer\"] = \"File-Transfer\"\n",
      "C:\\Users\\nihar\\AppData\\Local\\Temp\\ipykernel_2920\\1128270604.py:3: SettingWithCopyWarning: \n",
      "A value is trying to be set on a copy of a slice from a DataFrame\n",
      "\n",
      "See the caveats in the documentation: https://pandas.pydata.org/pandas-docs/stable/user_guide/indexing.html#returning-a-view-versus-a-copy\n",
      "  internet_ds[\"Subtype\"].loc[internet_ds[\"Subtype\"] == \"Video-streaming\"] = \"Video-Streaming\"\n"
     ]
    }
   ],
   "source": [
    "internet_ds[\"Subtype\"].loc[internet_ds[\"Subtype\"] == \"AUDIO-STREAMING\"] = \"Audio-Streaming\"\n",
    "internet_ds[\"Subtype\"].loc[internet_ds[\"Subtype\"] == \"File-transfer\"] = \"File-Transfer\"\n",
    "internet_ds[\"Subtype\"].loc[internet_ds[\"Subtype\"] == \"Video-streaming\"] = \"Video-Streaming\""
   ]
  },
  {
   "cell_type": "code",
   "execution_count": 8,
   "id": "chemical-forwarding",
   "metadata": {
    "execution": {
     "iopub.execute_input": "2021-05-03T06:36:09.427140Z",
     "iopub.status.busy": "2021-05-03T06:36:09.425352Z",
     "iopub.status.idle": "2021-05-03T06:36:09.551636Z",
     "shell.execute_reply": "2021-05-03T06:36:09.551002Z"
    },
    "papermill": {
     "duration": 0.168896,
     "end_time": "2021-05-03T06:36:09.551774",
     "exception": false,
     "start_time": "2021-05-03T06:36:09.382878",
     "status": "completed"
    },
    "tags": []
   },
   "outputs": [],
   "source": [
    "internet_ds.loc[:, \"Encryption\"] = ''"
   ]
  },
  {
   "cell_type": "code",
   "execution_count": 9,
   "id": "hundred-spanish",
   "metadata": {
    "execution": {
     "iopub.execute_input": "2021-05-03T06:36:09.659685Z",
     "iopub.status.busy": "2021-05-03T06:36:09.658418Z",
     "iopub.status.idle": "2021-05-03T06:36:09.733582Z",
     "shell.execute_reply": "2021-05-03T06:36:09.732808Z"
    },
    "papermill": {
     "duration": 0.142013,
     "end_time": "2021-05-03T06:36:09.733727",
     "exception": false,
     "start_time": "2021-05-03T06:36:09.591714",
     "status": "completed"
    },
    "tags": []
   },
   "outputs": [
    {
     "name": "stderr",
     "output_type": "stream",
     "text": [
      "C:\\Users\\nihar\\AppData\\Local\\Temp\\ipykernel_2920\\4189469459.py:1: SettingWithCopyWarning: \n",
      "A value is trying to be set on a copy of a slice from a DataFrame\n",
      "\n",
      "See the caveats in the documentation: https://pandas.pydata.org/pandas-docs/stable/user_guide/indexing.html#returning-a-view-versus-a-copy\n",
      "  internet_ds[\"Encryption\"].loc[internet_ds[\"Type\"] == \"Non-Tor\"] = \"Standard\"\n",
      "C:\\Users\\nihar\\AppData\\Local\\Temp\\ipykernel_2920\\4189469459.py:2: SettingWithCopyWarning: \n",
      "A value is trying to be set on a copy of a slice from a DataFrame\n",
      "\n",
      "See the caveats in the documentation: https://pandas.pydata.org/pandas-docs/stable/user_guide/indexing.html#returning-a-view-versus-a-copy\n",
      "  internet_ds[\"Encryption\"].loc[internet_ds[\"Type\"] == \"NonVPN\"] = \"Standard\"\n",
      "C:\\Users\\nihar\\AppData\\Local\\Temp\\ipykernel_2920\\4189469459.py:4: SettingWithCopyWarning: \n",
      "A value is trying to be set on a copy of a slice from a DataFrame\n",
      "\n",
      "See the caveats in the documentation: https://pandas.pydata.org/pandas-docs/stable/user_guide/indexing.html#returning-a-view-versus-a-copy\n",
      "  internet_ds[\"Encryption\"].loc[internet_ds[\"Type\"] == \"Tor\"] = \"High\"\n",
      "C:\\Users\\nihar\\AppData\\Local\\Temp\\ipykernel_2920\\4189469459.py:5: SettingWithCopyWarning: \n",
      "A value is trying to be set on a copy of a slice from a DataFrame\n",
      "\n",
      "See the caveats in the documentation: https://pandas.pydata.org/pandas-docs/stable/user_guide/indexing.html#returning-a-view-versus-a-copy\n",
      "  internet_ds[\"Encryption\"].loc[internet_ds[\"Type\"] == \"VPN\"] = \"High\"\n"
     ]
    }
   ],
   "source": [
    "internet_ds[\"Encryption\"].loc[internet_ds[\"Type\"] == \"Non-Tor\"] = \"Standard\"\n",
    "internet_ds[\"Encryption\"].loc[internet_ds[\"Type\"] == \"NonVPN\"] = \"Standard\"\n",
    "\n",
    "internet_ds[\"Encryption\"].loc[internet_ds[\"Type\"] == \"Tor\"] = \"High\"\n",
    "internet_ds[\"Encryption\"].loc[internet_ds[\"Type\"] == \"VPN\"] = \"High\""
   ]
  },
  {
   "cell_type": "code",
   "execution_count": 10,
   "id": "plastic-approval",
   "metadata": {
    "execution": {
     "iopub.execute_input": "2021-05-03T06:36:10.114348Z",
     "iopub.status.busy": "2021-05-03T06:36:10.113664Z",
     "iopub.status.idle": "2021-05-03T06:36:10.166126Z",
     "shell.execute_reply": "2021-05-03T06:36:10.165537Z"
    },
    "papermill": {
     "duration": 0.193693,
     "end_time": "2021-05-03T06:36:10.166276",
     "exception": false,
     "start_time": "2021-05-03T06:36:09.972583",
     "status": "completed"
    },
    "tags": []
   },
   "outputs": [
    {
     "data": {
      "text/plain": [
       "Flow ID       0\n",
       "Src IP        0\n",
       "Src Port      0\n",
       "Dst IP        0\n",
       "Dst Port      0\n",
       "             ..\n",
       "Idle Max      0\n",
       "Idle Min      0\n",
       "Type          0\n",
       "Subtype       0\n",
       "Encryption    0\n",
       "Length: 86, dtype: int64"
      ]
     },
     "execution_count": 10,
     "metadata": {},
     "output_type": "execute_result"
    }
   ],
   "source": [
    "internet_ds.isnull().sum()"
   ]
  },
  {
   "cell_type": "code",
   "execution_count": 11,
   "id": "necessary-today",
   "metadata": {
    "execution": {
     "iopub.execute_input": "2021-05-03T06:36:10.254976Z",
     "iopub.status.busy": "2021-05-03T06:36:10.254259Z",
     "iopub.status.idle": "2021-05-03T06:36:10.614374Z",
     "shell.execute_reply": "2021-05-03T06:36:10.614920Z"
    },
    "papermill": {
     "duration": 0.407146,
     "end_time": "2021-05-03T06:36:10.615104",
     "exception": false,
     "start_time": "2021-05-03T06:36:10.207958",
     "status": "completed"
    },
    "tags": []
   },
   "outputs": [],
   "source": [
    "internet_ds.replace([np.inf, -np.inf], np.nan, inplace=True)"
   ]
  },
  {
   "cell_type": "code",
   "execution_count": 12,
   "id": "hispanic-cabin",
   "metadata": {
    "execution": {
     "iopub.execute_input": "2021-05-03T06:36:10.701470Z",
     "iopub.status.busy": "2021-05-03T06:36:10.700484Z",
     "iopub.status.idle": "2021-05-03T06:36:10.824913Z",
     "shell.execute_reply": "2021-05-03T06:36:10.824245Z"
    },
    "papermill": {
     "duration": 0.168743,
     "end_time": "2021-05-03T06:36:10.825064",
     "exception": false,
     "start_time": "2021-05-03T06:36:10.656321",
     "status": "completed"
    },
    "tags": []
   },
   "outputs": [],
   "source": [
    "internet_ds.fillna(0, inplace = True)"
   ]
  },
  {
   "cell_type": "code",
   "execution_count": 13,
   "id": "solar-honey",
   "metadata": {
    "execution": {
     "iopub.execute_input": "2021-05-03T06:36:10.913238Z",
     "iopub.status.busy": "2021-05-03T06:36:10.912209Z",
     "iopub.status.idle": "2021-05-03T06:36:11.054261Z",
     "shell.execute_reply": "2021-05-03T06:36:11.054777Z"
    },
    "papermill": {
     "duration": 0.18847,
     "end_time": "2021-05-03T06:36:11.054974",
     "exception": false,
     "start_time": "2021-05-03T06:36:10.866504",
     "status": "completed"
    },
    "tags": []
   },
   "outputs": [
    {
     "data": {
      "text/plain": [
       "Flow ID       0\n",
       "Src IP        0\n",
       "Src Port      0\n",
       "Dst IP        0\n",
       "Dst Port      0\n",
       "             ..\n",
       "Idle Max      0\n",
       "Idle Min      0\n",
       "Type          0\n",
       "Subtype       0\n",
       "Encryption    0\n",
       "Length: 86, dtype: int64"
      ]
     },
     "execution_count": 13,
     "metadata": {},
     "output_type": "execute_result"
    }
   ],
   "source": [
    "internet_ds.isnull().sum()"
   ]
  },
  {
   "cell_type": "code",
   "execution_count": 14,
   "id": "twenty-punishment",
   "metadata": {
    "execution": {
     "iopub.execute_input": "2021-05-03T06:36:11.145328Z",
     "iopub.status.busy": "2021-05-03T06:36:11.144627Z",
     "iopub.status.idle": "2021-05-03T06:36:11.298741Z",
     "shell.execute_reply": "2021-05-03T06:36:11.298153Z"
    },
    "papermill": {
     "duration": 0.199974,
     "end_time": "2021-05-03T06:36:11.298886",
     "exception": false,
     "start_time": "2021-05-03T06:36:11.098912",
     "status": "completed"
    },
    "tags": []
   },
   "outputs": [],
   "source": [
    "internet_ds_test = internet_ds.copy()"
   ]
  },
  {
   "cell_type": "code",
   "execution_count": 15,
   "id": "prostate-presentation",
   "metadata": {
    "execution": {
     "iopub.execute_input": "2021-05-03T06:36:11.605546Z",
     "iopub.status.busy": "2021-05-03T06:36:11.604354Z",
     "iopub.status.idle": "2021-05-03T06:36:11.727814Z",
     "shell.execute_reply": "2021-05-03T06:36:11.727170Z"
    },
    "papermill": {
     "duration": 0.173235,
     "end_time": "2021-05-03T06:36:11.727952",
     "exception": false,
     "start_time": "2021-05-03T06:36:11.554717",
     "status": "completed"
    },
    "tags": []
   },
   "outputs": [],
   "source": [
    "internet_ds_test.drop([\"Timestamp\"],axis = 1,inplace = True)"
   ]
  },
  {
   "cell_type": "code",
   "execution_count": 16,
   "id": "anticipated-rates",
   "metadata": {
    "execution": {
     "iopub.execute_input": "2021-05-03T06:36:11.822092Z",
     "iopub.status.busy": "2021-05-03T06:36:11.821349Z",
     "iopub.status.idle": "2021-05-03T06:36:12.365123Z",
     "shell.execute_reply": "2021-05-03T06:36:12.364361Z"
    },
    "papermill": {
     "duration": 0.592759,
     "end_time": "2021-05-03T06:36:12.365277",
     "exception": false,
     "start_time": "2021-05-03T06:36:11.772518",
     "status": "completed"
    },
    "tags": []
   },
   "outputs": [],
   "source": [
    "internet_ds_test = internet_ds_test.loc[:, internet_ds_test.apply(pd.Series.nunique) != 1]"
   ]
  },
  {
   "cell_type": "code",
   "execution_count": 17,
   "id": "right-billion",
   "metadata": {
    "execution": {
     "iopub.execute_input": "2021-05-03T06:36:12.557981Z",
     "iopub.status.busy": "2021-05-03T06:36:12.556815Z",
     "iopub.status.idle": "2021-05-03T06:36:12.586654Z",
     "shell.execute_reply": "2021-05-03T06:36:12.587222Z"
    },
    "papermill": {
     "duration": 0.17656,
     "end_time": "2021-05-03T06:36:12.587470",
     "exception": false,
     "start_time": "2021-05-03T06:36:12.410910",
     "status": "completed"
    },
    "tags": []
   },
   "outputs": [
    {
     "data": {
      "text/plain": [
       "Flow ID       0\n",
       "Src IP        0\n",
       "Src Port      0\n",
       "Dst IP        0\n",
       "Dst Port      0\n",
       "             ..\n",
       "Idle Max      0\n",
       "Idle Min      0\n",
       "Type          0\n",
       "Subtype       0\n",
       "Encryption    0\n",
       "Length: 70, dtype: int64"
      ]
     },
     "execution_count": 17,
     "metadata": {},
     "output_type": "execute_result"
    }
   ],
   "source": [
    "internet_ds_test.isnull().sum()"
   ]
  },
  {
   "cell_type": "code",
   "execution_count": 18,
   "id": "universal-neighbor",
   "metadata": {
    "execution": {
     "iopub.execute_input": "2021-05-03T06:36:12.688291Z",
     "iopub.status.busy": "2021-05-03T06:36:12.687427Z",
     "iopub.status.idle": "2021-05-03T06:36:12.691120Z",
     "shell.execute_reply": "2021-05-03T06:36:12.691576Z"
    },
    "papermill": {
     "duration": 0.057001,
     "end_time": "2021-05-03T06:36:12.691745",
     "exception": false,
     "start_time": "2021-05-03T06:36:12.634744",
     "status": "completed"
    },
    "tags": []
   },
   "outputs": [
    {
     "data": {
      "text/plain": [
       "Flow ID        object\n",
       "Src IP         object\n",
       "Src Port        int64\n",
       "Dst IP         object\n",
       "Dst Port        int64\n",
       "               ...   \n",
       "Idle Max      float64\n",
       "Idle Min      float64\n",
       "Type           object\n",
       "Subtype        object\n",
       "Encryption     object\n",
       "Length: 70, dtype: object"
      ]
     },
     "execution_count": 18,
     "metadata": {},
     "output_type": "execute_result"
    }
   ],
   "source": [
    "internet_ds_test.dtypes"
   ]
  },
  {
   "cell_type": "code",
   "execution_count": 19,
   "id": "prompt-offer",
   "metadata": {
    "execution": {
     "iopub.execute_input": "2021-05-03T06:36:12.794065Z",
     "iopub.status.busy": "2021-05-03T06:36:12.793319Z",
     "iopub.status.idle": "2021-05-03T06:36:13.016788Z",
     "shell.execute_reply": "2021-05-03T06:36:13.017565Z"
    },
    "papermill": {
     "duration": 0.279601,
     "end_time": "2021-05-03T06:36:13.017741",
     "exception": false,
     "start_time": "2021-05-03T06:36:12.738140",
     "status": "completed"
    },
    "tags": []
   },
   "outputs": [],
   "source": [
    "internet_ds_test.drop([\"Flow ID\"],axis = 1,inplace = True)\n",
    "internet_ds_test.drop([\"Src IP\"],axis = 1,inplace = True)\n",
    "internet_ds_test.drop([\"Dst IP\"],axis = 1,inplace = True)\n",
    "internet_ds_test.drop([\"Src Port\"],axis = 1,inplace = True)\n",
    "internet_ds_test.drop([\"Dst Port\"],axis = 1,inplace = True)\n",
    "internet_ds_test.drop([\"Flow Duration\"],axis = 1,inplace = True)\n",
    "\n",
    "internet_ds_test.drop([\"Idle Mean\"],axis = 1,inplace = True)\n",
    "internet_ds_test.drop([\"Idle Std\"],axis = 1,inplace = True)\n",
    "internet_ds_test.drop([\"Idle Max\"],axis = 1,inplace = True)\n",
    "internet_ds_test.drop([\"Idle Min\"],axis = 1,inplace = True)"
   ]
  },
  {
   "cell_type": "code",
   "execution_count": 20,
   "id": "reserved-thought",
   "metadata": {
    "execution": {
     "iopub.execute_input": "2021-05-03T06:36:13.120487Z",
     "iopub.status.busy": "2021-05-03T06:36:13.119756Z",
     "iopub.status.idle": "2021-05-03T06:36:14.096843Z",
     "shell.execute_reply": "2021-05-03T06:36:14.097375Z"
    },
    "papermill": {
     "duration": 1.03161,
     "end_time": "2021-05-03T06:36:14.097599",
     "exception": false,
     "start_time": "2021-05-03T06:36:13.065989",
     "status": "completed"
    },
    "tags": []
   },
   "outputs": [],
   "source": [
    "from sklearn.preprocessing import OneHotEncoder\n",
    "\n",
    "internet_ds_test[\"Encryption\"] = internet_ds_test[\"Encryption\"].map({\"Standard\":0,\"High\":+1})"
   ]
  },
  {
   "cell_type": "code",
   "execution_count": 21,
   "id": "c4d26f65",
   "metadata": {},
   "outputs": [
    {
     "data": {
      "text/html": [
       "<div>\n",
       "<style scoped>\n",
       "    .dataframe tbody tr th:only-of-type {\n",
       "        vertical-align: middle;\n",
       "    }\n",
       "\n",
       "    .dataframe tbody tr th {\n",
       "        vertical-align: top;\n",
       "    }\n",
       "\n",
       "    .dataframe thead th {\n",
       "        text-align: right;\n",
       "    }\n",
       "</style>\n",
       "<table border=\"1\" class=\"dataframe\">\n",
       "  <thead>\n",
       "    <tr style=\"text-align: right;\">\n",
       "      <th></th>\n",
       "      <th>Protocol</th>\n",
       "      <th>Total Fwd Packet</th>\n",
       "      <th>Total Bwd packets</th>\n",
       "      <th>Total Length of Fwd Packet</th>\n",
       "      <th>Total Length of Bwd Packet</th>\n",
       "      <th>Fwd Packet Length Max</th>\n",
       "      <th>Fwd Packet Length Min</th>\n",
       "      <th>Fwd Packet Length Mean</th>\n",
       "      <th>Fwd Packet Length Std</th>\n",
       "      <th>Bwd Packet Length Max</th>\n",
       "      <th>...</th>\n",
       "      <th>Subflow Fwd Packets</th>\n",
       "      <th>Subflow Fwd Bytes</th>\n",
       "      <th>Subflow Bwd Bytes</th>\n",
       "      <th>FWD Init Win Bytes</th>\n",
       "      <th>Bwd Init Win Bytes</th>\n",
       "      <th>Fwd Act Data Pkts</th>\n",
       "      <th>Fwd Seg Size Min</th>\n",
       "      <th>Type</th>\n",
       "      <th>Subtype</th>\n",
       "      <th>Encryption</th>\n",
       "    </tr>\n",
       "  </thead>\n",
       "  <tbody>\n",
       "    <tr>\n",
       "      <th>0</th>\n",
       "      <td>6</td>\n",
       "      <td>1</td>\n",
       "      <td>1</td>\n",
       "      <td>0</td>\n",
       "      <td>0</td>\n",
       "      <td>0</td>\n",
       "      <td>0</td>\n",
       "      <td>0.000000</td>\n",
       "      <td>0.000000</td>\n",
       "      <td>0</td>\n",
       "      <td>...</td>\n",
       "      <td>0</td>\n",
       "      <td>0</td>\n",
       "      <td>0</td>\n",
       "      <td>1892</td>\n",
       "      <td>1047</td>\n",
       "      <td>0</td>\n",
       "      <td>20</td>\n",
       "      <td>Non-Tor</td>\n",
       "      <td>Audio-Streaming</td>\n",
       "      <td>0</td>\n",
       "    </tr>\n",
       "    <tr>\n",
       "      <th>1</th>\n",
       "      <td>6</td>\n",
       "      <td>1</td>\n",
       "      <td>1</td>\n",
       "      <td>0</td>\n",
       "      <td>0</td>\n",
       "      <td>0</td>\n",
       "      <td>0</td>\n",
       "      <td>0.000000</td>\n",
       "      <td>0.000000</td>\n",
       "      <td>0</td>\n",
       "      <td>...</td>\n",
       "      <td>0</td>\n",
       "      <td>0</td>\n",
       "      <td>0</td>\n",
       "      <td>1987</td>\n",
       "      <td>1047</td>\n",
       "      <td>0</td>\n",
       "      <td>20</td>\n",
       "      <td>Non-Tor</td>\n",
       "      <td>Audio-Streaming</td>\n",
       "      <td>0</td>\n",
       "    </tr>\n",
       "    <tr>\n",
       "      <th>2</th>\n",
       "      <td>6</td>\n",
       "      <td>1</td>\n",
       "      <td>1</td>\n",
       "      <td>0</td>\n",
       "      <td>0</td>\n",
       "      <td>0</td>\n",
       "      <td>0</td>\n",
       "      <td>0.000000</td>\n",
       "      <td>0.000000</td>\n",
       "      <td>0</td>\n",
       "      <td>...</td>\n",
       "      <td>0</td>\n",
       "      <td>0</td>\n",
       "      <td>0</td>\n",
       "      <td>2049</td>\n",
       "      <td>1047</td>\n",
       "      <td>0</td>\n",
       "      <td>20</td>\n",
       "      <td>Non-Tor</td>\n",
       "      <td>Audio-Streaming</td>\n",
       "      <td>0</td>\n",
       "    </tr>\n",
       "    <tr>\n",
       "      <th>3</th>\n",
       "      <td>6</td>\n",
       "      <td>1</td>\n",
       "      <td>1</td>\n",
       "      <td>0</td>\n",
       "      <td>0</td>\n",
       "      <td>0</td>\n",
       "      <td>0</td>\n",
       "      <td>0.000000</td>\n",
       "      <td>0.000000</td>\n",
       "      <td>0</td>\n",
       "      <td>...</td>\n",
       "      <td>0</td>\n",
       "      <td>0</td>\n",
       "      <td>0</td>\n",
       "      <td>2008</td>\n",
       "      <td>1047</td>\n",
       "      <td>0</td>\n",
       "      <td>20</td>\n",
       "      <td>Non-Tor</td>\n",
       "      <td>Audio-Streaming</td>\n",
       "      <td>0</td>\n",
       "    </tr>\n",
       "    <tr>\n",
       "      <th>4</th>\n",
       "      <td>6</td>\n",
       "      <td>591</td>\n",
       "      <td>400</td>\n",
       "      <td>64530</td>\n",
       "      <td>6659</td>\n",
       "      <td>131</td>\n",
       "      <td>0</td>\n",
       "      <td>109.187817</td>\n",
       "      <td>22.283313</td>\n",
       "      <td>498</td>\n",
       "      <td>...</td>\n",
       "      <td>0</td>\n",
       "      <td>65</td>\n",
       "      <td>6</td>\n",
       "      <td>1382</td>\n",
       "      <td>2320</td>\n",
       "      <td>581</td>\n",
       "      <td>20</td>\n",
       "      <td>Non-Tor</td>\n",
       "      <td>Audio-Streaming</td>\n",
       "      <td>0</td>\n",
       "    </tr>\n",
       "    <tr>\n",
       "      <th>...</th>\n",
       "      <td>...</td>\n",
       "      <td>...</td>\n",
       "      <td>...</td>\n",
       "      <td>...</td>\n",
       "      <td>...</td>\n",
       "      <td>...</td>\n",
       "      <td>...</td>\n",
       "      <td>...</td>\n",
       "      <td>...</td>\n",
       "      <td>...</td>\n",
       "      <td>...</td>\n",
       "      <td>...</td>\n",
       "      <td>...</td>\n",
       "      <td>...</td>\n",
       "      <td>...</td>\n",
       "      <td>...</td>\n",
       "      <td>...</td>\n",
       "      <td>...</td>\n",
       "      <td>...</td>\n",
       "      <td>...</td>\n",
       "      <td>...</td>\n",
       "    </tr>\n",
       "    <tr>\n",
       "      <th>141525</th>\n",
       "      <td>17</td>\n",
       "      <td>2</td>\n",
       "      <td>0</td>\n",
       "      <td>44</td>\n",
       "      <td>0</td>\n",
       "      <td>22</td>\n",
       "      <td>22</td>\n",
       "      <td>22.000000</td>\n",
       "      <td>0.000000</td>\n",
       "      <td>0</td>\n",
       "      <td>...</td>\n",
       "      <td>1</td>\n",
       "      <td>22</td>\n",
       "      <td>0</td>\n",
       "      <td>0</td>\n",
       "      <td>0</td>\n",
       "      <td>1</td>\n",
       "      <td>8</td>\n",
       "      <td>VPN</td>\n",
       "      <td>VOIP</td>\n",
       "      <td>1</td>\n",
       "    </tr>\n",
       "    <tr>\n",
       "      <th>141526</th>\n",
       "      <td>17</td>\n",
       "      <td>2</td>\n",
       "      <td>0</td>\n",
       "      <td>44</td>\n",
       "      <td>0</td>\n",
       "      <td>22</td>\n",
       "      <td>22</td>\n",
       "      <td>22.000000</td>\n",
       "      <td>0.000000</td>\n",
       "      <td>0</td>\n",
       "      <td>...</td>\n",
       "      <td>1</td>\n",
       "      <td>22</td>\n",
       "      <td>0</td>\n",
       "      <td>0</td>\n",
       "      <td>0</td>\n",
       "      <td>1</td>\n",
       "      <td>8</td>\n",
       "      <td>VPN</td>\n",
       "      <td>VOIP</td>\n",
       "      <td>1</td>\n",
       "    </tr>\n",
       "    <tr>\n",
       "      <th>141527</th>\n",
       "      <td>17</td>\n",
       "      <td>2</td>\n",
       "      <td>0</td>\n",
       "      <td>44</td>\n",
       "      <td>0</td>\n",
       "      <td>22</td>\n",
       "      <td>22</td>\n",
       "      <td>22.000000</td>\n",
       "      <td>0.000000</td>\n",
       "      <td>0</td>\n",
       "      <td>...</td>\n",
       "      <td>1</td>\n",
       "      <td>22</td>\n",
       "      <td>0</td>\n",
       "      <td>0</td>\n",
       "      <td>0</td>\n",
       "      <td>1</td>\n",
       "      <td>8</td>\n",
       "      <td>VPN</td>\n",
       "      <td>VOIP</td>\n",
       "      <td>1</td>\n",
       "    </tr>\n",
       "    <tr>\n",
       "      <th>141528</th>\n",
       "      <td>17</td>\n",
       "      <td>2</td>\n",
       "      <td>0</td>\n",
       "      <td>44</td>\n",
       "      <td>0</td>\n",
       "      <td>22</td>\n",
       "      <td>22</td>\n",
       "      <td>22.000000</td>\n",
       "      <td>0.000000</td>\n",
       "      <td>0</td>\n",
       "      <td>...</td>\n",
       "      <td>1</td>\n",
       "      <td>22</td>\n",
       "      <td>0</td>\n",
       "      <td>0</td>\n",
       "      <td>0</td>\n",
       "      <td>1</td>\n",
       "      <td>8</td>\n",
       "      <td>VPN</td>\n",
       "      <td>VOIP</td>\n",
       "      <td>1</td>\n",
       "    </tr>\n",
       "    <tr>\n",
       "      <th>141529</th>\n",
       "      <td>17</td>\n",
       "      <td>5995</td>\n",
       "      <td>6000</td>\n",
       "      <td>497585</td>\n",
       "      <td>498000</td>\n",
       "      <td>83</td>\n",
       "      <td>83</td>\n",
       "      <td>83.000000</td>\n",
       "      <td>0.000000</td>\n",
       "      <td>83</td>\n",
       "      <td>...</td>\n",
       "      <td>0</td>\n",
       "      <td>41</td>\n",
       "      <td>41</td>\n",
       "      <td>0</td>\n",
       "      <td>0</td>\n",
       "      <td>5994</td>\n",
       "      <td>8</td>\n",
       "      <td>VPN</td>\n",
       "      <td>VOIP</td>\n",
       "      <td>1</td>\n",
       "    </tr>\n",
       "  </tbody>\n",
       "</table>\n",
       "<p>141530 rows × 60 columns</p>\n",
       "</div>"
      ],
      "text/plain": [
       "        Protocol  Total Fwd Packet  Total Bwd packets  \\\n",
       "0              6                 1                  1   \n",
       "1              6                 1                  1   \n",
       "2              6                 1                  1   \n",
       "3              6                 1                  1   \n",
       "4              6               591                400   \n",
       "...          ...               ...                ...   \n",
       "141525        17                 2                  0   \n",
       "141526        17                 2                  0   \n",
       "141527        17                 2                  0   \n",
       "141528        17                 2                  0   \n",
       "141529        17              5995               6000   \n",
       "\n",
       "        Total Length of Fwd Packet  Total Length of Bwd Packet  \\\n",
       "0                                0                           0   \n",
       "1                                0                           0   \n",
       "2                                0                           0   \n",
       "3                                0                           0   \n",
       "4                            64530                        6659   \n",
       "...                            ...                         ...   \n",
       "141525                          44                           0   \n",
       "141526                          44                           0   \n",
       "141527                          44                           0   \n",
       "141528                          44                           0   \n",
       "141529                      497585                      498000   \n",
       "\n",
       "        Fwd Packet Length Max  Fwd Packet Length Min  Fwd Packet Length Mean  \\\n",
       "0                           0                      0                0.000000   \n",
       "1                           0                      0                0.000000   \n",
       "2                           0                      0                0.000000   \n",
       "3                           0                      0                0.000000   \n",
       "4                         131                      0              109.187817   \n",
       "...                       ...                    ...                     ...   \n",
       "141525                     22                     22               22.000000   \n",
       "141526                     22                     22               22.000000   \n",
       "141527                     22                     22               22.000000   \n",
       "141528                     22                     22               22.000000   \n",
       "141529                     83                     83               83.000000   \n",
       "\n",
       "        Fwd Packet Length Std  Bwd Packet Length Max  ...  \\\n",
       "0                    0.000000                      0  ...   \n",
       "1                    0.000000                      0  ...   \n",
       "2                    0.000000                      0  ...   \n",
       "3                    0.000000                      0  ...   \n",
       "4                   22.283313                    498  ...   \n",
       "...                       ...                    ...  ...   \n",
       "141525               0.000000                      0  ...   \n",
       "141526               0.000000                      0  ...   \n",
       "141527               0.000000                      0  ...   \n",
       "141528               0.000000                      0  ...   \n",
       "141529               0.000000                     83  ...   \n",
       "\n",
       "        Subflow Fwd Packets  Subflow Fwd Bytes  Subflow Bwd Bytes  \\\n",
       "0                         0                  0                  0   \n",
       "1                         0                  0                  0   \n",
       "2                         0                  0                  0   \n",
       "3                         0                  0                  0   \n",
       "4                         0                 65                  6   \n",
       "...                     ...                ...                ...   \n",
       "141525                    1                 22                  0   \n",
       "141526                    1                 22                  0   \n",
       "141527                    1                 22                  0   \n",
       "141528                    1                 22                  0   \n",
       "141529                    0                 41                 41   \n",
       "\n",
       "        FWD Init Win Bytes  Bwd Init Win Bytes  Fwd Act Data Pkts  \\\n",
       "0                     1892                1047                  0   \n",
       "1                     1987                1047                  0   \n",
       "2                     2049                1047                  0   \n",
       "3                     2008                1047                  0   \n",
       "4                     1382                2320                581   \n",
       "...                    ...                 ...                ...   \n",
       "141525                   0                   0                  1   \n",
       "141526                   0                   0                  1   \n",
       "141527                   0                   0                  1   \n",
       "141528                   0                   0                  1   \n",
       "141529                   0                   0               5994   \n",
       "\n",
       "        Fwd Seg Size Min     Type          Subtype  Encryption  \n",
       "0                     20  Non-Tor  Audio-Streaming           0  \n",
       "1                     20  Non-Tor  Audio-Streaming           0  \n",
       "2                     20  Non-Tor  Audio-Streaming           0  \n",
       "3                     20  Non-Tor  Audio-Streaming           0  \n",
       "4                     20  Non-Tor  Audio-Streaming           0  \n",
       "...                  ...      ...              ...         ...  \n",
       "141525                 8      VPN             VOIP           1  \n",
       "141526                 8      VPN             VOIP           1  \n",
       "141527                 8      VPN             VOIP           1  \n",
       "141528                 8      VPN             VOIP           1  \n",
       "141529                 8      VPN             VOIP           1  \n",
       "\n",
       "[141530 rows x 60 columns]"
      ]
     },
     "execution_count": 21,
     "metadata": {},
     "output_type": "execute_result"
    }
   ],
   "source": [
    "internet_ds_test"
   ]
  },
  {
   "cell_type": "code",
   "execution_count": 22,
   "id": "preceding-flight",
   "metadata": {
    "execution": {
     "iopub.execute_input": "2021-05-03T06:36:14.206858Z",
     "iopub.status.busy": "2021-05-03T06:36:14.206168Z",
     "iopub.status.idle": "2021-05-03T06:36:14.289048Z",
     "shell.execute_reply": "2021-05-03T06:36:14.289610Z"
    },
    "papermill": {
     "duration": 0.142113,
     "end_time": "2021-05-03T06:36:14.289786",
     "exception": false,
     "start_time": "2021-05-03T06:36:14.147673",
     "status": "completed"
    },
    "tags": []
   },
   "outputs": [],
   "source": [
    "from sklearn.model_selection import train_test_split\n",
    "\n",
    "X = internet_ds_test[\"Subtype\"]\n",
    "Y = internet_ds_test[\"Encryption\"]\n",
    "\n",
    "X_train, X_test, Y_train, Y_test = train_test_split(X, Y, test_size=0.30, random_state=42)"
   ]
  },
  {
   "cell_type": "code",
   "execution_count": 23,
   "id": "confused-telephone",
   "metadata": {
    "execution": {
     "iopub.execute_input": "2021-05-03T06:36:14.429108Z",
     "iopub.status.busy": "2021-05-03T06:36:14.423508Z",
     "iopub.status.idle": "2021-05-03T06:36:15.281101Z",
     "shell.execute_reply": "2021-05-03T06:36:15.280545Z"
    },
    "papermill": {
     "duration": 0.941513,
     "end_time": "2021-05-03T06:36:15.281251",
     "exception": false,
     "start_time": "2021-05-03T06:36:14.339738",
     "status": "completed"
    },
    "tags": []
   },
   "outputs": [],
   "source": [
    "from sklearn.feature_extraction.text import CountVectorizer, TfidfTransformer\n",
    "count_vect = CountVectorizer(stop_words='english')\n",
    "transformer = TfidfTransformer(sublinear_tf=True)\n",
    "\n",
    "X_train_cnt = count_vect.fit_transform(X_train)\n",
    "X_train_TF = transformer.fit_transform(X_train_cnt)\n",
    "\n",
    "X_test_cnt = count_vect.transform(X_test)\n",
    "X_test_TF = transformer.transform(X_test_cnt)"
   ]
  },
  {
   "cell_type": "code",
   "execution_count": 24,
   "id": "human-richmond",
   "metadata": {
    "execution": {
     "iopub.execute_input": "2021-05-03T06:36:15.387704Z",
     "iopub.status.busy": "2021-05-03T06:36:15.387017Z",
     "iopub.status.idle": "2021-05-03T06:36:15.846983Z",
     "shell.execute_reply": "2021-05-03T06:36:15.846459Z"
    },
    "papermill": {
     "duration": 0.515289,
     "end_time": "2021-05-03T06:36:15.847144",
     "exception": false,
     "start_time": "2021-05-03T06:36:15.331855",
     "status": "completed"
    },
    "tags": []
   },
   "outputs": [
    {
     "data": {
      "text/html": [
       "<style>#sk-container-id-1 {color: black;background-color: white;}#sk-container-id-1 pre{padding: 0;}#sk-container-id-1 div.sk-toggleable {background-color: white;}#sk-container-id-1 label.sk-toggleable__label {cursor: pointer;display: block;width: 100%;margin-bottom: 0;padding: 0.3em;box-sizing: border-box;text-align: center;}#sk-container-id-1 label.sk-toggleable__label-arrow:before {content: \"▸\";float: left;margin-right: 0.25em;color: #696969;}#sk-container-id-1 label.sk-toggleable__label-arrow:hover:before {color: black;}#sk-container-id-1 div.sk-estimator:hover label.sk-toggleable__label-arrow:before {color: black;}#sk-container-id-1 div.sk-toggleable__content {max-height: 0;max-width: 0;overflow: hidden;text-align: left;background-color: #f0f8ff;}#sk-container-id-1 div.sk-toggleable__content pre {margin: 0.2em;color: black;border-radius: 0.25em;background-color: #f0f8ff;}#sk-container-id-1 input.sk-toggleable__control:checked~div.sk-toggleable__content {max-height: 200px;max-width: 100%;overflow: auto;}#sk-container-id-1 input.sk-toggleable__control:checked~label.sk-toggleable__label-arrow:before {content: \"▾\";}#sk-container-id-1 div.sk-estimator input.sk-toggleable__control:checked~label.sk-toggleable__label {background-color: #d4ebff;}#sk-container-id-1 div.sk-label input.sk-toggleable__control:checked~label.sk-toggleable__label {background-color: #d4ebff;}#sk-container-id-1 input.sk-hidden--visually {border: 0;clip: rect(1px 1px 1px 1px);clip: rect(1px, 1px, 1px, 1px);height: 1px;margin: -1px;overflow: hidden;padding: 0;position: absolute;width: 1px;}#sk-container-id-1 div.sk-estimator {font-family: monospace;background-color: #f0f8ff;border: 1px dotted black;border-radius: 0.25em;box-sizing: border-box;margin-bottom: 0.5em;}#sk-container-id-1 div.sk-estimator:hover {background-color: #d4ebff;}#sk-container-id-1 div.sk-parallel-item::after {content: \"\";width: 100%;border-bottom: 1px solid gray;flex-grow: 1;}#sk-container-id-1 div.sk-label:hover label.sk-toggleable__label {background-color: #d4ebff;}#sk-container-id-1 div.sk-serial::before {content: \"\";position: absolute;border-left: 1px solid gray;box-sizing: border-box;top: 0;bottom: 0;left: 50%;z-index: 0;}#sk-container-id-1 div.sk-serial {display: flex;flex-direction: column;align-items: center;background-color: white;padding-right: 0.2em;padding-left: 0.2em;position: relative;}#sk-container-id-1 div.sk-item {position: relative;z-index: 1;}#sk-container-id-1 div.sk-parallel {display: flex;align-items: stretch;justify-content: center;background-color: white;position: relative;}#sk-container-id-1 div.sk-item::before, #sk-container-id-1 div.sk-parallel-item::before {content: \"\";position: absolute;border-left: 1px solid gray;box-sizing: border-box;top: 0;bottom: 0;left: 50%;z-index: -1;}#sk-container-id-1 div.sk-parallel-item {display: flex;flex-direction: column;z-index: 1;position: relative;background-color: white;}#sk-container-id-1 div.sk-parallel-item:first-child::after {align-self: flex-end;width: 50%;}#sk-container-id-1 div.sk-parallel-item:last-child::after {align-self: flex-start;width: 50%;}#sk-container-id-1 div.sk-parallel-item:only-child::after {width: 0;}#sk-container-id-1 div.sk-dashed-wrapped {border: 1px dashed gray;margin: 0 0.4em 0.5em 0.4em;box-sizing: border-box;padding-bottom: 0.4em;background-color: white;}#sk-container-id-1 div.sk-label label {font-family: monospace;font-weight: bold;display: inline-block;line-height: 1.2em;}#sk-container-id-1 div.sk-label-container {text-align: center;}#sk-container-id-1 div.sk-container {/* jupyter's `normalize.less` sets `[hidden] { display: none; }` but bootstrap.min.css set `[hidden] { display: none !important; }` so we also need the `!important` here to be able to override the default hidden behavior on the sphinx rendered scikit-learn.org. See: https://github.com/scikit-learn/scikit-learn/issues/21755 */display: inline-block !important;position: relative;}#sk-container-id-1 div.sk-text-repr-fallback {display: none;}</style><div id=\"sk-container-id-1\" class=\"sk-top-container\"><div class=\"sk-text-repr-fallback\"><pre>RandomForestClassifier(criterion=&#x27;entropy&#x27;, n_estimators=10)</pre><b>In a Jupyter environment, please rerun this cell to show the HTML representation or trust the notebook. <br />On GitHub, the HTML representation is unable to render, please try loading this page with nbviewer.org.</b></div><div class=\"sk-container\" hidden><div class=\"sk-item\"><div class=\"sk-estimator sk-toggleable\"><input class=\"sk-toggleable__control sk-hidden--visually\" id=\"sk-estimator-id-1\" type=\"checkbox\" checked><label for=\"sk-estimator-id-1\" class=\"sk-toggleable__label sk-toggleable__label-arrow\">RandomForestClassifier</label><div class=\"sk-toggleable__content\"><pre>RandomForestClassifier(criterion=&#x27;entropy&#x27;, n_estimators=10)</pre></div></div></div></div></div>"
      ],
      "text/plain": [
       "RandomForestClassifier(criterion='entropy', n_estimators=10)"
      ]
     },
     "execution_count": 24,
     "metadata": {},
     "output_type": "execute_result"
    }
   ],
   "source": [
    "from sklearn.ensemble import RandomForestClassifier as RFClass\n",
    "ranForModel = RFClass(n_estimators=10, criterion = \"entropy\")\n",
    "ranForModel.fit(X_train_TF, Y_train)"
   ]
  },
  {
   "cell_type": "code",
   "execution_count": 25,
   "id": "sound-logging",
   "metadata": {
    "execution": {
     "iopub.execute_input": "2021-05-03T06:36:15.956161Z",
     "iopub.status.busy": "2021-05-03T06:36:15.955451Z",
     "iopub.status.idle": "2021-05-03T06:36:16.183549Z",
     "shell.execute_reply": "2021-05-03T06:36:16.182323Z"
    },
    "papermill": {
     "duration": 0.285527,
     "end_time": "2021-05-03T06:36:16.183784",
     "exception": false,
     "start_time": "2021-05-03T06:36:15.898257",
     "status": "completed"
    },
    "tags": []
   },
   "outputs": [
    {
     "name": "stdout",
     "output_type": "stream",
     "text": [
      "Predicted Class: [0 0 0 ... 0 0 0]\n",
      "Confusion Matrix:\n",
      " [[33750  1420]\n",
      " [ 3346  3943]]\n",
      "Accuracy: 0.8877505358110177\n",
      "F_score: 0.623300663926652\n",
      "Classification Report:\n",
      "               precision    recall  f1-score   support\n",
      "\n",
      "           0       0.91      0.96      0.93     35170\n",
      "           1       0.74      0.54      0.62      7289\n",
      "\n",
      "    accuracy                           0.89     42459\n",
      "   macro avg       0.82      0.75      0.78     42459\n",
      "weighted avg       0.88      0.89      0.88     42459\n",
      "\n"
     ]
    }
   ],
   "source": [
    "from sklearn.metrics import accuracy_score\n",
    "from sklearn.metrics import f1_score\n",
    "from sklearn.metrics import classification_report as class_re\n",
    "from sklearn.metrics import confusion_matrix as c_m\n",
    "\n",
    "ranForPredict = ranForModel.predict(X_test_TF)\n",
    "\n",
    "print(\"Predicted Class:\",ranForPredict)\n",
    "print(\"Confusion Matrix:\\n\",c_m(Y_test ,ranForPredict))\n",
    "print(\"Accuracy:\", accuracy_score(Y_test ,ranForPredict))\n",
    "print(\"F_score:\", f1_score(Y_test ,ranForPredict))\n",
    "print(\"Classification Report:\\n\",class_re(Y_test ,ranForPredict))"
   ]
  },
  {
   "cell_type": "code",
   "execution_count": 26,
   "id": "studied-denver",
   "metadata": {
    "execution": {
     "iopub.execute_input": "2021-05-03T06:36:16.300875Z",
     "iopub.status.busy": "2021-05-03T06:36:16.299768Z",
     "iopub.status.idle": "2021-05-03T06:36:16.371846Z",
     "shell.execute_reply": "2021-05-03T06:36:16.371248Z"
    },
    "papermill": {
     "duration": 0.133956,
     "end_time": "2021-05-03T06:36:16.371993",
     "exception": false,
     "start_time": "2021-05-03T06:36:16.238037",
     "status": "completed"
    },
    "tags": []
   },
   "outputs": [],
   "source": [
    "from sklearn.tree import DecisionTreeClassifier\n",
    "from sklearn.metrics import accuracy_score as acc_score\n",
    "from sklearn.metrics import classification_report as class_re\n",
    "from sklearn.preprocessing import StandardScaler\n",
    "from sklearn.model_selection import train_test_split as t_t_s\n",
    "from sklearn.preprocessing import OneHotEncoder as ohe\n",
    "subtypes = ['Audio-Streaming', 'Browsing', 'Chat', 'Email', 'File-Transfer', 'P2P', 'VOIP', 'Video-Streaming']\n",
    "subtypes_ds = pd.DataFrame(subtypes, columns=['subtypes'])\n",
    "\n",
    "encoder = ohe()\n",
    "\n",
    "\n",
    "internet_ds_test[\"Subtype\"] = internet_ds_test[\"Subtype\"].astype('category')\n",
    "internet_ds_test[\"Subtype_Encoded\"] = internet_ds_test[\"Subtype\"].cat.codes"
   ]
  },
  {
   "cell_type": "code",
   "execution_count": 27,
   "id": "speaking-improvement",
   "metadata": {
    "execution": {
     "iopub.execute_input": "2021-05-03T06:36:16.484410Z",
     "iopub.status.busy": "2021-05-03T06:36:16.483370Z",
     "iopub.status.idle": "2021-05-03T06:36:16.517409Z",
     "shell.execute_reply": "2021-05-03T06:36:16.516843Z"
    },
    "papermill": {
     "duration": 0.09232,
     "end_time": "2021-05-03T06:36:16.517567",
     "exception": false,
     "start_time": "2021-05-03T06:36:16.425247",
     "status": "completed"
    },
    "tags": []
   },
   "outputs": [
    {
     "data": {
      "text/html": [
       "<div>\n",
       "<style scoped>\n",
       "    .dataframe tbody tr th:only-of-type {\n",
       "        vertical-align: middle;\n",
       "    }\n",
       "\n",
       "    .dataframe tbody tr th {\n",
       "        vertical-align: top;\n",
       "    }\n",
       "\n",
       "    .dataframe thead th {\n",
       "        text-align: right;\n",
       "    }\n",
       "</style>\n",
       "<table border=\"1\" class=\"dataframe\">\n",
       "  <thead>\n",
       "    <tr style=\"text-align: right;\">\n",
       "      <th></th>\n",
       "      <th>0</th>\n",
       "      <th>1</th>\n",
       "      <th>2</th>\n",
       "      <th>3</th>\n",
       "      <th>4</th>\n",
       "      <th>5</th>\n",
       "      <th>6</th>\n",
       "      <th>7</th>\n",
       "    </tr>\n",
       "  </thead>\n",
       "  <tbody>\n",
       "    <tr>\n",
       "      <th>0</th>\n",
       "      <td>1.0</td>\n",
       "      <td>0.0</td>\n",
       "      <td>0.0</td>\n",
       "      <td>0.0</td>\n",
       "      <td>0.0</td>\n",
       "      <td>0.0</td>\n",
       "      <td>0.0</td>\n",
       "      <td>0.0</td>\n",
       "    </tr>\n",
       "    <tr>\n",
       "      <th>1</th>\n",
       "      <td>1.0</td>\n",
       "      <td>0.0</td>\n",
       "      <td>0.0</td>\n",
       "      <td>0.0</td>\n",
       "      <td>0.0</td>\n",
       "      <td>0.0</td>\n",
       "      <td>0.0</td>\n",
       "      <td>0.0</td>\n",
       "    </tr>\n",
       "    <tr>\n",
       "      <th>2</th>\n",
       "      <td>1.0</td>\n",
       "      <td>0.0</td>\n",
       "      <td>0.0</td>\n",
       "      <td>0.0</td>\n",
       "      <td>0.0</td>\n",
       "      <td>0.0</td>\n",
       "      <td>0.0</td>\n",
       "      <td>0.0</td>\n",
       "    </tr>\n",
       "    <tr>\n",
       "      <th>3</th>\n",
       "      <td>1.0</td>\n",
       "      <td>0.0</td>\n",
       "      <td>0.0</td>\n",
       "      <td>0.0</td>\n",
       "      <td>0.0</td>\n",
       "      <td>0.0</td>\n",
       "      <td>0.0</td>\n",
       "      <td>0.0</td>\n",
       "    </tr>\n",
       "    <tr>\n",
       "      <th>4</th>\n",
       "      <td>1.0</td>\n",
       "      <td>0.0</td>\n",
       "      <td>0.0</td>\n",
       "      <td>0.0</td>\n",
       "      <td>0.0</td>\n",
       "      <td>0.0</td>\n",
       "      <td>0.0</td>\n",
       "      <td>0.0</td>\n",
       "    </tr>\n",
       "    <tr>\n",
       "      <th>...</th>\n",
       "      <td>...</td>\n",
       "      <td>...</td>\n",
       "      <td>...</td>\n",
       "      <td>...</td>\n",
       "      <td>...</td>\n",
       "      <td>...</td>\n",
       "      <td>...</td>\n",
       "      <td>...</td>\n",
       "    </tr>\n",
       "    <tr>\n",
       "      <th>141525</th>\n",
       "      <td>0.0</td>\n",
       "      <td>0.0</td>\n",
       "      <td>0.0</td>\n",
       "      <td>0.0</td>\n",
       "      <td>0.0</td>\n",
       "      <td>0.0</td>\n",
       "      <td>1.0</td>\n",
       "      <td>0.0</td>\n",
       "    </tr>\n",
       "    <tr>\n",
       "      <th>141526</th>\n",
       "      <td>0.0</td>\n",
       "      <td>0.0</td>\n",
       "      <td>0.0</td>\n",
       "      <td>0.0</td>\n",
       "      <td>0.0</td>\n",
       "      <td>0.0</td>\n",
       "      <td>1.0</td>\n",
       "      <td>0.0</td>\n",
       "    </tr>\n",
       "    <tr>\n",
       "      <th>141527</th>\n",
       "      <td>0.0</td>\n",
       "      <td>0.0</td>\n",
       "      <td>0.0</td>\n",
       "      <td>0.0</td>\n",
       "      <td>0.0</td>\n",
       "      <td>0.0</td>\n",
       "      <td>1.0</td>\n",
       "      <td>0.0</td>\n",
       "    </tr>\n",
       "    <tr>\n",
       "      <th>141528</th>\n",
       "      <td>0.0</td>\n",
       "      <td>0.0</td>\n",
       "      <td>0.0</td>\n",
       "      <td>0.0</td>\n",
       "      <td>0.0</td>\n",
       "      <td>0.0</td>\n",
       "      <td>1.0</td>\n",
       "      <td>0.0</td>\n",
       "    </tr>\n",
       "    <tr>\n",
       "      <th>141529</th>\n",
       "      <td>0.0</td>\n",
       "      <td>0.0</td>\n",
       "      <td>0.0</td>\n",
       "      <td>0.0</td>\n",
       "      <td>0.0</td>\n",
       "      <td>0.0</td>\n",
       "      <td>1.0</td>\n",
       "      <td>0.0</td>\n",
       "    </tr>\n",
       "  </tbody>\n",
       "</table>\n",
       "<p>141530 rows × 8 columns</p>\n",
       "</div>"
      ],
      "text/plain": [
       "          0    1    2    3    4    5    6    7\n",
       "0       1.0  0.0  0.0  0.0  0.0  0.0  0.0  0.0\n",
       "1       1.0  0.0  0.0  0.0  0.0  0.0  0.0  0.0\n",
       "2       1.0  0.0  0.0  0.0  0.0  0.0  0.0  0.0\n",
       "3       1.0  0.0  0.0  0.0  0.0  0.0  0.0  0.0\n",
       "4       1.0  0.0  0.0  0.0  0.0  0.0  0.0  0.0\n",
       "...     ...  ...  ...  ...  ...  ...  ...  ...\n",
       "141525  0.0  0.0  0.0  0.0  0.0  0.0  1.0  0.0\n",
       "141526  0.0  0.0  0.0  0.0  0.0  0.0  1.0  0.0\n",
       "141527  0.0  0.0  0.0  0.0  0.0  0.0  1.0  0.0\n",
       "141528  0.0  0.0  0.0  0.0  0.0  0.0  1.0  0.0\n",
       "141529  0.0  0.0  0.0  0.0  0.0  0.0  1.0  0.0\n",
       "\n",
       "[141530 rows x 8 columns]"
      ]
     },
     "execution_count": 27,
     "metadata": {},
     "output_type": "execute_result"
    }
   ],
   "source": [
    "ds_encoded = pd.DataFrame(encoder.fit_transform(internet_ds_test[['Subtype_Encoded']]).toarray())\n",
    "ds_encoded"
   ]
  },
  {
   "cell_type": "code",
   "execution_count": 28,
   "id": "latest-object",
   "metadata": {
    "execution": {
     "iopub.execute_input": "2021-05-03T06:36:16.630538Z",
     "iopub.status.busy": "2021-05-03T06:36:16.629864Z",
     "iopub.status.idle": "2021-05-03T06:36:16.670029Z",
     "shell.execute_reply": "2021-05-03T06:36:16.670505Z"
    },
    "papermill": {
     "duration": 0.099218,
     "end_time": "2021-05-03T06:36:16.670683",
     "exception": false,
     "start_time": "2021-05-03T06:36:16.571465",
     "status": "completed"
    },
    "tags": []
   },
   "outputs": [],
   "source": [
    "internet_ds_encoded = internet_ds_test[[\"Subtype\",\"Subtype_Encoded\",\"Type\",\"Encryption\"]].join(ds_encoded)"
   ]
  },
  {
   "cell_type": "code",
   "execution_count": 29,
   "id": "weekly-reverse",
   "metadata": {
    "execution": {
     "iopub.execute_input": "2021-05-03T06:36:17.453819Z",
     "iopub.status.busy": "2021-05-03T06:36:17.439296Z",
     "iopub.status.idle": "2021-05-03T06:36:17.470915Z",
     "shell.execute_reply": "2021-05-03T06:36:17.470310Z"
    },
    "papermill": {
     "duration": 0.094985,
     "end_time": "2021-05-03T06:36:17.471074",
     "exception": false,
     "start_time": "2021-05-03T06:36:17.376089",
     "status": "completed"
    },
    "tags": []
   },
   "outputs": [],
   "source": [
    "subtypes = ['Audio-Streaming', 'Browsing', 'Chat', 'Email', 'File-Transfer', 'P2P', 'VOIP', 'Video-Streaming']\n",
    "\n",
    "internet_ds_encoded.rename(columns = {0 : \"Audio-Streaming\", 1 : \"Browsing\", 2 : \"Chat\", 3 : \"Email\", 4 : \"File-Transfer\", 5 : \"P2P\", 6 : \"VOIP\", 7 : \"Video-Streaming\"}, inplace = True)"
   ]
  },
  {
   "cell_type": "code",
   "execution_count": 30,
   "id": "limited-technology",
   "metadata": {
    "execution": {
     "iopub.execute_input": "2021-05-03T06:36:17.600313Z",
     "iopub.status.busy": "2021-05-03T06:36:17.599606Z",
     "iopub.status.idle": "2021-05-03T06:36:17.722696Z",
     "shell.execute_reply": "2021-05-03T06:36:17.722039Z"
    },
    "papermill": {
     "duration": 0.194015,
     "end_time": "2021-05-03T06:36:17.722845",
     "exception": false,
     "start_time": "2021-05-03T06:36:17.528830",
     "status": "completed"
    },
    "tags": []
   },
   "outputs": [
    {
     "name": "stderr",
     "output_type": "stream",
     "text": [
      "c:\\users\\nihar\\appdata\\local\\programs\\python\\python39\\lib\\site-packages\\sklearn\\base.py:413: UserWarning: X has feature names, but DecisionTreeClassifier was fitted without feature names\n",
      "  warnings.warn(\n"
     ]
    }
   ],
   "source": [
    "subtype = [\"Audio-Streaming\", \"Browsing\", \"Chat\", \"Email\", \"File-Transfer\", \"P2P\", \"VOIP\", \"Video-Streaming\"]\n",
    "\n",
    "X = internet_ds_encoded[subtype]\n",
    "\n",
    "X_std_scal = StandardScaler().fit_transform(X)\n",
    "\n",
    "Y = internet_ds_encoded[\"Encryption\"]\n",
    "\n",
    "X_train, X_test, Y_train, Y_test = t_t_s(X_std_scal, Y, test_size = 0.33, random_state = 42)\n",
    "\n",
    "DTreeClass = DecisionTreeClassifier(criterion = \"entropy\", random_state = 42)\n",
    "\n",
    "DTreeClass.fit(X_train, Y_train)\n",
    "Y_pred = DTreeClass.predict(X_test)\n",
    "Y_scored = DTreeClass.score(X,Y)\n",
    "Y_scored2 = DTreeClass.score(X_train,Y_train)\n",
    "Y_scored3 = DTreeClass.score(X_test,Y_test)"
   ]
  },
  {
   "cell_type": "code",
   "execution_count": 31,
   "id": "colored-translator",
   "metadata": {
    "execution": {
     "iopub.execute_input": "2021-05-03T06:36:17.843235Z",
     "iopub.status.busy": "2021-05-03T06:36:17.842618Z",
     "iopub.status.idle": "2021-05-03T06:36:17.848410Z",
     "shell.execute_reply": "2021-05-03T06:36:17.847851Z"
    },
    "papermill": {
     "duration": 0.067462,
     "end_time": "2021-05-03T06:36:17.848565",
     "exception": false,
     "start_time": "2021-05-03T06:36:17.781103",
     "status": "completed"
    },
    "tags": []
   },
   "outputs": [
    {
     "data": {
      "text/plain": [
       "array([0, 1], dtype=int64)"
      ]
     },
     "execution_count": 31,
     "metadata": {},
     "output_type": "execute_result"
    }
   ],
   "source": [
    "Y.unique()"
   ]
  },
  {
   "cell_type": "code",
   "execution_count": null,
   "id": "e7a9215d",
   "metadata": {},
   "outputs": [],
   "source": []
  }
 ],
 "metadata": {
  "kernelspec": {
   "display_name": "Python 3 (ipykernel)",
   "language": "python",
   "name": "python3"
  },
  "language_info": {
   "codemirror_mode": {
    "name": "ipython",
    "version": 3
   },
   "file_extension": ".py",
   "mimetype": "text/x-python",
   "name": "python",
   "nbconvert_exporter": "python",
   "pygments_lexer": "ipython3",
   "version": "3.9.0"
  },
  "papermill": {
   "default_parameters": {},
   "duration": 26.02638,
   "end_time": "2021-05-03T06:36:21.222847",
   "environment_variables": {},
   "exception": null,
   "input_path": "__notebook__.ipynb",
   "output_path": "__notebook__.ipynb",
   "parameters": {},
   "start_time": "2021-05-03T06:35:55.196467",
   "version": "2.3.3"
  }
 },
 "nbformat": 4,
 "nbformat_minor": 5
}
