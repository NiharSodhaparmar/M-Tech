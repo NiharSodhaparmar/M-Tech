{
 "cells": [
  {
   "cell_type": "code",
   "execution_count": 6,
   "id": "e15700a2",
   "metadata": {},
   "outputs": [],
   "source": [
    "import pandas as pd\n",
    "%matplotlib inline\n",
    "import matplotlib.pyplot as plt"
   ]
  },
  {
   "cell_type": "code",
   "execution_count": 7,
   "id": "489ddab2",
   "metadata": {},
   "outputs": [],
   "source": [
    "X_outliers = pd.read_csv('outliers.csv')\n",
    "X_test = pd.read_csv('test.csv')\n",
    "X_train = pd.read_csv('train.csv')"
   ]
  },
  {
   "cell_type": "code",
   "execution_count": 8,
   "id": "ac2e7a4c",
   "metadata": {},
   "outputs": [
    {
     "name": "stdout",
     "output_type": "stream",
     "text": [
      "Train Accuracy: 0.407\n",
      "Test Accuracy: 0.619\n",
      "Outlier Accuracy: 1.0\n"
     ]
    }
   ],
   "source": [
    "from sklearn.ensemble import IsolationForest\n",
    "\n",
    "clf = IsolationForest(max_samples=100)\n",
    "clf.fit(X_train)\n",
    "y_pred_train = clf.predict(X_train)\n",
    "y_pred_test = clf.predict(X_test)\n",
    "y_pred_outliers = clf.predict(X_outliers)\n",
    "\n",
    "\n",
    "print(\"Train Accuracy:\", list(y_pred_train).count(-1)/y_pred_train.shape[0])\n",
    "print(\"Test Accuracy:\", list(y_pred_test).count(1)/y_pred_test.shape[0])\n",
    "print(\"Outlier Accuracy:\", list(y_pred_outliers).count(-1)/y_pred_outliers.shape[0])"
   ]
  },
  {
   "cell_type": "code",
   "execution_count": 9,
   "id": "a625ff19",
   "metadata": {},
   "outputs": [
    {
     "name": "stdout",
     "output_type": "stream",
     "text": [
      "Train Accuracy: 0.1\n",
      "Test Accuracy: 0.916\n",
      "Outlier Accuracy: 0.96\n"
     ]
    },
    {
     "name": "stderr",
     "output_type": "stream",
     "text": [
      "c:\\users\\nihar\\appdata\\local\\programs\\python\\python39\\lib\\site-packages\\sklearn\\base.py:420: UserWarning: X does not have valid feature names, but IsolationForest was fitted with feature names\n",
      "  warnings.warn(\n"
     ]
    }
   ],
   "source": [
    "clf = IsolationForest(n_estimators=50, max_samples='auto', contamination=float(0.1),max_features=1.0)\n",
    "clf.fit(X_train)\n",
    "y_pred_train = clf.predict(X_train)\n",
    "y_pred_test = clf.predict(X_test)\n",
    "y_pred_outliers = clf.predict(X_outliers)\n",
    "\n",
    "print(\"Train Accuracy:\", list(y_pred_train).count(-1)/y_pred_train.shape[0])\n",
    "print(\"Test Accuracy:\", list(y_pred_test).count(1)/y_pred_test.shape[0])\n",
    "print(\"Outlier Accuracy:\", list(y_pred_outliers).count(-1)/y_pred_outliers.shape[0])"
   ]
  },
  {
   "cell_type": "code",
   "execution_count": 10,
   "id": "4125b7aa",
   "metadata": {},
   "outputs": [
    {
     "name": "stdout",
     "output_type": "stream",
     "text": [
      "Train Accuracy: 0.276\n",
      "Test Accuracy: 0.729\n",
      "Outlier Accuracy: 1.0\n"
     ]
    }
   ],
   "source": [
    "clf = IsolationForest(n_estimators=50, max_samples='auto')\n",
    "clf.fit(X_train)\n",
    "y_pred_train = clf.predict(X_train)\n",
    "y_pred_test = clf.predict(X_test)\n",
    "y_pred_outliers = clf.predict(X_outliers)\n",
    "\n",
    "print(\"Train Accuracy:\", list(y_pred_train).count(-1)/y_pred_train.shape[0])\n",
    "print(\"Test Accuracy:\", list(y_pred_test).count(1)/y_pred_test.shape[0])\n",
    "print(\"Outlier Accuracy:\", list(y_pred_outliers).count(-1)/y_pred_outliers.shape[0])"
   ]
  }
 ],
 "metadata": {
  "kernelspec": {
   "display_name": "Python 3 (ipykernel)",
   "language": "python",
   "name": "python3"
  },
  "language_info": {
   "codemirror_mode": {
    "name": "ipython",
    "version": 3
   },
   "file_extension": ".py",
   "mimetype": "text/x-python",
   "name": "python",
   "nbconvert_exporter": "python",
   "pygments_lexer": "ipython3",
   "version": "3.9.0"
  }
 },
 "nbformat": 4,
 "nbformat_minor": 5
}
