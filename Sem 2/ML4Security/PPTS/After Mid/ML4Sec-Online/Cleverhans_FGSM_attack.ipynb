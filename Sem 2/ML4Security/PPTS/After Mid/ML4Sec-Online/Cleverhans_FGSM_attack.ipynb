{
  "nbformat": 4,
  "nbformat_minor": 0,
  "metadata": {
    "colab": {
      "name": "Cleverhans FGSM attack.ipynb",
      "provenance": []
    },
    "kernelspec": {
      "name": "python3",
      "display_name": "Python 3"
    },
    "accelerator": "GPU",
    "gpuClass": "standard"
  },
  "cells": [
    {
      "cell_type": "markdown",
      "metadata": {
        "id": "RHwgLwN4nXPi"
      },
      "source": [
        "# Fast Gradient Sign Method (FGSM) using Cleverhans\n",
        "\n",
        "#### Easily implement an FGSM attack on a model using Cleverhans and Tensorflow 2.0\n",
        ">\n",
        "Checkout Cleverhans on Github [here](https://www.github.com/tensorflow/cleverhans).\n"
      ]
    },
    {
      "cell_type": "markdown",
      "metadata": {
        "id": "Vs9wD38he0cM"
      },
      "source": [
        "## Import dependent libraries\n",
        "Tensorflow 2.0 required \n"
      ]
    },
    {
      "cell_type": "code",
      "metadata": {
        "id": "eBsLelavnv0u",
        "colab": {
          "base_uri": "https://localhost:8080/"
        },
        "outputId": "96075ce7-1f0d-46c0-e210-af9138cbff1a"
      },
      "source": [
        "#!pip install -q tensorflow==2.0.0b1\n",
        "# Install bleeding edge version of cleverhans\n",
        "#!pip install git+https://github.com/tensorflow/cleverhans.git#egg=cleverhans\n",
        "!pip install git+https://github.com/CNOCycle/cleverhans.git@feature/tf2.x\n",
        "\n",
        "import cleverhans\n",
        "import tensorflow as tf\n",
        "import numpy as np\n",
        "import matplotlib.pyplot as plt\n",
        "\n",
        "print(\"\\nTensorflow Version: \" + tf.__version__)\n",
        "print(\"Cleverhans Version: \" + cleverhans.__version__)\n",
        "print(\"GPU Available: \", tf.test.is_gpu_available())"
      ],
      "execution_count": 1,
      "outputs": [
        {
          "output_type": "stream",
          "name": "stdout",
          "text": [
            "Looking in indexes: https://pypi.org/simple, https://us-python.pkg.dev/colab-wheels/public/simple/\n",
            "Collecting git+https://github.com/CNOCycle/cleverhans.git@feature/tf2.x\n",
            "  Cloning https://github.com/CNOCycle/cleverhans.git (to revision feature/tf2.x) to /tmp/pip-req-build-jy9q7mvp\n",
            "  Running command git clone --filter=blob:none --quiet https://github.com/CNOCycle/cleverhans.git /tmp/pip-req-build-jy9q7mvp\n",
            "  Running command git checkout -b feature/tf2.x --track origin/feature/tf2.x\n",
            "  Switched to a new branch 'feature/tf2.x'\n",
            "  Branch 'feature/tf2.x' set up to track remote branch 'feature/tf2.x' from 'origin'.\n",
            "  Resolved https://github.com/CNOCycle/cleverhans.git to commit b103b0caf983331ec9c5f7c3e08e417a85bf25e2\n",
            "  Preparing metadata (setup.py) ... \u001b[?25l\u001b[?25hdone\n",
            "Collecting nose\n",
            "  Downloading nose-1.3.7-py3-none-any.whl (154 kB)\n",
            "\u001b[2K     \u001b[90m━━━━━━━━━━━━━━━━━━━━━━━━━━━━━━━━━━━━━━\u001b[0m \u001b[32m154.7/154.7 kB\u001b[0m \u001b[31m12.8 MB/s\u001b[0m eta \u001b[36m0:00:00\u001b[0m\n",
            "\u001b[?25hCollecting pycodestyle\n",
            "  Downloading pycodestyle-2.10.0-py2.py3-none-any.whl (41 kB)\n",
            "\u001b[2K     \u001b[90m━━━━━━━━━━━━━━━━━━━━━━━━━━━━━━━━━━━━━━━━\u001b[0m \u001b[32m41.3/41.3 kB\u001b[0m \u001b[31m5.3 MB/s\u001b[0m eta \u001b[36m0:00:00\u001b[0m\n",
            "\u001b[?25hRequirement already satisfied: scipy in /usr/local/lib/python3.9/dist-packages (from cleverhans==3.0.1) (1.10.1)\n",
            "Requirement already satisfied: matplotlib in /usr/local/lib/python3.9/dist-packages (from cleverhans==3.0.1) (3.7.1)\n",
            "Collecting mnist~=0.2\n",
            "  Downloading mnist-0.2.2-py2.py3-none-any.whl (3.5 kB)\n",
            "Requirement already satisfied: numpy in /usr/local/lib/python3.9/dist-packages (from cleverhans==3.0.1) (1.22.4)\n",
            "Requirement already satisfied: tensorflow-probability in /usr/local/lib/python3.9/dist-packages (from cleverhans==3.0.1) (0.19.0)\n",
            "Requirement already satisfied: joblib in /usr/local/lib/python3.9/dist-packages (from cleverhans==3.0.1) (1.2.0)\n",
            "Requirement already satisfied: kiwisolver>=1.0.1 in /usr/local/lib/python3.9/dist-packages (from matplotlib->cleverhans==3.0.1) (1.4.4)\n",
            "Requirement already satisfied: python-dateutil>=2.7 in /usr/local/lib/python3.9/dist-packages (from matplotlib->cleverhans==3.0.1) (2.8.2)\n",
            "Requirement already satisfied: pyparsing>=2.3.1 in /usr/local/lib/python3.9/dist-packages (from matplotlib->cleverhans==3.0.1) (3.0.9)\n",
            "Requirement already satisfied: pillow>=6.2.0 in /usr/local/lib/python3.9/dist-packages (from matplotlib->cleverhans==3.0.1) (8.4.0)\n",
            "Requirement already satisfied: importlib-resources>=3.2.0 in /usr/local/lib/python3.9/dist-packages (from matplotlib->cleverhans==3.0.1) (5.12.0)\n",
            "Requirement already satisfied: packaging>=20.0 in /usr/local/lib/python3.9/dist-packages (from matplotlib->cleverhans==3.0.1) (23.0)\n",
            "Requirement already satisfied: cycler>=0.10 in /usr/local/lib/python3.9/dist-packages (from matplotlib->cleverhans==3.0.1) (0.11.0)\n",
            "Requirement already satisfied: fonttools>=4.22.0 in /usr/local/lib/python3.9/dist-packages (from matplotlib->cleverhans==3.0.1) (4.39.3)\n",
            "Requirement already satisfied: contourpy>=1.0.1 in /usr/local/lib/python3.9/dist-packages (from matplotlib->cleverhans==3.0.1) (1.0.7)\n",
            "Requirement already satisfied: decorator in /usr/local/lib/python3.9/dist-packages (from tensorflow-probability->cleverhans==3.0.1) (4.4.2)\n",
            "Requirement already satisfied: six>=1.10.0 in /usr/local/lib/python3.9/dist-packages (from tensorflow-probability->cleverhans==3.0.1) (1.16.0)\n",
            "Requirement already satisfied: gast>=0.3.2 in /usr/local/lib/python3.9/dist-packages (from tensorflow-probability->cleverhans==3.0.1) (0.4.0)\n",
            "Requirement already satisfied: absl-py in /usr/local/lib/python3.9/dist-packages (from tensorflow-probability->cleverhans==3.0.1) (1.4.0)\n",
            "Requirement already satisfied: cloudpickle>=1.3 in /usr/local/lib/python3.9/dist-packages (from tensorflow-probability->cleverhans==3.0.1) (2.2.1)\n",
            "Requirement already satisfied: dm-tree in /usr/local/lib/python3.9/dist-packages (from tensorflow-probability->cleverhans==3.0.1) (0.1.8)\n",
            "Requirement already satisfied: zipp>=3.1.0 in /usr/local/lib/python3.9/dist-packages (from importlib-resources>=3.2.0->matplotlib->cleverhans==3.0.1) (3.15.0)\n",
            "Building wheels for collected packages: cleverhans\n",
            "  Building wheel for cleverhans (setup.py) ... \u001b[?25l\u001b[?25hdone\n",
            "  Created wheel for cleverhans: filename=cleverhans-3.0.1-py3-none-any.whl size=254396 sha256=03e65d82779a05f0de274ba1c41d018d01ac3bdc713677c75d8a361a17a5e3d6\n",
            "  Stored in directory: /tmp/pip-ephem-wheel-cache-6x9_7h67/wheels/14/d8/06/4ced13fb0830690c70734b615f2faec1fd0defeaace1cb886b\n",
            "Successfully built cleverhans\n",
            "Installing collected packages: nose, pycodestyle, mnist, cleverhans\n",
            "Successfully installed cleverhans-3.0.1 mnist-0.2.2 nose-1.3.7 pycodestyle-2.10.0\n"
          ]
        },
        {
          "output_type": "stream",
          "name": "stderr",
          "text": [
            "WARNING:tensorflow:From <ipython-input-1-76695d2e0c0d>:13: is_gpu_available (from tensorflow.python.framework.test_util) is deprecated and will be removed in a future version.\n",
            "Instructions for updating:\n",
            "Use `tf.config.list_physical_devices('GPU')` instead.\n"
          ]
        },
        {
          "output_type": "stream",
          "name": "stdout",
          "text": [
            "\n",
            "Tensorflow Version: 2.12.0\n",
            "Cleverhans Version: 3.0.1-3f1ac71307ef4e67b39a37faa0280b80\n",
            "GPU Available:  True\n"
          ]
        }
      ]
    },
    {
      "cell_type": "markdown",
      "metadata": {
        "id": "b4kgPQqp-hwR"
      },
      "source": [
        "## Training a simple model on the MNIST dataset\n"
      ]
    },
    {
      "cell_type": "markdown",
      "metadata": {
        "id": "_z99mq1bKkjz"
      },
      "source": [
        "> If you would like to experiment with other datasets feel free to replace this code by whatever you need to do so. Just remember that to make the rest of the notebook work without any other major changes keep the variables train_images, train_labels, test_images, test_labels and assign them to the corresponding new data. I recommend any of the datasets offered by keras as they use the same mechanics to import them.\n",
        "\n",
        ">Keep in mind that the MNIST dataset was used in this guide because of the little amount of time it takes to both train a good model and craft the attacks."
      ]
    },
    {
      "cell_type": "code",
      "metadata": {
        "id": "uQVP1re__pbf",
        "colab": {
          "base_uri": "https://localhost:8080/"
        },
        "outputId": "f7feb265-2547-423e-f453-044a74b0e5d2"
      },
      "source": [
        "mnist = tf.keras.datasets.mnist\n",
        "(train_images, train_labels), (test_images, test_labels) = mnist.load_data()\n",
        "\n",
        "train_images = train_images / 255.0\n",
        "test_images = test_images / 255.0\n",
        "\n",
        "num_classes = 10\n",
        "\n",
        "model = tf.keras.Sequential([\n",
        "    tf.keras.layers.Flatten(input_shape=(28, 28)),\n",
        "    tf.keras.layers.Dense(32, activation=tf.nn.relu),\n",
        "    tf.keras.layers.Dense(16, activation=tf.nn.relu),\n",
        "    tf.keras.layers.Dense(10),\n",
        "    tf.keras.layers.Activation(tf.nn.softmax) # We seperate the activation layer to be able to access the logits of the previous layer later\n",
        "])\n",
        "\n",
        "model.compile(optimizer='adam',\n",
        "              loss= 'sparse_categorical_crossentropy',\n",
        "              metrics=['accuracy'])\n",
        "\n",
        "model.fit(train_images, train_labels, epochs=10, validation_split=0.2, batch_size=256, shuffle=True)\n",
        "test_loss, test_acc = model.evaluate(test_images, test_labels)\n",
        "\n",
        "print('Test accuracy:', test_acc)"
      ],
      "execution_count": 2,
      "outputs": [
        {
          "output_type": "stream",
          "name": "stdout",
          "text": [
            "Downloading data from https://storage.googleapis.com/tensorflow/tf-keras-datasets/mnist.npz\n",
            "11490434/11490434 [==============================] - 1s 0us/step\n",
            "Epoch 1/10\n",
            "188/188 [==============================] - 7s 6ms/step - loss: 0.9631 - accuracy: 0.7154 - val_loss: 0.3921 - val_accuracy: 0.8944\n",
            "Epoch 2/10\n",
            "188/188 [==============================] - 1s 4ms/step - loss: 0.3552 - accuracy: 0.9039 - val_loss: 0.2824 - val_accuracy: 0.9207\n",
            "Epoch 3/10\n",
            "188/188 [==============================] - 1s 4ms/step - loss: 0.2832 - accuracy: 0.9215 - val_loss: 0.2455 - val_accuracy: 0.9303\n",
            "Epoch 4/10\n",
            "188/188 [==============================] - 1s 4ms/step - loss: 0.2440 - accuracy: 0.9326 - val_loss: 0.2165 - val_accuracy: 0.9391\n",
            "Epoch 5/10\n",
            "188/188 [==============================] - 1s 4ms/step - loss: 0.2142 - accuracy: 0.9406 - val_loss: 0.2029 - val_accuracy: 0.9423\n",
            "Epoch 6/10\n",
            "188/188 [==============================] - 1s 4ms/step - loss: 0.1914 - accuracy: 0.9462 - val_loss: 0.1833 - val_accuracy: 0.9494\n",
            "Epoch 7/10\n",
            "188/188 [==============================] - 1s 4ms/step - loss: 0.1735 - accuracy: 0.9514 - val_loss: 0.1726 - val_accuracy: 0.9503\n",
            "Epoch 8/10\n",
            "188/188 [==============================] - 1s 7ms/step - loss: 0.1581 - accuracy: 0.9553 - val_loss: 0.1650 - val_accuracy: 0.9531\n",
            "Epoch 9/10\n",
            "188/188 [==============================] - 1s 7ms/step - loss: 0.1453 - accuracy: 0.9594 - val_loss: 0.1603 - val_accuracy: 0.9534\n",
            "Epoch 10/10\n",
            "188/188 [==============================] - 1s 4ms/step - loss: 0.1350 - accuracy: 0.9620 - val_loss: 0.1533 - val_accuracy: 0.9565\n",
            "313/313 [==============================] - 1s 2ms/step - loss: 0.1505 - accuracy: 0.9555\n",
            "Test accuracy: 0.9555000066757202\n"
          ]
        }
      ]
    },
    {
      "cell_type": "code",
      "source": [],
      "metadata": {
        "id": "ildX5tYtZIqB"
      },
      "execution_count": null,
      "outputs": []
    },
    {
      "cell_type": "markdown",
      "metadata": {
        "id": "QpC4KgTS_Fj8"
      },
      "source": [
        "## Implementing the FGSM attack using fast_gradient_method()\n"
      ]
    },
    {
      "cell_type": "markdown",
      "metadata": {
        "id": "U68CRVKW5ULk"
      },
      "source": [
        "Cleverhans implements the fgsm attack with the following method:\n",
        "\n",
        "\n",
        "```\n",
        "fast_gradient_method(model_fn, x, eps, norm, clip_min=None, clip_max=None, y=None, targeted=False, sanity_checks=False)\n",
        "\n",
        "```\n",
        "\n",
        "> * **model_fn**: a callable that takes an input tensor and returns the model logits\n",
        "* **x**: input_tensor\n",
        "* **eps**: epsilon (dictates the \"strength\" of the distortion created)\n",
        "* **norm**: Order of the norm (mimics NumPy). Possible values: np.inf, 1 or 2.\n",
        "* **clip_min**: (optional, default=None) float. Minimum float value for adversarial example components.\n",
        "* **clip_max**: (optional, default=None) float. Maximum float value for adversarial example components\n",
        "* **y**: (optional, default=None) Tensor with true labels. If targeted is true, then provide the target label. Otherwise, only provide this parameter if you'd like to use true labels when crafting adversarial samples. Otherwise, model predictions are used as labels to avoid the \"label leaking\" effect (explained in this [paper](https://arxiv.org/abs/1611.01236)).\n",
        "* **targeted**: (optional, default=False) bool. Is the attack targeted or untargeted? Untargeted, the default, will try to make the label incorrect. Targeted will instead try to move in the direction of being more like y.\n",
        "* **param sanity_checks**: (optional, default=False) bool, if True, include  asserts (Turn them off to use less runtime / memory or for unit tests that intentionally pass strange input)\n",
        ">\n",
        "\n",
        "Find it in the library [here](https://github.com/tensorflow/cleverhans/blob/master/cleverhans/future/tf2/attacks/fast_gradient_method.py)"
      ]
    },
    {
      "cell_type": "code",
      "metadata": {
        "id": "LgZhvgzbAuU8"
      },
      "source": [
        "# Import the attack\n",
        "from cleverhans.future.tf2.attacks import fast_gradient_method, madry_et_al\n",
        "\n",
        "#The attack requires the model to ouput the logits\n",
        "logits_model = tf.keras.Model(model.input,model.layers[-1].output)"
      ],
      "execution_count": 3,
      "outputs": []
    },
    {
      "cell_type": "markdown",
      "metadata": {
        "id": "q53TkEuD-gR9"
      },
      "source": [
        "### Choose a random image to attack from the test set\n",
        "\n"
      ]
    },
    {
      "cell_type": "code",
      "metadata": {
        "id": "wA7_JKrm1wsm",
        "colab": {
          "base_uri": "https://localhost:8080/",
          "height": 452
        },
        "outputId": "b466b961-fdc6-42dd-bf14-251daf8af82c"
      },
      "source": [
        "random_index = np.random.randint(test_images.shape[0])\n",
        "\n",
        "original_image = test_images[random_index]\n",
        "original_image = tf.convert_to_tensor(original_image.reshape((1,28,28))) #The .reshape just gives it the proper form to input into the model, a batch of 1 a.k.a a tensor\n",
        "\n",
        "original_label = test_labels[random_index]\n",
        "original_label = np.reshape(original_label, (1,)).astype('int64') # Give label proper shape and type for cleverhans\n",
        "\n",
        "#Show the image\n",
        "plt.figure()\n",
        "plt.grid(False)\n",
        "\n",
        "plt.imshow(np.reshape(original_image, (28,28)))\n",
        "plt.title(\"Label: {}\".format(original_label[0]))\n",
        "\n",
        "plt.show()"
      ],
      "execution_count": 7,
      "outputs": [
        {
          "output_type": "display_data",
          "data": {
            "text/plain": [
              "<Figure size 640x480 with 1 Axes>"
            ],
            "image/png": "[encoded data removed]"
          },
          "metadata": {}
        }
      ]
    },
    {
      "cell_type": "markdown",
      "metadata": {
        "id": "rz8QBZJ2-DO5"
      },
      "source": [
        "### Non-targeted FGSM attack\n"
      ]
    },
    {
      "cell_type": "code",
      "metadata": {
        "id": "6LSemuYWrZWz",
        "colab": {
          "base_uri": "https://localhost:8080/",
          "height": 490
        },
        "outputId": "3441eee0-1b0c-48c0-b874-dfc20ac0841f"
      },
      "source": [
        "epsilon = 0.1\n",
        "\n",
        "adv_example_untargeted_label = fast_gradient_method(logits_model, original_image, epsilon, np.inf, targeted=False)\n",
        "\n",
        "adv_example_untargeted_label_pred = model.predict(adv_example_untargeted_label)\n",
        "\n",
        "#Show the image\n",
        "plt.figure()\n",
        "plt.grid(False)\n",
        "\n",
        "plt.imshow(np.reshape(adv_example_untargeted_label, (28,28)))\n",
        "plt.title(\"Model Prediction: {}\".format(np.argmax(adv_example_untargeted_label_pred)))\n",
        "plt.xlabel(\"Original Label: {}\".format(original_label[0]))\n",
        "\n",
        "plt.show()"
      ],
      "execution_count": 8,
      "outputs": [
        {
          "output_type": "stream",
          "name": "stdout",
          "text": [
            "1/1 [==============================] - 0s 17ms/step\n"
          ]
        },
        {
          "output_type": "display_data",
          "data": {
            "text/plain": [
              "<Figure size 640x480 with 1 Axes>"
            ],
            "image/png": "[encoded data removed]"
          },
          "metadata": {}
        }
      ]
    },
    {
      "cell_type": "markdown",
      "metadata": {
        "id": "-l-eIvZZvSC6"
      },
      "source": [
        "### Targeted FGSM Attack"
      ]
    },
    {
      "cell_type": "code",
      "metadata": {
        "id": "O4teWeVYvUGQ",
        "colab": {
          "base_uri": "https://localhost:8080/",
          "height": 490
        },
        "outputId": "225519ea-6353-4e7b-ac04-0755f7c99074"
      },
      "source": [
        "epsilon = 0.1\n",
        "# The target value may have to be changed to work, some images are more easily missclassified as different labels\n",
        "target = 2\n",
        "\n",
        "target_label = np.reshape(target, (1,)).astype('int64') # Give target label proper size and dtype to feed through\n",
        "\n",
        "adv_example_targeted_label = fast_gradient_method(logits_model, original_image, epsilon, np.inf, y=target_label, targeted=True)\n",
        "\n",
        "adv_example_targeted_label_pred = model.predict(adv_example_targeted_label)\n",
        "\n",
        "#Show the image\n",
        "plt.figure()\n",
        "plt.grid(False)\n",
        "\n",
        "plt.imshow(np.reshape(adv_example_targeted_label, (28,28)))\n",
        "plt.title(\"Model Prediction: {}\".format(np.argmax(adv_example_targeted_label_pred)))\n",
        "plt.xlabel(\"Original Label: {}\".format(original_label[0]))\n",
        "\n",
        "plt.show()"
      ],
      "execution_count": 9,
      "outputs": [
        {
          "output_type": "stream",
          "name": "stdout",
          "text": [
            "1/1 [==============================] - 0s 18ms/step\n"
          ]
        },
        {
          "output_type": "display_data",
          "data": {
            "text/plain": [
              "<Figure size 640x480 with 1 Axes>"
            ],
            "image/png": "[encoded data removed]"
          },
          "metadata": {}
        }
      ]
    },
    {
      "cell_type": "markdown",
      "metadata": {
        "id": "DlQ833TumOUC"
      },
      "source": [
        "### Other Docs\n",
        ">\n",
        "Find more tutorials for Cleverhans [here](https://github.com/tensorflow/cleverhans/tree/master/tutorials/future/tf2)."
      ]
    },
    {
      "cell_type": "markdown",
      "source": [
        "PGD attack (Madry etal)\n",
        "\n",
        "def madry_et_al(model_fn, x, eps, eps_iter, nb_iter, norm, clip_min=None, clip_max=None, y=None, targeted=False, rand_minmax=0.3, sanity_checks=True)"
      ],
      "metadata": {
        "id": "bZuFqqqdk6Xg"
      }
    },
    {
      "cell_type": "code",
      "source": [
        "epsilon = 0.25\n",
        "#import numpy as np\n",
        "#Attack parameters can be given in this form as well\n",
        "pgd_params = {'eps':0.25, 'eps_iter':0.01, 'nb_iter':20, 'norm':np.inf, 'clip_min':0.0, 'clip_max':1.0, 'targeted':False}\n",
        "\n",
        "\n",
        "adv_example_untargeted_label = madry_et_al(logits_model, original_image,epsilon, 0.01, 20, np.inf, targeted=False )\n",
        "\n",
        "adv_example_untargeted_label_pred = model.predict(adv_example_untargeted_label)\n",
        "\n",
        "#Show the image\n",
        "plt.figure()\n",
        "plt.grid(False)\n",
        "\n",
        "plt.imshow(np.reshape(adv_example_untargeted_label, (28,28)))\n",
        "plt.title(\"Model Prediction: {}\".format(np.argmax(adv_example_untargeted_label_pred)))\n",
        "plt.xlabel(\"Original Label: {}\".format(original_label[0]))\n",
        "\n",
        "plt.show()"
      ],
      "metadata": {
        "id": "tpY0yqbWlID4",
        "outputId": "0615c338-5ff8-46ed-8183-98cd0c699250",
        "colab": {
          "base_uri": "https://localhost:8080/",
          "height": 490
        }
      },
      "execution_count": 12,
      "outputs": [
        {
          "output_type": "stream",
          "name": "stdout",
          "text": [
            "1/1 [==============================] - 0s 19ms/step\n"
          ]
        },
        {
          "output_type": "display_data",
          "data": {
            "text/plain": [
              "<Figure size 640x480 with 1 Axes>"
            ],
            "image/png": "[encoded data removed]"
          },
          "metadata": {}
        }
      ]
    },
    {
      "cell_type": "markdown",
      "source": [
        "PGD attack"
      ],
      "metadata": {
        "id": "ROVUeMsUqffk"
      }
    },
    {
      "cell_type": "code",
      "source": [
        "epsilon = 0.25\n",
        "#import numpy as np\n",
        "#Attack parameters can be given in this form as well\n",
        "pgd_params = {'eps':0.25, 'eps_iter':0.01, 'nb_iter':20, 'norm':np.inf, 'clip_min':0.0, 'clip_max':1.0, 'targeted':False}\n",
        "\n",
        "\n",
        "adv_example_untargeted_label = madry_et_al(logits_model, original_image,epsilon, 0.01, 20, np.inf, targeted=False )\n",
        "\n",
        "adv_example_untargeted_label_pred = model.predict(adv_example_untargeted_label)\n",
        "\n",
        "#Show the image\n",
        "plt.figure()\n",
        "plt.grid(False)\n",
        "\n",
        "plt.imshow(np.reshape(adv_example_untargeted_label, (28,28)))\n",
        "plt.title(\"Model Prediction: {}\".format(np.argmax(adv_example_untargeted_label_pred)))\n",
        "plt.xlabel(\"Original Label: {}\".format(original_label[0]))\n",
        "\n",
        "plt.show()"
      ],
      "metadata": {
        "id": "9sFrrLq5m5hy"
      },
      "execution_count": null,
      "outputs": []
    }
  ]
}