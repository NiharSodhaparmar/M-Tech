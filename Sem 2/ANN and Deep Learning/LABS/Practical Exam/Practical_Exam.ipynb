{
  "nbformat": 4,
  "nbformat_minor": 0,
  "metadata": {
    "colab": {
      "provenance": []
    },
    "kernelspec": {
      "name": "python3",
      "display_name": "Python 3"
    },
    "language_info": {
      "name": "python"
    }
  },
  "cells": [
    {
      "cell_type": "code",
      "execution_count": 69,
      "metadata": {
        "id": "N6C23tCbggu1"
      },
      "outputs": [],
      "source": [
        "import numpy as np\n",
        "import pandas as pd\n",
        "import tensorflow as tf\n",
        "from sklearn.model_selection import train_test_split\n",
        "from sklearn.metrics import accuracy_score, balanced_accuracy_score, confusion_matrix, roc_curve, auc"
      ]
    },
    {
      "cell_type": "code",
      "source": [
        "url = 'https://archive.ics.uci.edu/ml/machine-learning-databases/iris/iris.data'\n",
        "names = ['sepal-length', 'sepal-width', 'petal-length', 'petal-width', 'class']\n",
        "dataset = pd.read_csv(url, names=names)"
      ],
      "metadata": {
        "id": "AiLa5VIYgjS2"
      },
      "execution_count": 70,
      "outputs": []
    },
    {
      "cell_type": "code",
      "source": [
        "# Split the dataset\n",
        "X = dataset.iloc[:, :-1].values\n",
        "y = dataset.iloc[:, -1].values\n"
      ],
      "metadata": {
        "id": "0PIZtVY-gqL4"
      },
      "execution_count": 71,
      "outputs": []
    },
    {
      "cell_type": "code",
      "source": [
        "print(len(X))\n",
        "print(len(y))"
      ],
      "metadata": {
        "colab": {
          "base_uri": "https://localhost:8080/"
        },
        "id": "fqyXTIDqjyRw",
        "outputId": "f298570e-316f-430f-e3c1-5df7209e510c"
      },
      "execution_count": 72,
      "outputs": [
        {
          "output_type": "stream",
          "name": "stdout",
          "text": [
            "150\n",
            "150\n"
          ]
        }
      ]
    },
    {
      "cell_type": "code",
      "source": [
        "# Encoding\n",
        "from sklearn.preprocessing import LabelEncoder\n",
        "encoder = LabelEncoder()\n",
        "y = encoder.fit_transform(y)\n"
      ],
      "metadata": {
        "id": "amGwnmv2gsqV"
      },
      "execution_count": 73,
      "outputs": []
    },
    {
      "cell_type": "code",
      "source": [
        "# Split the dataset\n",
        "X_train, X_test, y_train, y_test = train_test_split(X, y, test_size=0.2, random_state=1)\n"
      ],
      "metadata": {
        "id": "QOE0iRQ5gvZO"
      },
      "execution_count": 74,
      "outputs": []
    },
    {
      "cell_type": "code",
      "source": [
        "# Normalization\n",
        "from sklearn.preprocessing import StandardScaler\n",
        "scaler = StandardScaler()\n",
        "X_train = scaler.fit_transform(X_train)\n",
        "X_test = scaler.transform(X_test)"
      ],
      "metadata": {
        "id": "hKsJ8VKFgzvI"
      },
      "execution_count": 75,
      "outputs": []
    },
    {
      "cell_type": "code",
      "source": [
        "# model\n",
        "model = tf.keras.models.Sequential([\n",
        "    tf.keras.layers.Dense(units=18, activation='tanh', input_shape=(4,)),\n",
        "    tf.keras.layers.Dense(units=10, activation='tanh'),\n",
        "    tf.keras.layers.Dense(units=3, activation='softmax')\n",
        "])"
      ],
      "metadata": {
        "id": "niHhx2-og2g8"
      },
      "execution_count": 91,
      "outputs": []
    },
    {
      "cell_type": "code",
      "source": [
        "# Compile\n",
        "model.compile(optimizer='adam', loss='sparse_categorical_crossentropy', metrics=['accuracy'])"
      ],
      "metadata": {
        "id": "VEVmf8j2hK-b"
      },
      "execution_count": 92,
      "outputs": []
    },
    {
      "cell_type": "code",
      "source": [
        "# Model Training\n",
        "fitted_model = model.fit(X_train, y_train, epochs=40, batch_size=6)\n"
      ],
      "metadata": {
        "colab": {
          "base_uri": "https://localhost:8080/"
        },
        "id": "ElOohdCxg6Qr",
        "outputId": "818a3a91-a7cf-4ed1-d470-d5e72a55f59e"
      },
      "execution_count": 96,
      "outputs": [
        {
          "output_type": "stream",
          "name": "stdout",
          "text": [
            "Epoch 1/40\n",
            "20/20 [==============================] - 0s 3ms/step - loss: 0.1086 - accuracy: 0.9750\n",
            "Epoch 2/40\n",
            "20/20 [==============================] - 0s 2ms/step - loss: 0.1061 - accuracy: 0.9750\n",
            "Epoch 3/40\n",
            "20/20 [==============================] - 0s 2ms/step - loss: 0.1045 - accuracy: 0.9750\n",
            "Epoch 4/40\n",
            "20/20 [==============================] - 0s 2ms/step - loss: 0.1033 - accuracy: 0.9750\n",
            "Epoch 5/40\n",
            "20/20 [==============================] - 0s 2ms/step - loss: 0.0980 - accuracy: 0.9833\n",
            "Epoch 6/40\n",
            "20/20 [==============================] - 0s 2ms/step - loss: 0.0968 - accuracy: 0.9750\n",
            "Epoch 7/40\n",
            "20/20 [==============================] - 0s 2ms/step - loss: 0.0954 - accuracy: 0.9750\n",
            "Epoch 8/40\n",
            "20/20 [==============================] - 0s 2ms/step - loss: 0.0923 - accuracy: 0.9750\n",
            "Epoch 9/40\n",
            "20/20 [==============================] - 0s 3ms/step - loss: 0.0909 - accuracy: 0.9750\n",
            "Epoch 10/40\n",
            "20/20 [==============================] - 0s 2ms/step - loss: 0.0900 - accuracy: 0.9750\n",
            "Epoch 11/40\n",
            "20/20 [==============================] - 0s 3ms/step - loss: 0.0878 - accuracy: 0.9750\n",
            "Epoch 12/40\n",
            "20/20 [==============================] - 0s 2ms/step - loss: 0.0868 - accuracy: 0.9750\n",
            "Epoch 13/40\n",
            "20/20 [==============================] - 0s 2ms/step - loss: 0.0852 - accuracy: 0.9833\n",
            "Epoch 14/40\n",
            "20/20 [==============================] - 0s 2ms/step - loss: 0.0839 - accuracy: 0.9750\n",
            "Epoch 15/40\n",
            "20/20 [==============================] - 0s 2ms/step - loss: 0.0831 - accuracy: 0.9750\n",
            "Epoch 16/40\n",
            "20/20 [==============================] - 0s 2ms/step - loss: 0.0807 - accuracy: 0.9750\n",
            "Epoch 17/40\n",
            "20/20 [==============================] - 0s 2ms/step - loss: 0.0796 - accuracy: 0.9750\n",
            "Epoch 18/40\n",
            "20/20 [==============================] - 0s 2ms/step - loss: 0.0789 - accuracy: 0.9750\n",
            "Epoch 19/40\n",
            "20/20 [==============================] - 0s 2ms/step - loss: 0.0782 - accuracy: 0.9750\n",
            "Epoch 20/40\n",
            "20/20 [==============================] - 0s 3ms/step - loss: 0.0783 - accuracy: 0.9750\n",
            "Epoch 21/40\n",
            "20/20 [==============================] - 0s 2ms/step - loss: 0.0754 - accuracy: 0.9750\n",
            "Epoch 22/40\n",
            "20/20 [==============================] - 0s 3ms/step - loss: 0.0756 - accuracy: 0.9750\n",
            "Epoch 23/40\n",
            "20/20 [==============================] - 0s 2ms/step - loss: 0.0750 - accuracy: 0.9750\n",
            "Epoch 24/40\n",
            "20/20 [==============================] - 0s 2ms/step - loss: 0.0731 - accuracy: 0.9750\n",
            "Epoch 25/40\n",
            "20/20 [==============================] - 0s 2ms/step - loss: 0.0723 - accuracy: 0.9750\n",
            "Epoch 26/40\n",
            "20/20 [==============================] - 0s 2ms/step - loss: 0.0712 - accuracy: 0.9750\n",
            "Epoch 27/40\n",
            "20/20 [==============================] - 0s 2ms/step - loss: 0.0704 - accuracy: 0.9750\n",
            "Epoch 28/40\n",
            "20/20 [==============================] - 0s 2ms/step - loss: 0.0697 - accuracy: 0.9750\n",
            "Epoch 29/40\n",
            "20/20 [==============================] - 0s 2ms/step - loss: 0.0698 - accuracy: 0.9750\n",
            "Epoch 30/40\n",
            "20/20 [==============================] - 0s 2ms/step - loss: 0.0680 - accuracy: 0.9750\n",
            "Epoch 31/40\n",
            "20/20 [==============================] - 0s 2ms/step - loss: 0.0683 - accuracy: 0.9750\n",
            "Epoch 32/40\n",
            "20/20 [==============================] - 0s 2ms/step - loss: 0.0673 - accuracy: 0.9750\n",
            "Epoch 33/40\n",
            "20/20 [==============================] - 0s 3ms/step - loss: 0.0667 - accuracy: 0.9750\n",
            "Epoch 34/40\n",
            "20/20 [==============================] - 0s 2ms/step - loss: 0.0670 - accuracy: 0.9750\n",
            "Epoch 35/40\n",
            "20/20 [==============================] - 0s 2ms/step - loss: 0.0680 - accuracy: 0.9750\n",
            "Epoch 36/40\n",
            "20/20 [==============================] - 0s 2ms/step - loss: 0.0694 - accuracy: 0.9667\n",
            "Epoch 37/40\n",
            "20/20 [==============================] - 0s 2ms/step - loss: 0.0655 - accuracy: 0.9750\n",
            "Epoch 38/40\n",
            "20/20 [==============================] - 0s 2ms/step - loss: 0.0643 - accuracy: 0.9750\n",
            "Epoch 39/40\n",
            "20/20 [==============================] - 0s 2ms/step - loss: 0.0639 - accuracy: 0.9750\n",
            "Epoch 40/40\n",
            "20/20 [==============================] - 0s 2ms/step - loss: 0.0642 - accuracy: 0.9750\n"
          ]
        }
      ]
    },
    {
      "cell_type": "code",
      "source": [
        "y_pred = model.predict(X_test)\n",
        "y_pred = np.argmax(y_pred, axis=1)\n",
        "acc = accuracy_score(y_test, y_pred)\n",
        "balanced_acc = balanced_accuracy_score(y_test, y_pred)\n",
        "cm = confusion_matrix(y_test, y_pred)"
      ],
      "metadata": {
        "colab": {
          "base_uri": "https://localhost:8080/"
        },
        "id": "EN4z_y5ig909",
        "outputId": "80f35450-91c0-405a-f756-afb22f562d96"
      },
      "execution_count": 97,
      "outputs": [
        {
          "output_type": "stream",
          "name": "stdout",
          "text": [
            "1/1 [==============================] - 0s 22ms/step\n"
          ]
        }
      ]
    },
    {
      "cell_type": "code",
      "source": [
        "# evaluation metrics\n",
        "print(\"Accuracy: {:.2f}%\".format(acc * 100))\n",
        "print(\"Balanced Accuracy: {:.2f}%\".format(balanced_acc * 100))\n",
        "print(\"Confusion Matrix:\\n\", cm)"
      ],
      "metadata": {
        "colab": {
          "base_uri": "https://localhost:8080/"
        },
        "id": "sPwnN2KnhPwD",
        "outputId": "432a61e1-1605-429d-a195-bece8458dbab"
      },
      "execution_count": 100,
      "outputs": [
        {
          "output_type": "stream",
          "name": "stdout",
          "text": [
            "Accuracy: 96.67%\n",
            "Balanced Accuracy: 97.44%\n",
            "Confusion Matrix:\n",
            " [[11  0  0]\n",
            " [ 0 12  1]\n",
            " [ 0  0  6]]\n"
          ]
        }
      ]
    },
    {
      "cell_type": "code",
      "source": [
        "# fpr, tpr, thresholds = roc_curve(y_test, y_pred)\n",
        "# roc_auc = auc(fpr, tpr)"
      ],
      "metadata": {
        "id": "VRlS3ojehah7"
      },
      "execution_count": 101,
      "outputs": []
    },
    {
      "cell_type": "code",
      "source": [
        "# print(\"ROC AUC Score: {:.2f}%\".format(roc_auc * 100))"
      ],
      "metadata": {
        "id": "kMLI4QJTjAiK"
      },
      "execution_count": null,
      "outputs": []
    }
  ]
}