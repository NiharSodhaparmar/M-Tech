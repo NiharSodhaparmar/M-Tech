{
 "cells": [
  {
   "cell_type": "code",
   "execution_count": 1,
   "id": "cbc3ee7e",
   "metadata": {},
   "outputs": [],
   "source": [
    "import numpy as np"
   ]
  },
  {
   "cell_type": "code",
   "execution_count": 2,
   "id": "15eb9988",
   "metadata": {},
   "outputs": [
    {
     "name": "stdout",
     "output_type": "stream",
     "text": [
      "X:\n",
      "[[0.66666667 1.        ]\n",
      " [0.33333333 0.55555556]\n",
      " [1.         0.66666667]]\n",
      "y:\n",
      "[[0.92]\n",
      " [0.86]\n",
      " [0.89]]\n"
     ]
    }
   ],
   "source": [
    "# (hours sleeping, hours studying), y = test score of student\n",
    "X = np.array(([2,9], [1,5], [3,6]), dtype = float)\n",
    "y = np.array(([92], [86], [89]), dtype=float)\n",
    "\n",
    "# scale units\n",
    "X = X/np.amax(X, axis=0)\n",
    "y = y/100\n",
    "\n",
    "print(\"X:\\n\" + str(X))\n",
    "print(\"y:\\n\" + str(y))"
   ]
  },
  {
   "cell_type": "code",
   "execution_count": 3,
   "id": "9aba27cb",
   "metadata": {},
   "outputs": [],
   "source": [
    "class NeuralNetwork(object):\n",
    "    def __init__(self, inputSize, outputSize, hiddenSize):\n",
    "        #parameters\n",
    "        self.inputSize = inputSize\n",
    "        self.outputSize = outputSize\n",
    "        self.hiddenSize = hiddenSize\n",
    "        \n",
    "        #weights\n",
    "        self.W1 = np.random.randn(self.inputSize, self.hiddenSize) # 2*3 matrix\n",
    "        self.W2 = np.random.rand(self.hiddenSize, self.outputSize) # 3*1 matrix\n",
    "        \n",
    "    \n",
    "    def sigmoid(self, s, deriv=False):\n",
    "        if(deriv == True):\n",
    "            return s*(1 - s)\n",
    "        return 1/(1 + np.exp(-s))\n",
    "    \n",
    "    \n",
    "    def feedForward(self, X):\n",
    "        \n",
    "        #layer1 output\n",
    "        self.z = np.dot(X, self.W1) # dot product of X(input) and first set of weights\n",
    "        self.z2 = self.sigmoid(self.z)\n",
    "        \n",
    "        #layer2 output\n",
    "        self.z3 = np.dot(self.z2, self.W2) # dot product of hidden layer and second set of weights\n",
    "        output = self.sigmoid(self.z3)\n",
    "        \n",
    "        return output\n",
    "    \n",
    "    \n",
    "    def backward(self, X, y, output):\n",
    "        # calculate dela\n",
    "        self.output_error = y - output\n",
    "        self.output_delta = self.output_error * self.sigmoid(output, deriv=True)\n",
    "        \n",
    "        self.z2_error = np.dot(self.output_delta, self.W2.T)\n",
    "        self.z2_delta = self.z2_error * self.sigmoid(self.z2, deriv=True)\n",
    "        \n",
    "        # update weights\n",
    "        self.W1 = self.W1 + np.dot(X.T, self.z2_delta)\n",
    "        self.W2 = self.W2 + np.dot(self.z2.T, self.output_delta)\n",
    "        \n",
    "        \n",
    "    def train(self, X, y):\n",
    "        output = self.feedForward(X)\n",
    "        self.backward(X, y, output)\n",
    "        "
   ]
  },
  {
   "cell_type": "code",
   "execution_count": 6,
   "id": "d2356e96",
   "metadata": {},
   "outputs": [
    {
     "name": "stdout",
     "output_type": "stream",
     "text": [
      "Input:\n",
      "[[0.66666667 1.        ]\n",
      " [0.33333333 0.55555556]\n",
      " [1.         0.66666667]]\n",
      "\n",
      "\n",
      "Actual Output:\n",
      "[[0.92]\n",
      " [0.86]\n",
      " [0.89]]\n",
      "\n",
      "\n",
      "Predicted Output:\n",
      "[[0.89002913]\n",
      " [0.87923258]\n",
      " [0.90358715]]\n",
      "\n",
      "\n",
      "Loss:\n",
      " 0.00048425196456655293\n"
     ]
    }
   ],
   "source": [
    "NN = NeuralNetwork(inputSize=2, outputSize=1, hiddenSize=3)\n",
    "\n",
    "for i in range(1000):\n",
    "    NN.train(X, y)\n",
    "\n",
    "print(\"Input:\\n\" + str(X))\n",
    "print(\"\\n\")\n",
    "\n",
    "print(\"Actual Output:\\n\" + str(y))\n",
    "print(\"\\n\")\n",
    "\n",
    "print(\"Predicted Output:\\n\" + str(NN.feedForward(X)))\n",
    "print(\"\\n\")\n",
    "\n",
    "print(\"Loss:\\n\", np.mean(np.square(y - NN.feedForward(X))))"
   ]
  },
  {
   "cell_type": "code",
   "execution_count": null,
   "id": "988b3a87",
   "metadata": {},
   "outputs": [],
   "source": []
  }
 ],
 "metadata": {
  "kernelspec": {
   "display_name": "Python 3 (ipykernel)",
   "language": "python",
   "name": "python3"
  },
  "language_info": {
   "codemirror_mode": {
    "name": "ipython",
    "version": 3
   },
   "file_extension": ".py",
   "mimetype": "text/x-python",
   "name": "python",
   "nbconvert_exporter": "python",
   "pygments_lexer": "ipython3",
   "version": "3.9.0"
  }
 },
 "nbformat": 4,
 "nbformat_minor": 5
}
