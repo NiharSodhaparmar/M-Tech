{
 "cells": [
  {
   "cell_type": "code",
   "execution_count": 1,
   "id": "cbc3ee7e",
   "metadata": {},
   "outputs": [],
   "source": [
    "import numpy as np"
   ]
  },
  {
   "cell_type": "code",
   "execution_count": 2,
   "id": "15eb9988",
   "metadata": {},
   "outputs": [
    {
     "name": "stdout",
     "output_type": "stream",
     "text": [
      "X:\n",
      "[0.22222222 1.        ]\n",
      "y:\n",
      "[0.92]\n"
     ]
    }
   ],
   "source": [
    "# (hours sleeping, hours studying), y = test score of student\n",
    "X = np.array(([2,9]), dtype = float)\n",
    "y = np.array(([92]), dtype=float)\n",
    "\n",
    "# scale units\n",
    "X = X/np.amax(X, axis=0)\n",
    "y = y/100\n",
    "\n",
    "print(\"X:\\n\" + str(X))\n",
    "print(\"y:\\n\" + str(y))"
   ]
  },
  {
   "cell_type": "code",
   "execution_count": 3,
   "id": "9aba27cb",
   "metadata": {},
   "outputs": [],
   "source": [
    "class NeuralNetwork(object):\n",
    "    def __init__(self, inputSize, outputSize, hiddenSize, hiddenLayers, epochs=1000):\n",
    "        # parameters\n",
    "        self.inputSize = inputSize\n",
    "        self.outputSize = outputSize\n",
    "        self.hiddenSize = hiddenSize\n",
    "        self.hiddenLayers = hiddenLayers\n",
    "        self.epochs = epochs\n",
    "        self.W = [0] * (hiddenLayers+1)\n",
    "                \n",
    "        # weights initialization\n",
    "        for i in range(self.hiddenLayers):\n",
    "            if(i==0):\n",
    "                self.W[i] = np.random.randn(self.inputSize, self.hiddenSize[i])\n",
    "            else:\n",
    "                self.W[i] = np.random.rand(self.hiddenSize[i-1], self.hiddenSize[i])\n",
    "        \n",
    "        self.W[self.hiddenLayers] = np.random.rand(self.hiddenSize[self.hiddenLayers-1], self.outputSize)\n",
    "        \n",
    "        #for i in range(len(self.W)):\n",
    "        #    print(\"W[\" + str(i) + \"]\")\n",
    "        #    print(self.W[i])\n",
    "        #    \n",
    "        #print(\"\\n\")\n",
    "        \n",
    "    \n",
    "    def sigmoid(self, s, deriv=False):\n",
    "        if(deriv == True):\n",
    "            return s*(1 - s)\n",
    "        return 1/(1 + np.exp(-s))\n",
    "    \n",
    "    \n",
    "    def feedForward(self, X):\n",
    "        self.Z = []\n",
    "        \n",
    "        for i in range(self.hiddenLayers + 1):\n",
    "            if(i==0):\n",
    "                self.Z.append(self.sigmoid(np.dot(X, self.W[i])))\n",
    "            else:\n",
    "                self.Z.append(self.sigmoid(np.dot(self.Z[i-1], self.W[i])))\n",
    "            \n",
    "        #for i in range(len(self.Z)):\n",
    "        #    print(\"Z[\" + str(i) + \"]\")\n",
    "        #    print(self.Z[i])\n",
    "        #    \n",
    "        #print(\"\\n\")\n",
    "        \n",
    "        return self.Z[self.hiddenLayers]\n",
    "    \n",
    "    \n",
    "    def backward(self, X, y):\n",
    "        self.error = [0] * (self.hiddenLayers+1)\n",
    "        self.delta = [0] * (self.hiddenLayers+1)        \n",
    "\n",
    "        for i in range(self.hiddenLayers, -1, -1):\n",
    "            if(i==self.hiddenLayers):\n",
    "                self.error[i] = y - self.Z[i]\n",
    "                self.delta[i] = self.error[i] * self.sigmoid(self.Z[i], deriv=True)\n",
    "            else:\n",
    "                self.error[i] = np.dot(self.delta[i+1], self.W[i+1].T)\n",
    "                self.delta[i] = self.error[i] * self.sigmoid(self.Z[i], deriv=True)\n",
    "            \n",
    "        \n",
    "        \n",
    "        for i in range(self.hiddenLayers + 1):\n",
    "            if(i==0):\n",
    "                self.W[i] = self.W[i] + np.dot(X.reshape(1,self.inputSize).T, self.Z[i].reshape(1,self.hiddenSize[i]))\n",
    "            else:\n",
    "                self.W[i] = self.W[i] + np.dot(self.Z[i].T, self.delta[i])\n",
    "                    \n",
    "        \n",
    "    def train(self, X, y):\n",
    "        for i in range(self.epochs):\n",
    "            self.feedForward(X)\n",
    "            self.backward(X, y)\n",
    "        "
   ]
  },
  {
   "cell_type": "code",
   "execution_count": 4,
   "id": "d2356e96",
   "metadata": {
    "scrolled": false
   },
   "outputs": [
    {
     "name": "stdout",
     "output_type": "stream",
     "text": [
      "Input:\n",
      "[0.22222222 1.        ]\n",
      "\n",
      "\n",
      "Actual Output:\n",
      "[0.92]\n",
      "\n",
      "\n",
      "Predicted Output:\n",
      "[0.92]\n",
      "\n",
      "\n",
      "Loss:\n",
      " 2.785963068699026e-23\n"
     ]
    }
   ],
   "source": [
    "NN = NeuralNetwork(inputSize=2, outputSize=1, hiddenSize=[3,5,5], hiddenLayers=3, epochs=1000)\n",
    "\n",
    "NN.train(X, y)\n",
    "\n",
    "print(\"Input:\\n\" + str(X))\n",
    "print(\"\\n\")\n",
    "\n",
    "print(\"Actual Output:\\n\" + str(y))\n",
    "print(\"\\n\")\n",
    "\n",
    "print(\"Predicted Output:\\n\" + str(NN.feedForward(X)))\n",
    "print(\"\\n\")\n",
    "\n",
    "print(\"Loss:\\n\", np.mean(np.square(y - NN.feedForward(X))))"
   ]
  },
  {
   "cell_type": "code",
   "execution_count": null,
   "id": "c54cbdf4",
   "metadata": {},
   "outputs": [],
   "source": []
  }
 ],
 "metadata": {
  "kernelspec": {
   "display_name": "Python 3 (ipykernel)",
   "language": "python",
   "name": "python3"
  },
  "language_info": {
   "codemirror_mode": {
    "name": "ipython",
    "version": 3
   },
   "file_extension": ".py",
   "mimetype": "text/x-python",
   "name": "python",
   "nbconvert_exporter": "python",
   "pygments_lexer": "ipython3",
   "version": "3.9.0"
  }
 },
 "nbformat": 4,
 "nbformat_minor": 5
}
