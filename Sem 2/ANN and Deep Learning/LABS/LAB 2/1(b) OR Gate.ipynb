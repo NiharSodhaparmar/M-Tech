{
 "cells": [
  {
   "cell_type": "markdown",
   "id": "8d541c35",
   "metadata": {},
   "source": [
    "## Implement from scratch linearly separable Gates: AND & OR gate using a Single Neuron."
   ]
  },
  {
   "cell_type": "markdown",
   "id": "b880bf6c",
   "metadata": {},
   "source": [
    "## 1(b) OR Gate"
   ]
  },
  {
   "cell_type": "code",
   "execution_count": 1,
   "id": "180bd0b6",
   "metadata": {},
   "outputs": [],
   "source": [
    "import numpy as np"
   ]
  },
  {
   "cell_type": "code",
   "execution_count": 2,
   "id": "cd8fc716",
   "metadata": {},
   "outputs": [],
   "source": [
    "w_1 = np.random.rand()\n",
    "w_2 = np.random.rand()\n",
    "theta = np.random.rand()"
   ]
  },
  {
   "cell_type": "code",
   "execution_count": 3,
   "id": "e2771aa8",
   "metadata": {},
   "outputs": [
    {
     "name": "stdout",
     "output_type": "stream",
     "text": [
      "w_1:  0.2880536217557784\n",
      "w_2:  0.39444607923284314\n",
      "theta:  0.17189512915131522\n"
     ]
    }
   ],
   "source": [
    "print(\"w_1: \", w_1)\n",
    "print(\"w_2: \", w_2)\n",
    "print(\"theta: \", theta)"
   ]
  },
  {
   "cell_type": "code",
   "execution_count": 4,
   "id": "f3bd8dca",
   "metadata": {},
   "outputs": [],
   "source": [
    "x = [ [0,0], [0,1], [1,0], [1,1]]\n",
    "x_array = np.asarray(x)\n",
    "# expected outputs (OR port is the product of each entry\n",
    "out = x_array[:, 1] | x_array[:, 0]"
   ]
  },
  {
   "cell_type": "code",
   "execution_count": 5,
   "id": "c8eadaf0",
   "metadata": {},
   "outputs": [
    {
     "name": "stdout",
     "output_type": "stream",
     "text": [
      "out:  [0 1 1 1]\n"
     ]
    }
   ],
   "source": [
    "print(\"out: \", out)"
   ]
  },
  {
   "cell_type": "code",
   "execution_count": 6,
   "id": "2166ccc4",
   "metadata": {},
   "outputs": [],
   "source": [
    "#step function \n",
    "def threshold(net):\n",
    "    if net > 0:\n",
    "        return 1\n",
    "    else:\n",
    "        return 0"
   ]
  },
  {
   "cell_type": "markdown",
   "id": "162c388f",
   "metadata": {},
   "source": [
    "## Output and Error for random weights"
   ]
  },
  {
   "cell_type": "code",
   "execution_count": 7,
   "id": "05e2e521",
   "metadata": {},
   "outputs": [
    {
     "name": "stdout",
     "output_type": "stream",
     "text": [
      "w_1:  0.2880536217557784\n",
      "w_2:  0.39444607923284314\n",
      "x[i]:  [0, 0]\n",
      "np.asarray([w_1, w_2]) [0.28805362 0.39444608]\n",
      "xxx:  0.0\n",
      "+theta 0.17189512915131522\n",
      "f_net 1\n",
      "######################################\n",
      "w_1:  0.2880536217557784\n",
      "w_2:  0.39444607923284314\n",
      "x[i]:  [0, 1]\n",
      "np.asarray([w_1, w_2]) [0.28805362 0.39444608]\n",
      "xxx:  0.39444607923284314\n",
      "+theta 0.5663412083841584\n",
      "f_net 1\n",
      "######################################\n",
      "w_1:  0.2880536217557784\n",
      "w_2:  0.39444607923284314\n",
      "x[i]:  [1, 0]\n",
      "np.asarray([w_1, w_2]) [0.28805362 0.39444608]\n",
      "xxx:  0.2880536217557784\n",
      "+theta 0.45994875090709364\n",
      "f_net 1\n",
      "######################################\n",
      "w_1:  0.2880536217557784\n",
      "w_2:  0.39444607923284314\n",
      "x[i]:  [1, 1]\n",
      "np.asarray([w_1, w_2]) [0.28805362 0.39444608]\n",
      "xxx:  0.6824997009886216\n",
      "+theta 0.8543948301399368\n",
      "f_net 1\n",
      "######################################\n",
      "Error:  -1\n"
     ]
    }
   ],
   "source": [
    "#the error vector \n",
    "error = np.array([0,0,0,0])\n",
    "for i in range(len(x)):\n",
    "    f_net = threshold(np.dot(np.asarray([w_1, w_2]) , x[i])  + theta)\n",
    "    print(\"w_1: \", w_1)\n",
    "    print(\"w_2: \", w_2)\n",
    "    print(\"x[i]: \", x[i])\n",
    "    print(\"np.asarray([w_1, w_2])\", np.asarray([w_1, w_2]))\n",
    "    print(\"xxx: \", np.dot(np.asarray([w_1, w_2]) , x[i]))\n",
    "    print(\"+theta\", np.dot(np.asarray([w_1, w_2]) , x[i])  + theta)\n",
    "    print(\"f_net\", f_net)\n",
    "    print(\"######################################\")\n",
    "    error[i] = out[i] - f_net\n",
    "E = np.sum(error)\n",
    "print(\"Error: \", E)"
   ]
  },
  {
   "cell_type": "code",
   "execution_count": 8,
   "id": "b4194df8",
   "metadata": {},
   "outputs": [
    {
     "name": "stdout",
     "output_type": "stream",
     "text": [
      "sum of errors -1\n",
      "sum of errors -1\n",
      "sum of errors 0\n"
     ]
    }
   ],
   "source": [
    "max_it = 1000\n",
    "t = 1\n",
    "learning_rate=0.1\n",
    "vals = [[w_1, w_2, theta]]\n",
    "while t < max_it & E != 0:\n",
    "    for i in range(len(x)):\n",
    "        f_net = threshold(np.dot(np.asarray([w_1, w_2]) , x[i])  + theta)\n",
    "        error[i] = out[i] - f_net\n",
    "        w_1 = w_1 + learning_rate * error[i] * x[i][0]\n",
    "        w_2 = w_2 + learning_rate * error[i] * x[i][1]\n",
    "        theta = theta + learning_rate*error[i]\n",
    "    \n",
    "    vals.append([w_1, w_2, theta])\n",
    "    E = np.sum(error)\n",
    "    print('sum of errors', E)\n",
    "    t = t+1"
   ]
  },
  {
   "cell_type": "code",
   "execution_count": 9,
   "id": "d1ec88ee",
   "metadata": {},
   "outputs": [
    {
     "name": "stdout",
     "output_type": "stream",
     "text": [
      "[[0.2880536217557784, 0.39444607923284314, 0.17189512915131522], [0.2880536217557784, 0.39444607923284314, 0.07189512915131521], [0.2880536217557784, 0.39444607923284314, -0.028104870848684793], [0.2880536217557784, 0.39444607923284314, -0.028104870848684793]]\n"
     ]
    }
   ],
   "source": [
    "print(vals)"
   ]
  },
  {
   "cell_type": "code",
   "execution_count": 10,
   "id": "315e180a",
   "metadata": {},
   "outputs": [
    {
     "name": "stdout",
     "output_type": "stream",
     "text": [
      "w_1:  0.2880536217557784\n",
      "w_2:  0.39444607923284314\n",
      "theta:  -0.028104870848684793\n"
     ]
    }
   ],
   "source": [
    "print(\"w_1: \", w_1)\n",
    "print(\"w_2: \", w_2)\n",
    "print(\"theta: \", theta)"
   ]
  },
  {
   "cell_type": "code",
   "execution_count": 11,
   "id": "478ee86e",
   "metadata": {},
   "outputs": [],
   "source": [
    "def predict(x):\n",
    "    return threshold(w_1*x[0] + w_2*x[1] + theta)"
   ]
  },
  {
   "cell_type": "code",
   "execution_count": 12,
   "id": "e7c3e5b2",
   "metadata": {},
   "outputs": [
    {
     "name": "stdout",
     "output_type": "stream",
     "text": [
      "Predicted value: \n",
      "[ 0 , 0 ]:  0\n",
      "[ 0 , 1 ]:  1\n",
      "[ 1 , 0 ]:  1\n",
      "[ 1 , 1 ]:  1\n"
     ]
    }
   ],
   "source": [
    "print(\"Predicted value: \")\n",
    "\n",
    "for i in x:\n",
    "    print(\"[\", i[0], \",\", i[1], \"]: \", predict(i))"
   ]
  },
  {
   "cell_type": "code",
   "execution_count": null,
   "id": "e60a398d",
   "metadata": {},
   "outputs": [],
   "source": []
  }
 ],
 "metadata": {
  "kernelspec": {
   "display_name": "Python 3 (ipykernel)",
   "language": "python",
   "name": "python3"
  },
  "language_info": {
   "codemirror_mode": {
    "name": "ipython",
    "version": 3
   },
   "file_extension": ".py",
   "mimetype": "text/x-python",
   "name": "python",
   "nbconvert_exporter": "python",
   "pygments_lexer": "ipython3",
   "version": "3.9.0"
  }
 },
 "nbformat": 4,
 "nbformat_minor": 5
}
