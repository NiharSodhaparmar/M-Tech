{
 "cells": [
  {
   "cell_type": "markdown",
   "id": "2edd32a2",
   "metadata": {},
   "source": [
    "## Implement from scratch linearly separable Gates: AND & OR gate using a Single Neuron."
   ]
  },
  {
   "cell_type": "markdown",
   "id": "412f5470",
   "metadata": {},
   "source": [
    "## 1(a). AND Gate"
   ]
  },
  {
   "cell_type": "code",
   "execution_count": 1,
   "id": "65c5415a",
   "metadata": {},
   "outputs": [],
   "source": [
    "import numpy as np"
   ]
  },
  {
   "cell_type": "code",
   "execution_count": 2,
   "id": "9346cd63",
   "metadata": {},
   "outputs": [],
   "source": [
    "class perceptron:\n",
    "    W_0 = np.random.rand()\n",
    "    W_1 = np.random.rand()\n",
    "    W_2 = np.random.rand()\n",
    "    learning_rate = 0.01\n",
    "    epoch = 1000\n",
    "    X = None\n",
    "    Y = None\n",
    "    \n",
    "    def __init__(self, X, Y, learning_rate = 0.01, epoch = 1000):\n",
    "        self.X = X\n",
    "        self.Y = Y\n",
    "        self.learning_rate = learning_rate\n",
    "        self.epoch = epoch\n",
    "        \n",
    "    def threshold(self, net):\n",
    "        if net > 0:\n",
    "            return 1\n",
    "        else:\n",
    "            return 0\n",
    "        \n",
    "    def fit(self):\n",
    "        itr = 1\n",
    "        while itr < self.epoch:\n",
    "            for i in range(len(self.X)):\n",
    "                f_net = self.threshold(self.W_1*X[i][0] + self.W_2*X[i][1]  + self.W_0)\n",
    "                error = self.Y[i] - f_net\n",
    "                self.W_1 = self.W_1 + self.learning_rate * error * self.X[i][0]\n",
    "                self.W_2 = self.W_2 + self.learning_rate * error * self.X[i][1]\n",
    "                self.W_0 = self.W_0 + self.learning_rate*error\n",
    "\n",
    "            itr = itr+1\n",
    "            \n",
    "    def predict(self, x):\n",
    "        return self.threshold(self.W_1*x[0] + self.W_2*x[1]  + self.W_0)"
   ]
  },
  {
   "cell_type": "code",
   "execution_count": 3,
   "id": "ab8006b0",
   "metadata": {},
   "outputs": [],
   "source": [
    "X = [ [0,0], [0,1], [1,0], [1,1]]\n",
    "Y = [0, 0, 0, 1]"
   ]
  },
  {
   "cell_type": "code",
   "execution_count": 4,
   "id": "c656fc0b",
   "metadata": {},
   "outputs": [],
   "source": [
    "and_gate = perceptron(X, Y, 0.01, 1000)"
   ]
  },
  {
   "cell_type": "code",
   "execution_count": 5,
   "id": "c570a4c5",
   "metadata": {},
   "outputs": [],
   "source": [
    "and_gate.fit()"
   ]
  },
  {
   "cell_type": "code",
   "execution_count": 6,
   "id": "d777ba6f",
   "metadata": {},
   "outputs": [
    {
     "name": "stdout",
     "output_type": "stream",
     "text": [
      "[0, 0] : 0\n",
      "[0, 1] : 0\n",
      "[1, 0] : 0\n",
      "[1, 1] : 1\n"
     ]
    }
   ],
   "source": [
    "for i in X:\n",
    "    print(i, \":\", and_gate.predict(i))"
   ]
  },
  {
   "cell_type": "code",
   "execution_count": null,
   "id": "f4583f95",
   "metadata": {},
   "outputs": [],
   "source": []
  }
 ],
 "metadata": {
  "kernelspec": {
   "display_name": "Python 3 (ipykernel)",
   "language": "python",
   "name": "python3"
  },
  "language_info": {
   "codemirror_mode": {
    "name": "ipython",
    "version": 3
   },
   "file_extension": ".py",
   "mimetype": "text/x-python",
   "name": "python",
   "nbconvert_exporter": "python",
   "pygments_lexer": "ipython3",
   "version": "3.9.0"
  }
 },
 "nbformat": 4,
 "nbformat_minor": 5
}
