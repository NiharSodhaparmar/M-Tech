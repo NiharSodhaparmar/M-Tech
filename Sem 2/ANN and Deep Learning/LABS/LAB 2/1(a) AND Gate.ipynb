{
 "cells": [
  {
   "cell_type": "markdown",
   "id": "2edd32a2",
   "metadata": {},
   "source": [
    "## Implement from scratch linearly separable Gates: AND & OR gate using a Single Neuron."
   ]
  },
  {
   "cell_type": "markdown",
   "id": "412f5470",
   "metadata": {},
   "source": [
    "## 1(a). AND Gate"
   ]
  },
  {
   "cell_type": "code",
   "execution_count": 1,
   "id": "65c5415a",
   "metadata": {},
   "outputs": [],
   "source": [
    "import numpy as np"
   ]
  },
  {
   "cell_type": "code",
   "execution_count": 2,
   "id": "8e3211e8",
   "metadata": {},
   "outputs": [],
   "source": [
    "w = np.random.rand(1,3) * 10\n",
    "w_1 = np.round(w[0][0], 1)\n",
    "w_2 = np.round(w[0][1], 1)\n",
    "theta = np.round(w[0][2], 1)"
   ]
  },
  {
   "cell_type": "code",
   "execution_count": 3,
   "id": "85856439",
   "metadata": {},
   "outputs": [
    {
     "name": "stdout",
     "output_type": "stream",
     "text": [
      "w:  [[2.90465059 5.71441003 4.30785874]]\n",
      "w_1:  2.9\n",
      "w_2:  5.7\n",
      "theta:  4.3\n"
     ]
    }
   ],
   "source": [
    "print(\"w: \", w)\n",
    "print(\"w_1: \", w_1)\n",
    "print(\"w_2: \", w_2)\n",
    "print(\"theta: \", theta)"
   ]
  },
  {
   "cell_type": "code",
   "execution_count": 4,
   "id": "1f6cc41d",
   "metadata": {},
   "outputs": [],
   "source": [
    "x = [ [0,0], [0,1], [1,0], [1,1]]\n",
    "x_array = np.asarray(x)\n",
    "# expected outputs (AND port is the product of each entry\n",
    "out = x_array[:, 1] * x_array[:, 0]"
   ]
  },
  {
   "cell_type": "code",
   "execution_count": 5,
   "id": "7992ef59",
   "metadata": {},
   "outputs": [
    {
     "name": "stdout",
     "output_type": "stream",
     "text": [
      "out:  [0 0 0 1]\n"
     ]
    }
   ],
   "source": [
    "print(\"out: \", out)"
   ]
  },
  {
   "cell_type": "code",
   "execution_count": 6,
   "id": "1cfa15c1",
   "metadata": {},
   "outputs": [],
   "source": [
    "#step function \n",
    "def threshold(net):\n",
    "    if net >= 1:\n",
    "        return 1\n",
    "    else:\n",
    "        return 0"
   ]
  },
  {
   "cell_type": "markdown",
   "id": "5f49e867",
   "metadata": {},
   "source": [
    "## Output and Error for random weights"
   ]
  },
  {
   "cell_type": "code",
   "execution_count": null,
   "id": "f6564fb2",
   "metadata": {},
   "outputs": [],
   "source": [
    "#the error vector \n",
    "error = np.array([0,0,0,0])\n",
    "for i in range(len(x)):\n",
    "    f_net = threshold(np.dot(np.asarray([w_1, w_2]) , x[i])  + theta)\n",
    "    print(\"w_1: \", w_1)\n",
    "    print(\"w_2: \", w_2)\n",
    "    print(\"x[i]: \", x[i])\n",
    "    print(\"np.asarray([w_1, w_2])\", np.asarray([w_1, w_2]))\n",
    "    print(\"xxx: \", np.dot(np.asarray([w_1, w_2]) , x[i]))\n",
    "    print(\"+theta\", np.dot(np.asarray([w_1, w_2]) , x[i])  + theta)\n",
    "    print(\"f_net\", f_net)\n",
    "    print(\"######################################\")\n",
    "    error[i] = out[i] - f_net\n",
    "E = np.sum(error)\n",
    "print(\"Error: \", E)"
   ]
  },
  {
   "cell_type": "code",
   "execution_count": 10,
   "id": "229a7d5d",
   "metadata": {},
   "outputs": [
    {
     "name": "stdout",
     "output_type": "stream",
     "text": [
      "sum of errors -3\n",
      "sum of errors -3\n",
      "sum of errors -3\n",
      "sum of errors -3\n",
      "sum of errors -3\n",
      "sum of errors -3\n",
      "sum of errors -3\n",
      "sum of errors -3\n",
      "sum of errors -3\n",
      "sum of errors -3\n",
      "sum of errors -3\n",
      "sum of errors -2\n",
      "sum of errors -2\n",
      "sum of errors -2\n",
      "sum of errors -2\n",
      "sum of errors -2\n",
      "sum of errors -2\n",
      "sum of errors -1\n",
      "sum of errors -1\n",
      "sum of errors -1\n",
      "sum of errors -1\n",
      "sum of errors -1\n",
      "sum of errors -1\n",
      "sum of errors -1\n",
      "sum of errors -1\n",
      "sum of errors -1\n",
      "sum of errors -1\n",
      "sum of errors -1\n",
      "sum of errors -1\n",
      "sum of errors -1\n",
      "sum of errors -1\n",
      "sum of errors -1\n",
      "sum of errors 0\n"
     ]
    }
   ],
   "source": [
    "max_it = 1000\n",
    "t = 1\n",
    "learning_rate=0.1\n",
    "vals = [[w_1, w_2, theta]]\n",
    "while t < max_it & E != 0:\n",
    "    for i in range(len(x)):\n",
    "        f_net = threshold(np.dot(np.asarray([w_1, w_2]) , x[i])  + theta)\n",
    "        error[i] = out[i] - f_net\n",
    "        w_1 = w_1 + learning_rate * error[i] * x[i][0]\n",
    "        w_2 = w_2 + learning_rate * error[i] * x[i][1]\n",
    "        theta = theta + learning_rate*error[i]\n",
    "    \n",
    "    vals.append([w_1, w_2, theta])\n",
    "    E = np.sum(error)\n",
    "    print('sum of errors', E)\n",
    "    t = t+1"
   ]
  },
  {
   "cell_type": "code",
   "execution_count": 11,
   "id": "dbe570cd",
   "metadata": {},
   "outputs": [
    {
     "name": "stdout",
     "output_type": "stream",
     "text": [
      "[[2.9, 5.7, 4.3], [2.8, 5.6000000000000005, 4.000000000000001], [2.6999999999999997, 5.500000000000001, 3.7000000000000006], [2.5999999999999996, 5.400000000000001, 3.4000000000000004], [2.4999999999999996, 5.300000000000002, 3.1], [2.3999999999999995, 5.200000000000002, 2.8], [2.2999999999999994, 5.100000000000002, 2.4999999999999996], [2.1999999999999993, 5.000000000000003, 2.1999999999999993], [2.099999999999999, 4.900000000000003, 1.899999999999999], [1.9999999999999991, 4.800000000000003, 1.5999999999999988], [1.899999999999999, 4.700000000000004, 1.2999999999999985], [1.799999999999999, 4.600000000000004, 0.9999999999999983], [1.6999999999999988, 4.500000000000004, 0.7999999999999984], [1.5999999999999988, 4.400000000000005, 0.5999999999999984], [1.4999999999999987, 4.300000000000005, 0.39999999999999847], [1.3999999999999986, 4.2000000000000055, 0.19999999999999848], [1.2999999999999985, 4.100000000000006, -1.5265566588595902e-15], [1.1999999999999984, 4.000000000000006, -0.20000000000000154], [1.1999999999999984, 3.900000000000006, -0.30000000000000154], [1.1999999999999984, 3.800000000000006, -0.4000000000000016], [1.1999999999999984, 3.700000000000006, -0.5000000000000016], [1.1999999999999984, 3.600000000000006, -0.6000000000000015], [1.1999999999999984, 3.5000000000000058, -0.7000000000000015], [1.1999999999999984, 3.4000000000000057, -0.8000000000000015], [1.1999999999999984, 3.3000000000000056, -0.9000000000000015], [1.1999999999999984, 3.2000000000000055, -1.0000000000000016], [1.1999999999999984, 3.1000000000000054, -1.1000000000000016], [1.1999999999999984, 3.0000000000000053, -1.2000000000000017], [1.1999999999999984, 2.9000000000000052, -1.3000000000000018], [1.1999999999999984, 2.800000000000005, -1.400000000000002], [1.1999999999999984, 2.700000000000005, -1.500000000000002], [1.1999999999999984, 2.600000000000005, -1.600000000000002], [1.1999999999999984, 2.500000000000005, -1.7000000000000022], [1.1999999999999984, 2.500000000000005, -1.7000000000000022]]\n"
     ]
    }
   ],
   "source": [
    "print(vals)"
   ]
  },
  {
   "cell_type": "code",
   "execution_count": 12,
   "id": "69475075",
   "metadata": {},
   "outputs": [
    {
     "name": "stdout",
     "output_type": "stream",
     "text": [
      "w_1:  1.1999999999999984\n",
      "w_2:  2.500000000000005\n",
      "theta:  -1.7000000000000022\n"
     ]
    }
   ],
   "source": [
    "print(\"w_1: \", w_1)\n",
    "print(\"w_2: \", w_2)\n",
    "print(\"theta: \", theta)"
   ]
  },
  {
   "cell_type": "code",
   "execution_count": 23,
   "id": "a90624fc",
   "metadata": {},
   "outputs": [],
   "source": [
    "def predict(x):\n",
    "    return threshold(w_1*x[0] + w_2*x[1] + theta)"
   ]
  },
  {
   "cell_type": "code",
   "execution_count": 25,
   "id": "e4eb7ff6",
   "metadata": {},
   "outputs": [
    {
     "name": "stdout",
     "output_type": "stream",
     "text": [
      "Predicted value: \n",
      "[ 0 , 0 ]:  0\n",
      "[ 0 , 1 ]:  0\n",
      "[ 1 , 0 ]:  0\n",
      "[ 1 , 1 ]:  1\n"
     ]
    }
   ],
   "source": [
    "print(\"Predicted value: \")\n",
    "\n",
    "for i in x:\n",
    "    print(\"[\", i[0], \",\", i[1], \"]: \", predict(i))"
   ]
  }
 ],
 "metadata": {
  "kernelspec": {
   "display_name": "Python 3 (ipykernel)",
   "language": "python",
   "name": "python3"
  },
  "language_info": {
   "codemirror_mode": {
    "name": "ipython",
    "version": 3
   },
   "file_extension": ".py",
   "mimetype": "text/x-python",
   "name": "python",
   "nbconvert_exporter": "python",
   "pygments_lexer": "ipython3",
   "version": "3.9.0"
  }
 },
 "nbformat": 4,
 "nbformat_minor": 5
}
