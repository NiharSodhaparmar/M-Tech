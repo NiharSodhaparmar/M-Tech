{
 "cells": [
  {
   "cell_type": "markdown",
   "id": "2edd32a2",
   "metadata": {},
   "source": [
    "## Implement from scratch linearly separable Gates: AND & OR gate using a Single Neuron."
   ]
  },
  {
   "cell_type": "code",
   "execution_count": 1,
   "id": "65c5415a",
   "metadata": {},
   "outputs": [],
   "source": [
    "import numpy as np"
   ]
  },
  {
   "cell_type": "code",
   "execution_count": 2,
   "id": "8e3211e8",
   "metadata": {},
   "outputs": [],
   "source": [
    "w = np.random.rand(1,3) * 10\n",
    "w_1 = np.round(w[0][0], 1)\n",
    "w_2 = np.round(w[0][1], 1)\n",
    "theta = np.round(w[0][2], 1)"
   ]
  },
  {
   "cell_type": "code",
   "execution_count": 3,
   "id": "85856439",
   "metadata": {},
   "outputs": [
    {
     "name": "stdout",
     "output_type": "stream",
     "text": [
      "w:  [[2.90465059 5.71441003 4.30785874]]\n",
      "w_1:  2.9\n",
      "w_2:  5.7\n",
      "theta:  4.3\n"
     ]
    }
   ],
   "source": [
    "print(\"w: \", w)\n",
    "print(\"w_1: \", w_1)\n",
    "print(\"w_2: \", w_2)\n",
    "print(\"theta: \", theta)"
   ]
  },
  {
   "cell_type": "code",
   "execution_count": 4,
   "id": "1f6cc41d",
   "metadata": {},
   "outputs": [],
   "source": [
    "x = [ [0,0], [0,1], [1,0], [1,1]]\n",
    "x_array = np.asarray(x)\n",
    "# expected outputs (AND port is the product of each entry\n",
    "out = x_array[:, 1] * x_array[:, 0]"
   ]
  },
  {
   "cell_type": "code",
   "execution_count": 5,
   "id": "7992ef59",
   "metadata": {},
   "outputs": [
    {
     "name": "stdout",
     "output_type": "stream",
     "text": [
      "out:  [0 0 0 1]\n"
     ]
    }
   ],
   "source": [
    "print(\"out: \", out)"
   ]
  },
  {
   "cell_type": "code",
   "execution_count": 6,
   "id": "1cfa15c1",
   "metadata": {},
   "outputs": [],
   "source": [
    "#step function \n",
    "def threshold(net):\n",
    "    if net >= 1:\n",
    "        return 1\n",
    "    else:\n",
    "        return 0"
   ]
  },
  {
   "cell_type": "markdown",
   "id": "88c8b733",
   "metadata": {},
   "source": [
    "## Output and Error for random weights"
   ]
  },
  {
   "cell_type": "code",
   "execution_count": 9,
   "id": "d9486d61",
   "metadata": {},
   "outputs": [
    {
     "name": "stdout",
     "output_type": "stream",
     "text": [
      "w_1:  2.9\n",
      "w_2:  5.7\n",
      "x[i]:  [0, 0]\n",
      "np.asarray([w_1, w_2]) [2.9 5.7]\n",
      "xxx:  0.0\n",
      "+theta 4.3\n",
      "f_net 1\n",
      "######################################\n",
      "w_1:  2.9\n",
      "w_2:  5.7\n",
      "x[i]:  [0, 1]\n",
      "np.asarray([w_1, w_2]) [2.9 5.7]\n",
      "xxx:  5.7\n",
      "+theta 10.0\n",
      "f_net 1\n",
      "######################################\n",
      "w_1:  2.9\n",
      "w_2:  5.7\n",
      "x[i]:  [1, 0]\n",
      "np.asarray([w_1, w_2]) [2.9 5.7]\n",
      "xxx:  2.9\n",
      "+theta 7.199999999999999\n",
      "f_net 1\n",
      "######################################\n",
      "w_1:  2.9\n",
      "w_2:  5.7\n",
      "x[i]:  [1, 1]\n",
      "np.asarray([w_1, w_2]) [2.9 5.7]\n",
      "xxx:  8.6\n",
      "+theta 12.899999999999999\n",
      "f_net 1\n",
      "######################################\n",
      "Error:  -3\n"
     ]
    }
   ],
   "source": [
    "#the error vector \n",
    "error = np.array([0,0,0,0])\n",
    "for i in range(len(x)):\n",
    "    f_net = threshold(np.dot(np.asarray([w_1, w_2]) , x[i])  + theta)\n",
    "    print(\"w_1: \", w_1)\n",
    "    print(\"w_2: \", w_2)\n",
    "    print(\"x[i]: \", x[i])\n",
    "    print(\"np.asarray([w_1, w_2])\", np.asarray([w_1, w_2]))\n",
    "    print(\"xxx: \", np.dot(np.asarray([w_1, w_2]) , x[i]))\n",
    "    print(\"+theta\", np.dot(np.asarray([w_1, w_2]) , x[i])  + theta)\n",
    "    print(\"f_net\", f_net)\n",
    "    print(\"######################################\")\n",
    "    error[i] = out[i] - f_net\n",
    "E = np.sum(error)\n",
    "print(\"Error: \", E)"
   ]
  },
  {
   "cell_type": "code",
   "execution_count": 35,
   "id": "229a7d5d",
   "metadata": {},
   "outputs": [
    {
     "name": "stdout",
     "output_type": "stream",
     "text": [
      "sum of errors -2\n",
      "sum of errors -2\n",
      "sum of errors -2\n",
      "sum of errors -2\n",
      "sum of errors -2\n",
      "sum of errors -2\n",
      "sum of errors -2\n",
      "sum of errors -2\n",
      "sum of errors -2\n",
      "sum of errors -2\n",
      "sum of errors -2\n",
      "sum of errors -2\n",
      "sum of errors -2\n",
      "sum of errors -2\n",
      "sum of errors -2\n",
      "sum of errors -2\n",
      "sum of errors -2\n",
      "sum of errors -2\n",
      "sum of errors -2\n",
      "sum of errors -2\n",
      "sum of errors -2\n",
      "sum of errors -2\n",
      "sum of errors -2\n",
      "sum of errors -2\n",
      "sum of errors -2\n",
      "sum of errors -2\n",
      "sum of errors -2\n",
      "sum of errors -2\n",
      "sum of errors -2\n",
      "sum of errors -2\n",
      "sum of errors -2\n",
      "sum of errors -2\n",
      "sum of errors -2\n",
      "sum of errors -2\n",
      "sum of errors -2\n",
      "sum of errors -2\n",
      "sum of errors -2\n",
      "sum of errors -2\n",
      "sum of errors -2\n",
      "sum of errors -2\n",
      "sum of errors -2\n",
      "sum of errors -2\n",
      "sum of errors -2\n",
      "sum of errors -2\n",
      "sum of errors -2\n",
      "sum of errors -2\n",
      "sum of errors -2\n",
      "sum of errors -2\n",
      "sum of errors -2\n",
      "sum of errors -2\n",
      "sum of errors -2\n",
      "sum of errors -2\n",
      "sum of errors -2\n",
      "sum of errors -2\n",
      "sum of errors -2\n",
      "sum of errors -2\n",
      "sum of errors -2\n",
      "sum of errors -2\n",
      "sum of errors -2\n",
      "sum of errors -2\n",
      "sum of errors -2\n",
      "sum of errors -2\n",
      "sum of errors -2\n",
      "sum of errors -2\n",
      "sum of errors -2\n",
      "sum of errors -2\n",
      "sum of errors -2\n",
      "sum of errors -2\n",
      "sum of errors -2\n",
      "sum of errors -2\n",
      "sum of errors -1\n",
      "sum of errors -1\n",
      "sum of errors -1\n",
      "sum of errors -1\n",
      "sum of errors -1\n",
      "sum of errors -1\n",
      "sum of errors -1\n",
      "sum of errors -1\n",
      "sum of errors -1\n",
      "sum of errors -1\n",
      "sum of errors -1\n",
      "sum of errors -1\n",
      "sum of errors -1\n",
      "sum of errors -1\n",
      "sum of errors -1\n",
      "sum of errors -1\n",
      "sum of errors -1\n",
      "sum of errors -1\n",
      "sum of errors -1\n",
      "sum of errors 0\n"
     ]
    }
   ],
   "source": [
    "max_it = 1000\n",
    "t = 1\n",
    "learning_rate=0.1\n",
    "vals = [[w_1, w_2, theta]]\n",
    "while t < max_it & E != 0:\n",
    "    for i in range(len(x)):\n",
    "        f_net = threshold(np.dot(np.asarray([w_1, w_2]) , x[i])  + theta)\n",
    "        error[i] = out[i] - f_net\n",
    "        w_1 = w_1 + learning_rate * error[i] * x[i][0]\n",
    "        w_2 = w_2 + learning_rate * error[i] * x[i][1]\n",
    "        theta = theta + learning_rate*error[i]\n",
    "    \n",
    "    vals.append([w_1, w_2, theta])\n",
    "    E = np.sum(error)\n",
    "    print('sum of errors', E)\n",
    "    t = t+1"
   ]
  },
  {
   "cell_type": "code",
   "execution_count": 36,
   "id": "dbe570cd",
   "metadata": {},
   "outputs": [
    {
     "name": "stdout",
     "output_type": "stream",
     "text": [
      "[[9.8, 7.9], [9.700000000000001, 7.800000000000001], [9.600000000000001, 7.700000000000001], [9.500000000000002, 7.600000000000001], [9.400000000000002, 7.500000000000002], [9.300000000000002, 7.400000000000002], [9.200000000000003, 7.3000000000000025], [9.100000000000003, 7.200000000000003], [9.000000000000004, 7.100000000000003], [8.900000000000004, 7.0000000000000036], [8.800000000000004, 6.900000000000004], [8.700000000000005, 6.800000000000004], [8.600000000000005, 6.700000000000005], [8.500000000000005, 6.600000000000005], [8.400000000000006, 6.500000000000005], [8.300000000000006, 6.400000000000006], [8.200000000000006, 6.300000000000006], [8.100000000000007, 6.200000000000006], [8.000000000000007, 6.100000000000007], [7.9000000000000075, 6.000000000000007], [7.800000000000008, 5.9000000000000075], [7.700000000000008, 5.800000000000008], [7.6000000000000085, 5.700000000000008], [7.500000000000009, 5.6000000000000085], [7.400000000000009, 5.500000000000009], [7.30000000000001, 5.400000000000009], [7.20000000000001, 5.30000000000001], [7.10000000000001, 5.20000000000001], [7.000000000000011, 5.10000000000001], [6.900000000000011, 5.000000000000011], [6.800000000000011, 4.900000000000011], [6.700000000000012, 4.800000000000011], [6.600000000000012, 4.700000000000012], [6.500000000000012, 4.600000000000012], [6.400000000000013, 4.500000000000012], [6.300000000000013, 4.400000000000013], [6.2000000000000135, 4.300000000000013], [6.100000000000014, 4.2000000000000135], [6.000000000000014, 4.100000000000014], [5.900000000000015, 4.000000000000014], [5.800000000000015, 3.900000000000014], [5.700000000000015, 3.800000000000014], [5.600000000000016, 3.700000000000014], [5.500000000000016, 3.600000000000014], [5.400000000000016, 3.5000000000000138], [5.300000000000017, 3.4000000000000137], [5.200000000000017, 3.3000000000000136], [5.100000000000017, 3.2000000000000135], [5.000000000000018, 3.1000000000000134], [4.900000000000018, 3.0000000000000133], [4.8000000000000185, 2.9000000000000132], [4.700000000000019, 2.800000000000013], [4.600000000000019, 2.700000000000013], [4.5000000000000195, 2.600000000000013], [4.40000000000002, 2.500000000000013], [4.30000000000002, 2.400000000000013], [4.200000000000021, 2.3000000000000127], [4.100000000000021, 2.2000000000000126], [4.000000000000021, 2.1000000000000125], [3.9000000000000212, 2.0000000000000124], [3.800000000000021, 1.9000000000000123], [3.700000000000021, 1.8000000000000123], [3.600000000000021, 1.7000000000000122], [3.500000000000021, 1.600000000000012], [3.400000000000021, 1.500000000000012], [3.3000000000000207, 1.400000000000012], [3.2000000000000206, 1.3000000000000118], [3.1000000000000205, 1.2000000000000117], [3.0000000000000204, 1.1000000000000116], [2.9000000000000203, 1.0000000000000115], [2.8000000000000203, 0.9000000000000116], [2.70000000000002, 0.9000000000000116], [2.60000000000002, 0.9000000000000116], [2.50000000000002, 0.9000000000000116], [2.40000000000002, 0.9000000000000116], [2.30000000000002, 0.9000000000000116], [2.2000000000000197, 0.9000000000000116], [2.1000000000000196, 0.9000000000000116], [2.0000000000000195, 0.9000000000000116], [1.9000000000000195, 0.9000000000000116], [1.8000000000000194, 0.9000000000000116], [1.7000000000000193, 0.9000000000000116], [1.6000000000000192, 0.9000000000000116], [1.500000000000019, 0.9000000000000116], [1.400000000000019, 0.9000000000000116], [1.300000000000019, 0.9000000000000116], [1.2000000000000188, 0.9000000000000116], [1.1000000000000187, 0.9000000000000116], [1.0000000000000187, 0.9000000000000116], [0.9000000000000187, 0.9000000000000116], [0.9000000000000187, 0.9000000000000116]]\n"
     ]
    }
   ],
   "source": [
    "print(vals)"
   ]
  },
  {
   "cell_type": "code",
   "execution_count": null,
   "id": "69475075",
   "metadata": {},
   "outputs": [],
   "source": []
  }
 ],
 "metadata": {
  "kernelspec": {
   "display_name": "Python 3 (ipykernel)",
   "language": "python",
   "name": "python3"
  },
  "language_info": {
   "codemirror_mode": {
    "name": "ipython",
    "version": 3
   },
   "file_extension": ".py",
   "mimetype": "text/x-python",
   "name": "python",
   "nbconvert_exporter": "python",
   "pygments_lexer": "ipython3",
   "version": "3.9.0"
  }
 },
 "nbformat": 4,
 "nbformat_minor": 5
}
