{
 "cells": [
  {
   "cell_type": "code",
   "execution_count": 1,
   "id": "495e97cf",
   "metadata": {},
   "outputs": [],
   "source": [
    "import sorobn as hh\n",
    "\n",
    "bn = hh.BayesNet(\n",
    "     ('Burglary', 'Alarm'),\n",
    "     ('Earthquake', 'Alarm'),\n",
    "     ('Alarm', 'John calls'),\n",
    "     ('Alarm', 'Mary calls')\n",
    " )\n"
   ]
  },
  {
   "cell_type": "code",
   "execution_count": 2,
   "id": "3d315775",
   "metadata": {},
   "outputs": [],
   "source": [
    "import pandas as pd\n",
    "\n",
    "# P(Burglary)\n",
    "bn.P['Burglary'] = pd.Series({False: .999, True: .001})\n",
    "\n",
    "# P(Earthquake)\n",
    "bn.P['Earthquake'] = pd.Series({False: .998, True: .002})\n",
    "\n",
    "# P(Alarm | Burglary, Earthquake)\n",
    "bn.P['Alarm'] = pd.Series({\n",
    "      (True, True, True): .95,\n",
    "      (True, True, False): .05,\n",
    " \n",
    "      (True, False, True): .94,\n",
    "      (True, False, False): .06,\n",
    " \n",
    "      (False, True, True): .29,\n",
    "      (False, True, False): .71,\n",
    " \n",
    "      (False, False, True): .001,\n",
    "      (False, False, False): .999\n",
    "  })\n",
    "\n",
    "# P(John calls | Alarm)\n",
    "bn.P['John calls'] = pd.Series({\n",
    "      (True, True): .9,\n",
    "      (True, False): .1,\n",
    "      (False, True): .05,\n",
    "      (False, False): .95\n",
    "  })\n",
    "\n",
    "# P(Mary calls | Alarm)\n",
    "bn.P['Mary calls'] = pd.Series({\n",
    "      (True, True): .7,\n",
    "      (True, False): .3,\n",
    "      (False, True): .01,\n",
    "      (False, False): .99\n",
    "  })\n"
   ]
  },
  {
   "cell_type": "code",
   "execution_count": 3,
   "id": "d169e402",
   "metadata": {},
   "outputs": [],
   "source": [
    "bn.prepare()"
   ]
  },
  {
   "cell_type": "code",
   "execution_count": 4,
   "id": "dfb0c224",
   "metadata": {},
   "outputs": [],
   "source": [
    "_ = hh.BayesNet(\n",
    "     ('Cloud', 'Rain'),\n",
    "     (['Rain', 'Cold'], 'Snow'),\n",
    "     'Wind speed'  # has no dependencies\n",
    " )"
   ]
  },
  {
   "cell_type": "code",
   "execution_count": 5,
   "id": "beca025f",
   "metadata": {},
   "outputs": [
    {
     "data": {
      "text/plain": [
       "Burglary\n",
       "False    0.715828\n",
       "True     0.284172\n",
       "Name: P(Burglary), dtype: float64"
      ]
     },
     "execution_count": 5,
     "metadata": {},
     "output_type": "execute_result"
    }
   ],
   "source": [
    "bn.query('Burglary', event={'Mary calls': True, 'John calls': True})"
   ]
  },
  {
   "cell_type": "code",
   "execution_count": 6,
   "id": "d0cd60dc",
   "metadata": {},
   "outputs": [
    {
     "data": {
      "text/plain": [
       "John calls  Mary calls\n",
       "False       False         0.675854\n",
       "            True          0.027085\n",
       "True        False         0.113591\n",
       "            True          0.183470\n",
       "Name: P(John calls, Mary calls), dtype: float64"
      ]
     },
     "execution_count": 6,
     "metadata": {},
     "output_type": "execute_result"
    }
   ],
   "source": [
    "bn.query('John calls', 'Mary calls', event={'Earthquake': True})"
   ]
  },
  {
   "cell_type": "code",
   "execution_count": 7,
   "id": "62c2c079",
   "metadata": {},
   "outputs": [
    {
     "name": "stderr",
     "output_type": "stream",
     "text": [
      "C:\\Users\\dell\\AppData\\Local\\Packages\\PythonSoftwareFoundation.Python.3.10_qbz5n2kfra8p0\\LocalCache\\local-packages\\Python310\\site-packages\\sorobn\\bayes_net.py:690: FutureWarning: Not prepending group keys to the result index of transform-like apply. In the future, the group keys will be included in the index, regardless of whether the applied function returns a like-indexed object.\n",
      "To preserve the previous behavior, use\n",
      "\n",
      "\t>>> .groupby(..., group_keys=False)\n",
      "\n",
      "To adopt the future behavior and silence this warning, use \n",
      "\n",
      "\t>>> .groupby(..., group_keys=True)\n",
      "  post = post.groupby(boundary).apply(lambda g: g / g.sum())\n",
      "C:\\Users\\dell\\AppData\\Local\\Packages\\PythonSoftwareFoundation.Python.3.10_qbz5n2kfra8p0\\LocalCache\\local-packages\\Python310\\site-packages\\sorobn\\bayes_net.py:690: FutureWarning: Not prepending group keys to the result index of transform-like apply. In the future, the group keys will be included in the index, regardless of whether the applied function returns a like-indexed object.\n",
      "To preserve the previous behavior, use\n",
      "\n",
      "\t>>> .groupby(..., group_keys=False)\n",
      "\n",
      "To adopt the future behavior and silence this warning, use \n",
      "\n",
      "\t>>> .groupby(..., group_keys=True)\n",
      "  post = post.groupby(boundary).apply(lambda g: g / g.sum())\n",
      "C:\\Users\\dell\\AppData\\Local\\Packages\\PythonSoftwareFoundation.Python.3.10_qbz5n2kfra8p0\\LocalCache\\local-packages\\Python310\\site-packages\\sorobn\\bayes_net.py:690: FutureWarning: Not prepending group keys to the result index of transform-like apply. In the future, the group keys will be included in the index, regardless of whether the applied function returns a like-indexed object.\n",
      "To preserve the previous behavior, use\n",
      "\n",
      "\t>>> .groupby(..., group_keys=False)\n",
      "\n",
      "To adopt the future behavior and silence this warning, use \n",
      "\n",
      "\t>>> .groupby(..., group_keys=True)\n",
      "  post = post.groupby(boundary).apply(lambda g: g / g.sum())\n"
     ]
    },
    {
     "data": {
      "text/plain": [
       "Burglary\n",
       "False    0.739\n",
       "True     0.261\n",
       "Name: P(Burglary), dtype: float64"
      ]
     },
     "execution_count": 7,
     "metadata": {},
     "output_type": "execute_result"
    }
   ],
   "source": [
    "import numpy as np\n",
    "np.random.seed(42)\n",
    "\n",
    "bn.query(\n",
    "     'Burglary',\n",
    "     event={'Mary calls': True, 'John calls': True},\n",
    "     algorithm='gibbs',\n",
    "     n_iterations=1000\n",
    " )"
   ]
  },
  {
   "cell_type": "code",
   "execution_count": 8,
   "id": "1291bcc5",
   "metadata": {},
   "outputs": [
    {
     "name": "stdout",
     "output_type": "stream",
     "text": [
      "{'Alarm': True,\n",
      " 'Burglary': True,\n",
      " 'Earthquake': False,\n",
      " 'John calls': True,\n",
      " 'Mary calls': True}\n"
     ]
    }
   ],
   "source": [
    "from pprint import pprint\n",
    "\n",
    "sample = {\n",
    "     'Alarm': True,\n",
    "     'Burglary': True,\n",
    "     'Earthquake': False,\n",
    "     'John calls': None,  # missing\n",
    "     'Mary calls': None   # missing\n",
    " }\n",
    "\n",
    "sample = bn.impute(sample)\n",
    "pprint(sample)"
   ]
  },
  {
   "cell_type": "code",
   "execution_count": 9,
   "id": "56f7c3f8",
   "metadata": {},
   "outputs": [
    {
     "data": {
      "text/plain": [
       "0.9367427006190001"
      ]
     },
     "execution_count": 9,
     "metadata": {},
     "output_type": "execute_result"
    }
   ],
   "source": [
    "event = {\n",
    "     'Alarm': False,\n",
    "     'Burglary': False,\n",
    "     'Earthquake': False,\n",
    "     'John calls': False,\n",
    "     'Mary calls': False\n",
    " }\n",
    "\n",
    "bn.predict_proba(event)"
   ]
  },
  {
   "cell_type": "code",
   "execution_count": 10,
   "id": "1cb0dff6",
   "metadata": {},
   "outputs": [
    {
     "data": {
      "text/plain": [
       "0.001576422"
      ]
     },
     "execution_count": 10,
     "metadata": {},
     "output_type": "execute_result"
    }
   ],
   "source": [
    "event = {'Alarm': True, 'Burglary': False}\n",
    "bn.predict_proba(event)"
   ]
  },
  {
   "cell_type": "code",
   "execution_count": 11,
   "id": "aaf0905b",
   "metadata": {},
   "outputs": [
    {
     "data": {
      "text/plain": [
       "0.9974835580000001"
      ]
     },
     "execution_count": 11,
     "metadata": {},
     "output_type": "execute_result"
    }
   ],
   "source": [
    "event = {'Alarm': False}\n",
    "bn.predict_proba(event)"
   ]
  },
  {
   "cell_type": "code",
   "execution_count": 12,
   "id": "bcccb58a",
   "metadata": {},
   "outputs": [
    {
     "data": {
      "text/plain": [
       "Alarm  Burglary  Earthquake  John calls  Mary calls\n",
       "False  False     False       False       False         0.936743\n",
       "                             True        False         0.049302\n",
       "True   True      True        True        True          0.000001\n",
       "Name: P(Alarm, Burglary, Earthquake, John calls, Mary calls), dtype: float64"
      ]
     },
     "execution_count": 12,
     "metadata": {},
     "output_type": "execute_result"
    }
   ],
   "source": [
    "events = pd.DataFrame([\n",
    "     {'Alarm': False, 'Burglary': False, 'Earthquake': False,\n",
    "      'John calls': False, 'Mary calls': False},\n",
    "\n",
    "     {'Alarm': False, 'Burglary': False, 'Earthquake': False,\n",
    "      'John calls': True, 'Mary calls': False},\n",
    "\n",
    "     {'Alarm': True, 'Burglary': True, 'Earthquake': True,\n",
    "      'John calls': True, 'Mary calls': True}\n",
    " ])\n",
    "\n",
    "bn.predict_proba(events)"
   ]
  },
  {
   "cell_type": "code",
   "execution_count": null,
   "id": "58c5c5dd",
   "metadata": {},
   "outputs": [],
   "source": []
  }
 ],
 "metadata": {
  "kernelspec": {
   "display_name": "Python 3 (ipykernel)",
   "language": "python",
   "name": "python3"
  },
  "language_info": {
   "codemirror_mode": {
    "name": "ipython",
    "version": 3
   },
   "file_extension": ".py",
   "mimetype": "text/x-python",
   "name": "python",
   "nbconvert_exporter": "python",
   "pygments_lexer": "ipython3",
   "version": "3.10.8"
  }
 },
 "nbformat": 4,
 "nbformat_minor": 5
}
