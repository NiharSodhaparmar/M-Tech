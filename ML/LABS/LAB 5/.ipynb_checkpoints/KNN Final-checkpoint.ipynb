{
 "cells": [
  {
   "cell_type": "markdown",
   "id": "f3598669",
   "metadata": {},
   "source": [
    "### Import dataset"
   ]
  },
  {
   "cell_type": "code",
   "execution_count": null,
   "id": "4bc526d5",
   "metadata": {},
   "outputs": [],
   "source": [
    "from sklearn.datasets import fetch_california_housing\n",
    "# as_frame=True loads the data in a dataframe format, with other metadata besides it\n",
    "california_housing = fetch_california_housing(as_frame=True)\n",
    "# Select only the dataframe part and assign it to the df variable\n",
    "df = california_housing.frame"
   ]
  },
  {
   "cell_type": "code",
   "execution_count": null,
   "id": "85db50f6",
   "metadata": {},
   "outputs": [],
   "source": []
  }
 ],
 "metadata": {
  "kernelspec": {
   "display_name": "Python 3 (ipykernel)",
   "language": "python",
   "name": "python3"
  },
  "language_info": {
   "codemirror_mode": {
    "name": "ipython",
    "version": 3
   },
   "file_extension": ".py",
   "mimetype": "text/x-python",
   "name": "python",
   "nbconvert_exporter": "python",
   "pygments_lexer": "ipython3",
   "version": "3.9.12"
  }
 },
 "nbformat": 4,
 "nbformat_minor": 5
}
