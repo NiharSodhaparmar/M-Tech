{
 "cells": [
  {
   "cell_type": "markdown",
   "id": "397e5253",
   "metadata": {},
   "source": [
    "### Import dataset"
   ]
  },
  {
   "cell_type": "code",
   "execution_count": 1,
   "id": "be2f10b8",
   "metadata": {},
   "outputs": [],
   "source": [
    "import sklearn\n",
    "from sklearn.datasets import fetch_california_housing\n",
    "# as_frame=True loads the data in a dataframe format, with other metadata besides it\n",
    "california_housing = fetch_california_housing(as_frame=True)\n",
    "# Select only the dataframe part and assign it to the df variable\n",
    "df = california_housing.frame"
   ]
  },
  {
   "cell_type": "code",
   "execution_count": 2,
   "id": "c2fec0be",
   "metadata": {},
   "outputs": [
    {
     "data": {
      "text/html": [
       "<div>\n",
       "<style scoped>\n",
       "    .dataframe tbody tr th:only-of-type {\n",
       "        vertical-align: middle;\n",
       "    }\n",
       "\n",
       "    .dataframe tbody tr th {\n",
       "        vertical-align: top;\n",
       "    }\n",
       "\n",
       "    .dataframe thead th {\n",
       "        text-align: right;\n",
       "    }\n",
       "</style>\n",
       "<table border=\"1\" class=\"dataframe\">\n",
       "  <thead>\n",
       "    <tr style=\"text-align: right;\">\n",
       "      <th></th>\n",
       "      <th>MedInc</th>\n",
       "      <th>HouseAge</th>\n",
       "      <th>AveRooms</th>\n",
       "      <th>AveBedrms</th>\n",
       "      <th>Population</th>\n",
       "      <th>AveOccup</th>\n",
       "      <th>Latitude</th>\n",
       "      <th>Longitude</th>\n",
       "      <th>MedHouseVal</th>\n",
       "    </tr>\n",
       "  </thead>\n",
       "  <tbody>\n",
       "    <tr>\n",
       "      <th>0</th>\n",
       "      <td>8.3252</td>\n",
       "      <td>41.0</td>\n",
       "      <td>6.984127</td>\n",
       "      <td>1.023810</td>\n",
       "      <td>322.0</td>\n",
       "      <td>2.555556</td>\n",
       "      <td>37.88</td>\n",
       "      <td>-122.23</td>\n",
       "      <td>4.526</td>\n",
       "    </tr>\n",
       "    <tr>\n",
       "      <th>1</th>\n",
       "      <td>8.3014</td>\n",
       "      <td>21.0</td>\n",
       "      <td>6.238137</td>\n",
       "      <td>0.971880</td>\n",
       "      <td>2401.0</td>\n",
       "      <td>2.109842</td>\n",
       "      <td>37.86</td>\n",
       "      <td>-122.22</td>\n",
       "      <td>3.585</td>\n",
       "    </tr>\n",
       "    <tr>\n",
       "      <th>2</th>\n",
       "      <td>7.2574</td>\n",
       "      <td>52.0</td>\n",
       "      <td>8.288136</td>\n",
       "      <td>1.073446</td>\n",
       "      <td>496.0</td>\n",
       "      <td>2.802260</td>\n",
       "      <td>37.85</td>\n",
       "      <td>-122.24</td>\n",
       "      <td>3.521</td>\n",
       "    </tr>\n",
       "    <tr>\n",
       "      <th>3</th>\n",
       "      <td>5.6431</td>\n",
       "      <td>52.0</td>\n",
       "      <td>5.817352</td>\n",
       "      <td>1.073059</td>\n",
       "      <td>558.0</td>\n",
       "      <td>2.547945</td>\n",
       "      <td>37.85</td>\n",
       "      <td>-122.25</td>\n",
       "      <td>3.413</td>\n",
       "    </tr>\n",
       "    <tr>\n",
       "      <th>4</th>\n",
       "      <td>3.8462</td>\n",
       "      <td>52.0</td>\n",
       "      <td>6.281853</td>\n",
       "      <td>1.081081</td>\n",
       "      <td>565.0</td>\n",
       "      <td>2.181467</td>\n",
       "      <td>37.85</td>\n",
       "      <td>-122.25</td>\n",
       "      <td>3.422</td>\n",
       "    </tr>\n",
       "  </tbody>\n",
       "</table>\n",
       "</div>"
      ],
      "text/plain": [
       "   MedInc  HouseAge  AveRooms  AveBedrms  Population  AveOccup  Latitude  \\\n",
       "0  8.3252      41.0  6.984127   1.023810       322.0  2.555556     37.88   \n",
       "1  8.3014      21.0  6.238137   0.971880      2401.0  2.109842     37.86   \n",
       "2  7.2574      52.0  8.288136   1.073446       496.0  2.802260     37.85   \n",
       "3  5.6431      52.0  5.817352   1.073059       558.0  2.547945     37.85   \n",
       "4  3.8462      52.0  6.281853   1.081081       565.0  2.181467     37.85   \n",
       "\n",
       "   Longitude  MedHouseVal  \n",
       "0    -122.23        4.526  \n",
       "1    -122.22        3.585  \n",
       "2    -122.24        3.521  \n",
       "3    -122.25        3.413  \n",
       "4    -122.25        3.422  "
      ]
     },
     "execution_count": 2,
     "metadata": {},
     "output_type": "execute_result"
    }
   ],
   "source": [
    "import pandas as pd\n",
    "df.head()"
   ]
  },
  {
   "cell_type": "markdown",
   "id": "4d7353bb",
   "metadata": {},
   "source": [
    "### Preprocessing Data for KNN Regression"
   ]
  },
  {
   "cell_type": "code",
   "execution_count": 3,
   "id": "04b06369",
   "metadata": {},
   "outputs": [],
   "source": [
    "y = df['MedHouseVal']\n",
    "X = df.drop(['MedHouseVal'], axis = 1)"
   ]
  },
  {
   "cell_type": "code",
   "execution_count": 4,
   "id": "1a9dc890",
   "metadata": {},
   "outputs": [
    {
     "data": {
      "text/html": [
       "<div>\n",
       "<style scoped>\n",
       "    .dataframe tbody tr th:only-of-type {\n",
       "        vertical-align: middle;\n",
       "    }\n",
       "\n",
       "    .dataframe tbody tr th {\n",
       "        vertical-align: top;\n",
       "    }\n",
       "\n",
       "    .dataframe thead th {\n",
       "        text-align: right;\n",
       "    }\n",
       "</style>\n",
       "<table border=\"1\" class=\"dataframe\">\n",
       "  <thead>\n",
       "    <tr style=\"text-align: right;\">\n",
       "      <th></th>\n",
       "      <th>count</th>\n",
       "      <th>mean</th>\n",
       "      <th>std</th>\n",
       "      <th>min</th>\n",
       "      <th>25%</th>\n",
       "      <th>50%</th>\n",
       "      <th>75%</th>\n",
       "      <th>max</th>\n",
       "    </tr>\n",
       "  </thead>\n",
       "  <tbody>\n",
       "    <tr>\n",
       "      <th>MedInc</th>\n",
       "      <td>20640.0</td>\n",
       "      <td>3.870671</td>\n",
       "      <td>1.899822</td>\n",
       "      <td>0.499900</td>\n",
       "      <td>2.563400</td>\n",
       "      <td>3.534800</td>\n",
       "      <td>4.743250</td>\n",
       "      <td>15.000100</td>\n",
       "    </tr>\n",
       "    <tr>\n",
       "      <th>HouseAge</th>\n",
       "      <td>20640.0</td>\n",
       "      <td>28.639486</td>\n",
       "      <td>12.585558</td>\n",
       "      <td>1.000000</td>\n",
       "      <td>18.000000</td>\n",
       "      <td>29.000000</td>\n",
       "      <td>37.000000</td>\n",
       "      <td>52.000000</td>\n",
       "    </tr>\n",
       "    <tr>\n",
       "      <th>AveRooms</th>\n",
       "      <td>20640.0</td>\n",
       "      <td>5.429000</td>\n",
       "      <td>2.474173</td>\n",
       "      <td>0.846154</td>\n",
       "      <td>4.440716</td>\n",
       "      <td>5.229129</td>\n",
       "      <td>6.052381</td>\n",
       "      <td>141.909091</td>\n",
       "    </tr>\n",
       "    <tr>\n",
       "      <th>AveBedrms</th>\n",
       "      <td>20640.0</td>\n",
       "      <td>1.096675</td>\n",
       "      <td>0.473911</td>\n",
       "      <td>0.333333</td>\n",
       "      <td>1.006079</td>\n",
       "      <td>1.048780</td>\n",
       "      <td>1.099526</td>\n",
       "      <td>34.066667</td>\n",
       "    </tr>\n",
       "    <tr>\n",
       "      <th>Population</th>\n",
       "      <td>20640.0</td>\n",
       "      <td>1425.476744</td>\n",
       "      <td>1132.462122</td>\n",
       "      <td>3.000000</td>\n",
       "      <td>787.000000</td>\n",
       "      <td>1166.000000</td>\n",
       "      <td>1725.000000</td>\n",
       "      <td>35682.000000</td>\n",
       "    </tr>\n",
       "    <tr>\n",
       "      <th>AveOccup</th>\n",
       "      <td>20640.0</td>\n",
       "      <td>3.070655</td>\n",
       "      <td>10.386050</td>\n",
       "      <td>0.692308</td>\n",
       "      <td>2.429741</td>\n",
       "      <td>2.818116</td>\n",
       "      <td>3.282261</td>\n",
       "      <td>1243.333333</td>\n",
       "    </tr>\n",
       "    <tr>\n",
       "      <th>Latitude</th>\n",
       "      <td>20640.0</td>\n",
       "      <td>35.631861</td>\n",
       "      <td>2.135952</td>\n",
       "      <td>32.540000</td>\n",
       "      <td>33.930000</td>\n",
       "      <td>34.260000</td>\n",
       "      <td>37.710000</td>\n",
       "      <td>41.950000</td>\n",
       "    </tr>\n",
       "    <tr>\n",
       "      <th>Longitude</th>\n",
       "      <td>20640.0</td>\n",
       "      <td>-119.569704</td>\n",
       "      <td>2.003532</td>\n",
       "      <td>-124.350000</td>\n",
       "      <td>-121.800000</td>\n",
       "      <td>-118.490000</td>\n",
       "      <td>-118.010000</td>\n",
       "      <td>-114.310000</td>\n",
       "    </tr>\n",
       "  </tbody>\n",
       "</table>\n",
       "</div>"
      ],
      "text/plain": [
       "              count         mean          std         min         25%  \\\n",
       "MedInc      20640.0     3.870671     1.899822    0.499900    2.563400   \n",
       "HouseAge    20640.0    28.639486    12.585558    1.000000   18.000000   \n",
       "AveRooms    20640.0     5.429000     2.474173    0.846154    4.440716   \n",
       "AveBedrms   20640.0     1.096675     0.473911    0.333333    1.006079   \n",
       "Population  20640.0  1425.476744  1132.462122    3.000000  787.000000   \n",
       "AveOccup    20640.0     3.070655    10.386050    0.692308    2.429741   \n",
       "Latitude    20640.0    35.631861     2.135952   32.540000   33.930000   \n",
       "Longitude   20640.0  -119.569704     2.003532 -124.350000 -121.800000   \n",
       "\n",
       "                    50%          75%           max  \n",
       "MedInc         3.534800     4.743250     15.000100  \n",
       "HouseAge      29.000000    37.000000     52.000000  \n",
       "AveRooms       5.229129     6.052381    141.909091  \n",
       "AveBedrms      1.048780     1.099526     34.066667  \n",
       "Population  1166.000000  1725.000000  35682.000000  \n",
       "AveOccup       2.818116     3.282261   1243.333333  \n",
       "Latitude      34.260000    37.710000     41.950000  \n",
       "Longitude   -118.490000  -118.010000   -114.310000  "
      ]
     },
     "execution_count": 4,
     "metadata": {},
     "output_type": "execute_result"
    }
   ],
   "source": [
    "# .T transposes the results, transforming rows into columns\n",
    "X.describe().T"
   ]
  },
  {
   "cell_type": "markdown",
   "id": "fb9ee349",
   "metadata": {},
   "source": [
    "### Splitting Data into Train and Test Sets"
   ]
  },
  {
   "cell_type": "code",
   "execution_count": 5,
   "id": "ba8e51da",
   "metadata": {},
   "outputs": [],
   "source": [
    "from sklearn.model_selection import train_test_split\n",
    "\n",
    "SEED = 42\n",
    "X_train, X_test, y_train, y_test = train_test_split(X, y, test_size=0.25, random_state=SEED)"
   ]
  },
  {
   "cell_type": "code",
   "execution_count": 6,
   "id": "36045721",
   "metadata": {},
   "outputs": [
    {
     "name": "stdout",
     "output_type": "stream",
     "text": [
      "20640\n",
      "15480\n",
      "5160\n"
     ]
    }
   ],
   "source": [
    "print(len(X))       # 20640\n",
    "print(len(X_train)) # 15480\n",
    "print(len(X_test))  # 5160"
   ]
  },
  {
   "cell_type": "markdown",
   "id": "0004c427",
   "metadata": {},
   "source": [
    "### Feature Scaling for KNN Regression"
   ]
  },
  {
   "cell_type": "code",
   "execution_count": 7,
   "id": "74f42d3f",
   "metadata": {},
   "outputs": [],
   "source": [
    "from sklearn.preprocessing import StandardScaler\n",
    "\n",
    "scaler = StandardScaler()\n",
    "# Fit only on X_train\n",
    "scaler.fit(X_train)\n",
    "\n",
    "# Scale both X_train and X_test\n",
    "X_train = scaler.transform(X_train)\n",
    "X_test = scaler.transform(X_test)"
   ]
  },
  {
   "cell_type": "code",
   "execution_count": 8,
   "id": "636ab807",
   "metadata": {},
   "outputs": [
    {
     "data": {
      "text/html": [
       "<div>\n",
       "<style scoped>\n",
       "    .dataframe tbody tr th:only-of-type {\n",
       "        vertical-align: middle;\n",
       "    }\n",
       "\n",
       "    .dataframe tbody tr th {\n",
       "        vertical-align: top;\n",
       "    }\n",
       "\n",
       "    .dataframe thead th {\n",
       "        text-align: right;\n",
       "    }\n",
       "</style>\n",
       "<table border=\"1\" class=\"dataframe\">\n",
       "  <thead>\n",
       "    <tr style=\"text-align: right;\">\n",
       "      <th></th>\n",
       "      <th>count</th>\n",
       "      <th>mean</th>\n",
       "      <th>std</th>\n",
       "      <th>min</th>\n",
       "      <th>25%</th>\n",
       "      <th>50%</th>\n",
       "      <th>75%</th>\n",
       "      <th>max</th>\n",
       "    </tr>\n",
       "  </thead>\n",
       "  <tbody>\n",
       "    <tr>\n",
       "      <th>MedInc</th>\n",
       "      <td>15480.0</td>\n",
       "      <td>2.172968e-16</td>\n",
       "      <td>1.000032</td>\n",
       "      <td>-1.774632</td>\n",
       "      <td>-0.688854</td>\n",
       "      <td>-0.175663</td>\n",
       "      <td>0.464450</td>\n",
       "      <td>5.842113</td>\n",
       "    </tr>\n",
       "    <tr>\n",
       "      <th>HouseAge</th>\n",
       "      <td>15480.0</td>\n",
       "      <td>-1.254954e-16</td>\n",
       "      <td>1.000032</td>\n",
       "      <td>-2.188261</td>\n",
       "      <td>-0.840224</td>\n",
       "      <td>0.032036</td>\n",
       "      <td>0.666407</td>\n",
       "      <td>1.855852</td>\n",
       "    </tr>\n",
       "    <tr>\n",
       "      <th>AveRooms</th>\n",
       "      <td>15480.0</td>\n",
       "      <td>-1.148163e-16</td>\n",
       "      <td>1.000032</td>\n",
       "      <td>-1.877586</td>\n",
       "      <td>-0.407008</td>\n",
       "      <td>-0.083940</td>\n",
       "      <td>0.257082</td>\n",
       "      <td>56.357392</td>\n",
       "    </tr>\n",
       "    <tr>\n",
       "      <th>AveBedrms</th>\n",
       "      <td>15480.0</td>\n",
       "      <td>1.239408e-16</td>\n",
       "      <td>1.000032</td>\n",
       "      <td>-1.740123</td>\n",
       "      <td>-0.205765</td>\n",
       "      <td>-0.108332</td>\n",
       "      <td>0.007435</td>\n",
       "      <td>55.925392</td>\n",
       "    </tr>\n",
       "    <tr>\n",
       "      <th>Population</th>\n",
       "      <td>15480.0</td>\n",
       "      <td>-7.874838e-17</td>\n",
       "      <td>1.000032</td>\n",
       "      <td>-1.246395</td>\n",
       "      <td>-0.558886</td>\n",
       "      <td>-0.227928</td>\n",
       "      <td>0.262056</td>\n",
       "      <td>29.971725</td>\n",
       "    </tr>\n",
       "    <tr>\n",
       "      <th>AveOccup</th>\n",
       "      <td>15480.0</td>\n",
       "      <td>2.672550e-17</td>\n",
       "      <td>1.000032</td>\n",
       "      <td>-0.201946</td>\n",
       "      <td>-0.056581</td>\n",
       "      <td>-0.024172</td>\n",
       "      <td>0.014501</td>\n",
       "      <td>103.737365</td>\n",
       "    </tr>\n",
       "    <tr>\n",
       "      <th>Latitude</th>\n",
       "      <td>15480.0</td>\n",
       "      <td>8.022581e-16</td>\n",
       "      <td>1.000032</td>\n",
       "      <td>-1.451215</td>\n",
       "      <td>-0.799820</td>\n",
       "      <td>-0.645172</td>\n",
       "      <td>0.971601</td>\n",
       "      <td>2.953905</td>\n",
       "    </tr>\n",
       "    <tr>\n",
       "      <th>Longitude</th>\n",
       "      <td>15480.0</td>\n",
       "      <td>2.169625e-15</td>\n",
       "      <td>1.000032</td>\n",
       "      <td>-2.380303</td>\n",
       "      <td>-1.106817</td>\n",
       "      <td>0.536231</td>\n",
       "      <td>0.785934</td>\n",
       "      <td>2.633738</td>\n",
       "    </tr>\n",
       "  </tbody>\n",
       "</table>\n",
       "</div>"
      ],
      "text/plain": [
       "              count          mean       std       min       25%       50%  \\\n",
       "MedInc      15480.0  2.172968e-16  1.000032 -1.774632 -0.688854 -0.175663   \n",
       "HouseAge    15480.0 -1.254954e-16  1.000032 -2.188261 -0.840224  0.032036   \n",
       "AveRooms    15480.0 -1.148163e-16  1.000032 -1.877586 -0.407008 -0.083940   \n",
       "AveBedrms   15480.0  1.239408e-16  1.000032 -1.740123 -0.205765 -0.108332   \n",
       "Population  15480.0 -7.874838e-17  1.000032 -1.246395 -0.558886 -0.227928   \n",
       "AveOccup    15480.0  2.672550e-17  1.000032 -0.201946 -0.056581 -0.024172   \n",
       "Latitude    15480.0  8.022581e-16  1.000032 -1.451215 -0.799820 -0.645172   \n",
       "Longitude   15480.0  2.169625e-15  1.000032 -2.380303 -1.106817  0.536231   \n",
       "\n",
       "                 75%         max  \n",
       "MedInc      0.464450    5.842113  \n",
       "HouseAge    0.666407    1.855852  \n",
       "AveRooms    0.257082   56.357392  \n",
       "AveBedrms   0.007435   55.925392  \n",
       "Population  0.262056   29.971725  \n",
       "AveOccup    0.014501  103.737365  \n",
       "Latitude    0.971601    2.953905  \n",
       "Longitude   0.785934    2.633738  "
      ]
     },
     "execution_count": 8,
     "metadata": {},
     "output_type": "execute_result"
    }
   ],
   "source": [
    "col_names=['MedInc', 'HouseAge', 'AveRooms', 'AveBedrms', 'Population', 'AveOccup', 'Latitude', 'Longitude']\n",
    "scaled_df = pd.DataFrame(X_train, columns=col_names)\n",
    "scaled_df.describe().T"
   ]
  },
  {
   "cell_type": "markdown",
   "id": "d75ba24e",
   "metadata": {},
   "source": [
    "### Training and Predicting KNN Regression"
   ]
  },
  {
   "cell_type": "code",
   "execution_count": 9,
   "id": "07d2607a",
   "metadata": {},
   "outputs": [
    {
     "data": {
      "text/plain": [
       "KNeighborsRegressor(weights='distance')"
      ]
     },
     "execution_count": 9,
     "metadata": {},
     "output_type": "execute_result"
    }
   ],
   "source": [
    "from sklearn.neighbors import KNeighborsRegressor\n",
    "regressor = KNeighborsRegressor(n_neighbors=5, weights=\"distance\")\n",
    "regressor.fit(X_train, y_train)"
   ]
  },
  {
   "cell_type": "code",
   "execution_count": 10,
   "id": "96b638f1",
   "metadata": {},
   "outputs": [],
   "source": [
    "y_pred = regressor.predict(X_test)"
   ]
  },
  {
   "cell_type": "markdown",
   "id": "b54ee2eb",
   "metadata": {},
   "source": [
    "### Evaluating the Algorithm for KNN Regression"
   ]
  },
  {
   "cell_type": "code",
   "execution_count": 11,
   "id": "94cee23f",
   "metadata": {},
   "outputs": [
    {
     "name": "stdout",
     "output_type": "stream",
     "text": [
      "mae: 0.44330658993325084\n",
      "mse: 0.4284245302766481\n",
      "rmse: 0.6545414656663457\n"
     ]
    }
   ],
   "source": [
    "from sklearn.metrics import mean_absolute_error, mean_squared_error\n",
    "\n",
    "mae = mean_absolute_error(y_test, y_pred)\n",
    "mse = mean_squared_error(y_test, y_pred)\n",
    "rmse = mean_squared_error(y_test, y_pred, squared=False)\n",
    "\n",
    "print(f'mae: {mae}')\n",
    "print(f'mse: {mse}')\n",
    "print(f'rmse: {rmse}')"
   ]
  },
  {
   "cell_type": "code",
   "execution_count": 12,
   "id": "11a3f5f2",
   "metadata": {},
   "outputs": [
    {
     "data": {
      "text/plain": [
       "0.6762253110912666"
      ]
     },
     "execution_count": 12,
     "metadata": {},
     "output_type": "execute_result"
    }
   ],
   "source": [
    "regressor.score(X_test, y_test)"
   ]
  },
  {
   "cell_type": "code",
   "execution_count": 13,
   "id": "29b66542",
   "metadata": {},
   "outputs": [
    {
     "data": {
      "text/plain": [
       "count    20640.000000\n",
       "mean         2.068558\n",
       "std          1.153956\n",
       "min          0.149990\n",
       "25%          1.196000\n",
       "50%          1.797000\n",
       "75%          2.647250\n",
       "max          5.000010\n",
       "Name: MedHouseVal, dtype: float64"
      ]
     },
     "execution_count": 13,
     "metadata": {},
     "output_type": "execute_result"
    }
   ],
   "source": [
    "y.describe()"
   ]
  },
  {
   "cell_type": "markdown",
   "id": "0b3626a9",
   "metadata": {},
   "source": [
    "### Finding the Best K for KNN Regression"
   ]
  },
  {
   "cell_type": "code",
   "execution_count": 14,
   "id": "50cf680d",
   "metadata": {},
   "outputs": [],
   "source": [
    "error = []\n",
    "\n",
    "# Calculating MAE error for K values between 1 and 39\n",
    "for i in range(1, 40):\n",
    "    knn = KNeighborsRegressor(n_neighbors=i, weights=\"distance\")\n",
    "    knn.fit(X_train, y_train)\n",
    "    pred_i = knn.predict(X_test)\n",
    "    mae = mean_absolute_error(y_test, pred_i)\n",
    "    error.append(mae)"
   ]
  },
  {
   "cell_type": "code",
   "execution_count": 15,
   "id": "06667bee",
   "metadata": {},
   "outputs": [
    {
     "data": {
      "text/plain": [
       "Text(0, 0.5, 'Mean Absolute Error')"
      ]
     },
     "execution_count": 15,
     "metadata": {},
     "output_type": "execute_result"
    },
    {
     "data": {
      "image/png": "[encoded data removed]",
      "text/plain": [
       "<Figure size 864x432 with 1 Axes>"
      ]
     },
     "metadata": {
      "needs_background": "light"
     },
     "output_type": "display_data"
    }
   ],
   "source": [
    "import matplotlib.pyplot as plt \n",
    "\n",
    "plt.figure(figsize=(12, 6))\n",
    "plt.plot(range(1, 40), error, color='red', \n",
    "         linestyle='dashed', marker='o',\n",
    "         markerfacecolor='blue', markersize=10)\n",
    "         \n",
    "plt.title('K Value MAE')\n",
    "plt.xlabel('K Value')\n",
    "plt.ylabel('Mean Absolute Error')"
   ]
  },
  {
   "cell_type": "code",
   "execution_count": 16,
   "id": "37c15bc2",
   "metadata": {},
   "outputs": [
    {
     "name": "stdout",
     "output_type": "stream",
     "text": [
      "0.43265872078512396\n",
      "11\n"
     ]
    }
   ],
   "source": [
    "import numpy as np \n",
    "\n",
    "print(min(error))               # 0.43631325936692505\n",
    "print(np.array(error).argmin()) # 11"
   ]
  },
  {
   "cell_type": "markdown",
   "id": "80e982a3",
   "metadata": {},
   "source": [
    "### KNN with 12 neighbours"
   ]
  },
  {
   "cell_type": "code",
   "execution_count": 17,
   "id": "3c4a8381",
   "metadata": {},
   "outputs": [
    {
     "ename": "SyntaxError",
     "evalue": "invalid syntax (1137042175.py, line 1)",
     "output_type": "error",
     "traceback": [
      "\u001b[1;36m  Input \u001b[1;32mIn [17]\u001b[1;36m\u001b[0m\n\u001b[1;33m    knn_reg12 = KNeighborsRegressor(n_neighbors=12, , weights=\"distance\")\u001b[0m\n\u001b[1;37m                                                    ^\u001b[0m\n\u001b[1;31mSyntaxError\u001b[0m\u001b[1;31m:\u001b[0m invalid syntax\n"
     ]
    }
   ],
   "source": [
    "knn_reg12 = KNeighborsRegressor(n_neighbors=12, weights=\"distance\")\n",
    "knn_reg12.fit(X_train, y_train)\n",
    "y_pred12 = knn_reg12.predict(X_test)\n",
    "r2 = knn_reg12.score(X_test, y_test) \n",
    "\n",
    "mae12 = mean_absolute_error(y_test, y_pred12)\n",
    "mse12 = mean_squared_error(y_test, y_pred12)\n",
    "rmse12 = mean_squared_error(y_test, y_pred12, squared=False)\n",
    "print(f'r2: {r2}, \\nmae: {mae12} \\nmse: {mse12} \\nrmse: {rmse12}')"
   ]
  },
  {
   "cell_type": "markdown",
   "id": "9a152baa",
   "metadata": {},
   "source": [
    "## Classification using K-Nearest Neighbors with Scikit-Learn"
   ]
  },
  {
   "cell_type": "markdown",
   "id": "630ec7a9",
   "metadata": {},
   "source": [
    "### Preprocessing Data for Classification"
   ]
  },
  {
   "cell_type": "code",
   "execution_count": null,
   "id": "91422c90",
   "metadata": {},
   "outputs": [],
   "source": [
    "# Creating 4 categories and assigning them to a MedHouseValCat column\n",
    "df[\"MedHouseValCat\"] = pd.qcut(df[\"MedHouseVal\"], 4, retbins=False, labels=[1, 2, 3, 4])"
   ]
  },
  {
   "cell_type": "code",
   "execution_count": null,
   "id": "415510f2",
   "metadata": {},
   "outputs": [],
   "source": [
    "y = df['MedHouseValCat']\n",
    "X = df.drop(['MedHouseVal', 'MedHouseValCat'], axis = 1)"
   ]
  },
  {
   "cell_type": "markdown",
   "id": "863c0e3a",
   "metadata": {},
   "source": [
    "### Splitting Data into Train and Test Sets"
   ]
  },
  {
   "cell_type": "code",
   "execution_count": null,
   "id": "da3fc464",
   "metadata": {},
   "outputs": [],
   "source": [
    "from sklearn.model_selection import train_test_split\n",
    "\n",
    "SEED = 42\n",
    "X_train, X_test, y_train, y_test = train_test_split(X, y, test_size=0.25, random_state=SEED)"
   ]
  },
  {
   "cell_type": "markdown",
   "id": "cdc8c672",
   "metadata": {},
   "source": [
    "### Feature Scaling for Classification"
   ]
  },
  {
   "cell_type": "code",
   "execution_count": null,
   "id": "688092c7",
   "metadata": {},
   "outputs": [],
   "source": [
    "from sklearn.preprocessing import StandardScaler\n",
    "\n",
    "scaler = StandardScaler()\n",
    "scaler.fit(X_train)\n",
    "\n",
    "X_train = scaler.transform(X_train)\n",
    "X_test = scaler.transform(X_test)"
   ]
  },
  {
   "cell_type": "markdown",
   "id": "c3e8abb1",
   "metadata": {},
   "source": [
    "### Training and Predicting for Classification"
   ]
  },
  {
   "cell_type": "code",
   "execution_count": null,
   "id": "5e41a1e2",
   "metadata": {},
   "outputs": [],
   "source": [
    "from sklearn.neighbors import KNeighborsClassifier\n",
    "\n",
    "classifier = KNeighborsClassifier(weights=\"distance\")\n",
    "classifier.fit(X_train, y_train)"
   ]
  },
  {
   "cell_type": "code",
   "execution_count": null,
   "id": "0ca1f9cc",
   "metadata": {},
   "outputs": [],
   "source": [
    "y_pred = classifier.predict(X_test)"
   ]
  },
  {
   "cell_type": "markdown",
   "id": "8fffaa5f",
   "metadata": {},
   "source": [
    "### Evaluating KNN for Classification"
   ]
  },
  {
   "cell_type": "code",
   "execution_count": null,
   "id": "4267872c",
   "metadata": {},
   "outputs": [],
   "source": [
    "acc =  classifier.score(X_test, y_test)\n",
    "print(acc)"
   ]
  },
  {
   "cell_type": "code",
   "execution_count": null,
   "id": "4f8a1007",
   "metadata": {},
   "outputs": [],
   "source": [
    "from sklearn.metrics import classification_report, confusion_matrix\n",
    "#importing Seaborn's to use the heatmap \n",
    "import seaborn as sns\n",
    "\n",
    "# Adding classes names for better interpretation\n",
    "classes_names = ['class 1','class 2','class 3', 'class 4']\n",
    "cm = pd.DataFrame(confusion_matrix(y_test, y_pred), \n",
    "                  columns=classes_names, index = classes_names)\n",
    "                  \n",
    "# Seaborn's heatmap to better visualize the confusion matrix\n",
    "sns.heatmap(cm, annot=True, fmt='d');\n",
    "\n",
    "print(classification_report(y_test, y_pred))"
   ]
  },
  {
   "cell_type": "markdown",
   "id": "2517e10c",
   "metadata": {},
   "source": [
    "### Finding the Best K for KNN Classification"
   ]
  },
  {
   "cell_type": "code",
   "execution_count": null,
   "id": "4d009525",
   "metadata": {},
   "outputs": [],
   "source": [
    "from sklearn.metrics import f1_score\n",
    "\n",
    "f1s = []\n",
    "\n",
    "# Calculating f1 score for K values between 1 and 40\n",
    "for i in range(1, 40):\n",
    "    knn = KNeighborsClassifier(n_neighbors=i, weights=\"distance\")\n",
    "    knn.fit(X_train, y_train)\n",
    "    pred_i = knn.predict(X_test)\n",
    "    # using average='weighted' to calculate a weighted average for the 4 classes \n",
    "    f1s.append(f1_score(y_test, pred_i, average='weighted'))"
   ]
  },
  {
   "cell_type": "code",
   "execution_count": null,
   "id": "f418b5ca",
   "metadata": {},
   "outputs": [],
   "source": [
    "plt.figure(figsize=(12, 6))\n",
    "plt.plot(range(1, 40), f1s, color='red', linestyle='dashed', marker='o',\n",
    "         markerfacecolor='blue', markersize=10)\n",
    "plt.title('F1 Score K Value')\n",
    "plt.xlabel('K Value')\n",
    "plt.ylabel('F1 Score')"
   ]
  },
  {
   "cell_type": "markdown",
   "id": "5b488d74",
   "metadata": {},
   "source": [
    "#### From the output, we can see that the f1-score is the highest when the value of the K is 15."
   ]
  },
  {
   "cell_type": "code",
   "execution_count": null,
   "id": "6fed95eb",
   "metadata": {},
   "outputs": [],
   "source": [
    "classifier15 = KNeighborsClassifier(n_neighbors=15, weights=\"distance\")\n",
    "classifier15.fit(X_train, y_train)\n",
    "y_pred15 = classifier15.predict(X_test)\n",
    "print(classification_report(y_test, y_pred15))"
   ]
  },
  {
   "cell_type": "code",
   "execution_count": null,
   "id": "f7c386ce",
   "metadata": {},
   "outputs": [],
   "source": [
    "acc =  classifier.score(X_test, y_pred15)\n",
    "print(acc)"
   ]
  },
  {
   "cell_type": "code",
   "execution_count": null,
   "id": "dc3025e2",
   "metadata": {},
   "outputs": [],
   "source": [
    "cm = pd.DataFrame(confusion_matrix(y_test, y_pred15), \n",
    "                  columns=classes_names, index = classes_names)\n",
    "\n",
    "sns.heatmap(cm, annot=True, fmt='d');"
   ]
  }
 ],
 "metadata": {
  "kernelspec": {
   "display_name": "Python 3 (ipykernel)",
   "language": "python",
   "name": "python3"
  },
  "language_info": {
   "codemirror_mode": {
    "name": "ipython",
    "version": 3
   },
   "file_extension": ".py",
   "mimetype": "text/x-python",
   "name": "python",
   "nbconvert_exporter": "python",
   "pygments_lexer": "ipython3",
   "version": "3.9.12"
  }
 },
 "nbformat": 4,
 "nbformat_minor": 5
}
