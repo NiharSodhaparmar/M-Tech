{
 "cells": [
  {
   "cell_type": "markdown",
   "metadata": {},
   "source": [
    "# LAB 5\n",
    "\n",
    "### Task 1 : Try Linear Regression just using numpy (Without Tensorflow/Pytorch or other torch library). You can optionally use sklearn (if you want)"
   ]
  },
  {
   "cell_type": "code",
   "execution_count": 18,
   "metadata": {},
   "outputs": [],
   "source": [
    "import numpy as np"
   ]
  },
  {
   "cell_type": "code",
   "execution_count": 19,
   "metadata": {},
   "outputs": [
    {
     "name": "stdout",
     "output_type": "stream",
     "text": [
      "Data size is : 5\n"
     ]
    }
   ],
   "source": [
    "# Input (temp, rainfall, humidity)\n",
    "inputs = np.array([[73, 67, 43],\n",
    "[91, 88, 64],\n",
    "[87, 134, 58],\n",
    "[102, 43, 37],\n",
    "[69, 96, 70]], dtype='float32')\n",
    "\n",
    "# Target (apples)\n",
    "targets = np.array([[56],\n",
    "[81],\n",
    "[119],\n",
    "[22],\n",
    "[103]], dtype='float32')\n",
    "m = np.shape(targets)\n",
    "print(\"Data size is :\",m[0])"
   ]
  },
  {
   "cell_type": "code",
   "execution_count": 20,
   "metadata": {},
   "outputs": [
    {
     "name": "stdout",
     "output_type": "stream",
     "text": [
      "[[ 73.  67.  43.   1.]\n",
      " [ 91.  88.  64.   1.]\n",
      " [ 87. 134.  58.   1.]\n",
      " [102.  43.  37.   1.]\n",
      " [ 69.  96.  70.   1.]]\n"
     ]
    }
   ],
   "source": [
    "#Add bias\n",
    "bias = np.ones(m[0])\n",
    "bias.shape = (1,m[0])\n",
    "new_input = np.concatenate((inputs,bias.T),axis=1)\n",
    "print(new_input)"
   ]
  },
  {
   "cell_type": "code",
   "execution_count": 21,
   "metadata": {},
   "outputs": [],
   "source": [
    "#Define All Functions\n",
    "def gradientDescent(x,y,alpha,num_of_epochs,weight):\n",
    "    for i in range(0,num_of_epochs):\n",
    "        weight = weight - (alpha/m[0])*np.dot(x.T,(np.dot(x,weight)-y))\n",
    "    return weight\n",
    "\n",
    "def predict(input,weight):\n",
    "    return np.dot(input,weight)\n",
    "\n",
    "def costfunc(x,targets,weight):\n",
    "    term = (predict(x,weight)-targets)\n",
    "    term = np.dot(term.T,term)\n",
    "    return term/(2*m[0])"
   ]
  },
  {
   "cell_type": "code",
   "execution_count": 22,
   "metadata": {},
   "outputs": [],
   "source": [
    "#Initialize weight with 0\n",
    "weight = np.zeros((new_input.shape[1],1),dtype='float32')\n",
    "weight.shape = (new_input.shape[1],1)"
   ]
  },
  {
   "cell_type": "code",
   "execution_count": 23,
   "metadata": {},
   "outputs": [
    {
     "name": "stdout",
     "output_type": "stream",
     "text": [
      "Initial Cost :  3495\n"
     ]
    }
   ],
   "source": [
    "#Intial Cost\n",
    "init_cost = costfunc(new_input,targets,weight)\n",
    "print(\"Initial Cost : \",int(init_cost))"
   ]
  },
  {
   "cell_type": "code",
   "execution_count": 24,
   "metadata": {},
   "outputs": [],
   "source": [
    "#Initialize alpha,num_of_epochs\n",
    "alpha = 0.00001\n",
    "num_of_epochs = 10000"
   ]
  },
  {
   "cell_type": "code",
   "execution_count": 25,
   "metadata": {},
   "outputs": [],
   "source": [
    "#find out weight of each feature\n",
    "final_weight = gradientDescent(new_input,targets,alpha,num_of_epochs,weight)"
   ]
  },
  {
   "cell_type": "code",
   "execution_count": 26,
   "metadata": {},
   "outputs": [
    {
     "name": "stdout",
     "output_type": "stream",
     "text": [
      "Final weight:\n",
      "[[-4.00196772e-01]\n",
      " [ 8.48044773e-01]\n",
      " [ 6.87453282e-01]\n",
      " [-8.26566154e-05]]\n"
     ]
    }
   ],
   "source": [
    "print(\"Final weight:\")\n",
    "print(final_weight)"
   ]
  },
  {
   "cell_type": "code",
   "execution_count": 27,
   "metadata": {},
   "outputs": [
    {
     "name": "stdout",
     "output_type": "stream",
     "text": [
      "Final cost :  0.49174454181664\n"
     ]
    }
   ],
   "source": [
    "final_cost = costfunc(new_input,targets,final_weight)\n",
    "print(\"Final cost : \",float(final_cost))"
   ]
  },
  {
   "cell_type": "code",
   "execution_count": 28,
   "metadata": {},
   "outputs": [
    {
     "name": "stdout",
     "output_type": "stream",
     "text": [
      "predicted_output:\n",
      "[[ 57.16504387]\n",
      " [ 82.20696112]\n",
      " [118.69308805]\n",
      " [ 21.08154323]\n",
      " [101.92036798]]\n"
     ]
    }
   ],
   "source": [
    "#Predict output\n",
    "predicted_output = predict(new_input,final_weight)\n",
    "print(\"predicted_output:\")\n",
    "print(predicted_output)"
   ]
  },
  {
   "cell_type": "code",
   "execution_count": 29,
   "metadata": {},
   "outputs": [
    {
     "name": "stdout",
     "output_type": "stream",
     "text": [
      "Actual Target:\n",
      "[[ 56.]\n",
      " [ 81.]\n",
      " [119.]\n",
      " [ 22.]\n",
      " [103.]]\n"
     ]
    }
   ],
   "source": [
    "#Actual target\n",
    "print(\"Actual Target:\")\n",
    "print(targets)"
   ]
  }
 ],
 "metadata": {
  "kernelspec": {
   "display_name": "Python 3",
   "language": "python",
   "name": "python3"
  },
  "language_info": {
   "codemirror_mode": {
    "name": "ipython",
    "version": 3
   },
   "file_extension": ".py",
   "mimetype": "text/x-python",
   "name": "python",
   "nbconvert_exporter": "python",
   "pygments_lexer": "ipython3",
   "version": "3.6.9"
  }
 },
 "nbformat": 4,
 "nbformat_minor": 4
}
