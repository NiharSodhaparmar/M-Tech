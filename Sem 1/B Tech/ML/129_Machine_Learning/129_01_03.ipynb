{
 "cells": [
  {
   "cell_type": "markdown",
   "metadata": {},
   "source": [
    "# Exercise 3"
   ]
  },
  {
   "cell_type": "code",
   "execution_count": 1,
   "metadata": {},
   "outputs": [],
   "source": [
    "import numpy as np\n",
    "import pandas as pd"
   ]
  },
  {
   "cell_type": "markdown",
   "metadata": {},
   "source": [
    "#### 1) Create Two numpy array of size 3 X 2 and 2 X 3\n",
    "\n",
    "#### 2) Randomly Initalize that array"
   ]
  },
  {
   "cell_type": "code",
   "execution_count": 7,
   "metadata": {},
   "outputs": [
    {
     "name": "stdout",
     "output_type": "stream",
     "text": [
      "A :\n",
      "[[0.84162713 0.31657566]\n",
      " [0.6556288  0.95953026]\n",
      " [0.18124857 0.74387258]]\n",
      "B :\n",
      "[[0.96893742 0.57178345 0.78592429]\n",
      " [0.8625276  0.83244311 0.66631427]]\n"
     ]
    }
   ],
   "source": [
    "A = np.random.rand(3,2)\n",
    "B = np.random.rand(2,3)\n",
    "print(\"A :\")\n",
    "print(A)\n",
    "print(\"B :\")\n",
    "print(B)"
   ]
  },
  {
   "cell_type": "markdown",
   "metadata": {},
   "source": [
    "#### 3) Perform matrix multiplication"
   ]
  },
  {
   "cell_type": "code",
   "execution_count": 8,
   "metadata": {},
   "outputs": [
    {
     "name": "stdout",
     "output_type": "stream",
     "text": [
      "[[1.08853927 0.74475969 0.87239409]\n",
      " [1.46288461 1.17363205 1.15462331]\n",
      " [0.81722916 0.72286654 0.63810057]]\n"
     ]
    }
   ],
   "source": [
    "C = A.dot(B)\n",
    "print(C)"
   ]
  },
  {
   "cell_type": "markdown",
   "metadata": {},
   "source": [
    "#### 4) Perform elementwise matrix multiplication"
   ]
  },
  {
   "cell_type": "code",
   "execution_count": 9,
   "metadata": {},
   "outputs": [
    {
     "name": "stdout",
     "output_type": "stream",
     "text": [
      "[[0.81548402 0.27305524]\n",
      " [0.37487769 0.79875436]\n",
      " [0.14244766 0.49565292]]\n"
     ]
    }
   ],
   "source": [
    "D = A*B.transpose()\n",
    "print(D)"
   ]
  },
  {
   "cell_type": "markdown",
   "metadata": {},
   "source": [
    "#### 5) Find mean of first matrix"
   ]
  },
  {
   "cell_type": "code",
   "execution_count": 10,
   "metadata": {},
   "outputs": [
    {
     "data": {
      "text/plain": [
       "0.6164138346188658"
      ]
     },
     "execution_count": 10,
     "metadata": {},
     "output_type": "execute_result"
    }
   ],
   "source": [
    "A.mean()"
   ]
  },
  {
   "cell_type": "markdown",
   "metadata": {},
   "source": [
    "#### 6) Convert Numeric entries(columns) of mtcars.csv to Mean Centered Version"
   ]
  },
  {
   "cell_type": "code",
   "execution_count": 12,
   "metadata": {},
   "outputs": [
    {
     "data": {
      "text/html": [
       "<div>\n",
       "<style scoped>\n",
       "    .dataframe tbody tr th:only-of-type {\n",
       "        vertical-align: middle;\n",
       "    }\n",
       "\n",
       "    .dataframe tbody tr th {\n",
       "        vertical-align: top;\n",
       "    }\n",
       "\n",
       "    .dataframe thead th {\n",
       "        text-align: right;\n",
       "    }\n",
       "</style>\n",
       "<table border=\"1\" class=\"dataframe\">\n",
       "  <thead>\n",
       "    <tr style=\"text-align: right;\">\n",
       "      <th></th>\n",
       "      <th>model</th>\n",
       "      <th>mpg</th>\n",
       "      <th>cyl</th>\n",
       "      <th>disp</th>\n",
       "      <th>hp</th>\n",
       "      <th>drat</th>\n",
       "      <th>wt</th>\n",
       "      <th>qsec</th>\n",
       "      <th>vs</th>\n",
       "      <th>am</th>\n",
       "      <th>gear</th>\n",
       "      <th>carb</th>\n",
       "    </tr>\n",
       "  </thead>\n",
       "  <tbody>\n",
       "    <tr>\n",
       "      <th>0</th>\n",
       "      <td>Mazda RX4</td>\n",
       "      <td>21.0</td>\n",
       "      <td>6</td>\n",
       "      <td>160.0</td>\n",
       "      <td>110</td>\n",
       "      <td>3.90</td>\n",
       "      <td>2.620</td>\n",
       "      <td>16.46</td>\n",
       "      <td>0</td>\n",
       "      <td>1</td>\n",
       "      <td>4</td>\n",
       "      <td>4</td>\n",
       "    </tr>\n",
       "    <tr>\n",
       "      <th>1</th>\n",
       "      <td>Mazda RX4 Wag</td>\n",
       "      <td>21.0</td>\n",
       "      <td>6</td>\n",
       "      <td>160.0</td>\n",
       "      <td>110</td>\n",
       "      <td>3.90</td>\n",
       "      <td>2.875</td>\n",
       "      <td>17.02</td>\n",
       "      <td>0</td>\n",
       "      <td>1</td>\n",
       "      <td>4</td>\n",
       "      <td>4</td>\n",
       "    </tr>\n",
       "    <tr>\n",
       "      <th>2</th>\n",
       "      <td>Datsun 710</td>\n",
       "      <td>22.8</td>\n",
       "      <td>4</td>\n",
       "      <td>108.0</td>\n",
       "      <td>93</td>\n",
       "      <td>3.85</td>\n",
       "      <td>2.320</td>\n",
       "      <td>18.61</td>\n",
       "      <td>1</td>\n",
       "      <td>1</td>\n",
       "      <td>4</td>\n",
       "      <td>1</td>\n",
       "    </tr>\n",
       "    <tr>\n",
       "      <th>3</th>\n",
       "      <td>Hornet 4 Drive</td>\n",
       "      <td>21.4</td>\n",
       "      <td>6</td>\n",
       "      <td>258.0</td>\n",
       "      <td>110</td>\n",
       "      <td>3.08</td>\n",
       "      <td>3.215</td>\n",
       "      <td>19.44</td>\n",
       "      <td>1</td>\n",
       "      <td>0</td>\n",
       "      <td>3</td>\n",
       "      <td>1</td>\n",
       "    </tr>\n",
       "    <tr>\n",
       "      <th>4</th>\n",
       "      <td>Hornet Sportabout</td>\n",
       "      <td>18.7</td>\n",
       "      <td>8</td>\n",
       "      <td>360.0</td>\n",
       "      <td>175</td>\n",
       "      <td>3.15</td>\n",
       "      <td>3.440</td>\n",
       "      <td>17.02</td>\n",
       "      <td>0</td>\n",
       "      <td>0</td>\n",
       "      <td>3</td>\n",
       "      <td>2</td>\n",
       "    </tr>\n",
       "  </tbody>\n",
       "</table>\n",
       "</div>"
      ],
      "text/plain": [
       "               model   mpg  cyl   disp   hp  drat     wt   qsec  vs  am  gear  \\\n",
       "0          Mazda RX4  21.0    6  160.0  110  3.90  2.620  16.46   0   1     4   \n",
       "1      Mazda RX4 Wag  21.0    6  160.0  110  3.90  2.875  17.02   0   1     4   \n",
       "2         Datsun 710  22.8    4  108.0   93  3.85  2.320  18.61   1   1     4   \n",
       "3     Hornet 4 Drive  21.4    6  258.0  110  3.08  3.215  19.44   1   0     3   \n",
       "4  Hornet Sportabout  18.7    8  360.0  175  3.15  3.440  17.02   0   0     3   \n",
       "\n",
       "   carb  \n",
       "0     4  \n",
       "1     4  \n",
       "2     1  \n",
       "3     1  \n",
       "4     2  "
      ]
     },
     "execution_count": 12,
     "metadata": {},
     "output_type": "execute_result"
    }
   ],
   "source": [
    "datasets = pd.read_csv('/home/nihar/Downloads/mtcars.csv')\n",
    "datasets.head()"
   ]
  },
  {
   "cell_type": "code",
   "execution_count": 14,
   "metadata": {},
   "outputs": [
    {
     "data": {
      "text/html": [
       "<div>\n",
       "<style scoped>\n",
       "    .dataframe tbody tr th:only-of-type {\n",
       "        vertical-align: middle;\n",
       "    }\n",
       "\n",
       "    .dataframe tbody tr th {\n",
       "        vertical-align: top;\n",
       "    }\n",
       "\n",
       "    .dataframe thead th {\n",
       "        text-align: right;\n",
       "    }\n",
       "</style>\n",
       "<table border=\"1\" class=\"dataframe\">\n",
       "  <thead>\n",
       "    <tr style=\"text-align: right;\">\n",
       "      <th></th>\n",
       "      <th>model</th>\n",
       "      <th>mpg</th>\n",
       "      <th>cyl</th>\n",
       "      <th>disp</th>\n",
       "      <th>hp</th>\n",
       "      <th>drat</th>\n",
       "      <th>wt</th>\n",
       "      <th>qsec</th>\n",
       "      <th>vs</th>\n",
       "      <th>am</th>\n",
       "      <th>gear</th>\n",
       "      <th>carb</th>\n",
       "    </tr>\n",
       "  </thead>\n",
       "  <tbody>\n",
       "    <tr>\n",
       "      <th>0</th>\n",
       "      <td>Mazda RX4</td>\n",
       "      <td>0.909375</td>\n",
       "      <td>-0.1875</td>\n",
       "      <td>-70.721875</td>\n",
       "      <td>-36.6875</td>\n",
       "      <td>0.303437</td>\n",
       "      <td>-0.59725</td>\n",
       "      <td>-1.38875</td>\n",
       "      <td>-0.4375</td>\n",
       "      <td>0.59375</td>\n",
       "      <td>0.3125</td>\n",
       "      <td>1.1875</td>\n",
       "    </tr>\n",
       "    <tr>\n",
       "      <th>1</th>\n",
       "      <td>Mazda RX4 Wag</td>\n",
       "      <td>0.909375</td>\n",
       "      <td>-0.1875</td>\n",
       "      <td>-70.721875</td>\n",
       "      <td>-36.6875</td>\n",
       "      <td>0.303437</td>\n",
       "      <td>-0.34225</td>\n",
       "      <td>-0.82875</td>\n",
       "      <td>-0.4375</td>\n",
       "      <td>0.59375</td>\n",
       "      <td>0.3125</td>\n",
       "      <td>1.1875</td>\n",
       "    </tr>\n",
       "    <tr>\n",
       "      <th>2</th>\n",
       "      <td>Datsun 710</td>\n",
       "      <td>2.709375</td>\n",
       "      <td>-2.1875</td>\n",
       "      <td>-122.721875</td>\n",
       "      <td>-53.6875</td>\n",
       "      <td>0.253438</td>\n",
       "      <td>-0.89725</td>\n",
       "      <td>0.76125</td>\n",
       "      <td>0.5625</td>\n",
       "      <td>0.59375</td>\n",
       "      <td>0.3125</td>\n",
       "      <td>-1.8125</td>\n",
       "    </tr>\n",
       "    <tr>\n",
       "      <th>3</th>\n",
       "      <td>Hornet 4 Drive</td>\n",
       "      <td>1.309375</td>\n",
       "      <td>-0.1875</td>\n",
       "      <td>27.278125</td>\n",
       "      <td>-36.6875</td>\n",
       "      <td>-0.516562</td>\n",
       "      <td>-0.00225</td>\n",
       "      <td>1.59125</td>\n",
       "      <td>0.5625</td>\n",
       "      <td>-0.40625</td>\n",
       "      <td>-0.6875</td>\n",
       "      <td>-1.8125</td>\n",
       "    </tr>\n",
       "    <tr>\n",
       "      <th>4</th>\n",
       "      <td>Hornet Sportabout</td>\n",
       "      <td>-1.390625</td>\n",
       "      <td>1.8125</td>\n",
       "      <td>129.278125</td>\n",
       "      <td>28.3125</td>\n",
       "      <td>-0.446563</td>\n",
       "      <td>0.22275</td>\n",
       "      <td>-0.82875</td>\n",
       "      <td>-0.4375</td>\n",
       "      <td>-0.40625</td>\n",
       "      <td>-0.6875</td>\n",
       "      <td>-0.8125</td>\n",
       "    </tr>\n",
       "  </tbody>\n",
       "</table>\n",
       "</div>"
      ],
      "text/plain": [
       "               model       mpg     cyl        disp       hp      drat  \\\n",
       "0          Mazda RX4  0.909375 -0.1875  -70.721875 -36.6875  0.303437   \n",
       "1      Mazda RX4 Wag  0.909375 -0.1875  -70.721875 -36.6875  0.303437   \n",
       "2         Datsun 710  2.709375 -2.1875 -122.721875 -53.6875  0.253438   \n",
       "3     Hornet 4 Drive  1.309375 -0.1875   27.278125 -36.6875 -0.516562   \n",
       "4  Hornet Sportabout -1.390625  1.8125  129.278125  28.3125 -0.446563   \n",
       "\n",
       "        wt     qsec      vs       am    gear    carb  \n",
       "0 -0.59725 -1.38875 -0.4375  0.59375  0.3125  1.1875  \n",
       "1 -0.34225 -0.82875 -0.4375  0.59375  0.3125  1.1875  \n",
       "2 -0.89725  0.76125  0.5625  0.59375  0.3125 -1.8125  \n",
       "3 -0.00225  1.59125  0.5625 -0.40625 -0.6875 -1.8125  \n",
       "4  0.22275 -0.82875 -0.4375 -0.40625 -0.6875 -0.8125  "
      ]
     },
     "execution_count": 14,
     "metadata": {},
     "output_type": "execute_result"
    }
   ],
   "source": [
    "datasets['mpg'] = datasets['mpg'].apply(lambda x : x-datasets['mpg'].mean())\n",
    "datasets['cyl'] = datasets['cyl'].apply(lambda x : x-datasets['cyl'].mean())\n",
    "datasets['disp'] = datasets['disp'].apply(lambda x : x-datasets['disp'].mean())\n",
    "datasets['hp'] = datasets['hp'].apply(lambda x : x-datasets['hp'].mean())\n",
    "datasets['drat'] = datasets['drat'].apply(lambda x : x-datasets['drat'].mean())\n",
    "datasets['wt'] = datasets['wt'].apply(lambda x : x-datasets['wt'].mean())\n",
    "datasets['qsec'] = datasets['qsec'].apply(lambda x : x-datasets['qsec'].mean())\n",
    "datasets['vs'] = datasets['vs'].apply(lambda x : x-datasets['vs'].mean())\n",
    "datasets['am'] = datasets['am'].apply(lambda x : x-datasets['am'].mean())\n",
    "datasets['gear'] = datasets['gear'].apply(lambda x : x-datasets['gear'].mean())\n",
    "datasets['carb'] = datasets['carb'].apply(lambda x : x-datasets['carb'].mean())\n",
    "datasets.head()"
   ]
  }
 ],
 "metadata": {
  "kernelspec": {
   "display_name": "Python 3",
   "language": "python",
   "name": "python3"
  },
  "language_info": {
   "codemirror_mode": {
    "name": "ipython",
    "version": 3
   },
   "file_extension": ".py",
   "mimetype": "text/x-python",
   "name": "python",
   "nbconvert_exporter": "python",
   "pygments_lexer": "ipython3",
   "version": "3.6.9"
  }
 },
 "nbformat": 4,
 "nbformat_minor": 4
}
