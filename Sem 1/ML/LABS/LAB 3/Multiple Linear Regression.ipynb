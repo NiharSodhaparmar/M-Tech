{
 "cells": [
  {
   "cell_type": "markdown",
   "id": "1e6cfa91",
   "metadata": {},
   "source": [
    "# Multiple Linear Regression"
   ]
  },
  {
   "cell_type": "code",
   "execution_count": 420,
   "id": "de0d0e3d",
   "metadata": {},
   "outputs": [],
   "source": [
    "import pandas as pd"
   ]
  },
  {
   "cell_type": "code",
   "execution_count": 421,
   "id": "6d1ad58b",
   "metadata": {},
   "outputs": [],
   "source": [
    "path_to_file = './petrol_consumption.csv'\n",
    "df = pd.read_csv(path_to_file)"
   ]
  },
  {
   "cell_type": "code",
   "execution_count": 422,
   "id": "57360a5b",
   "metadata": {},
   "outputs": [
    {
     "data": {
      "text/html": [
       "<div>\n",
       "<style scoped>\n",
       "    .dataframe tbody tr th:only-of-type {\n",
       "        vertical-align: middle;\n",
       "    }\n",
       "\n",
       "    .dataframe tbody tr th {\n",
       "        vertical-align: top;\n",
       "    }\n",
       "\n",
       "    .dataframe thead th {\n",
       "        text-align: right;\n",
       "    }\n",
       "</style>\n",
       "<table border=\"1\" class=\"dataframe\">\n",
       "  <thead>\n",
       "    <tr style=\"text-align: right;\">\n",
       "      <th></th>\n",
       "      <th>Petrol_tax</th>\n",
       "      <th>Average_income</th>\n",
       "      <th>Paved_Highways</th>\n",
       "      <th>Population_Driver_licence(%)</th>\n",
       "      <th>Petrol_Consumption</th>\n",
       "    </tr>\n",
       "  </thead>\n",
       "  <tbody>\n",
       "    <tr>\n",
       "      <th>0</th>\n",
       "      <td>9.0</td>\n",
       "      <td>3571</td>\n",
       "      <td>1976</td>\n",
       "      <td>0.525</td>\n",
       "      <td>541</td>\n",
       "    </tr>\n",
       "    <tr>\n",
       "      <th>1</th>\n",
       "      <td>9.0</td>\n",
       "      <td>4092</td>\n",
       "      <td>1250</td>\n",
       "      <td>0.572</td>\n",
       "      <td>524</td>\n",
       "    </tr>\n",
       "    <tr>\n",
       "      <th>2</th>\n",
       "      <td>9.0</td>\n",
       "      <td>3865</td>\n",
       "      <td>1586</td>\n",
       "      <td>0.580</td>\n",
       "      <td>561</td>\n",
       "    </tr>\n",
       "    <tr>\n",
       "      <th>3</th>\n",
       "      <td>7.5</td>\n",
       "      <td>4870</td>\n",
       "      <td>2351</td>\n",
       "      <td>0.529</td>\n",
       "      <td>414</td>\n",
       "    </tr>\n",
       "    <tr>\n",
       "      <th>4</th>\n",
       "      <td>8.0</td>\n",
       "      <td>4399</td>\n",
       "      <td>431</td>\n",
       "      <td>0.544</td>\n",
       "      <td>410</td>\n",
       "    </tr>\n",
       "  </tbody>\n",
       "</table>\n",
       "</div>"
      ],
      "text/plain": [
       "   Petrol_tax  Average_income  Paved_Highways  Population_Driver_licence(%)  \\\n",
       "0         9.0            3571            1976                         0.525   \n",
       "1         9.0            4092            1250                         0.572   \n",
       "2         9.0            3865            1586                         0.580   \n",
       "3         7.5            4870            2351                         0.529   \n",
       "4         8.0            4399             431                         0.544   \n",
       "\n",
       "   Petrol_Consumption  \n",
       "0                 541  \n",
       "1                 524  \n",
       "2                 561  \n",
       "3                 414  \n",
       "4                 410  "
      ]
     },
     "execution_count": 422,
     "metadata": {},
     "output_type": "execute_result"
    }
   ],
   "source": [
    "df.head()"
   ]
  },
  {
   "cell_type": "code",
   "execution_count": 423,
   "id": "a351a445",
   "metadata": {},
   "outputs": [
    {
     "data": {
      "text/plain": [
       "(48, 5)"
      ]
     },
     "execution_count": 423,
     "metadata": {},
     "output_type": "execute_result"
    }
   ],
   "source": [
    "df.shape"
   ]
  },
  {
   "cell_type": "code",
   "execution_count": 424,
   "id": "6a51e34a",
   "metadata": {},
   "outputs": [
    {
     "name": "stdout",
     "output_type": "stream",
     "text": [
      "                              count     mean      std      min      25%  \\\n",
      "Petrol_tax                     48.0     7.67     0.95     5.00     7.00   \n",
      "Average_income                 48.0  4241.83   573.62  3063.00  3739.00   \n",
      "Paved_Highways                 48.0  5565.42  3491.51   431.00  3110.25   \n",
      "Population_Driver_licence(%)   48.0     0.57     0.06     0.45     0.53   \n",
      "Petrol_Consumption             48.0   576.77   111.89   344.00   509.50   \n",
      "\n",
      "                                  50%      75%       max  \n",
      "Petrol_tax                       7.50     8.12     10.00  \n",
      "Average_income                4298.00  4578.75   5342.00  \n",
      "Paved_Highways                4735.50  7156.00  17782.00  \n",
      "Population_Driver_licence(%)     0.56     0.60      0.72  \n",
      "Petrol_Consumption             568.50   632.75    968.00  \n"
     ]
    }
   ],
   "source": [
    "#descriptive statistics of this data\n",
    "\n",
    "print(df.describe().round(2).T)"
   ]
  },
  {
   "cell_type": "code",
   "execution_count": 425,
   "id": "d6cc4bb0",
   "metadata": {},
   "outputs": [
    {
     "data": {
      "image/png": "[encoded data removed]",
      "text/plain": [
       "<Figure size 432x288 with 1 Axes>"
      ]
     },
     "metadata": {
      "needs_background": "light"
     },
     "output_type": "display_data"
    },
    {
     "data": {
      "image/png": "[encoded data removed]",
      "text/plain": [
       "<Figure size 432x288 with 1 Axes>"
      ]
     },
     "metadata": {
      "needs_background": "light"
     },
     "output_type": "display_data"
    },
    {
     "data": {
      "image/png": "[encoded data removed]",
      "text/plain": [
       "<Figure size 432x288 with 1 Axes>"
      ]
     },
     "metadata": {
      "needs_background": "light"
     },
     "output_type": "display_data"
    },
    {
     "data": {
      "image/png": "[encoded data removed]",
      "text/plain": [
       "<Figure size 432x288 with 1 Axes>"
      ]
     },
     "metadata": {
      "needs_background": "light"
     },
     "output_type": "display_data"
    }
   ],
   "source": [
    "import seaborn as sns # Convention alias for Seaborn\n",
    "import matplotlib.pyplot as plt\n",
    "\n",
    "variables = ['Petrol_tax', 'Average_income', 'Paved_Highways','Population_Driver_licence(%)']\n",
    "\n",
    "for var in variables:\n",
    "    plt.figure() # Creating a rectangle (figure) for each plot\n",
    "    # Regression Plot also by default includes\n",
    "    # best-fitting regression line\n",
    "    # which can be turned off via `fit_reg=False`\n",
    "    sns.regplot(x=var, y='Petrol_Consumption', data=df).set(title=f'Regression plot of {var} and Petrol Consumption');\n"
   ]
  },
  {
   "cell_type": "code",
   "execution_count": 426,
   "id": "abe9da4c",
   "metadata": {},
   "outputs": [
    {
     "data": {
      "image/png": "[encoded data removed]",
      "text/plain": [
       "<Figure size 432x288 with 2 Axes>"
      ]
     },
     "metadata": {
      "needs_background": "light"
     },
     "output_type": "display_data"
    }
   ],
   "source": [
    "correlations = df.corr()\n",
    "# annot=True displays the correlation values\n",
    "sns.heatmap(correlations, annot=True).set(title='Heatmap of Consumption Data - Pearson Correlations');\n"
   ]
  },
  {
   "cell_type": "code",
   "execution_count": 427,
   "id": "29189cf0",
   "metadata": {},
   "outputs": [],
   "source": [
    "#Dataset for the model\n",
    "\n",
    "y = df['Petrol_Consumption']\n",
    "X = df[['Average_income', 'Paved_Highways',\n",
    "       'Population_Driver_licence(%)', 'Petrol_tax']]"
   ]
  },
  {
   "cell_type": "code",
   "execution_count": 428,
   "id": "cf0755b3",
   "metadata": {},
   "outputs": [],
   "source": [
    "#Splitting train and testing data\n",
    "\n",
    "from sklearn.model_selection import train_test_split\n",
    "SEED = 42 \n",
    "X_train, X_test, y_train, y_test = train_test_split(X, y, \n",
    "                                                    test_size=0.2, \n",
    "                                                    random_state=SEED)"
   ]
  },
  {
   "cell_type": "code",
   "execution_count": 429,
   "id": "bbb5d6bc",
   "metadata": {},
   "outputs": [
    {
     "data": {
      "text/plain": [
       "LinearRegression()"
      ]
     },
     "execution_count": 429,
     "metadata": {},
     "output_type": "execute_result"
    }
   ],
   "source": [
    "#Fit data to the model\n",
    "\n",
    "from sklearn.linear_model import LinearRegression\n",
    "regressor = LinearRegression()\n",
    "regressor.fit(X_train, y_train)"
   ]
  },
  {
   "cell_type": "code",
   "execution_count": 430,
   "id": "2d35cb0d",
   "metadata": {},
   "outputs": [
    {
     "data": {
      "text/plain": [
       "361.4508790666836"
      ]
     },
     "execution_count": 430,
     "metadata": {},
     "output_type": "execute_result"
    }
   ],
   "source": [
    "regressor.intercept_"
   ]
  },
  {
   "cell_type": "code",
   "execution_count": 431,
   "id": "328621b4",
   "metadata": {},
   "outputs": [
    {
     "name": "stdout",
     "output_type": "stream",
     "text": [
      "[-5.65355145e-02 -4.38217137e-03  1.34686930e+03 -3.69937459e+01]\n",
      "Index(['Average_income', 'Paved_Highways', 'Population_Driver_licence(%)',\n",
      "       'Petrol_tax'],\n",
      "      dtype='object')\n"
     ]
    }
   ],
   "source": [
    "print(regressor.coef_)\n",
    "print(X.columns)"
   ]
  },
  {
   "cell_type": "code",
   "execution_count": 432,
   "id": "788d7c32",
   "metadata": {},
   "outputs": [
    {
     "name": "stdout",
     "output_type": "stream",
     "text": [
      "                              Coefficient value\n",
      "Average_income                        -0.056536\n",
      "Paved_Highways                        -0.004382\n",
      "Population_Driver_licence(%)        1346.869298\n",
      "Petrol_tax                           -36.993746\n"
     ]
    }
   ],
   "source": [
    "#Better representaions of coef\n",
    "\n",
    "feature_names = X.columns\n",
    "model_coefficients = regressor.coef_\n",
    "\n",
    "coefficients_df = pd.DataFrame(data = model_coefficients, \n",
    "                              index = feature_names, \n",
    "                              columns = ['Coefficient value'])\n",
    "\n",
    "print(coefficients_df)"
   ]
  },
  {
   "cell_type": "code",
   "execution_count": 433,
   "id": "12eea292",
   "metadata": {},
   "outputs": [
    {
     "name": "stdout",
     "output_type": "stream",
     "text": [
      "    Actual   Predicted\n",
      "27     631  606.692665\n",
      "40     587  673.779442\n",
      "26     577  584.991490\n",
      "43     591  563.536910\n",
      "24     460  519.058672\n",
      "37     704  643.461003\n",
      "12     525  572.897614\n",
      "19     640  687.077036\n",
      "4      410  547.609366\n",
      "25     566  530.037630\n"
     ]
    }
   ],
   "source": [
    "#Model predections\n",
    "\n",
    "y_pred = regressor.predict(X_test)\n",
    "results = pd.DataFrame({'Actual': y_test, 'Predicted': y_pred})\n",
    "print(results)"
   ]
  },
  {
   "cell_type": "code",
   "execution_count": 434,
   "id": "3c061844",
   "metadata": {},
   "outputs": [
    {
     "name": "stdout",
     "output_type": "stream",
     "text": [
      "Mean absolute error: 53.47\n",
      "Mean squared error: 4083.26\n",
      "Root mean squared error: 63.90\n"
     ]
    }
   ],
   "source": [
    "from sklearn.metrics import mean_absolute_error, mean_squared_error\n",
    "import numpy as np\n",
    "\n",
    "mae = mean_absolute_error(y_test, y_pred)\n",
    "mse = mean_squared_error(y_test, y_pred)\n",
    "rmse = np.sqrt(mse)\n",
    "\n",
    "print(f'Mean absolute error: {mae:.2f}')\n",
    "print(f'Mean squared error: {mse:.2f}')\n",
    "print(f'Root mean squared error: {rmse:.2f}')"
   ]
  },
  {
   "cell_type": "code",
   "execution_count": 435,
   "id": "41adf2f1",
   "metadata": {},
   "outputs": [
    {
     "name": "stdout",
     "output_type": "stream",
     "text": [
      "R²: 0.3913664001430537\n"
     ]
    }
   ],
   "source": [
    "actual_minus_predicted = sum((y_test - y_pred)**2)\n",
    "actual_minus_actual_mean = sum((y_test - y_test.mean())**2)\n",
    "r2 = 1 - actual_minus_predicted/actual_minus_actual_mean\n",
    "print('R²:', r2)"
   ]
  },
  {
   "cell_type": "code",
   "execution_count": 436,
   "id": "79cce5f7",
   "metadata": {},
   "outputs": [
    {
     "data": {
      "text/plain": [
       "0.7068781342155135"
      ]
     },
     "execution_count": 436,
     "metadata": {},
     "output_type": "execute_result"
    }
   ],
   "source": [
    "#Train Error\n",
    "regressor.score(X_train, y_train)"
   ]
  },
  {
   "cell_type": "code",
   "execution_count": 437,
   "id": "6e382b97",
   "metadata": {},
   "outputs": [
    {
     "data": {
      "text/plain": [
       "0.3913664001430538"
      ]
     },
     "execution_count": 437,
     "metadata": {},
     "output_type": "execute_result"
    }
   ],
   "source": [
    "#Test Error\n",
    "regressor.score(X_test, y_test)"
   ]
  },
  {
   "cell_type": "markdown",
   "id": "e57ce344",
   "metadata": {},
   "source": [
    "### For all variable can get 70.68% train accuarcy and 39.13% testing accuracy. Which shows that model is overfitted"
   ]
  },
  {
   "cell_type": "markdown",
   "id": "bf568381",
   "metadata": {},
   "source": [
    "# Removing Average_income variable"
   ]
  },
  {
   "cell_type": "code",
   "execution_count": 438,
   "id": "90afded6",
   "metadata": {},
   "outputs": [],
   "source": [
    "#Dataset for the model\n",
    "\n",
    "y = df['Petrol_Consumption']\n",
    "X = df[['Paved_Highways',\n",
    "       'Population_Driver_licence(%)', 'Petrol_tax']]"
   ]
  },
  {
   "cell_type": "code",
   "execution_count": 439,
   "id": "ca34c446",
   "metadata": {},
   "outputs": [],
   "source": [
    "#Splitting train and testing data\n",
    "\n",
    "SEED = 42 \n",
    "X_train, X_test, y_train, y_test = train_test_split(X, y, \n",
    "                                                    test_size=0.2, \n",
    "                                                    random_state=SEED)"
   ]
  },
  {
   "cell_type": "code",
   "execution_count": 440,
   "id": "508f3176",
   "metadata": {},
   "outputs": [
    {
     "data": {
      "text/plain": [
       "LinearRegression()"
      ]
     },
     "execution_count": 440,
     "metadata": {},
     "output_type": "execute_result"
    }
   ],
   "source": [
    "#Fit data to the model\n",
    "\n",
    "regressor = LinearRegression()\n",
    "regressor.fit(X_train, y_train)"
   ]
  },
  {
   "cell_type": "code",
   "execution_count": 441,
   "id": "93d7c4f4",
   "metadata": {},
   "outputs": [
    {
     "data": {
      "text/plain": [
       "278.9451691960404"
      ]
     },
     "execution_count": 441,
     "metadata": {},
     "output_type": "execute_result"
    }
   ],
   "source": [
    "regressor.intercept_"
   ]
  },
  {
   "cell_type": "code",
   "execution_count": 442,
   "id": "004a91b8",
   "metadata": {},
   "outputs": [
    {
     "name": "stdout",
     "output_type": "stream",
     "text": [
      "                              Coefficient value\n",
      "Paved_Highways                        -0.006526\n",
      "Population_Driver_licence(%)        1202.432552\n",
      "Petrol_tax                           -45.428979\n"
     ]
    }
   ],
   "source": [
    "#Better representaions of coef\n",
    "\n",
    "feature_names = X.columns\n",
    "model_coefficients = regressor.coef_\n",
    "\n",
    "coefficients_df = pd.DataFrame(data = model_coefficients, \n",
    "                              index = feature_names, \n",
    "                              columns = ['Coefficient value'])\n",
    "\n",
    "print(coefficients_df)"
   ]
  },
  {
   "cell_type": "code",
   "execution_count": 443,
   "id": "407066e4",
   "metadata": {},
   "outputs": [
    {
     "name": "stdout",
     "output_type": "stream",
     "text": [
      "    Actual   Predicted\n",
      "27     631  575.307626\n",
      "40     587  683.392740\n",
      "26     577  539.214550\n",
      "43     591  554.739657\n",
      "24     460  538.248584\n",
      "37     704  623.901704\n",
      "12     525  605.916050\n",
      "19     640  667.626706\n",
      "4      410  566.824103\n",
      "25     566  493.237071\n"
     ]
    }
   ],
   "source": [
    "#Model predections\n",
    "\n",
    "y_pred = regressor.predict(X_test)\n",
    "results = pd.DataFrame({'Actual': y_test, 'Predicted': y_pred})\n",
    "print(results)"
   ]
  },
  {
   "cell_type": "code",
   "execution_count": 444,
   "id": "d1117ec8",
   "metadata": {},
   "outputs": [
    {
     "name": "stdout",
     "output_type": "stream",
     "text": [
      "Mean absolute error: 72.26\n",
      "Mean squared error: 6487.32\n",
      "Root mean squared error: 80.54\n"
     ]
    }
   ],
   "source": [
    "mae = mean_absolute_error(y_test, y_pred)\n",
    "mse = mean_squared_error(y_test, y_pred)\n",
    "rmse = np.sqrt(mse)\n",
    "\n",
    "print(f'Mean absolute error: {mae:.2f}')\n",
    "print(f'Mean squared error: {mse:.2f}')\n",
    "print(f'Root mean squared error: {rmse:.2f}')"
   ]
  },
  {
   "cell_type": "code",
   "execution_count": 445,
   "id": "273d9be9",
   "metadata": {},
   "outputs": [
    {
     "data": {
      "text/plain": [
       "0.6286735791896659"
      ]
     },
     "execution_count": 445,
     "metadata": {},
     "output_type": "execute_result"
    }
   ],
   "source": [
    "#Train Error\n",
    "regressor.score(X_train, y_train)"
   ]
  },
  {
   "cell_type": "code",
   "execution_count": 446,
   "id": "71024dc6",
   "metadata": {},
   "outputs": [
    {
     "data": {
      "text/plain": [
       "0.03302608023047027"
      ]
     },
     "execution_count": 446,
     "metadata": {},
     "output_type": "execute_result"
    }
   ],
   "source": [
    "#Test Error\n",
    "regressor.score(X_test, y_test)"
   ]
  },
  {
   "cell_type": "markdown",
   "id": "49db855f",
   "metadata": {},
   "source": [
    "### By removing Average_income we can get 62.86% train accuarcy and 3.30% testing accuracy."
   ]
  },
  {
   "cell_type": "markdown",
   "id": "f3aa5fe5",
   "metadata": {},
   "source": [
    "# Removing Paved_Highways variable"
   ]
  },
  {
   "cell_type": "code",
   "execution_count": 447,
   "id": "5703bb1a",
   "metadata": {},
   "outputs": [],
   "source": [
    "#Dataset for the model\n",
    "\n",
    "y = df['Petrol_Consumption']\n",
    "X = df[['Average_income',\n",
    "       'Population_Driver_licence(%)', 'Petrol_tax']]"
   ]
  },
  {
   "cell_type": "code",
   "execution_count": 448,
   "id": "af3dc812",
   "metadata": {},
   "outputs": [],
   "source": [
    "#Splitting train and testing data\n",
    "\n",
    "SEED = 42 \n",
    "X_train, X_test, y_train, y_test = train_test_split(X, y, \n",
    "                                                    test_size=0.2, \n",
    "                                                    random_state=SEED)"
   ]
  },
  {
   "cell_type": "code",
   "execution_count": 449,
   "id": "fa4276d7",
   "metadata": {},
   "outputs": [
    {
     "data": {
      "text/plain": [
       "LinearRegression()"
      ]
     },
     "execution_count": 449,
     "metadata": {},
     "output_type": "execute_result"
    }
   ],
   "source": [
    "#Fit data to the model\n",
    "\n",
    "regressor = LinearRegression()\n",
    "regressor.fit(X_train, y_train)"
   ]
  },
  {
   "cell_type": "code",
   "execution_count": 450,
   "id": "5862fc00",
   "metadata": {},
   "outputs": [
    {
     "data": {
      "text/plain": [
       "205.39240676596557"
      ]
     },
     "execution_count": 450,
     "metadata": {},
     "output_type": "execute_result"
    }
   ],
   "source": [
    "regressor.intercept_"
   ]
  },
  {
   "cell_type": "code",
   "execution_count": 451,
   "id": "6a222deb",
   "metadata": {},
   "outputs": [
    {
     "name": "stdout",
     "output_type": "stream",
     "text": [
      "                              Coefficient value\n",
      "Average_income                        -0.060255\n",
      "Population_Driver_licence(%)        1454.069438\n",
      "Petrol_tax                           -25.782603\n"
     ]
    }
   ],
   "source": [
    "#Better representaions of coef\n",
    "\n",
    "feature_names = X.columns\n",
    "model_coefficients = regressor.coef_\n",
    "\n",
    "coefficients_df = pd.DataFrame(data = model_coefficients, \n",
    "                              index = feature_names, \n",
    "                              columns = ['Coefficient value'])\n",
    "\n",
    "print(coefficients_df)"
   ]
  },
  {
   "cell_type": "code",
   "execution_count": 452,
   "id": "944f1227",
   "metadata": {},
   "outputs": [
    {
     "name": "stdout",
     "output_type": "stream",
     "text": [
      "    Actual   Predicted\n",
      "27     631  622.189623\n",
      "40     587  667.088621\n",
      "26     577  588.203528\n",
      "43     591  537.927716\n",
      "24     460  511.827675\n",
      "37     704  642.186422\n",
      "12     525  569.303291\n",
      "19     640  709.079762\n",
      "4      410  525.085058\n",
      "25     566  540.155122\n"
     ]
    }
   ],
   "source": [
    "#Model predections\n",
    "\n",
    "y_pred = regressor.predict(X_test)\n",
    "results = pd.DataFrame({'Actual': y_test, 'Predicted': y_pred})\n",
    "print(results)"
   ]
  },
  {
   "cell_type": "code",
   "execution_count": 453,
   "id": "b009fa10",
   "metadata": {},
   "outputs": [
    {
     "name": "stdout",
     "output_type": "stream",
     "text": [
      "Mean absolute error: 52.11\n",
      "Mean squared error: 3658.83\n",
      "Root mean squared error: 60.49\n"
     ]
    }
   ],
   "source": [
    "mae = mean_absolute_error(y_test, y_pred)\n",
    "mse = mean_squared_error(y_test, y_pred)\n",
    "rmse = np.sqrt(mse)\n",
    "\n",
    "print(f'Mean absolute error: {mae:.2f}')\n",
    "print(f'Mean squared error: {mse:.2f}')\n",
    "print(f'Root mean squared error: {rmse:.2f}')"
   ]
  },
  {
   "cell_type": "code",
   "execution_count": 454,
   "id": "a35326ca",
   "metadata": {},
   "outputs": [
    {
     "data": {
      "text/plain": [
       "0.6963601784723381"
      ]
     },
     "execution_count": 454,
     "metadata": {},
     "output_type": "execute_result"
    }
   ],
   "source": [
    "#Train Error\n",
    "regressor.score(X_train, y_train)"
   ]
  },
  {
   "cell_type": "code",
   "execution_count": 455,
   "id": "fe0630ad",
   "metadata": {},
   "outputs": [
    {
     "data": {
      "text/plain": [
       "0.4546289176654955"
      ]
     },
     "execution_count": 455,
     "metadata": {},
     "output_type": "execute_result"
    }
   ],
   "source": [
    "#Test Error\n",
    "regressor.score(X_test, y_test)"
   ]
  },
  {
   "cell_type": "markdown",
   "id": "322d35fe",
   "metadata": {},
   "source": [
    "### By removing Paved_Highways we can get 69.36% train accuarcy and 45.46% testing accuracy. Which is overfitted model"
   ]
  },
  {
   "cell_type": "markdown",
   "id": "106d053b",
   "metadata": {},
   "source": [
    "# Removing Petrol_tax variable"
   ]
  },
  {
   "cell_type": "code",
   "execution_count": 456,
   "id": "4b883ffa",
   "metadata": {},
   "outputs": [],
   "source": [
    "#Dataset for the model\n",
    "\n",
    "y = df['Petrol_Consumption']\n",
    "X = df[['Average_income', 'Paved_Highways',\n",
    "       'Population_Driver_licence(%)']]"
   ]
  },
  {
   "cell_type": "code",
   "execution_count": 457,
   "id": "4671c573",
   "metadata": {},
   "outputs": [],
   "source": [
    "#Splitting train and testing data\n",
    "\n",
    "SEED = 42 \n",
    "X_train, X_test, y_train, y_test = train_test_split(X, y, \n",
    "                                                    test_size=0.2, \n",
    "                                                    random_state=SEED)"
   ]
  },
  {
   "cell_type": "code",
   "execution_count": 458,
   "id": "a5b61c8c",
   "metadata": {},
   "outputs": [
    {
     "data": {
      "text/plain": [
       "LinearRegression()"
      ]
     },
     "execution_count": 458,
     "metadata": {},
     "output_type": "execute_result"
    }
   ],
   "source": [
    "#Fit data to the model\n",
    "\n",
    "regressor = LinearRegression()\n",
    "regressor.fit(X_train, y_train)"
   ]
  },
  {
   "cell_type": "code",
   "execution_count": 459,
   "id": "8a46e929",
   "metadata": {},
   "outputs": [
    {
     "data": {
      "text/plain": [
       "-81.76841445582784"
      ]
     },
     "execution_count": 459,
     "metadata": {},
     "output_type": "execute_result"
    }
   ],
   "source": [
    "regressor.intercept_"
   ]
  },
  {
   "cell_type": "code",
   "execution_count": 460,
   "id": "38ea0fc7",
   "metadata": {},
   "outputs": [
    {
     "name": "stdout",
     "output_type": "stream",
     "text": [
      "                              Coefficient value\n",
      "Average_income                        -0.064640\n",
      "Paved_Highways                         0.001826\n",
      "Population_Driver_licence(%)        1626.613019\n"
     ]
    }
   ],
   "source": [
    "#Better representaions of coef\n",
    "\n",
    "feature_names = X.columns\n",
    "model_coefficients = regressor.coef_\n",
    "\n",
    "coefficients_df = pd.DataFrame(data = model_coefficients, \n",
    "                              index = feature_names, \n",
    "                              columns = ['Coefficient value'])\n",
    "\n",
    "print(coefficients_df)"
   ]
  },
  {
   "cell_type": "code",
   "execution_count": 461,
   "id": "b539a12a",
   "metadata": {},
   "outputs": [
    {
     "name": "stdout",
     "output_type": "stream",
     "text": [
      "    Actual   Predicted\n",
      "27     631  627.979613\n",
      "40     587  657.377300\n",
      "26     577  596.594374\n",
      "43     591  507.240521\n",
      "24     460  523.612579\n",
      "37     704  631.182638\n",
      "12     525  553.189309\n",
      "19     640  749.819293\n",
      "4      410  519.542887\n",
      "25     566  571.248652\n"
     ]
    }
   ],
   "source": [
    "#Model predections\n",
    "\n",
    "y_pred = regressor.predict(X_test)\n",
    "results = pd.DataFrame({'Actual': y_test, 'Predicted': y_pred})\n",
    "print(results)"
   ]
  },
  {
   "cell_type": "code",
   "execution_count": 462,
   "id": "04c6efd5",
   "metadata": {},
   "outputs": [
    {
     "name": "stdout",
     "output_type": "stream",
     "text": [
      "Mean absolute error: 56.60\n",
      "Mean squared error: 4659.27\n",
      "Root mean squared error: 68.26\n"
     ]
    }
   ],
   "source": [
    "mae = mean_absolute_error(y_test, y_pred)\n",
    "mse = mean_squared_error(y_test, y_pred)\n",
    "rmse = np.sqrt(mse)\n",
    "\n",
    "print(f'Mean absolute error: {mae:.2f}')\n",
    "print(f'Mean squared error: {mse:.2f}')\n",
    "print(f'Root mean squared error: {rmse:.2f}')"
   ]
  },
  {
   "cell_type": "code",
   "execution_count": 463,
   "id": "5b43596b",
   "metadata": {},
   "outputs": [
    {
     "data": {
      "text/plain": [
       "0.6577092822857908"
      ]
     },
     "execution_count": 463,
     "metadata": {},
     "output_type": "execute_result"
    }
   ],
   "source": [
    "#Train Error\n",
    "regressor.score(X_train, y_train)"
   ]
  },
  {
   "cell_type": "code",
   "execution_count": 464,
   "id": "8e073d66",
   "metadata": {},
   "outputs": [
    {
     "data": {
      "text/plain": [
       "0.3055078869820692"
      ]
     },
     "execution_count": 464,
     "metadata": {},
     "output_type": "execute_result"
    }
   ],
   "source": [
    "#Test Error\n",
    "regressor.score(X_test, y_test)"
   ]
  },
  {
   "cell_type": "markdown",
   "id": "b8286261",
   "metadata": {},
   "source": [
    "### By removing Paved_Highways we can get 65.77% train accuarcy and 30.55% testing accuracy."
   ]
  },
  {
   "cell_type": "markdown",
   "id": "441478b2",
   "metadata": {},
   "source": [
    "# Removing Population_Driver_licence(%) variable"
   ]
  },
  {
   "cell_type": "code",
   "execution_count": 465,
   "id": "a6f81495",
   "metadata": {},
   "outputs": [],
   "source": [
    "#Dataset for the model\n",
    "\n",
    "y = df['Petrol_Consumption']\n",
    "X = df[['Average_income', 'Paved_Highways', 'Petrol_tax']]"
   ]
  },
  {
   "cell_type": "code",
   "execution_count": 466,
   "id": "4c7f5a5f",
   "metadata": {},
   "outputs": [],
   "source": [
    "#Splitting train and testing data\n",
    "\n",
    "SEED = 42 \n",
    "X_train, X_test, y_train, y_test = train_test_split(X, y, \n",
    "                                                    test_size=0.2, \n",
    "                                                    random_state=SEED)"
   ]
  },
  {
   "cell_type": "code",
   "execution_count": 467,
   "id": "b789a36a",
   "metadata": {},
   "outputs": [
    {
     "data": {
      "text/plain": [
       "LinearRegression()"
      ]
     },
     "execution_count": 467,
     "metadata": {},
     "output_type": "execute_result"
    }
   ],
   "source": [
    "#Fit data to the model\n",
    "\n",
    "regressor = LinearRegression()\n",
    "regressor.fit(X_train, y_train)"
   ]
  },
  {
   "cell_type": "code",
   "execution_count": 468,
   "id": "99c4eee4",
   "metadata": {},
   "outputs": [
    {
     "data": {
      "text/plain": [
       "1449.3580680851278"
      ]
     },
     "execution_count": 468,
     "metadata": {},
     "output_type": "execute_result"
    }
   ],
   "source": [
    "regressor.intercept_"
   ]
  },
  {
   "cell_type": "code",
   "execution_count": 469,
   "id": "8695ac06",
   "metadata": {},
   "outputs": [
    {
     "name": "stdout",
     "output_type": "stream",
     "text": [
      "                Coefficient value\n",
      "Average_income          -0.032935\n",
      "Paved_Highways          -0.014477\n",
      "Petrol_tax             -84.566887\n"
     ]
    }
   ],
   "source": [
    "#Better representaions of coef\n",
    "\n",
    "feature_names = X.columns\n",
    "model_coefficients = regressor.coef_\n",
    "\n",
    "coefficients_df = pd.DataFrame(data = model_coefficients, \n",
    "                              index = feature_names, \n",
    "                              columns = ['Coefficient value'])\n",
    "\n",
    "print(coefficients_df)"
   ]
  },
  {
   "cell_type": "code",
   "execution_count": 470,
   "id": "397b0894",
   "metadata": {},
   "outputs": [
    {
     "name": "stdout",
     "output_type": "stream",
     "text": [
      "    Actual   Predicted\n",
      "27     631  557.260421\n",
      "40     587  643.703456\n",
      "26     577  581.101195\n",
      "43     591  696.249549\n",
      "24     460  541.980679\n",
      "37     704  636.605754\n",
      "12     525  598.415804\n",
      "19     640  500.561524\n",
      "4      410  621.704238\n",
      "25     566  496.996932\n"
     ]
    }
   ],
   "source": [
    "#Model predections\n",
    "\n",
    "y_pred = regressor.predict(X_test)\n",
    "results = pd.DataFrame({'Actual': y_test, 'Predicted': y_pred})\n",
    "print(results)"
   ]
  },
  {
   "cell_type": "code",
   "execution_count": 471,
   "id": "a13865e1",
   "metadata": {},
   "outputs": [
    {
     "name": "stdout",
     "output_type": "stream",
     "text": [
      "Mean absolute error: 88.27\n",
      "Mean squared error: 10542.30\n",
      "Root mean squared error: 102.68\n"
     ]
    }
   ],
   "source": [
    "mae = mean_absolute_error(y_test, y_pred)\n",
    "mse = mean_squared_error(y_test, y_pred)\n",
    "rmse = np.sqrt(mse)\n",
    "\n",
    "print(f'Mean absolute error: {mae:.2f}')\n",
    "print(f'Mean squared error: {mse:.2f}')\n",
    "print(f'Root mean squared error: {rmse:.2f}')"
   ]
  },
  {
   "cell_type": "code",
   "execution_count": 472,
   "id": "20b9bf7b",
   "metadata": {},
   "outputs": [
    {
     "data": {
      "text/plain": [
       "0.40244725995268826"
      ]
     },
     "execution_count": 472,
     "metadata": {},
     "output_type": "execute_result"
    }
   ],
   "source": [
    "#Train Error\n",
    "regressor.score(X_train, y_train)"
   ]
  },
  {
   "cell_type": "code",
   "execution_count": 473,
   "id": "f27ea47a",
   "metadata": {},
   "outputs": [
    {
     "data": {
      "text/plain": [
       "-0.5713923970639303"
      ]
     },
     "execution_count": 473,
     "metadata": {},
     "output_type": "execute_result"
    }
   ],
   "source": [
    "#Test Error\n",
    "regressor.score(X_test, y_test)"
   ]
  },
  {
   "cell_type": "markdown",
   "id": "a6ccf18a",
   "metadata": {},
   "source": [
    "### By removing Population_Driver_licence(%) we can get 40.24% train accuarcy and -57.13% testing accuracy."
   ]
  },
  {
   "cell_type": "markdown",
   "id": "dea097b4",
   "metadata": {},
   "source": [
    "# Removing Outliers"
   ]
  },
  {
   "cell_type": "code",
   "execution_count": 474,
   "id": "86286f63",
   "metadata": {
    "scrolled": true
   },
   "outputs": [
    {
     "data": {
      "image/png": "[encoded data removed]",
      "text/plain": [
       "<Figure size 432x288 with 1 Axes>"
      ]
     },
     "metadata": {
      "needs_background": "light"
     },
     "output_type": "display_data"
    },
    {
     "data": {
      "image/png": "[encoded data removed]",
      "text/plain": [
       "<Figure size 432x288 with 1 Axes>"
      ]
     },
     "metadata": {
      "needs_background": "light"
     },
     "output_type": "display_data"
    },
    {
     "data": {
      "image/png": "[encoded data removed]",
      "text/plain": [
       "<Figure size 432x288 with 1 Axes>"
      ]
     },
     "metadata": {
      "needs_background": "light"
     },
     "output_type": "display_data"
    },
    {
     "data": {
      "image/png": "[encoded data removed]",
      "text/plain": [
       "<Figure size 432x288 with 1 Axes>"
      ]
     },
     "metadata": {
      "needs_background": "light"
     },
     "output_type": "display_data"
    }
   ],
   "source": [
    "variables = ['Petrol_tax', 'Average_income', 'Paved_Highways','Population_Driver_licence(%)']\n",
    "\n",
    "for var in variables:\n",
    "    plt.figure()\n",
    "    sns.regplot(x=var, y='Petrol_Consumption', data=df).set(title=f'Regression plot of {var} and Petrol Consumption');"
   ]
  },
  {
   "cell_type": "code",
   "execution_count": 475,
   "id": "eb68d94b",
   "metadata": {},
   "outputs": [
    {
     "data": {
      "text/plain": [
       "(48, 5)"
      ]
     },
     "execution_count": 475,
     "metadata": {},
     "output_type": "execute_result"
    }
   ],
   "source": [
    "df.shape"
   ]
  },
  {
   "cell_type": "code",
   "execution_count": 476,
   "id": "70dcd752",
   "metadata": {},
   "outputs": [
    {
     "name": "stdout",
     "output_type": "stream",
     "text": [
      "   Petrol_tax  Average_income  Paved_Highways  Population_Driver_licence(%)  \\\n",
      "5        10.0            5342            1333                         0.571   \n",
      "\n",
      "   Petrol_Consumption  \n",
      "5                 457  \n",
      "    Petrol_tax  Average_income  Paved_Highways  Population_Driver_licence(%)  \\\n",
      "36         5.0            4045           17782                         0.566   \n",
      "44         6.0            5215            2302                         0.672   \n",
      "\n",
      "    Petrol_Consumption  \n",
      "36                 640  \n",
      "44                 782  \n"
     ]
    }
   ],
   "source": [
    "#Removing outliers data in Petrol_tax variable\n",
    "\n",
    "print(df[(df['Petrol_tax'] > 9.50)])\n",
    "print(df[(df['Petrol_tax'] < 6.50)])\n",
    "\n",
    "df = df[~(df['Petrol_tax'] > 9.50)]\n",
    "df = df[~(df['Petrol_tax'] < 6.50)]"
   ]
  },
  {
   "cell_type": "code",
   "execution_count": 477,
   "id": "e0e59af5",
   "metadata": {},
   "outputs": [
    {
     "data": {
      "text/plain": [
       "(45, 5)"
      ]
     },
     "execution_count": 477,
     "metadata": {},
     "output_type": "execute_result"
    }
   ],
   "source": [
    "df.shape"
   ]
  },
  {
   "cell_type": "code",
   "execution_count": 478,
   "id": "ecaa85d1",
   "metadata": {},
   "outputs": [
    {
     "name": "stdout",
     "output_type": "stream",
     "text": [
      "    Petrol_tax  Average_income  Paved_Highways  Population_Driver_licence(%)  \\\n",
      "32         8.0            3063            6524                         0.578   \n",
      "\n",
      "    Petrol_Consumption  \n",
      "32                 577  \n",
      "   Petrol_tax  Average_income  Paved_Highways  Population_Driver_licence(%)  \\\n",
      "6         8.0            5319           11868                         0.451   \n",
      "\n",
      "   Petrol_Consumption  \n",
      "6                 344  \n"
     ]
    }
   ],
   "source": [
    "#Removing outliers data in Average_income variable\n",
    "\n",
    "print(df[(df['Average_income'] < 3200)])\n",
    "print(df[(df['Average_income'] > 5250)])\n",
    "\n",
    "df = df[~(df['Average_income'] < 3200)]\n",
    "df = df[~(df['Average_income'] > 5250)]"
   ]
  },
  {
   "cell_type": "code",
   "execution_count": 479,
   "id": "4decf63f",
   "metadata": {},
   "outputs": [
    {
     "data": {
      "text/plain": [
       "(43, 5)"
      ]
     },
     "execution_count": 479,
     "metadata": {},
     "output_type": "execute_result"
    }
   ],
   "source": [
    "df.shape"
   ]
  },
  {
   "cell_type": "code",
   "execution_count": 480,
   "id": "ea4a7d53",
   "metadata": {},
   "outputs": [
    {
     "name": "stdout",
     "output_type": "stream",
     "text": [
      "    Petrol_tax  Average_income  Paved_Highways  Population_Driver_licence(%)  \\\n",
      "11         7.5            5126           14186                         0.525   \n",
      "15         7.0            4318           10340                         0.586   \n",
      "\n",
      "    Petrol_Consumption  \n",
      "11                 471  \n",
      "15                 635  \n"
     ]
    }
   ],
   "source": [
    "#Removing outliers data in Average_income variable\n",
    "\n",
    "print(df[(df['Paved_Highways'] > 10000)])\n",
    "\n",
    "df = df[~(df['Paved_Highways'] > 10000)]"
   ]
  },
  {
   "cell_type": "code",
   "execution_count": 481,
   "id": "af58ceb8",
   "metadata": {},
   "outputs": [
    {
     "data": {
      "text/plain": [
       "(41, 5)"
      ]
     },
     "execution_count": 481,
     "metadata": {},
     "output_type": "execute_result"
    }
   ],
   "source": [
    "df.shape"
   ]
  },
  {
   "cell_type": "code",
   "execution_count": 482,
   "id": "c7c30f27",
   "metadata": {},
   "outputs": [
    {
     "name": "stdout",
     "output_type": "stream",
     "text": [
      "Empty DataFrame\n",
      "Columns: [Petrol_tax, Average_income, Paved_Highways, Population_Driver_licence(%), Petrol_Consumption]\n",
      "Index: []\n",
      "    Petrol_tax  Average_income  Paved_Highways  Population_Driver_licence(%)  \\\n",
      "18         7.0            4716            5915                         0.724   \n",
      "\n",
      "    Petrol_Consumption  \n",
      "18                 865  \n"
     ]
    }
   ],
   "source": [
    "#Removing outliers data in Average_income variable\n",
    "\n",
    "print(df[(df['Population_Driver_licence(%)'] < 0.46)])\n",
    "print(df[(df['Population_Driver_licence(%)'] > 0.68)])\n",
    "\n",
    "\n",
    "df = df[~(df['Population_Driver_licence(%)'] < 0.46)]\n",
    "df = df[~(df['Population_Driver_licence(%)'] > 0.68)]"
   ]
  },
  {
   "cell_type": "code",
   "execution_count": 483,
   "id": "0165ce73",
   "metadata": {},
   "outputs": [
    {
     "data": {
      "text/plain": [
       "(40, 5)"
      ]
     },
     "execution_count": 483,
     "metadata": {},
     "output_type": "execute_result"
    }
   ],
   "source": [
    "df.shape"
   ]
  },
  {
   "cell_type": "code",
   "execution_count": 484,
   "id": "0a9d438d",
   "metadata": {},
   "outputs": [
    {
     "name": "stdout",
     "output_type": "stream",
     "text": [
      "   Petrol_tax  Average_income  Paved_Highways  Population_Driver_licence(%)  \\\n",
      "3         7.5            4870            2351                         0.529   \n",
      "4         8.0            4399             431                         0.544   \n",
      "\n",
      "   Petrol_Consumption  \n",
      "3                 414  \n",
      "4                 410  \n",
      "    Petrol_tax  Average_income  Paved_Highways  Population_Driver_licence(%)  \\\n",
      "39         7.0            4345            3905                         0.672   \n",
      "\n",
      "    Petrol_Consumption  \n",
      "39                 968  \n"
     ]
    }
   ],
   "source": [
    "#Removing outliers data in Petrol_Consumption variable\n",
    "\n",
    "print(df[(df['Petrol_Consumption'] < 420)])\n",
    "print(df[(df['Petrol_Consumption'] > 850)])\n",
    "\n",
    "\n",
    "df = df[~(df['Petrol_Consumption'] < 420)]\n",
    "df = df[~(df['Petrol_Consumption'] > 850)]"
   ]
  },
  {
   "cell_type": "code",
   "execution_count": 485,
   "id": "fa081f45",
   "metadata": {},
   "outputs": [
    {
     "data": {
      "text/plain": [
       "(37, 5)"
      ]
     },
     "execution_count": 485,
     "metadata": {},
     "output_type": "execute_result"
    }
   ],
   "source": [
    "df.shape"
   ]
  },
  {
   "cell_type": "code",
   "execution_count": 486,
   "id": "f37cff8b",
   "metadata": {},
   "outputs": [
    {
     "data": {
      "image/png": "[encoded data removed]",
      "text/plain": [
       "<Figure size 432x288 with 1 Axes>"
      ]
     },
     "metadata": {
      "needs_background": "light"
     },
     "output_type": "display_data"
    },
    {
     "data": {
      "image/png": "[encoded data removed]",
      "text/plain": [
       "<Figure size 432x288 with 1 Axes>"
      ]
     },
     "metadata": {
      "needs_background": "light"
     },
     "output_type": "display_data"
    },
    {
     "data": {
      "image/png": "[encoded data removed]",
      "text/plain": [
       "<Figure size 432x288 with 1 Axes>"
      ]
     },
     "metadata": {
      "needs_background": "light"
     },
     "output_type": "display_data"
    },
    {
     "data": {
      "image/png": "[encoded data removed]",
      "text/plain": [
       "<Figure size 432x288 with 1 Axes>"
      ]
     },
     "metadata": {
      "needs_background": "light"
     },
     "output_type": "display_data"
    }
   ],
   "source": [
    "variables = ['Petrol_tax', 'Average_income', 'Paved_Highways','Population_Driver_licence(%)']\n",
    "\n",
    "for var in variables:\n",
    "    plt.figure()\n",
    "    sns.regplot(x=var, y='Petrol_Consumption', data=df).set(title=f'Regression plot of {var} and Petrol Consumption');"
   ]
  },
  {
   "cell_type": "code",
   "execution_count": 487,
   "id": "cb674693",
   "metadata": {},
   "outputs": [],
   "source": [
    "#Dataset for the model\n",
    "\n",
    "y = df['Petrol_Consumption']\n",
    "X = df[['Average_income', 'Paved_Highways',\n",
    "       'Population_Driver_licence(%)', 'Petrol_tax']]"
   ]
  },
  {
   "cell_type": "code",
   "execution_count": 488,
   "id": "56e42603",
   "metadata": {},
   "outputs": [],
   "source": [
    "SEED = 42\n",
    "X_train, X_test, y_train, y_test = train_test_split(X, y, \n",
    "                                                    test_size=0.2, \n",
    "                                                    random_state=SEED)"
   ]
  },
  {
   "cell_type": "code",
   "execution_count": 489,
   "id": "c91595e0",
   "metadata": {},
   "outputs": [
    {
     "data": {
      "text/plain": [
       "LinearRegression()"
      ]
     },
     "execution_count": 489,
     "metadata": {},
     "output_type": "execute_result"
    }
   ],
   "source": [
    "regressor = LinearRegression()\n",
    "regressor.fit(X_train, y_train)"
   ]
  },
  {
   "cell_type": "code",
   "execution_count": 490,
   "id": "6034aa21",
   "metadata": {},
   "outputs": [
    {
     "data": {
      "text/plain": [
       "726.6734241137171"
      ]
     },
     "execution_count": 490,
     "metadata": {},
     "output_type": "execute_result"
    }
   ],
   "source": [
    "regressor.intercept_"
   ]
  },
  {
   "cell_type": "code",
   "execution_count": 491,
   "id": "c5eb2dda",
   "metadata": {},
   "outputs": [
    {
     "name": "stdout",
     "output_type": "stream",
     "text": [
      "                              Coefficient value\n",
      "Average_income                        -0.088267\n",
      "Paved_Highways                        -0.004327\n",
      "Population_Driver_licence(%)         799.624794\n",
      "Petrol_tax                           -28.135246\n"
     ]
    }
   ],
   "source": [
    "#Better representaions of coef\n",
    "\n",
    "feature_names = X.columns\n",
    "model_coefficients = regressor.coef_\n",
    "\n",
    "coefficients_df = pd.DataFrame(data = model_coefficients, \n",
    "                              index = feature_names, \n",
    "                              columns = ['Coefficient value'])\n",
    "\n",
    "print(coefficients_df)"
   ]
  },
  {
   "cell_type": "code",
   "execution_count": 492,
   "id": "cc225e7a",
   "metadata": {},
   "outputs": [
    {
     "name": "stdout",
     "output_type": "stream",
     "text": [
      "    Actual   Predicted\n",
      "24     460  513.052137\n",
      "20     649  620.569642\n",
      "8      464  494.956518\n",
      "38     648  682.658274\n",
      "46     610  631.031145\n",
      "33     628  638.910071\n",
      "10     580  512.114196\n",
      "34     487  564.480166\n"
     ]
    }
   ],
   "source": [
    "#Model predections\n",
    "\n",
    "y_pred = regressor.predict(X_test)\n",
    "results = pd.DataFrame({'Actual': y_test, 'Predicted': y_pred})\n",
    "print(results)"
   ]
  },
  {
   "cell_type": "code",
   "execution_count": 493,
   "id": "4a1a65e8",
   "metadata": {},
   "outputs": [
    {
     "name": "stdout",
     "output_type": "stream",
     "text": [
      "Mean absolute error: 40.55\n",
      "Mean squared error: 2119.41\n",
      "Root mean squared error: 46.04\n"
     ]
    }
   ],
   "source": [
    "mae = mean_absolute_error(y_test, y_pred)\n",
    "mse = mean_squared_error(y_test, y_pred)\n",
    "rmse = np.sqrt(mse)\n",
    "\n",
    "print(f'Mean absolute error: {mae:.2f}')\n",
    "print(f'Mean squared error: {mse:.2f}')\n",
    "print(f'Root mean squared error: {rmse:.2f}')"
   ]
  },
  {
   "cell_type": "code",
   "execution_count": 494,
   "id": "e9cda5e1",
   "metadata": {},
   "outputs": [
    {
     "data": {
      "text/plain": [
       "0.6402956657405138"
      ]
     },
     "execution_count": 494,
     "metadata": {},
     "output_type": "execute_result"
    }
   ],
   "source": [
    "#Train Error\n",
    "regressor.score(X_train, y_train)"
   ]
  },
  {
   "cell_type": "code",
   "execution_count": 495,
   "id": "d3e6ad10",
   "metadata": {},
   "outputs": [
    {
     "data": {
      "text/plain": [
       "0.6428166780884602"
      ]
     },
     "execution_count": 495,
     "metadata": {},
     "output_type": "execute_result"
    }
   ],
   "source": [
    "#Test Error\n",
    "regressor.score(X_test, y_test)"
   ]
  },
  {
   "cell_type": "markdown",
   "id": "3fe0b17d",
   "metadata": {},
   "source": [
    "### By removing outliers we can get 64.02% train accuarcy and 64.28% testing accuracy."
   ]
  }
 ],
 "metadata": {
  "kernelspec": {
   "display_name": "Python 3 (ipykernel)",
   "language": "python",
   "name": "python3"
  },
  "language_info": {
   "codemirror_mode": {
    "name": "ipython",
    "version": 3
   },
   "file_extension": ".py",
   "mimetype": "text/x-python",
   "name": "python",
   "nbconvert_exporter": "python",
   "pygments_lexer": "ipython3",
   "version": "3.10.8"
  }
 },
 "nbformat": 4,
 "nbformat_minor": 5
}
