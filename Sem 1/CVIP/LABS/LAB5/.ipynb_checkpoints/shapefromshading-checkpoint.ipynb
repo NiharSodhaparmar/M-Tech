{
 "cells": [
  {
   "cell_type": "code",
   "execution_count": 1,
   "metadata": {
    "id": "P655drLwjpCa"
   },
   "outputs": [],
   "source": [
    "import numpy as np\n",
    "import matplotlib.pyplot as plt\n",
    "import pylab\n",
    "from mpl_toolkits.mplot3d import Axes3D"
   ]
  },
  {
   "cell_type": "code",
   "execution_count": 2,
   "metadata": {
    "colab": {
     "base_uri": "https://localhost:8080/"
    },
    "id": "28yg905UjwkC",
    "outputId": "1486498c-97d5-4ea5-9120-9e2a9eb5797d"
   },
   "outputs": [
    {
     "name": "stdout",
     "output_type": "stream",
     "text": [
      "[ 0  0 40] [20  5 40]\n"
     ]
    }
   ],
   "source": [
    "light1=np.asarray([0,0,40]);\n",
    "light2=np.asarray([20,5,40]);\n",
    "light3=np.asarray([-5,15,40]);\n",
    "light4=np.asarray([-10,-10,40]);\n",
    "light5=np.asarray([5,-10,40]);\n",
    "light6=np.asarray([5,20,40]);\n",
    "print(light1,light2)"
   ]
  },
  {
   "cell_type": "code",
   "execution_count": 3,
   "metadata": {
    "colab": {
     "base_uri": "https://localhost:8080/"
    },
    "id": "pPZNm2C5kSAx",
    "outputId": "a7e268f9-b3fb-4fcf-a136-7008fea2e0c0"
   },
   "outputs": [
    {
     "name": "stdout",
     "output_type": "stream",
     "text": [
      "[0. 0. 1.] [0.44444444 0.11111111 0.88888889]\n"
     ]
    }
   ],
   "source": [
    "light1 = light1 / np.linalg.norm(light1);\n",
    "light2 = light2 / np.linalg.norm(light2);\n",
    "light3 = light3 / np.linalg.norm(light3);\n",
    "light4 = light4 / np.linalg.norm(light4);\n",
    "light5 = light5 / np.linalg.norm(light5);\n",
    "light6 = light6 / np.linalg.norm(light6);\n",
    "print(light1,light2)"
   ]
  },
  {
   "cell_type": "code",
   "execution_count": 4,
   "metadata": {
    "id": "l5yMp5VinW3L"
   },
   "outputs": [],
   "source": [
    "img1 = plt.imread('s_ss1.bmp');\n",
    "img2 = plt.imread('s_ss2.bmp');\n",
    "img3 = plt.imread('s_ss3.bmp');\n",
    "img4 = plt.imread('s_ss4.bmp');\n",
    "img5 = plt.imread('s_ss5.bmp');\n",
    "img6 = plt.imread('s_ss6.bmp');"
   ]
  },
  {
   "cell_type": "code",
   "execution_count": 5,
   "metadata": {
    "id": "4Bh-CHG2k7UY"
   },
   "outputs": [],
   "source": [
    "S= np.asarray([light1,light2 ,light3, light4, light5, light6])\n",
    "\n",
    "b=np.ones((240, 320,3),dtype=float)\n",
    "#b.astype(float)\n",
    "#print(b)"
   ]
  },
  {
   "cell_type": "code",
   "execution_count": 6,
   "metadata": {
    "id": "qOGHd4__mlz9"
   },
   "outputs": [],
   "source": [
    "p=np.ones((240, 320),dtype=float)\n",
    "q=p;\n",
    "Z=np.ones((240, 320),dtype=float)"
   ]
  },
  {
   "cell_type": "code",
   "execution_count": 7,
   "metadata": {
    "id": "IKfhYakIm8fp"
   },
   "outputs": [],
   "source": [
    "for i in range(240):\n",
    "    for j in range(320):\n",
    "\n",
    "        \n",
    "        E=np.asarray([img1[i,j],img2[i,j],img3[i,j],img4[i,j],img5[i,j],img6[i,j]])\n",
    "        E=E.transpose()\n",
    "        E.astype(float)\n",
    "        \n",
    "        tb= np.dot((np.linalg.inv(np.dot(S.transpose(),S))),np.dot(S.transpose(),E));\n",
    "        \n",
    "        nbm = np.linalg.norm(tb);\n",
    "        if( nbm == 0):\n",
    "            b[i,j,:] = 0; \n",
    "        else:\n",
    "            b[i,j,:] = tb / nbm;\n",
    "        \n",
    "        tM = [b[i,j,0],b[i,j,1],b[i,j,2]]\n",
    "        nbm = np.linalg.norm(tM);\n",
    "        if( nbm == 0):\n",
    "            tM = [0,0,0];\n",
    "        else:\n",
    "            tM = tM / nbm; \n",
    "        \n",
    "        p[i,j]=np.asarray(tM[0]);\n",
    "        q[i,j]=np.asarray(tM[1]);"
   ]
  },
  {
   "cell_type": "code",
   "execution_count": 8,
   "metadata": {
    "id": "fFa2bH52tJmy"
   },
   "outputs": [],
   "source": [
    "for i in range(240):\n",
    "    for j in range(320):\n",
    "        Z[i,j] = sum(q[0:i, 0]) + sum(p[i,0:j]);\n",
    "\n",
    "Z = Z*-1;"
   ]
  },
  {
   "cell_type": "code",
   "execution_count": 9,
   "metadata": {
    "colab": {
     "base_uri": "https://localhost:8080/",
     "height": 319
    },
    "id": "4zQz35gAypR1",
    "outputId": "c04048fb-5bfe-447f-cb21-38587b8aa699"
   },
   "outputs": [
    {
     "data": {
      "text/plain": [
       "<Figure size 640x480 with 0 Axes>"
      ]
     },
     "metadata": {},
     "output_type": "display_data"
    }
   ],
   "source": [
    "fig = pylab.figure()\n",
    "ax = Axes3D(fig)\n",
    "def plot3(a,b,c,mark=\"o\",col=\"b\"):\n",
    "  pylab.ion()\n",
    "  ax.scatter(a, b, c,marker=mark,color=col,linewidth=1)\n",
    "  #ax.plot_wireframe(a,b,c)\n",
    "\n",
    "xi = np.zeros((240,320))\n",
    "yi = np.zeros((240,320))\n",
    "zi = np.zeros((240,320))\n",
    "for i in range(0,240,2):\n",
    "    for j in range(0,320,2):\n",
    "        xi[i,j] = j+b[i,j,0] \n",
    "        yi[i,j] = i+b[i,j,1]\n",
    "        zi[i,j] = b[i,j,2]\n",
    "        #plot3(j+b[i,j,0],i+b[i,j,1],b[i,j,2])\n",
    "plot3(xi,yi,zi)"
   ]
  },
  {
   "cell_type": "code",
   "execution_count": 10,
   "metadata": {
    "colab": {
     "base_uri": "https://localhost:8080/",
     "height": 562
    },
    "id": "XDWMTWqstuFv",
    "outputId": "a411af40-dc64-43c5-813d-131253cea1e5"
   },
   "outputs": [
    {
     "name": "stdout",
     "output_type": "stream",
     "text": [
      "[[  0   0   0 ...   0   0   0]\n",
      " [  1   1   1 ...   1   1   1]\n",
      " [  2   2   2 ...   2   2   2]\n",
      " ...\n",
      " [237 237 237 ... 237 237 237]\n",
      " [238 238 238 ... 238 238 238]\n",
      " [239 239 239 ... 239 239 239]] [[  0   1   2 ... 317 318 319]\n",
      " [  0   1   2 ... 317 318 319]\n",
      " [  0   1   2 ... 317 318 319]\n",
      " ...\n",
      " [  0   1   2 ... 317 318 319]\n",
      " [  0   1   2 ... 317 318 319]\n",
      " [  0   1   2 ... 317 318 319]]\n",
      "(240, 320)\n"
     ]
    },
    {
     "data": {
      "text/plain": [
       "<Figure size 640x480 with 0 Axes>"
      ]
     },
     "metadata": {},
     "output_type": "display_data"
    }
   ],
   "source": [
    "fig1 = pylab.figure()\n",
    "ax = Axes3D(fig1)\n",
    "#ax.plot_surface(Z);\n",
    "x,y = np.mgrid[0:240:1,0:320:1]\n",
    "print(x,y)\n",
    "print(Z.shape)\n",
    "ax.plot_surface(x,y,Z);"
   ]
  }
 ],
 "metadata": {
  "colab": {
   "collapsed_sections": [],
   "name": "shapefromshading.ipynb",
   "provenance": []
  },
  "kernelspec": {
   "display_name": "Python 3 (ipykernel)",
   "language": "python",
   "name": "python3"
  },
  "language_info": {
   "codemirror_mode": {
    "name": "ipython",
    "version": 3
   },
   "file_extension": ".py",
   "mimetype": "text/x-python",
   "name": "python",
   "nbconvert_exporter": "python",
   "pygments_lexer": "ipython3",
   "version": "3.10.8"
  },
  "vscode": {
   "interpreter": {
    "hash": "7536d7b229462f4296d4c0dae49c3bd6cd3990c783d6b9d88ce3c31a78605890"
   }
  }
 },
 "nbformat": 4,
 "nbformat_minor": 1
}
