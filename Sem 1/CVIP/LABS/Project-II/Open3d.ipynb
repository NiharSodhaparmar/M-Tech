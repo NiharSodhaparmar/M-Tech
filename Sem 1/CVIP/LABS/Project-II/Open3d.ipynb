{
 "cells": [
  {
   "cell_type": "code",
   "execution_count": 1,
   "id": "5d81e170",
   "metadata": {},
   "outputs": [
    {
     "name": "stdout",
     "output_type": "stream",
     "text": [
      "Jupyter environment detected. Enabling Open3D WebVisualizer.\n",
      "[Open3D INFO] WebRTC GUI backend enabled.\n",
      "[Open3D INFO] WebRTCWindowSystem: HTTP handshake server disabled.\n"
     ]
    }
   ],
   "source": [
    "import open3d as o3d\n",
    "import numpy as np\n",
    "import PIL.Image\n",
    "import IPython.display\n",
    "import os\n",
    "import urllib\n",
    "import tarfile\n",
    "import gzip\n",
    "import zipfile\n",
    "import shutil\n",
    "\n",
    "# Download the point cloud using below command\n",
    "import wget\n",
    "url = 'http://graphics.stanford.edu/pub/3Dscanrep/bunny.tar.gz'\n",
    "# filename = wget.download(url)"
   ]
  },
  {
   "cell_type": "markdown",
   "id": "24bda380",
   "metadata": {},
   "source": [
    "### Bunny Dataset"
   ]
  },
  {
   "cell_type": "code",
   "execution_count": 2,
   "id": "a056dfb6",
   "metadata": {},
   "outputs": [],
   "source": [
    "# Unzip file\n",
    "\n",
    "bunny_path = \"bunny\"\n",
    "with tarfile.open(bunny_path + \".tar.gz\") as tar:\n",
    "            tar.extractall(path=os.path.dirname(bunny_path))"
   ]
  },
  {
   "cell_type": "code",
   "execution_count": 3,
   "id": "18ae7333",
   "metadata": {},
   "outputs": [
    {
     "data": {
      "text/plain": [
       "TriangleMesh with 35947 points and 69451 triangles."
      ]
     },
     "execution_count": 3,
     "metadata": {},
     "output_type": "execute_result"
    }
   ],
   "source": [
    "# Read file\n",
    "\n",
    "bunny_path = \"./bunny/reconstruction/bun_zipper.ply\"\n",
    "mesh = o3d.io.read_triangle_mesh(bunny_path)\n",
    "mesh.compute_vertex_normals()"
   ]
  },
  {
   "cell_type": "code",
   "execution_count": 4,
   "id": "6e7fba13",
   "metadata": {},
   "outputs": [],
   "source": [
    "# draw point cpoud\n",
    "pcd = mesh.sample_points_uniformly(number_of_points=500)\n",
    "o3d.visualization.draw_geometries([pcd])\n",
    "\n",
    "# draw mesh\n",
    "mesh.compute_vertex_normals()\n",
    "o3d.visualization.draw_geometries([mesh])"
   ]
  },
  {
   "cell_type": "markdown",
   "id": "78d221e2",
   "metadata": {},
   "source": [
    "### Happy Buddha Dataset"
   ]
  },
  {
   "cell_type": "code",
   "execution_count": 5,
   "id": "585fdfce",
   "metadata": {},
   "outputs": [],
   "source": [
    "#Download the Happy Buddha dataset\n",
    "import wget\n",
    "url = 'http://graphics.stanford.edu/pub/3Dscanrep/happy/happy_recon.tar.gz'\n",
    "# filename = wget.download(url)"
   ]
  },
  {
   "cell_type": "code",
   "execution_count": 6,
   "id": "65e78389",
   "metadata": {},
   "outputs": [],
   "source": [
    "# Unzip file\n",
    "\n",
    "budha_path = \"happy_recon\"\n",
    "with tarfile.open(budha_path + \".tar.gz\") as tar:\n",
    "            tar.extractall(path=os.path.dirname(budha_path))"
   ]
  },
  {
   "cell_type": "code",
   "execution_count": 7,
   "id": "412215e2",
   "metadata": {},
   "outputs": [
    {
     "data": {
      "text/plain": [
       "TriangleMesh with 543652 points and 1087716 triangles."
      ]
     },
     "execution_count": 7,
     "metadata": {},
     "output_type": "execute_result"
    }
   ],
   "source": [
    "# Read file\n",
    "\n",
    "budha_path = \"./happy_recon/happy_vrip.ply\"\n",
    "mesh_budha = o3d.io.read_triangle_mesh(budha_path)\n",
    "mesh_budha.compute_vertex_normals()"
   ]
  },
  {
   "cell_type": "code",
   "execution_count": 8,
   "id": "d978b2bd",
   "metadata": {},
   "outputs": [],
   "source": [
    "# draw point cpoud\n",
    "pcd = mesh_budha.sample_points_uniformly(number_of_points=500)\n",
    "o3d.visualization.draw_geometries([pcd])\n",
    "\n",
    "# draw mesh\n",
    "mesh_budha.compute_vertex_normals()\n",
    "o3d.visualization.draw_geometries([mesh_budha])"
   ]
  },
  {
   "cell_type": "markdown",
   "id": "0cebc172",
   "metadata": {},
   "source": [
    "# Voxel downsampling\n",
    "\n",
    "    1- It is a preprocessing step for point cloud processing tasks.\n",
    "    2- It takes the point clouds and downsample. \n",
    "    3- Points which are in 1 voxels are averaged and we get 1 point after averaging.\n",
    "    \n",
    "### Why downsampling?\n",
    "It makes the data of a more manageable size\n",
    "\n",
    "Reduces the dimensionality of the data thus enabling in faster processing of the data (image)\n",
    "\n",
    "Reducing the storage size of the data\n"
   ]
  },
  {
   "cell_type": "code",
   "execution_count": 9,
   "id": "6fd2cbc3",
   "metadata": {},
   "outputs": [
    {
     "name": "stdout",
     "output_type": "stream",
     "text": [
      "Downsample the point cloud with a voxel of 0.05\n"
     ]
    }
   ],
   "source": [
    "# voxel downsampling on bunny dataset (reduced number of points)\n",
    "print(\"Downsample the point cloud with a voxel of 0.05\")\n",
    "downpcd = pcd.voxel_down_sample(voxel_size=0.05)\n",
    "o3d.visualization.draw_geometries([downpcd],width=1920, height=1080, left=50, top=50)"
   ]
  },
  {
   "cell_type": "markdown",
   "id": "8958026e",
   "metadata": {},
   "source": [
    "### Another example of Voxel downsampling"
   ]
  },
  {
   "cell_type": "code",
   "execution_count": 10,
   "id": "5431766a",
   "metadata": {},
   "outputs": [
    {
     "name": "stdout",
     "output_type": "stream",
     "text": [
      "Load a ply point cloud, print it, and render it\n",
      "PointCloud with 196133 points.\n",
      "[[0.65234375 0.84686458 2.37890625]\n",
      " [0.65234375 0.83984375 2.38430572]\n",
      " [0.66737998 0.83984375 2.37890625]\n",
      " ...\n",
      " [2.00839925 2.39453125 1.88671875]\n",
      " [2.00390625 2.39488506 1.88671875]\n",
      " [2.00390625 2.39453125 1.88793314]]\n"
     ]
    }
   ],
   "source": [
    "import numpy as np\n",
    "print(\"Load a ply point cloud, print it, and render it\")\n",
    "\n",
    "#read_point_cloud reads a point cloud from a file. It tries to decode the file based on the extension name.\n",
    "pcd = o3d.io.read_point_cloud(\"fragment.ply\")\n",
    "print(pcd)\n",
    "print(np.asarray(pcd.points))\n",
    "\n",
    "#draw_geometries visualizes the point cloud. \n",
    "o3d.visualization.draw_geometries([pcd],width=1920, height=1080, left=50, top=50)"
   ]
  },
  {
   "cell_type": "markdown",
   "id": "0e037c29",
   "metadata": {},
   "source": [
    "### Voxel downsampling"
   ]
  },
  {
   "cell_type": "code",
   "execution_count": 11,
   "id": "00ae3e4d",
   "metadata": {},
   "outputs": [
    {
     "name": "stdout",
     "output_type": "stream",
     "text": [
      "Downsample the point cloud with a voxel of 0.05\n"
     ]
    }
   ],
   "source": [
    "print(\"Downsample the point cloud with a voxel of 0.05\")\n",
    "downpcd = pcd.voxel_down_sample(voxel_size=0.05)\n",
    "o3d.visualization.draw_geometries([downpcd],width=1920, height=1080, left=50, top=50)"
   ]
  },
  {
   "cell_type": "markdown",
   "id": "ce64060f",
   "metadata": {},
   "source": [
    "### Crop point cloud"
   ]
  },
  {
   "cell_type": "code",
   "execution_count": 12,
   "id": "61ccecb2",
   "metadata": {},
   "outputs": [
    {
     "name": "stdout",
     "output_type": "stream",
     "text": [
      "Load a polygon volume and use it to crop the original point cloud\n"
     ]
    }
   ],
   "source": [
    "print(\"Load a polygon volume and use it to crop the original point cloud\")\n",
    "\n",
    "#read_selection_polygon_volume reads a json file that specifies polygon selection area. \n",
    "vol = o3d.visualization.read_selection_polygon_volume(\"cropped.json\")\n",
    "\n",
    "#vol.crop_point_cloud(pcd) filters out points. Only the chair remains.\n",
    "chair = vol.crop_point_cloud(pcd)\n",
    "o3d.visualization.draw_geometries([chair],width=1920, height=1080, left=50, top=50)"
   ]
  },
  {
   "cell_type": "markdown",
   "id": "36e7519f",
   "metadata": {},
   "source": [
    "### Paint point cloud"
   ]
  },
  {
   "cell_type": "code",
   "execution_count": 13,
   "id": "4b7fb53e",
   "metadata": {},
   "outputs": [
    {
     "name": "stdout",
     "output_type": "stream",
     "text": [
      "Paint chair\n"
     ]
    }
   ],
   "source": [
    "print(\"Paint chair\")\n",
    "\n",
    "#paint_uniform_color paints all the points to a uniform color. The color is in RGB space, [0, 1] range.\n",
    "chair.paint_uniform_color([1, 0.706, 0])\n",
    "o3d.visualization.draw_geometries([chair], width=1920, height=1080, left=50, top=50)"
   ]
  },
  {
   "cell_type": "markdown",
   "id": "82d16828",
   "metadata": {},
   "source": [
    "### Bounding Volumes\n",
    "The PointCloud geometry type has bounding volumes as all other geometry types in Open3D. Currently, Open3D implements an AxisAlignedBoundingBox and an OrientedBoundingBox that can also be used to crop the geometry.\n"
   ]
  },
  {
   "cell_type": "code",
   "execution_count": 14,
   "id": "a59a6964",
   "metadata": {},
   "outputs": [],
   "source": [
    "aabb = chair.get_axis_aligned_bounding_box()\n",
    "aabb.color = (1, 0, 0)\n",
    "obb = chair.get_oriented_bounding_box()\n",
    "obb.color = (0, 1, 0)\n",
    "o3d.visualization.draw_geometries([chair, aabb, obb])"
   ]
  },
  {
   "cell_type": "code",
   "execution_count": null,
   "id": "02ac9188",
   "metadata": {},
   "outputs": [],
   "source": []
  }
 ],
 "metadata": {
  "kernelspec": {
   "display_name": "Python 3 (ipykernel)",
   "language": "python",
   "name": "python3"
  },
  "language_info": {
   "codemirror_mode": {
    "name": "ipython",
    "version": 3
   },
   "file_extension": ".py",
   "mimetype": "text/x-python",
   "name": "python",
   "nbconvert_exporter": "python",
   "pygments_lexer": "ipython3",
   "version": "3.10.8"
  }
 },
 "nbformat": 4,
 "nbformat_minor": 5
}
