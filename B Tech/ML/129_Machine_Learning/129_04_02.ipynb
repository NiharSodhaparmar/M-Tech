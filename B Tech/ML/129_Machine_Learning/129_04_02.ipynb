{
 "cells": [
  {
   "cell_type": "markdown",
   "metadata": {},
   "source": [
    "# LAB 4\n",
    "\n",
    "### Task 2 : Apply algorithm on wine dataset - LabelEncoding of features: and Train test Division 66%-34%"
   ]
  },
  {
   "cell_type": "code",
   "execution_count": 1,
   "metadata": {},
   "outputs": [],
   "source": [
    "from sklearn import datasets\n",
    "from sklearn import preprocessing\n",
    "\n",
    "wine_data = datasets.load_wine()"
   ]
  },
  {
   "cell_type": "code",
   "execution_count": 2,
   "metadata": {},
   "outputs": [
    {
     "name": "stdout",
     "output_type": "stream",
     "text": [
      "Features:  ['alcohol', 'malic_acid', 'ash', 'alcalinity_of_ash', 'magnesium', 'total_phenols', 'flavanoids', 'nonflavanoid_phenols', 'proanthocyanins', 'color_intensity', 'hue', 'od280/od315_of_diluted_wines', 'proline']\n",
      "\n",
      "Labels:  ['class_0' 'class_1' 'class_2']\n",
      "\n",
      "Data : \n",
      " [[1.423e+01 1.710e+00 2.430e+00 1.560e+01 1.270e+02 2.800e+00 3.060e+00\n",
      "  2.800e-01 2.290e+00 5.640e+00 1.040e+00 3.920e+00 1.065e+03]\n",
      " [1.320e+01 1.780e+00 2.140e+00 1.120e+01 1.000e+02 2.650e+00 2.760e+00\n",
      "  2.600e-01 1.280e+00 4.380e+00 1.050e+00 3.400e+00 1.050e+03]\n",
      " [1.316e+01 2.360e+00 2.670e+00 1.860e+01 1.010e+02 2.800e+00 3.240e+00\n",
      "  3.000e-01 2.810e+00 5.680e+00 1.030e+00 3.170e+00 1.185e+03]]\n",
      "\n",
      "Target : \n",
      " [0 0 0 0 0 0 0 0 0 0 0 0 0 0 0 0 0 0 0 0 0 0 0 0 0 0 0 0 0 0 0 0 0 0 0 0 0\n",
      " 0 0 0 0 0 0 0 0 0 0 0 0 0 0 0 0 0 0 0 0 0 0 1 1 1 1 1 1 1 1 1 1 1 1 1 1 1\n",
      " 1 1 1 1 1 1 1 1 1 1 1 1 1 1 1 1 1 1 1 1 1 1 1 1 1 1 1 1 1 1 1 1 1 1 1 1 1\n",
      " 1 1 1 1 1 1 1 1 1 1 1 1 1 1 1 1 1 1 1 2 2 2 2 2 2 2 2 2 2 2 2 2 2 2 2 2 2\n",
      " 2 2 2 2 2 2 2 2 2 2 2 2 2 2 2 2 2 2 2 2 2 2 2 2 2 2 2 2 2 2]\n"
     ]
    },
    {
     "data": {
      "text/plain": [
       "(178, 13)"
      ]
     },
     "execution_count": 2,
     "metadata": {},
     "output_type": "execute_result"
    }
   ],
   "source": [
    "print(\"Features: \", wine_data.feature_names)\n",
    "print(\"\\nLabels: \", wine_data.target_names)\n",
    "\n",
    "print('\\nData : \\n',wine_data.data[0:3,:])\n",
    "print('\\nTarget : \\n',wine_data.target)\n",
    "\n",
    "wine_data.data.shape"
   ]
  },
  {
   "cell_type": "code",
   "execution_count": 3,
   "metadata": {
    "scrolled": false
   },
   "outputs": [],
   "source": [
    "from sklearn.model_selection import train_test_split\n",
    "\n",
    "#split data set into train and test sets\n",
    "\n",
    "x_train, x_test, y_train, y_test = train_test_split(wine_data.data,\n",
    "                        wine_data.target, test_size = 0.34, random_state = 129)"
   ]
  },
  {
   "cell_type": "code",
   "execution_count": 4,
   "metadata": {},
   "outputs": [
    {
     "data": {
      "text/plain": [
       "DecisionTreeClassifier(criterion='entropy')"
      ]
     },
     "execution_count": 4,
     "metadata": {},
     "output_type": "execute_result"
    }
   ],
   "source": [
    "from sklearn.tree import DecisionTreeClassifier\n",
    "\n",
    "#Create a Decision Tree Classifier (using Entropy)\n",
    "clf = DecisionTreeClassifier(criterion='entropy')\n",
    "\n",
    "# Train the model using the training sets\n",
    "clf.fit(x_train,y_train)"
   ]
  },
  {
   "cell_type": "code",
   "execution_count": 5,
   "metadata": {},
   "outputs": [],
   "source": [
    "#Predict the response for test dataset\n",
    "y_pred = clf.predict(x_test)"
   ]
  },
  {
   "cell_type": "code",
   "execution_count": 7,
   "metadata": {},
   "outputs": [
    {
     "data": {
      "text/plain": [
       "[Text(167.4, 190.26, 'X[12] <= 755.0\\nentropy = 1.555\\nsamples = 117\\nvalue = [36, 50, 31]\\nclass = class_1'),\n",
       " Text(83.7, 135.9, 'X[9] <= 4.86\\nentropy = 0.957\\nsamples = 74\\nvalue = [0, 46, 28]\\nclass = class_1'),\n",
       " Text(41.85, 81.53999999999999, 'X[6] <= 0.535\\nentropy = 0.154\\nsamples = 45\\nvalue = [0, 44, 1]\\nclass = class_1'),\n",
       " Text(20.925, 27.180000000000007, 'entropy = 0.0\\nsamples = 1\\nvalue = [0, 0, 1]\\nclass = class_2'),\n",
       " Text(62.775000000000006, 27.180000000000007, 'entropy = 0.0\\nsamples = 44\\nvalue = [0, 44, 0]\\nclass = class_1'),\n",
       " Text(125.55000000000001, 81.53999999999999, 'X[12] <= 467.5\\nentropy = 0.362\\nsamples = 29\\nvalue = [0, 2, 27]\\nclass = class_2'),\n",
       " Text(104.625, 27.180000000000007, 'entropy = 0.0\\nsamples = 2\\nvalue = [0, 2, 0]\\nclass = class_1'),\n",
       " Text(146.475, 27.180000000000007, 'entropy = 0.0\\nsamples = 27\\nvalue = [0, 0, 27]\\nclass = class_2'),\n",
       " Text(251.10000000000002, 135.9, 'X[6] <= 2.34\\nentropy = 0.801\\nsamples = 43\\nvalue = [36, 4, 3]\\nclass = class_0'),\n",
       " Text(209.25, 81.53999999999999, 'X[11] <= 1.775\\nentropy = 1.0\\nsamples = 6\\nvalue = [0, 3, 3]\\nclass = class_1'),\n",
       " Text(188.32500000000002, 27.180000000000007, 'entropy = 0.0\\nsamples = 3\\nvalue = [0, 0, 3]\\nclass = class_2'),\n",
       " Text(230.175, 27.180000000000007, 'entropy = 0.0\\nsamples = 3\\nvalue = [0, 3, 0]\\nclass = class_1'),\n",
       " Text(292.95, 81.53999999999999, 'X[4] <= 135.5\\nentropy = 0.179\\nsamples = 37\\nvalue = [36, 1, 0]\\nclass = class_0'),\n",
       " Text(272.02500000000003, 27.180000000000007, 'entropy = 0.0\\nsamples = 36\\nvalue = [36, 0, 0]\\nclass = class_0'),\n",
       " Text(313.875, 27.180000000000007, 'entropy = 0.0\\nsamples = 1\\nvalue = [0, 1, 0]\\nclass = class_1')]"
      ]
     },
     "execution_count": 7,
     "metadata": {},
     "output_type": "execute_result"
    },
    {
     "data": {
      "image/png": "[encoded data removed]",
      "text/plain": [
       "<Figure size 432x288 with 1 Axes>"
      ]
     },
     "metadata": {
      "needs_background": "light"
     },
     "output_type": "display_data"
    }
   ],
   "source": [
    "from sklearn import tree\n",
    "\n",
    "tree.plot_tree(clf,filled=True,class_names=['class_0','class_1','class_2'])"
   ]
  },
  {
   "cell_type": "code",
   "execution_count": 8,
   "metadata": {},
   "outputs": [
    {
     "name": "stdout",
     "output_type": "stream",
     "text": [
      "Accuracy: 0.819672131147541\n",
      "\n",
      "Confusion Matrix :\n"
     ]
    },
    {
     "data": {
      "text/plain": [
       "array([[19,  4,  0],\n",
       "       [ 0, 20,  1],\n",
       "       [ 0,  6, 11]])"
      ]
     },
     "execution_count": 8,
     "metadata": {},
     "output_type": "execute_result"
    }
   ],
   "source": [
    "from sklearn.metrics import confusion_matrix,precision_score,recall_score,accuracy_score\n",
    "\n",
    "# Model Accuracy, how often is the classifier correct?\n",
    "print(\"Accuracy:\",accuracy_score(y_test, y_pred))\n",
    "\n",
    "print(\"\\nConfusion Matrix :\")\n",
    "confusion_matrix(y_test, y_pred)"
   ]
  },
  {
   "cell_type": "code",
   "execution_count": 10,
   "metadata": {},
   "outputs": [
    {
     "name": "stdout",
     "output_type": "stream",
     "text": [
      "\n",
      "precision: 0.819672131147541\n",
      "\n",
      "recall: 0.819672131147541\n"
     ]
    }
   ],
   "source": [
    "precision = precision_score(y_test, y_pred,average='micro')\n",
    "print('\\nprecision: {}'.format(precision))\n",
    "\n",
    "recall = recall_score(y_test, y_pred,average='micro')\n",
    "print('\\nrecall: {}'.format(recall))"
   ]
  }
 ],
 "metadata": {
  "kernelspec": {
   "display_name": "Python 3",
   "language": "python",
   "name": "python3"
  },
  "language_info": {
   "codemirror_mode": {
    "name": "ipython",
    "version": 3
   },
   "file_extension": ".py",
   "mimetype": "text/x-python",
   "name": "python",
   "nbconvert_exporter": "python",
   "pygments_lexer": "ipython3",
   "version": "3.6.9"
  }
 },
 "nbformat": 4,
 "nbformat_minor": 4
}
