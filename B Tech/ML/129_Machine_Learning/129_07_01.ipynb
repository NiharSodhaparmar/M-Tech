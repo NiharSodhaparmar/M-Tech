{
 "cells": [
  {
   "cell_type": "markdown",
   "metadata": {},
   "source": [
    "# LAB 7\n",
    "\n",
    "### Replace Manual version of Logistic Regression with TF based version."
   ]
  },
  {
   "cell_type": "code",
   "execution_count": 22,
   "metadata": {},
   "outputs": [],
   "source": [
    "import nltk\n",
    "from nltk.corpus import twitter_samples \n",
    "import pandas as pd\n",
    "from sklearn.model_selection import train_test_split\n",
    "import tensorflow.compat.v1 as tf\n",
    "tf.disable_v2_behavior()"
   ]
  },
  {
   "cell_type": "code",
   "execution_count": 23,
   "metadata": {},
   "outputs": [
    {
     "name": "stderr",
     "output_type": "stream",
     "text": [
      "[nltk_data] Downloading package twitter_samples to\n",
      "[nltk_data]     /home/nihar/nltk_data...\n",
      "[nltk_data]   Package twitter_samples is already up-to-date!\n",
      "[nltk_data] Downloading package stopwords to /home/nihar/nltk_data...\n",
      "[nltk_data]   Package stopwords is already up-to-date!\n"
     ]
    },
    {
     "data": {
      "text/plain": [
       "True"
      ]
     },
     "execution_count": 23,
     "metadata": {},
     "output_type": "execute_result"
    }
   ],
   "source": [
    "nltk.download('twitter_samples')\n",
    "nltk.download('stopwords')"
   ]
  },
  {
   "cell_type": "code",
   "execution_count": 24,
   "metadata": {},
   "outputs": [],
   "source": [
    "import re\n",
    "import string\n",
    "import numpy as np\n",
    "\n",
    "from nltk.corpus import stopwords\n",
    "from nltk.stem import PorterStemmer\n",
    "from nltk.tokenize import TweetTokenizer"
   ]
  },
  {
   "cell_type": "code",
   "execution_count": 25,
   "metadata": {},
   "outputs": [],
   "source": [
    "def process_tweet(tweet):\n",
    "    stemmer = PorterStemmer()\n",
    "    stopwords_english = stopwords.words('english')\n",
    "\n",
    "    tweet = re.sub(r'\\$\\w*', '', tweet)\n",
    "\n",
    "    tweet = re.sub(r'^RT[\\s]+', '', tweet)\n",
    "\n",
    "    tweet = re.sub(r'https?:\\/\\/.*[\\r\\n]*', '', tweet)\n",
    "\n",
    "    tweet = re.sub(r'#', '', tweet)\n",
    "\n",
    "\n",
    "\n",
    "    tokenizer = TweetTokenizer(preserve_case=False, strip_handles=True,\n",
    "                               reduce_len=True)\n",
    "    tweet_tokens = tokenizer.tokenize(tweet)\n",
    "\n",
    "    tweets_clean = []\n",
    "    for word in tweet_tokens:\n",
    "            if (word not in stopwords_english and word not in string.punctuation):  \n",
    "                stem_word=stemmer.stem(word)\n",
    "                tweets_clean.append(stem_word)\n",
    "\n",
    "    return tweets_clean"
   ]
  },
  {
   "cell_type": "code",
   "execution_count": 26,
   "metadata": {},
   "outputs": [],
   "source": [
    "def build_freqs(tweets, ys):\n",
    "    yslist = np.squeeze(ys).tolist()\n",
    "    freqs = {}\n",
    "    for y, tweet in zip(yslist, tweets):\n",
    "        for word in process_tweet(tweet):\n",
    "            pair = (word, y)\n",
    "            if pair not in freqs:\n",
    "              freqs[pair]=0\n",
    "            freqs[pair]+=1\n",
    "    return freqs"
   ]
  },
  {
   "cell_type": "code",
   "execution_count": 27,
   "metadata": {},
   "outputs": [],
   "source": [
    "all_positive_tweets = twitter_samples.strings('positive_tweets.json')\n",
    "all_negative_tweets = twitter_samples.strings('negative_tweets.json')"
   ]
  },
  {
   "cell_type": "code",
   "execution_count": 28,
   "metadata": {},
   "outputs": [],
   "source": [
    "data=all_positive_tweets+all_negative_tweets\n",
    "la=np.append(np.ones((len(all_positive_tweets), 1)), np.zeros((len(all_negative_tweets), 1)), axis=0)\n",
    "train_x,test_x,train_y,test_y=train_test_split(data,la,test_size=0.30,random_state=129)"
   ]
  },
  {
   "cell_type": "code",
   "execution_count": 29,
   "metadata": {},
   "outputs": [
    {
     "name": "stdout",
     "output_type": "stream",
     "text": [
      "type(freqs) = <class 'dict'>\n",
      "len(freqs) = 10401\n"
     ]
    }
   ],
   "source": [
    "freqs = build_freqs(train_x,train_y)\n",
    "\n",
    "print(\"type(freqs) = \" + str(type(freqs)))\n",
    "print(\"len(freqs) = \" + str(len(freqs.keys())))"
   ]
  },
  {
   "cell_type": "code",
   "execution_count": 30,
   "metadata": {},
   "outputs": [
    {
     "name": "stdout",
     "output_type": "stream",
     "text": [
      "This is an example of a positive tweet: \n",
      " Yeah I screwed up again :-( and this time I thought I did something good good\n",
      "\n",
      "This is an example of the processed version of the tweet: \n",
      " ['yeah', 'screw', ':-(', 'time', 'thought', 'someth', 'good', 'good']\n"
     ]
    }
   ],
   "source": [
    "print('This is an example of a positive tweet: \\n', train_x[0])\n",
    "print('\\nThis is an example of the processed version of the tweet: \\n', process_tweet(train_x[0]))"
   ]
  },
  {
   "cell_type": "code",
   "execution_count": 31,
   "metadata": {},
   "outputs": [],
   "source": [
    "def extract_features(tweet, freqs):\n",
    "    word_l = process_tweet(tweet)\n",
    "    x = np.zeros((1, 2)) \n",
    "    for word in word_l:\n",
    "        if((word,1) in freqs):\n",
    "          x[0,0]+=freqs[word,1]\n",
    "        \n",
    "        if((word,0) in freqs):\n",
    "          x[0,1]+=freqs[word,0]\n",
    "    \n",
    "    assert(x.shape == (1, 2))\n",
    "    return x[0]"
   ]
  },
  {
   "cell_type": "code",
   "execution_count": 32,
   "metadata": {},
   "outputs": [
    {
     "name": "stdout",
     "output_type": "stream",
     "text": [
      "[486. 698.]\n"
     ]
    }
   ],
   "source": [
    "tmp1 = extract_features(train_x[0], freqs)\n",
    "print(tmp1)"
   ]
  },
  {
   "cell_type": "code",
   "execution_count": 33,
   "metadata": {},
   "outputs": [],
   "source": [
    "def predict_tweet(tweet):\n",
    "\n",
    "    with tf.Session() as sess:\n",
    "      saver.restore(sess,save_path='TSession')\n",
    "      data_i=[]\n",
    "      for t in tweet:\n",
    "        data_i.append(extract_features(t,freqs))\n",
    "      data_i=np.asarray(data_i)\n",
    "      return sess.run(tf.nn.sigmoid(tf.add(tf.matmul(a=data_i,b=W,transpose_b=True),b)))\n",
    "    print(\"Fail\")\n",
    "    return "
   ]
  },
  {
   "cell_type": "code",
   "execution_count": 34,
   "metadata": {},
   "outputs": [],
   "source": [
    "b=tf.Variable(np.random.randn(1),name=\"Bias\")\n",
    "W=tf.Variable(np.random.randn(1,2),name=\"Bias\")"
   ]
  },
  {
   "cell_type": "code",
   "execution_count": 35,
   "metadata": {},
   "outputs": [],
   "source": [
    "data=[]\n",
    "for t in train_x:\n",
    "  data.append(extract_features(t,freqs))\n",
    "data=np.asarray(data)"
   ]
  },
  {
   "cell_type": "code",
   "execution_count": 36,
   "metadata": {},
   "outputs": [
    {
     "name": "stdout",
     "output_type": "stream",
     "text": [
      "Tensor(\"Sigmoid_2:0\", shape=(7000, 1), dtype=float64)\n",
      "Tensor(\"logistic_loss_1:0\", shape=(7000, 1), dtype=float64)\n"
     ]
    }
   ],
   "source": [
    "Y_hat = tf.nn.sigmoid(tf.add(tf.matmul(np.asarray(data), W,transpose_b=True), b)) \n",
    "print(Y_hat)\n",
    "ta=np.asarray(train_y)\n",
    "cost = tf.nn.sigmoid_cross_entropy_with_logits( \n",
    "                    logits = Y_hat, labels = ta) \n",
    "print(cost)"
   ]
  },
  {
   "cell_type": "code",
   "execution_count": 37,
   "metadata": {},
   "outputs": [],
   "source": [
    "optimizer = tf.train.GradientDescentOptimizer(learning_rate = 1e-4,name=\"GradientDescent\").minimize(cost) \n",
    "init = tf.global_variables_initializer() "
   ]
  },
  {
   "cell_type": "code",
   "execution_count": 45,
   "metadata": {
    "scrolled": true
   },
   "outputs": [
    {
     "name": "stdout",
     "output_type": "stream",
     "text": [
      "Bias [-1.40496843]\n",
      "Weight [[-0.66727322 -0.55902204]]\n",
      "Accuracy 0.448\n"
     ]
    }
   ],
   "source": [
    "saver = tf.train.Saver()\n",
    "with tf.Session() as sess:\n",
    "  sess.run(init)\n",
    "  print(\"Bias\",sess.run(b))\n",
    "  print(\"Weight\",sess.run(W))\n",
    "  for epoch in range(400):\n",
    "    sess.run(optimizer)\n",
    "    preds=sess.run(Y_hat)\n",
    "    acc=((preds==ta).sum())/len(train_y)\n",
    "    accu=[]\n",
    "    repoch=False\n",
    "    if repoch:\n",
    "      accu.append(acc)\n",
    "    if epoch % 1000 == 0:\n",
    "      print(\"Accuracy\",acc)\n",
    "    saved_path = saver.save(sess, 'TSession')"
   ]
  },
  {
   "cell_type": "code",
   "execution_count": 46,
   "metadata": {},
   "outputs": [
    {
     "name": "stdout",
     "output_type": "stream",
     "text": [
      "INFO:tensorflow:Restoring parameters from TSession\n",
      "[[0.0000000e+000]\n",
      " [0.0000000e+000]\n",
      " [0.0000000e+000]\n",
      " ...\n",
      " [0.0000000e+000]\n",
      " [2.1805675e-219]\n",
      " [7.2501020e-213]] 3000\n"
     ]
    }
   ],
   "source": [
    "preds=predict_tweet(test_x)\n",
    "print(preds,len(test_y))"
   ]
  },
  {
   "cell_type": "code",
   "execution_count": 47,
   "metadata": {},
   "outputs": [],
   "source": [
    "def calculate_accuracy(x,y):\n",
    "  if len(x)!=len(y):\n",
    "    print(\"dimensions are different\")\n",
    "    return\n",
    "  return ((x==y).sum())/len(y)"
   ]
  },
  {
   "cell_type": "code",
   "execution_count": 48,
   "metadata": {},
   "outputs": [
    {
     "name": "stdout",
     "output_type": "stream",
     "text": [
      "0.44\n"
     ]
    }
   ],
   "source": [
    "print(calculate_accuracy(preds,test_y))"
   ]
  }
 ],
 "metadata": {
  "kernelspec": {
   "display_name": "Python 3",
   "language": "python",
   "name": "python3"
  },
  "language_info": {
   "codemirror_mode": {
    "name": "ipython",
    "version": 3
   },
   "file_extension": ".py",
   "mimetype": "text/x-python",
   "name": "python",
   "nbconvert_exporter": "python",
   "pygments_lexer": "ipython3",
   "version": "3.6.9"
  }
 },
 "nbformat": 4,
 "nbformat_minor": 4
}
