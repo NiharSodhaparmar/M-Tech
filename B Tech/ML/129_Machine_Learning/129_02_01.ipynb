{
 "cells": [
  {
   "cell_type": "markdown",
   "metadata": {},
   "source": [
    "# LAB 2 "
   ]
  },
  {
   "cell_type": "markdown",
   "metadata": {},
   "source": [
    "### Exercise:\n",
    "\n",
    "### 1) Perform all data preprocessing tasks and feature selection on “Exercise-CarData.csv”"
   ]
  },
  {
   "cell_type": "code",
   "execution_count": 1,
   "metadata": {},
   "outputs": [],
   "source": [
    "\n",
    "# Import Libraries\n",
    "\n",
    "import numpy as np \n",
    "import pandas as pd\n",
    "import seaborn as sns\n",
    "from sklearn.impute import SimpleImputer\n",
    "from sklearn.preprocessing import MinMaxScaler, StandardScaler, LabelEncoder, OneHotEncoder\n"
   ]
  },
  {
   "cell_type": "code",
   "execution_count": 2,
   "metadata": {},
   "outputs": [
    {
     "name": "stdout",
     "output_type": "stream",
     "text": [
      "\n",
      "Data :\n",
      "    Price   Age       KM FuelType     HP  MetColor  Automatic    CC  Doors  \\\n",
      "0  13500  23.0  46986.0   Diesel   90.0       1.0          0  2000      3   \n",
      "1  13750  23.0  72937.0   Diesel   90.0       1.0          0  2000      3   \n",
      "2  13950  24.0  41711.0   Diesel   90.0       NaN          0  2000      3   \n",
      "3  14950  26.0  48000.0   Diesel   90.0       0.0          0  2000      3   \n",
      "4  13750  30.0  38500.0   Diesel   90.0       0.0          0  2000      3   \n",
      "5  12950  32.0  61000.0   Diesel   90.0       0.0          0  2000      3   \n",
      "6  16900  27.0      NaN   Diesel    NaN       NaN          0  2000      3   \n",
      "7  18600  30.0  75889.0      NaN   90.0       1.0          0  2000      3   \n",
      "8  21500  27.0  19700.0   Petrol  192.0       0.0          0  1800      3   \n",
      "9  12950  23.0  71138.0   Diesel    NaN       NaN          0  1900      3   \n",
      "\n",
      "   Weight  \n",
      "0    1165  \n",
      "1    1165  \n",
      "2    1165  \n",
      "3    1165  \n",
      "4    1170  \n",
      "5    1170  \n",
      "6    1245  \n",
      "7    1245  \n",
      "8    1185  \n",
      "9    1105  \n"
     ]
    }
   ],
   "source": [
    "\n",
    "# Load Data\n",
    "# Replace \"?,??,???.....\" to \"NaN\"\n",
    "# Replace Doors value from string to corresponding numbers\n",
    "# Convert Doors feature from object to int4\n",
    "\n",
    "datasets = pd.read_csv('/home/nihar/Desktop/ML/Lab2/Exercise-CarData.csv',sep=',\\?*',engine='python')\n",
    "\n",
    "numbers = { 'one': 1, 'two': 2, 'three': 3, 'four': 4, 'five': 5, 'six': 6, 'seven': 7, 'eight': 8, 'nine': 9,\n",
    "            '1': 1, '2': 2,'3': 3, '4':4, '5': 5, '6': 6, '7': 7, '8': 8, '9': 9 }\n",
    "datasets.Doors = [numbers[item] for item in datasets.Doors]\n",
    "\n",
    "datasets['Doors'] = pd.to_numeric(datasets['Doors'],errors='ignore')\n",
    "\n",
    "print(\"\\nData :\\n\",datasets.iloc[0:10,1:11])\n"
   ]
  },
  {
   "cell_type": "code",
   "execution_count": 3,
   "metadata": {},
   "outputs": [
    {
     "name": "stdout",
     "output_type": "stream",
     "text": [
      "\n",
      "Data statistics :\n",
      "\n",
      "         Unnamed: 0         Price          Age             KM           HP  \\\n",
      "count  1436.000000   1436.000000  1336.000000    1421.000000  1430.000000   \n",
      "mean    717.500000  10730.824513    55.672156   68647.239972   101.478322   \n",
      "std     414.681806   3626.964585    18.589804   37333.023589    14.768255   \n",
      "min       0.000000   4350.000000     1.000000       1.000000    69.000000   \n",
      "25%     358.750000   8450.000000    43.000000   43210.000000    90.000000   \n",
      "50%     717.500000   9900.000000    60.000000   63634.000000   110.000000   \n",
      "75%    1076.250000  11950.000000    70.000000   87000.000000   110.000000   \n",
      "max    1435.000000  32500.000000    80.000000  243000.000000   192.000000   \n",
      "\n",
      "          MetColor    Automatic           CC        Doors      Weight  \n",
      "count  1286.000000  1436.000000  1436.000000  1436.000000  1436.00000  \n",
      "mean      0.674961     0.055710  1566.827994     4.033426  1072.45961  \n",
      "std       0.468572     0.229441   187.182436     0.952677    52.64112  \n",
      "min       0.000000     0.000000  1300.000000     2.000000  1000.00000  \n",
      "25%       0.000000     0.000000  1400.000000     3.000000  1040.00000  \n",
      "50%       1.000000     0.000000  1600.000000     4.000000  1070.00000  \n",
      "75%       1.000000     0.000000  1600.000000     5.000000  1085.00000  \n",
      "max       1.000000     1.000000  2000.000000     5.000000  1615.00000  \n",
      "\n",
      "\n",
      "DataTypes of Features :\n",
      "\n",
      " Unnamed: 0      int64\n",
      "Price           int64\n",
      "Age           float64\n",
      "KM            float64\n",
      "FuelType       object\n",
      "HP            float64\n",
      "MetColor      float64\n",
      "Automatic       int64\n",
      "CC              int64\n",
      "Doors           int64\n",
      "Weight          int64\n",
      "dtype: object\n",
      "\n",
      "\n",
      "<class 'pandas.core.frame.DataFrame'>\n",
      "RangeIndex: 1436 entries, 0 to 1435\n",
      "Data columns (total 11 columns):\n",
      " #   Column      Non-Null Count  Dtype  \n",
      "---  ------      --------------  -----  \n",
      " 0   Unnamed: 0  1436 non-null   int64  \n",
      " 1   Price       1436 non-null   int64  \n",
      " 2   Age         1336 non-null   float64\n",
      " 3   KM          1421 non-null   float64\n",
      " 4   FuelType    1336 non-null   object \n",
      " 5   HP          1430 non-null   float64\n",
      " 6   MetColor    1286 non-null   float64\n",
      " 7   Automatic   1436 non-null   int64  \n",
      " 8   CC          1436 non-null   int64  \n",
      " 9   Doors       1436 non-null   int64  \n",
      " 10  Weight      1436 non-null   int64  \n",
      "dtypes: float64(4), int64(6), object(1)\n",
      "memory usage: 123.5+ KB\n"
     ]
    }
   ],
   "source": [
    "\n",
    "# Statistics\n",
    "\n",
    "print(\"\\nData statistics :\\n\\n\",datasets.describe())\n",
    "print (\"\\n\\nDataTypes of Features :\\n\\n\",datasets.dtypes)\n",
    "print(\"\\n\")\n",
    "datasets.info()\n"
   ]
  },
  {
   "cell_type": "markdown",
   "metadata": {},
   "source": [
    "### a) Data Transformation "
   ]
  },
  {
   "cell_type": "code",
   "execution_count": 4,
   "metadata": {},
   "outputs": [
    {
     "name": "stdout",
     "output_type": "stream",
     "text": [
      "\n",
      "Data for transformation : \n",
      "\n",
      " [[0.0000e+00 1.3500e+04 2.3000e+01 4.6986e+04        nan 9.0000e+01\n",
      "  1.0000e+00 0.0000e+00 2.0000e+03 3.0000e+00 1.1650e+03]\n",
      " [1.0000e+00 1.3750e+04 2.3000e+01 7.2937e+04        nan 9.0000e+01\n",
      "  1.0000e+00 0.0000e+00 2.0000e+03 3.0000e+00 1.1650e+03]\n",
      " [2.0000e+00 1.3950e+04 2.4000e+01 4.1711e+04        nan 9.0000e+01\n",
      "  0.0000e+00 0.0000e+00 2.0000e+03 3.0000e+00 1.1650e+03]\n",
      " [3.0000e+00 1.4950e+04 2.6000e+01 4.8000e+04        nan 9.0000e+01\n",
      "  0.0000e+00 0.0000e+00 2.0000e+03 3.0000e+00 1.1650e+03]\n",
      " [4.0000e+00 1.3750e+04 3.0000e+01 3.8500e+04        nan 9.0000e+01\n",
      "  0.0000e+00 0.0000e+00 2.0000e+03 3.0000e+00 1.1700e+03]]\n"
     ]
    }
   ],
   "source": [
    "\n",
    "# Create Data for Transformation\n",
    "# Replace \"Nan\" with 0\n",
    "# Replace FuelType with \"NaN\"\n",
    "\n",
    "datasets = datasets.replace(np.nan, 0, regex=True)\n",
    "X_new = datasets\n",
    "X_new['FuelType'] = pd.to_numeric(X_new['FuelType'],errors='coerce')\n",
    "X_new=X_new.values\n",
    "print(\"\\nData for transformation : \\n\\n\", X_new[0:5,:])\n"
   ]
  },
  {
   "cell_type": "code",
   "execution_count": 5,
   "metadata": {},
   "outputs": [
    {
     "name": "stdout",
     "output_type": "stream",
     "text": [
      "\n",
      "Scaled Data : \n",
      "\n",
      " [[0.00000000e+00 3.25044405e-01 2.87500000e-01 1.93358025e-01\n",
      "             nan 4.68750000e-01 1.00000000e+00 0.00000000e+00\n",
      "  1.00000000e+00 3.33333333e-01 2.68292683e-01]\n",
      " [6.96864111e-04 3.33925400e-01 2.87500000e-01 3.00152263e-01\n",
      "             nan 4.68750000e-01 1.00000000e+00 0.00000000e+00\n",
      "  1.00000000e+00 3.33333333e-01 2.68292683e-01]\n",
      " [1.39372822e-03 3.41030195e-01 3.00000000e-01 1.71650206e-01\n",
      "             nan 4.68750000e-01 0.00000000e+00 0.00000000e+00\n",
      "  1.00000000e+00 3.33333333e-01 2.68292683e-01]\n",
      " [2.09059233e-03 3.76554174e-01 3.25000000e-01 1.97530864e-01\n",
      "             nan 4.68750000e-01 0.00000000e+00 0.00000000e+00\n",
      "  1.00000000e+00 3.33333333e-01 2.68292683e-01]\n",
      " [2.78745645e-03 3.33925400e-01 3.75000000e-01 1.58436214e-01\n",
      "             nan 4.68750000e-01 0.00000000e+00 0.00000000e+00\n",
      "  1.00000000e+00 3.33333333e-01 2.76422764e-01]]\n"
     ]
    }
   ],
   "source": [
    "\n",
    "# Perform scaling on Data\n",
    "\n",
    "scaler = MinMaxScaler()\n",
    "X_scaled = scaler.fit_transform(X_new)\n",
    "print(\"\\nScaled Data : \\n\\n\", X_scaled[0:5,:])\n"
   ]
  },
  {
   "cell_type": "code",
   "execution_count": 6,
   "metadata": {},
   "outputs": [
    {
     "name": "stdout",
     "output_type": "stream",
     "text": [
      "\n",
      "Standardized Data : \n",
      "\n",
      " [[-1.73084506  0.76376268 -1.26023883 -0.55444821         nan -0.68571051\n",
      "   0.80893626 -0.24289308  2.31497633 -1.08513865  1.75856113]\n",
      " [-1.72843274  0.83271485 -1.26023883  0.1325441          nan -0.68571051\n",
      "   0.80893626 -0.24289308  2.31497633 -1.08513865  1.75856113]\n",
      " [-1.72602041  0.88787659 -1.21647334 -0.69409155         nan -0.68571051\n",
      "  -1.23619133 -0.24289308  2.31497633 -1.08513865  1.75856113]\n",
      " [-1.72360808  1.16368529 -1.12894236 -0.52760492         nan -0.68571051\n",
      "  -1.23619133 -0.24289308  2.31497633 -1.08513865  1.75856113]\n",
      " [-1.72119575  0.83271485 -0.95388041 -0.7790953          nan -0.68571051\n",
      "  -1.23619133 -0.24289308  2.31497633 -1.08513865  1.853577  ]]\n"
     ]
    }
   ],
   "source": [
    "\n",
    "# Perform standardization on Data\n",
    "\n",
    "std = StandardScaler()\n",
    "X_std = std.fit_transform(X_new)\n",
    "print(\"\\nStandardized Data : \\n\\n\", X_std[0:5,:])\n"
   ]
  },
  {
   "cell_type": "markdown",
   "metadata": {},
   "source": [
    "### b) Handling Categorical Data "
   ]
  },
  {
   "cell_type": "code",
   "execution_count": 7,
   "metadata": {},
   "outputs": [
    {
     "name": "stdout",
     "output_type": "stream",
     "text": [
      "\n",
      "Data for LabelEncoder : \n",
      "\n",
      " [[0 13500 23.0 46986.0 'Diesel' 90.0 1.0 0 2000 3 1165]\n",
      " [1 13750 23.0 72937.0 'Diesel' 90.0 1.0 0 2000 3 1165]\n",
      " [2 13950 24.0 41711.0 'Diesel' 90.0 nan 0 2000 3 1165]\n",
      " [3 14950 26.0 48000.0 'Diesel' 90.0 0.0 0 2000 3 1165]\n",
      " [4 13750 30.0 38500.0 'Diesel' 90.0 0.0 0 2000 3 1170]\n",
      " [5 12950 32.0 61000.0 'Diesel' 90.0 0.0 0 2000 3 1170]\n",
      " [6 16900 27.0 nan 'Diesel' nan nan 0 2000 3 1245]\n",
      " [7 18600 30.0 75889.0 'Unknown' 90.0 1.0 0 2000 3 1245]\n",
      " [8 21500 27.0 19700.0 'Petrol' 192.0 0.0 0 1800 3 1185]\n",
      " [9 12950 23.0 71138.0 'Diesel' nan nan 0 1900 3 1105]]\n"
     ]
    }
   ],
   "source": [
    "\n",
    "# Load Data\n",
    "# Replace \"?,??,???.....\" to \"NaN\"\n",
    "# Replace Doors value from string to corresponding numbers\n",
    "# Convert Doors feature from object to int64\n",
    "# Replace FuelType from \"NaN\" to \"Unknown\"\n",
    "\n",
    "datasets = pd.read_csv('/home/nihar/Desktop/ML/Lab2/Exercise-CarData.csv',sep=',\\?*',engine='python')\n",
    "datasets.Doors = [numbers[item] for item in datasets.Doors]\n",
    "datasets['Doors'] = pd.to_numeric(datasets['Doors'],errors='coerce')\n",
    "datasets['FuelType'] = datasets['FuelType'].replace(np.nan, 'Unknown', regex=True)\n",
    "X_new = datasets.values\n",
    "print(\"\\nData for LabelEncoder : \\n\\n\", X_new[0:10,:])\n"
   ]
  },
  {
   "cell_type": "code",
   "execution_count": 8,
   "metadata": {},
   "outputs": [
    {
     "name": "stdout",
     "output_type": "stream",
     "text": [
      "\n",
      "Numeric FuelType : \n",
      "\n",
      " [1 1 1 1 1 1 1 3 2 1 2 2 2 2 2 2 2 2 2 2 2 3 2 2 2 2 3 2 2 3 2 2 2 2 2 2 2\n",
      " 2 2 2 2 2 2 1 3 1 1 2 1 2 1 2 2 2 2 2 2 2 2 2 3 2 2 2 2 2 2 2 1 2 2 2 2 2\n",
      " 2 2 2 2 2 2 2 2 2 2 2 2 3 1 2 1 2 1 1 2 2 1 2 2 2 2]\n"
     ]
    }
   ],
   "source": [
    "\n",
    "# Convert FuelType into Numeric values\n",
    "\n",
    "le = LabelEncoder()\n",
    "X_new[ : ,4] = le.fit_transform(X_new[ : ,4])\n",
    "print(\"\\nNumeric FuelType : \\n\\n\", X_new[0:100,4]) \n"
   ]
  },
  {
   "cell_type": "code",
   "execution_count": 9,
   "metadata": {},
   "outputs": [
    {
     "name": "stdout",
     "output_type": "stream",
     "text": [
      "\n",
      "\n",
      "Dummy :\n",
      "    CNG  Diesel  Petrol  Unknown\n",
      "0    0       1       0        0\n",
      "1    0       1       0        0\n",
      "2    0       1       0        0\n",
      "3    0       1       0        0\n",
      "4    0       1       0        0\n",
      "5    0       1       0        0\n",
      "6    0       1       0        0\n",
      "7    0       0       0        1\n",
      "8    0       0       1        0\n",
      "9    0       1       0        0\n",
      "\n",
      "\n",
      "Final Data :\n",
      "     CNG  Diesel  Petrol  Unknown  Unnamed: 0  Price   Age       KM     HP  \\\n",
      "0     0       1       0        0           0  13500  23.0  46986.0   90.0   \n",
      "1     0       1       0        0           1  13750  23.0  72937.0   90.0   \n",
      "2     0       1       0        0           2  13950  24.0  41711.0   90.0   \n",
      "3     0       1       0        0           3  14950  26.0  48000.0   90.0   \n",
      "4     0       1       0        0           4  13750  30.0  38500.0   90.0   \n",
      "5     0       1       0        0           5  12950  32.0  61000.0   90.0   \n",
      "6     0       1       0        0           6  16900  27.0      NaN    NaN   \n",
      "7     0       0       0        1           7  18600  30.0  75889.0   90.0   \n",
      "8     0       0       1        0           8  21500  27.0  19700.0  192.0   \n",
      "9     0       1       0        0           9  12950  23.0  71138.0    NaN   \n",
      "10    0       0       1        0          10  20950  25.0  31461.0  192.0   \n",
      "11    0       0       1        0          11  19950  22.0  43610.0  192.0   \n",
      "12    0       0       1        0          12  19600  25.0  32189.0  192.0   \n",
      "13    0       0       1        0          13  21500  31.0  23000.0  192.0   \n",
      "14    0       0       1        0          14  22500  32.0  34131.0  192.0   \n",
      "15    0       0       1        0          15  22000  28.0  18739.0    NaN   \n",
      "16    0       0       1        0          16  22750  30.0  34000.0  192.0   \n",
      "\n",
      "    MetColor  Automatic    CC  Doors  Weight  \n",
      "0        1.0          0  2000      3    1165  \n",
      "1        1.0          0  2000      3    1165  \n",
      "2        NaN          0  2000      3    1165  \n",
      "3        0.0          0  2000      3    1165  \n",
      "4        0.0          0  2000      3    1170  \n",
      "5        0.0          0  2000      3    1170  \n",
      "6        NaN          0  2000      3    1245  \n",
      "7        1.0          0  2000      3    1245  \n",
      "8        0.0          0  1800      3    1185  \n",
      "9        NaN          0  1900      3    1105  \n",
      "10       0.0          0  1800      3    1185  \n",
      "11       0.0          0  1800      3    1185  \n",
      "12       0.0          0  1800      3    1185  \n",
      "13       1.0          0  1800      3    1185  \n",
      "14       1.0          0  1800      3    1185  \n",
      "15       0.0          0  1800      3    1185  \n",
      "16       1.0          0  1800      3    1185  \n"
     ]
    }
   ],
   "source": [
    "\n",
    "# Create one column for each FuelType\n",
    "\n",
    "dummy = pd.get_dummies(datasets['FuelType'])\n",
    "print(\"\\n\\nDummy :\\n\",dummy.iloc[0:10,:])\n",
    "datasets = datasets.drop(['FuelType'],axis=1)\n",
    "datasets = pd.concat([dummy,datasets],axis=1)\n",
    "print(\"\\n\\nFinal Data :\\n\",datasets.iloc[0:17,:])\n"
   ]
  },
  {
   "cell_type": "markdown",
   "metadata": {},
   "source": [
    "### c) Handling the missing value"
   ]
  },
  {
   "cell_type": "code",
   "execution_count": 10,
   "metadata": {},
   "outputs": [
    {
     "name": "stdout",
     "output_type": "stream",
     "text": [
      "\n",
      "Data for LabelEncoder : \n",
      "\n",
      " [[0 13500 23.0 46986.0 'Diesel' 90.0 1.0 0 2000 3 1165]\n",
      " [1 13750 23.0 72937.0 'Diesel' 90.0 1.0 0 2000 3 1165]\n",
      " [2 13950 24.0 41711.0 'Diesel' 90.0 nan 0 2000 3 1165]\n",
      " [3 14950 26.0 48000.0 'Diesel' 90.0 0.0 0 2000 3 1165]\n",
      " [4 13750 30.0 38500.0 'Diesel' 90.0 0.0 0 2000 3 1170]\n",
      " [5 12950 32.0 61000.0 'Diesel' 90.0 0.0 0 2000 3 1170]\n",
      " [6 16900 27.0 nan 'Diesel' nan nan 0 2000 3 1245]\n",
      " [7 18600 30.0 75889.0 nan 90.0 1.0 0 2000 3 1245]\n",
      " [8 21500 27.0 19700.0 'Petrol' 192.0 0.0 0 1800 3 1185]\n",
      " [9 12950 23.0 71138.0 'Diesel' nan nan 0 1900 3 1105]]\n"
     ]
    }
   ],
   "source": [
    "\n",
    "# Load Data\n",
    "# Replace \"?,??,???.....\" to \"NaN\"\n",
    "# Replace Doors value from string to corresponding numbers\n",
    "# Convert Doors feature from object to int64\n",
    "\n",
    "datasets = pd.read_csv('/home/nihar/Desktop/ML/Lab2/Exercise-CarData.csv',sep=',\\?*',engine='python')\n",
    "datasets.Doors = [numbers[item] for item in datasets.Doors]\n",
    "datasets['Doors'] = pd.to_numeric(datasets['Doors'],errors='coerce')\n",
    "X_new = datasets.values\n",
    "print(\"\\nData for LabelEncoder : \\n\\n\", X_new[0:10,:])\n"
   ]
  },
  {
   "cell_type": "code",
   "execution_count": 11,
   "metadata": {},
   "outputs": [
    {
     "name": "stdout",
     "output_type": "stream",
     "text": [
      "\n",
      "New Data :\n",
      "\n",
      "    Price   Age       KM FuelType     HP  MetColor  Automatic    CC  Doors  \\\n",
      "0  13500  23.0  46986.0   Diesel   90.0       1.0          0  2000      3   \n",
      "1  13750  23.0  72937.0   Diesel   90.0       1.0          0  2000      3   \n",
      "2  13950  24.0  41711.0   Diesel   90.0       NaN          0  2000      3   \n",
      "3  14950  26.0  48000.0   Diesel   90.0       0.0          0  2000      3   \n",
      "4  13750  30.0  38500.0   Diesel   90.0       0.0          0  2000      3   \n",
      "5  12950  32.0  61000.0   Diesel   90.0       0.0          0  2000      3   \n",
      "6  16900  27.0      NaN   Diesel    NaN       NaN          0  2000      3   \n",
      "7  18600  30.0  75889.0      NaN   90.0       1.0          0  2000      3   \n",
      "8  21500  27.0  19700.0   Petrol  192.0       0.0          0  1800      3   \n",
      "9  12950  23.0  71138.0   Diesel    NaN       NaN          0  1900      3   \n",
      "\n",
      "   Weight  \n",
      "0    1165  \n",
      "1    1165  \n",
      "2    1165  \n",
      "3    1165  \n",
      "4    1170  \n",
      "5    1170  \n",
      "6    1245  \n",
      "7    1245  \n",
      "8    1185  \n",
      "9    1105  \n"
     ]
    }
   ],
   "source": [
    "\n",
    "# Removing the row with all null values\n",
    "\n",
    "datasets.dropna(how='all',inplace=True)\n",
    "print(\"\\nNew Data :\\n\\n\",datasets.iloc[0:10,1:11])\n"
   ]
  },
  {
   "cell_type": "code",
   "execution_count": 12,
   "metadata": {},
   "outputs": [
    {
     "name": "stdout",
     "output_type": "stream",
     "text": [
      "\n",
      "\n",
      "New Data with Mean Value for NaN : \n",
      "\n",
      " [[0.0 13500.0 23.0 46986.0 'Diesel' 90.0 1.0 0.0 2000.0 3.0 1165.0]\n",
      " [1.0 13750.0 23.0 72937.0 'Diesel' 90.0 1.0 0.0 2000.0 3.0 1165.0]\n",
      " [2.0 13950.0 24.0 41711.0 'Diesel' 90.0 0.6749611197511665 0.0 2000.0\n",
      "  3.0 1165.0]\n",
      " [3.0 14950.0 26.0 48000.0 'Diesel' 90.0 0.0 0.0 2000.0 3.0 1165.0]\n",
      " [4.0 13750.0 30.0 38500.0 'Diesel' 90.0 0.0 0.0 2000.0 3.0 1170.0]\n",
      " [5.0 12950.0 32.0 61000.0 'Diesel' 90.0 0.0 0.0 2000.0 3.0 1170.0]\n",
      " [6.0 16900.0 27.0 68647.23997185081 'Diesel' 101.47832167832168\n",
      "  0.6749611197511665 0.0 2000.0 3.0 1245.0]\n",
      " [7.0 18600.0 30.0 75889.0 nan 90.0 1.0 0.0 2000.0 3.0 1245.0]\n",
      " [8.0 21500.0 27.0 19700.0 'Petrol' 192.0 0.0 0.0 1800.0 3.0 1185.0]\n",
      " [9.0 12950.0 23.0 71138.0 'Diesel' 101.47832167832168 0.6749611197511665\n",
      "  0.0 1900.0 3.0 1105.0]]\n"
     ]
    }
   ],
   "source": [
    "\n",
    "# Imputation (Replacing null values with mean value of that attribute)\n",
    "\n",
    "# Using Imputer function to replace NaN values with mean of that parameter value \n",
    "imputer = SimpleImputer(missing_values = np.nan,strategy = \"mean\")\n",
    "\n",
    "# Fitting the data, function learns the stats \n",
    "imputer = imputer.fit(X_new[:,[0,1,2,3,5,6,7,8,9,10]]) \n",
    "  \n",
    "# fit_transform() will execute those stats on the input ie. X[:, 1:3] \n",
    "X_new[:,[0,1,2,3,5,6,7,8,9,10]] = imputer.transform(X_new[:,[0,1,2,3,5,6,7,8,9,10]]) \n",
    "  \n",
    "# filling the missing value with mean \n",
    "print(\"\\n\\nNew Data with Mean Value for NaN : \\n\\n\", X_new[0:10,:])\n"
   ]
  },
  {
   "cell_type": "markdown",
   "metadata": {},
   "source": [
    "### d) Correlation "
   ]
  },
  {
   "cell_type": "code",
   "execution_count": 13,
   "metadata": {},
   "outputs": [
    {
     "name": "stdout",
     "output_type": "stream",
     "text": [
      "<class 'pandas.core.frame.DataFrame'>\n",
      "Int64Index: 1436 entries, 0 to 1435\n",
      "Data columns (total 11 columns):\n",
      " #   Column      Non-Null Count  Dtype  \n",
      "---  ------      --------------  -----  \n",
      " 0   Unnamed: 0  1436 non-null   int64  \n",
      " 1   Price       1436 non-null   int64  \n",
      " 2   Age         1336 non-null   float64\n",
      " 3   KM          1421 non-null   float64\n",
      " 4   FuelType    1336 non-null   object \n",
      " 5   HP          1430 non-null   float64\n",
      " 6   MetColor    1286 non-null   float64\n",
      " 7   Automatic   1436 non-null   int64  \n",
      " 8   CC          1436 non-null   int64  \n",
      " 9   Doors       1436 non-null   int64  \n",
      " 10  Weight      1436 non-null   int64  \n",
      "dtypes: float64(4), int64(6), object(1)\n",
      "memory usage: 134.6+ KB\n"
     ]
    }
   ],
   "source": [
    "datasets.info()"
   ]
  },
  {
   "cell_type": "code",
   "execution_count": 14,
   "metadata": {},
   "outputs": [
    {
     "data": {
      "text/html": [
       "<div>\n",
       "<style scoped>\n",
       "    .dataframe tbody tr th:only-of-type {\n",
       "        vertical-align: middle;\n",
       "    }\n",
       "\n",
       "    .dataframe tbody tr th {\n",
       "        vertical-align: top;\n",
       "    }\n",
       "\n",
       "    .dataframe thead th {\n",
       "        text-align: right;\n",
       "    }\n",
       "</style>\n",
       "<table border=\"1\" class=\"dataframe\">\n",
       "  <thead>\n",
       "    <tr style=\"text-align: right;\">\n",
       "      <th></th>\n",
       "      <th>Price</th>\n",
       "      <th>Age</th>\n",
       "      <th>KM</th>\n",
       "      <th>HP</th>\n",
       "      <th>MetColor</th>\n",
       "      <th>Automatic</th>\n",
       "      <th>CC</th>\n",
       "      <th>Doors</th>\n",
       "      <th>Weight</th>\n",
       "    </tr>\n",
       "  </thead>\n",
       "  <tbody>\n",
       "    <tr>\n",
       "      <th>Price</th>\n",
       "      <td>1.000000</td>\n",
       "      <td>-0.878407</td>\n",
       "      <td>-0.574720</td>\n",
       "      <td>0.309902</td>\n",
       "      <td>0.112041</td>\n",
       "      <td>0.033081</td>\n",
       "      <td>0.165067</td>\n",
       "      <td>0.185326</td>\n",
       "      <td>0.581198</td>\n",
       "    </tr>\n",
       "    <tr>\n",
       "      <th>Age</th>\n",
       "      <td>-0.878407</td>\n",
       "      <td>1.000000</td>\n",
       "      <td>0.512735</td>\n",
       "      <td>-0.157904</td>\n",
       "      <td>-0.099659</td>\n",
       "      <td>0.032573</td>\n",
       "      <td>-0.120706</td>\n",
       "      <td>-0.157027</td>\n",
       "      <td>-0.464299</td>\n",
       "    </tr>\n",
       "    <tr>\n",
       "      <th>KM</th>\n",
       "      <td>-0.574720</td>\n",
       "      <td>0.512735</td>\n",
       "      <td>1.000000</td>\n",
       "      <td>-0.335285</td>\n",
       "      <td>-0.093825</td>\n",
       "      <td>-0.081248</td>\n",
       "      <td>0.299993</td>\n",
       "      <td>-0.036191</td>\n",
       "      <td>-0.026271</td>\n",
       "    </tr>\n",
       "    <tr>\n",
       "      <th>HP</th>\n",
       "      <td>0.309902</td>\n",
       "      <td>-0.157904</td>\n",
       "      <td>-0.335285</td>\n",
       "      <td>1.000000</td>\n",
       "      <td>0.064749</td>\n",
       "      <td>0.013755</td>\n",
       "      <td>0.053758</td>\n",
       "      <td>0.097162</td>\n",
       "      <td>0.086737</td>\n",
       "    </tr>\n",
       "    <tr>\n",
       "      <th>MetColor</th>\n",
       "      <td>0.112041</td>\n",
       "      <td>-0.099659</td>\n",
       "      <td>-0.093825</td>\n",
       "      <td>0.064749</td>\n",
       "      <td>1.000000</td>\n",
       "      <td>-0.013973</td>\n",
       "      <td>0.029189</td>\n",
       "      <td>0.086203</td>\n",
       "      <td>0.057142</td>\n",
       "    </tr>\n",
       "    <tr>\n",
       "      <th>Automatic</th>\n",
       "      <td>0.033081</td>\n",
       "      <td>0.032573</td>\n",
       "      <td>-0.081248</td>\n",
       "      <td>0.013755</td>\n",
       "      <td>-0.013973</td>\n",
       "      <td>1.000000</td>\n",
       "      <td>-0.069321</td>\n",
       "      <td>-0.027654</td>\n",
       "      <td>0.057249</td>\n",
       "    </tr>\n",
       "    <tr>\n",
       "      <th>CC</th>\n",
       "      <td>0.165067</td>\n",
       "      <td>-0.120706</td>\n",
       "      <td>0.299993</td>\n",
       "      <td>0.053758</td>\n",
       "      <td>0.029189</td>\n",
       "      <td>-0.069321</td>\n",
       "      <td>1.000000</td>\n",
       "      <td>0.126768</td>\n",
       "      <td>0.651450</td>\n",
       "    </tr>\n",
       "    <tr>\n",
       "      <th>Doors</th>\n",
       "      <td>0.185326</td>\n",
       "      <td>-0.157027</td>\n",
       "      <td>-0.036191</td>\n",
       "      <td>0.097162</td>\n",
       "      <td>0.086203</td>\n",
       "      <td>-0.027654</td>\n",
       "      <td>0.126768</td>\n",
       "      <td>1.000000</td>\n",
       "      <td>0.302618</td>\n",
       "    </tr>\n",
       "    <tr>\n",
       "      <th>Weight</th>\n",
       "      <td>0.581198</td>\n",
       "      <td>-0.464299</td>\n",
       "      <td>-0.026271</td>\n",
       "      <td>0.086737</td>\n",
       "      <td>0.057142</td>\n",
       "      <td>0.057249</td>\n",
       "      <td>0.651450</td>\n",
       "      <td>0.302618</td>\n",
       "      <td>1.000000</td>\n",
       "    </tr>\n",
       "  </tbody>\n",
       "</table>\n",
       "</div>"
      ],
      "text/plain": [
       "              Price       Age        KM        HP  MetColor  Automatic  \\\n",
       "Price      1.000000 -0.878407 -0.574720  0.309902  0.112041   0.033081   \n",
       "Age       -0.878407  1.000000  0.512735 -0.157904 -0.099659   0.032573   \n",
       "KM        -0.574720  0.512735  1.000000 -0.335285 -0.093825  -0.081248   \n",
       "HP         0.309902 -0.157904 -0.335285  1.000000  0.064749   0.013755   \n",
       "MetColor   0.112041 -0.099659 -0.093825  0.064749  1.000000  -0.013973   \n",
       "Automatic  0.033081  0.032573 -0.081248  0.013755 -0.013973   1.000000   \n",
       "CC         0.165067 -0.120706  0.299993  0.053758  0.029189  -0.069321   \n",
       "Doors      0.185326 -0.157027 -0.036191  0.097162  0.086203  -0.027654   \n",
       "Weight     0.581198 -0.464299 -0.026271  0.086737  0.057142   0.057249   \n",
       "\n",
       "                 CC     Doors    Weight  \n",
       "Price      0.165067  0.185326  0.581198  \n",
       "Age       -0.120706 -0.157027 -0.464299  \n",
       "KM         0.299993 -0.036191 -0.026271  \n",
       "HP         0.053758  0.097162  0.086737  \n",
       "MetColor   0.029189  0.086203  0.057142  \n",
       "Automatic -0.069321 -0.027654  0.057249  \n",
       "CC         1.000000  0.126768  0.651450  \n",
       "Doors      0.126768  1.000000  0.302618  \n",
       "Weight     0.651450  0.302618  1.000000  "
      ]
     },
     "execution_count": 14,
     "metadata": {},
     "output_type": "execute_result"
    }
   ],
   "source": [
    "\n",
    "# Selecting features based on correlation\n",
    "# Generating the correlation matrix\n",
    "\n",
    "corr = datasets.iloc[:,1:11].corr()\n",
    "corr.head(10)\n"
   ]
  },
  {
   "cell_type": "code",
   "execution_count": 15,
   "metadata": {},
   "outputs": [
    {
     "data": {
      "text/plain": [
       "<AxesSubplot:>"
      ]
     },
     "execution_count": 15,
     "metadata": {},
     "output_type": "execute_result"
    },
    {
     "data": {
      "image/png": "[encoded data removed]",
      "text/plain": [
       "<Figure size 432x288 with 2 Axes>"
      ]
     },
     "metadata": {
      "needs_background": "light"
     },
     "output_type": "display_data"
    }
   ],
   "source": [
    "\n",
    "# Generating the correlation heatmap\n",
    "\n",
    "sns.heatmap(corr)\n"
   ]
  },
  {
   "cell_type": "code",
   "execution_count": 16,
   "metadata": {},
   "outputs": [
    {
     "data": {
      "text/plain": [
       "(9,)"
      ]
     },
     "execution_count": 16,
     "metadata": {},
     "output_type": "execute_result"
    }
   ],
   "source": [
    "\n",
    "# Comparing the correlation between features and remove one of two features that have a correlation higher than 0.9\n",
    "\n",
    "columns = np.full((corr.shape[0],), True, dtype=bool)\n",
    "for i in range(corr.shape[0]):\n",
    "    for j in range(i+1, corr.shape[0]):\n",
    "        if corr.iloc[i,j] >= 0.9:\n",
    "            if columns[j]:\n",
    "                columns[j] = False\n",
    "                \n",
    "selected_columns = datasets.iloc[:,[1,2,3,5,6,7,8,9,10]].columns[columns]\n",
    "selected_columns.shape\n"
   ]
  },
  {
   "cell_type": "code",
   "execution_count": 17,
   "metadata": {},
   "outputs": [
    {
     "name": "stdout",
     "output_type": "stream",
     "text": [
      "  FuelType  Price   Age       KM     HP  MetColor  Automatic    CC  Doors  \\\n",
      "0   Diesel  13500  23.0  46986.0   90.0       1.0          0  2000      3   \n",
      "1   Diesel  13750  23.0  72937.0   90.0       1.0          0  2000      3   \n",
      "2   Diesel  13950  24.0  41711.0   90.0       NaN          0  2000      3   \n",
      "3   Diesel  14950  26.0  48000.0   90.0       0.0          0  2000      3   \n",
      "4   Diesel  13750  30.0  38500.0   90.0       0.0          0  2000      3   \n",
      "5   Diesel  12950  32.0  61000.0   90.0       0.0          0  2000      3   \n",
      "6   Diesel  16900  27.0      NaN    NaN       NaN          0  2000      3   \n",
      "7      NaN  18600  30.0  75889.0   90.0       1.0          0  2000      3   \n",
      "8   Petrol  21500  27.0  19700.0  192.0       0.0          0  1800      3   \n",
      "9   Diesel  12950  23.0  71138.0    NaN       NaN          0  1900      3   \n",
      "\n",
      "   Weight  \n",
      "0    1165  \n",
      "1    1165  \n",
      "2    1165  \n",
      "3    1165  \n",
      "4    1170  \n",
      "5    1170  \n",
      "6    1245  \n",
      "7    1245  \n",
      "8    1185  \n",
      "9    1105  \n"
     ]
    }
   ],
   "source": [
    "\n",
    "datasets = pd.concat([datasets['FuelType'],datasets[selected_columns]],axis=1)\n",
    "print(datasets.iloc[0:10,:])\n"
   ]
  },
  {
   "cell_type": "code",
   "execution_count": null,
   "metadata": {},
   "outputs": [],
   "source": []
  }
 ],
 "metadata": {
  "kernelspec": {
   "display_name": "Python 3",
   "language": "python",
   "name": "python3"
  },
  "language_info": {
   "codemirror_mode": {
    "name": "ipython",
    "version": 3
   },
   "file_extension": ".py",
   "mimetype": "text/x-python",
   "name": "python",
   "nbconvert_exporter": "python",
   "pygments_lexer": "ipython3",
   "version": "3.6.9"
  }
 },
 "nbformat": 4,
 "nbformat_minor": 4
}
