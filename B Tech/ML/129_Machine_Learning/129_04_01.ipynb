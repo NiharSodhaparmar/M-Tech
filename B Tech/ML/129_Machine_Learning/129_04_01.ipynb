{
 "cells": [
  {
   "cell_type": "markdown",
   "metadata": {},
   "source": [
    "# LAB 4\n",
    "\n",
    "### Task 1 : Try the algo on Same Whether dataset - LabelEncoding of features:and Train test Division 95%-5%\n",
    "\n"
   ]
  },
  {
   "cell_type": "code",
   "execution_count": 2,
   "metadata": {},
   "outputs": [],
   "source": [
    "from sklearn import preprocessing"
   ]
  },
  {
   "cell_type": "code",
   "execution_count": 3,
   "metadata": {
    "scrolled": true
   },
   "outputs": [],
   "source": [
    "#Predictor variables\n",
    "Outlook = ['Rainy', 'Rainy', 'Overcast', 'Sunny', 'Sunny', 'Sunny', 'Overcast',\n",
    "            'Rainy', 'Rainy', 'Sunny', 'Rainy','Overcast', 'Overcast', 'Sunny']\n",
    "Temperature = ['Hot', 'Hot', 'Hot', 'Mild', 'Cool', 'Cool', 'Cool',\n",
    "                'Mild', 'Cool', 'Mild', 'Mild', 'Mild', 'Hot', 'Mild']\n",
    "Humidity = ['High', 'High', 'High', 'High', 'Normal', 'Normal', 'Normal',\n",
    "            'High', 'Normal', 'Normal', 'Normal', 'High', 'Normal', 'High']\n",
    "Wind = ['False', 'True', 'False', 'False', 'False', 'True', 'True',\n",
    "            'False', 'False', 'False', 'True', 'True', 'False', 'True']\n",
    "\n",
    "#Class Label:\n",
    "Play = ['No', 'No', 'Yes', 'Yes', 'Yes', 'No', 'Yes', 'No',\n",
    "'Yes', 'Yes', 'Yes', 'Yes', 'Yes', 'No']"
   ]
  },
  {
   "cell_type": "code",
   "execution_count": 4,
   "metadata": {},
   "outputs": [
    {
     "name": "stdout",
     "output_type": "stream",
     "text": [
      "Outllok mapping: {'Overcast': 0, 'Rainy': 1, 'Sunny': 2}\n",
      "Temperature mapping: {'Cool': 0, 'Hot': 1, 'Mild': 2}\n",
      "Humidity mapping: {'High': 0, 'Normal': 1}\n",
      "Wind mapping: {'False': 0, 'True': 1}\n",
      "Play mapping: {'No': 0, 'Yes': 1}\n",
      "\n",
      "\n",
      "\n",
      "Weather: [1 1 0 2 2 2 0 1 1 2 1 0 0 2]\n",
      "Temerature: [1 1 1 2 0 0 0 2 0 2 2 2 1 2]\n",
      "Humidity: [0 0 0 0 1 1 1 0 1 1 1 0 1 0]\n",
      "Wind: [0 1 0 0 0 1 1 0 0 0 1 1 0 1]\n",
      "Play: [0 0 1 1 1 0 1 0 1 1 1 1 1 0]\n"
     ]
    }
   ],
   "source": [
    "#creating labelEncoder\n",
    "le = preprocessing.LabelEncoder()\n",
    "\n",
    "# Converting string labels into numbers.\n",
    "Outlook_encoded = le.fit_transform(Outlook)\n",
    "Outlook_name_mapping = dict(zip(le.classes_, le.transform(le.classes_)))\n",
    "print(\"Outllok mapping:\",Outlook_name_mapping)\n",
    "\n",
    "Temperature_encoded = le.fit_transform(Temperature)\n",
    "Temperature_name_mapping = dict(zip(le.classes_, le.transform(le.classes_)))\n",
    "print(\"Temperature mapping:\",Temperature_name_mapping)\n",
    "\n",
    "Humidity_encoded = le.fit_transform(Humidity)\n",
    "Humidity_name_mapping = dict(zip(le.classes_, le.transform(le.classes_)))\n",
    "print(\"Humidity mapping:\",Humidity_name_mapping)\n",
    "\n",
    "Wind_encoded = le.fit_transform(Wind)\n",
    "Wind_name_mapping = dict(zip(le.classes_, le.transform(le.classes_)))\n",
    "print(\"Wind mapping:\",Wind_name_mapping)\n",
    "\n",
    "Play_encoded = le.fit_transform(Play)\n",
    "Play_name_mapping = dict(zip(le.classes_, le.transform(le.classes_)))\n",
    "print(\"Play mapping:\",Play_name_mapping)\n",
    "\n",
    "print(\"\\n\\n\")\n",
    "print(\"Weather:\" ,Outlook_encoded)\n",
    "print(\"Temerature:\" ,Temperature_encoded)\n",
    "print(\"Humidity:\" ,Humidity_encoded)\n",
    "print(\"Wind:\" ,Wind_encoded)\n",
    "print(\"Play:\" ,Play_encoded)"
   ]
  },
  {
   "cell_type": "code",
   "execution_count": 5,
   "metadata": {},
   "outputs": [
    {
     "name": "stdout",
     "output_type": "stream",
     "text": [
      "Features: ((1, 1, 0, 0), (1, 1, 0, 1), (0, 1, 0, 0), (2, 2, 0, 0), (2, 0, 1, 0), (2, 0, 1, 1), (0, 0, 1, 1), (1, 2, 0, 0), (1, 0, 1, 0), (2, 2, 1, 0), (1, 2, 1, 1), (0, 2, 0, 1), (0, 1, 1, 0), (2, 2, 0, 1))\n"
     ]
    }
   ],
   "source": [
    "#Combinig outlook, temprature, wind and humidity into single listof tuples\n",
    "\n",
    "features=tuple(zip(Outlook_encoded,Temperature_encoded,Humidity_encoded,Wind_encoded))\n",
    "print(\"Features:\",features)"
   ]
  },
  {
   "cell_type": "code",
   "execution_count": 6,
   "metadata": {},
   "outputs": [],
   "source": [
    "from sklearn.model_selection import train_test_split\n",
    "\n",
    "#split data set into train and test sets\n",
    "\n",
    "x_train, x_test, y_train, y_test = train_test_split(features,\n",
    "                        Play_encoded, test_size = 0.05, random_state = 129)"
   ]
  },
  {
   "cell_type": "code",
   "execution_count": 7,
   "metadata": {},
   "outputs": [
    {
     "data": {
      "text/plain": [
       "DecisionTreeClassifier()"
      ]
     },
     "execution_count": 7,
     "metadata": {},
     "output_type": "execute_result"
    }
   ],
   "source": [
    "from sklearn.tree import DecisionTreeClassifier\n",
    "\n",
    "#Create a Decision Tree Classifier (using Entropy)\n",
    "clf=DecisionTreeClassifier(criterion='gini')\n",
    "\n",
    "# Train the model using the training sets\n",
    "clf.fit(x_train,y_train)"
   ]
  },
  {
   "cell_type": "code",
   "execution_count": 8,
   "metadata": {},
   "outputs": [
    {
     "name": "stdout",
     "output_type": "stream",
     "text": [
      "[1]\n"
     ]
    }
   ],
   "source": [
    "#Predict the response for test dataset\n",
    "y_pred = clf.predict(x_test)\n",
    "print(y_pred)"
   ]
  },
  {
   "cell_type": "code",
   "execution_count": 9,
   "metadata": {
    "scrolled": false
   },
   "outputs": [
    {
     "data": {
      "text/plain": [
       "[Text(148.8, 195.696, 'X[2] <= 0.5\\ngini = 0.473\\nsamples = 13\\nvalue = [5, 8]\\nclass = yes'),\n",
       " Text(74.4, 152.208, 'X[0] <= 0.5\\ngini = 0.444\\nsamples = 6\\nvalue = [4, 2]\\nclass = no'),\n",
       " Text(37.2, 108.72, 'gini = 0.0\\nsamples = 1\\nvalue = [0, 1]\\nclass = yes'),\n",
       " Text(111.60000000000001, 108.72, 'X[0] <= 1.5\\ngini = 0.32\\nsamples = 5\\nvalue = [4, 1]\\nclass = no'),\n",
       " Text(74.4, 65.232, 'gini = 0.0\\nsamples = 3\\nvalue = [3, 0]\\nclass = no'),\n",
       " Text(148.8, 65.232, 'X[3] <= 0.5\\ngini = 0.5\\nsamples = 2\\nvalue = [1, 1]\\nclass = no'),\n",
       " Text(111.60000000000001, 21.744, 'gini = 0.0\\nsamples = 1\\nvalue = [0, 1]\\nclass = yes'),\n",
       " Text(186.0, 21.744, 'gini = 0.0\\nsamples = 1\\nvalue = [1, 0]\\nclass = no'),\n",
       " Text(223.20000000000002, 152.208, 'X[3] <= 0.5\\ngini = 0.245\\nsamples = 7\\nvalue = [1, 6]\\nclass = yes'),\n",
       " Text(186.0, 108.72, 'gini = 0.0\\nsamples = 4\\nvalue = [0, 4]\\nclass = yes'),\n",
       " Text(260.40000000000003, 108.72, 'X[0] <= 1.5\\ngini = 0.444\\nsamples = 3\\nvalue = [1, 2]\\nclass = yes'),\n",
       " Text(223.20000000000002, 65.232, 'gini = 0.0\\nsamples = 2\\nvalue = [0, 2]\\nclass = yes'),\n",
       " Text(297.6, 65.232, 'gini = 0.0\\nsamples = 1\\nvalue = [1, 0]\\nclass = no')]"
      ]
     },
     "execution_count": 9,
     "metadata": {},
     "output_type": "execute_result"
    },
    {
     "data": {
      "image/png": "[encoded data removed]",
      "text/plain": [
       "<Figure size 432x288 with 1 Axes>"
      ]
     },
     "metadata": {
      "needs_background": "light"
     },
     "output_type": "display_data"
    }
   ],
   "source": [
    "from sklearn import tree\n",
    "\n",
    "tree.plot_tree(clf,filled=True,class_names=['no','yes'])"
   ]
  },
  {
   "cell_type": "code",
   "execution_count": 10,
   "metadata": {},
   "outputs": [
    {
     "name": "stdout",
     "output_type": "stream",
     "text": [
      "Accuracy: 1.0\n",
      "\n",
      "Confusion Matrix :\n"
     ]
    },
    {
     "data": {
      "text/plain": [
       "array([[1]])"
      ]
     },
     "execution_count": 10,
     "metadata": {},
     "output_type": "execute_result"
    }
   ],
   "source": [
    "from sklearn.metrics import confusion_matrix,precision_score,recall_score,accuracy_score\n",
    "\n",
    "# Model Accuracy, how often is the classifier correct?\n",
    "print(\"Accuracy:\",accuracy_score(y_test, y_pred))\n",
    "\n",
    "print(\"\\nConfusion Matrix :\")\n",
    "confusion_matrix(y_test, y_pred)"
   ]
  },
  {
   "cell_type": "code",
   "execution_count": 11,
   "metadata": {},
   "outputs": [
    {
     "name": "stdout",
     "output_type": "stream",
     "text": [
      "\n",
      "precision: 1.0\n",
      "\n",
      "recall: 1.0\n"
     ]
    }
   ],
   "source": [
    "precision = precision_score(y_test, y_pred)\n",
    "print('\\nprecision: {}'.format(precision))\n",
    "\n",
    "recall = recall_score(y_test, y_pred)\n",
    "print('\\nrecall: {}'.format(recall))"
   ]
  },
  {
   "cell_type": "markdown",
   "metadata": {},
   "source": [
    "#### (1) What will be the value of Play, if Outlook is ’Rainy’, Temperature is ’Mild’, Humidity =’Normal’, and Wind = ’False’? "
   ]
  },
  {
   "cell_type": "code",
   "execution_count": 12,
   "metadata": {},
   "outputs": [
    {
     "name": "stdout",
     "output_type": "stream",
     "text": [
      "Predicted Value: [0]\n"
     ]
    }
   ],
   "source": [
    "predicted= clf.predict([[1,2,0,1]])\n",
    "print(\"Predicted Value:\", predicted)"
   ]
  },
  {
   "cell_type": "markdown",
   "metadata": {},
   "source": [
    "#### (2) What will be the value of Play, if Outlook is ’Sunny’, Temeprature is ’Cool’, Humidity =’High’, and Wind = ’True’? "
   ]
  },
  {
   "cell_type": "code",
   "execution_count": 13,
   "metadata": {},
   "outputs": [
    {
     "name": "stdout",
     "output_type": "stream",
     "text": [
      "Predicted Value: [0]\n"
     ]
    }
   ],
   "source": [
    "predicted= clf.predict([[2,0,1,2]])\n",
    "print(\"Predicted Value:\", predicted)"
   ]
  }
 ],
 "metadata": {
  "kernelspec": {
   "display_name": "Python 3",
   "language": "python",
   "name": "python3"
  },
  "language_info": {
   "codemirror_mode": {
    "name": "ipython",
    "version": 3
   },
   "file_extension": ".py",
   "mimetype": "text/x-python",
   "name": "python",
   "nbconvert_exporter": "python",
   "pygments_lexer": "ipython3",
   "version": "3.6.9"
  }
 },
 "nbformat": 4,
 "nbformat_minor": 4
}
