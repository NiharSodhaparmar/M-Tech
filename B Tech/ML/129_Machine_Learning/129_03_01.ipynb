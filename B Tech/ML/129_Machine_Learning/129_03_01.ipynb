{
 "cells": [
  {
   "cell_type": "markdown",
   "metadata": {},
   "source": [
    "# LAB 3\n",
    "\n"
   ]
  },
  {
   "cell_type": "markdown",
   "metadata": {},
   "source": [
    "### Task 1 : Try the algo on Dataset3 - LabelEncoding of features:and Train test Division 95%-5% "
   ]
  },
  {
   "cell_type": "code",
   "execution_count": 1,
   "metadata": {},
   "outputs": [],
   "source": [
    "import pandas as pd\n",
    "from sklearn import preprocessing\n",
    "from sklearn.metrics import confusion_matrix,precision_score,recall_score,accuracy_score\n",
    "from sklearn.naive_bayes import GaussianNB,MultinomialNB\n",
    "from sklearn.model_selection import train_test_split\n",
    "\n",
    "datasets = pd.read_csv('/home/nihar/Desktop/SEM 7/ML/Lab/Lab3/Dataset3.csv')"
   ]
  },
  {
   "cell_type": "code",
   "execution_count": 2,
   "metadata": {},
   "outputs": [
    {
     "name": "stdout",
     "output_type": "stream",
     "text": [
      "\n",
      "Outllok mapping: {'O': 0, 'R': 1, 'S': 2}\n",
      "Outlook : [1 1 0 1 2 0 0 1 0 2 1 0 0 2]\n",
      "\n",
      "Temprature mapping: {'C': 0, 'H': 1, 'M': 2}\n",
      "Temprature : [1 1 0 1 2 0 0 1 0 2 1 0 0 2]\n",
      "\n",
      "Wind mapping: {'F': 0, 'T': 1}\n",
      "Wind : [0 1 0 0 0 1 1 0 0 0 1 1 0 1]\n"
     ]
    }
   ],
   "source": [
    "#creating labelEncoder\n",
    "le = preprocessing.LabelEncoder()\n",
    "\n",
    "# Converting string labels into numbers.\n",
    "outlook_encoded=le.fit_transform(datasets['Outlook'])\n",
    "outlook_name_mapping = dict(zip(le.classes_, le.transform(le.classes_)))\n",
    "print(\"\\nOutllok mapping:\",outlook_name_mapping)\n",
    "print(\"Outlook :\" ,outlook_encoded)\n",
    "\n",
    "temp_encoded=le.fit_transform(datasets['Temp'])\n",
    "temp_name_mapping = dict(zip(le.classes_, le.transform(le.classes_)))\n",
    "print(\"\\nTemprature mapping:\",temp_name_mapping)\n",
    "print(\"Temprature :\" ,outlook_encoded)\n",
    "\n",
    "wind_encoded=le.fit_transform(datasets['Wind'])\n",
    "wind_name_mapping = dict(zip(le.classes_, le.transform(le.classes_)))\n",
    "print(\"\\nWind mapping:\",wind_name_mapping)\n",
    "print(\"Wind :\" ,wind_encoded)"
   ]
  },
  {
   "cell_type": "code",
   "execution_count": 3,
   "metadata": {},
   "outputs": [
    {
     "name": "stdout",
     "output_type": "stream",
     "text": [
      "Features: ((1, 1, 0, 1), (1, 1, 1, 2), (0, 1, 0, 1), (1, 2, 0, 1), (2, 0, 0, 1), (0, 0, 1, 0), (0, 0, 1, 1), (1, 2, 0, 1), (0, 0, 0, 0), (2, 2, 0, 2), (1, 0, 1, 2), (0, 2, 1, 0), (0, 1, 0, 1), (2, 2, 1, 1))\n"
     ]
    }
   ],
   "source": [
    "#Combinig outlook, temprature, wind and humidity into single listof tuples\n",
    "\n",
    "features=tuple(zip(outlook_encoded,temp_encoded,wind_encoded,datasets['Humidity']))\n",
    "print(\"Features:\",features)"
   ]
  },
  {
   "cell_type": "code",
   "execution_count": 4,
   "metadata": {},
   "outputs": [
    {
     "name": "stdout",
     "output_type": "stream",
     "text": [
      "[(0, 2, 1, 0)]\n"
     ]
    }
   ],
   "source": [
    "#split data set into train and test sets\n",
    "\n",
    "x_train, x_test, y_train, y_test = train_test_split(features,\n",
    "                        datasets['Class'], test_size = 0.05, random_state = 129)\n",
    "print(x_test)"
   ]
  },
  {
   "cell_type": "code",
   "execution_count": 5,
   "metadata": {},
   "outputs": [
    {
     "name": "stdout",
     "output_type": "stream",
     "text": [
      "[0]\n"
     ]
    }
   ],
   "source": [
    "#Create a Classifier\n",
    "mnb=MultinomialNB()\n",
    "\n",
    "# Train the model using the training sets\n",
    "mnb.fit(x_train,y_train)\n",
    "\n",
    "#Predict the response for test dataset\n",
    "y_pred = mnb.predict(x_test)\n",
    "print(y_pred)"
   ]
  },
  {
   "cell_type": "code",
   "execution_count": 6,
   "metadata": {},
   "outputs": [
    {
     "name": "stdout",
     "output_type": "stream",
     "text": [
      "Accuracy: 0.0\n",
      "\n",
      "Confusion Matrix :\n"
     ]
    },
    {
     "data": {
      "text/plain": [
       "array([[0, 0],\n",
       "       [1, 0]])"
      ]
     },
     "execution_count": 6,
     "metadata": {},
     "output_type": "execute_result"
    }
   ],
   "source": [
    "# Model Accuracy, how often is the classifier correct?\n",
    "print(\"Accuracy:\",accuracy_score(y_test, y_pred))\n",
    "\n",
    "print(\"\\nConfusion Matrix :\")\n",
    "confusion_matrix(y_test, y_pred)"
   ]
  },
  {
   "cell_type": "code",
   "execution_count": 7,
   "metadata": {},
   "outputs": [
    {
     "name": "stdout",
     "output_type": "stream",
     "text": [
      "\n",
      "precision: 0.0\n",
      "\n",
      "recall: 0.0\n"
     ]
    },
    {
     "name": "stderr",
     "output_type": "stream",
     "text": [
      "/home/nihar/.local/lib/python3.6/site-packages/sklearn/metrics/_classification.py:1221: UndefinedMetricWarning: Precision is ill-defined and being set to 0.0 due to no predicted samples. Use `zero_division` parameter to control this behavior.\n",
      "  _warn_prf(average, modifier, msg_start, len(result))\n"
     ]
    }
   ],
   "source": [
    "precision = precision_score(y_test, y_pred)\n",
    "print('\\nprecision: {}'.format(precision))\n",
    "\n",
    "recall = recall_score(y_test, y_pred)\n",
    "print('\\nrecall: {}'.format(recall))"
   ]
  },
  {
   "cell_type": "code",
   "execution_count": 8,
   "metadata": {},
   "outputs": [
    {
     "name": "stdout",
     "output_type": "stream",
     "text": [
      "[1]\n",
      "[0]\n"
     ]
    }
   ],
   "source": [
    "# (1) What will be the value of Play, if Outlook is ’Rainy’, Temperature is ’Mild’, Humidity =’Normal’, and Wind = ’False’?\n",
    "print(mnb.predict([[1,2,0,1]]))\n",
    "\n",
    "# (2) What will be the value of Play, if Outlook is ’Sunny’, Temeprature is ’Cool’, Humidity =’High’, and Wind = ’True’?\n",
    "print(mnb.predict([[2,0,1,2]]))"
   ]
  }
 ],
 "metadata": {
  "kernelspec": {
   "display_name": "Python 3",
   "language": "python",
   "name": "python3"
  },
  "language_info": {
   "codemirror_mode": {
    "name": "ipython",
    "version": 3
   },
   "file_extension": ".py",
   "mimetype": "text/x-python",
   "name": "python",
   "nbconvert_exporter": "python",
   "pygments_lexer": "ipython3",
   "version": "3.6.9"
  }
 },
 "nbformat": 4,
 "nbformat_minor": 4
}
