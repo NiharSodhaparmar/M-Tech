{
 "cells": [
  {
   "cell_type": "code",
   "execution_count": 3,
   "id": "d09ccdbb",
   "metadata": {},
   "outputs": [],
   "source": [
    "import pickle as pkl\n",
    "import pandas as pd\n",
    "with open(\"./New/agree_words_graph_alt_comment.pkl\", \"rb\") as f:\n",
    "    file = pkl.load(f)\n",
    "     \n",
    "df = pd.DataFrame(file)\n",
    "df.to_csv(r'./New/agree_words_graph_alt_comment.csv')"
   ]
  },
  {
   "cell_type": "code",
   "execution_count": null,
   "id": "4f5ef749",
   "metadata": {},
   "outputs": [],
   "source": []
  }
 ],
 "metadata": {
  "kernelspec": {
   "display_name": "Python 3 (ipykernel)",
   "language": "python",
   "name": "python3"
  },
  "language_info": {
   "codemirror_mode": {
    "name": "ipython",
    "version": 3
   },
   "file_extension": ".py",
   "mimetype": "text/x-python",
   "name": "python",
   "nbconvert_exporter": "python",
   "pygments_lexer": "ipython3",
   "version": "3.9.0"
  }
 },
 "nbformat": 4,
 "nbformat_minor": 5
}
