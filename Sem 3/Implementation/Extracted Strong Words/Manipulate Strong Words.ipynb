{
 "cells": [
  {
   "cell_type": "code",
   "execution_count": 25,
   "id": "fcc37550",
   "metadata": {},
   "outputs": [
    {
     "name": "stderr",
     "output_type": "stream",
     "text": [
      "[nltk_data] Downloading package stopwords to\n",
      "[nltk_data]     C:\\Users\\nihar\\AppData\\Roaming\\nltk_data...\n",
      "[nltk_data]   Package stopwords is already up-to-date!\n"
     ]
    },
    {
     "data": {
      "text/plain": [
       "True"
      ]
     },
     "execution_count": 25,
     "metadata": {},
     "output_type": "execute_result"
    }
   ],
   "source": [
    "import csv\n",
    "from collections import defaultdict\n",
    "\n",
    "import nltk\n",
    "from nltk.corpus import stopwords\n",
    "\n",
    "nltk.download('stopwords')"
   ]
  },
  {
   "cell_type": "code",
   "execution_count": 26,
   "id": "84ac50e1",
   "metadata": {},
   "outputs": [],
   "source": [
    "stopwords = stopwords.words('english')\n",
    "\n",
    "stopwords_dict = {word: True for word in stopwords}"
   ]
  },
  {
   "cell_type": "code",
   "execution_count": 27,
   "id": "e31204c6",
   "metadata": {
    "scrolled": true
   },
   "outputs": [],
   "source": [
    "word_label_counts = defaultdict(lambda: [0, 0])\n",
    "\n",
    "# opening the CSV file\n",
    "with open('extracted_strong_words.csv', mode ='r')as file:\n",
    "    # reading the CSV file\n",
    "    csv_reader = csv.reader(file)\n",
    "\n",
    "    i = 0\n",
    " \n",
    "    # displaying the contents of the CSV file\n",
    "    for row in csv_reader:\n",
    "        i = i + 1\n",
    "        \n",
    "        if i == 1:\n",
    "            continue   \n",
    "        \n",
    "        word, label = row[0], int(row[1])\n",
    "        \n",
    "        if word.lower() not in stopwords_dict:\n",
    "            word_label_counts[word][label] += 1"
   ]
  },
  {
   "cell_type": "code",
   "execution_count": 28,
   "id": "027b76c0",
   "metadata": {},
   "outputs": [],
   "source": [
    "unique_word_labels = []\n",
    "\n",
    "for word, counts in word_label_counts.items():\n",
    "    label_with_highest_count = 0 if counts[0] >= counts[1] else 1\n",
    "    unique_word_labels.append([word, label_with_highest_count])"
   ]
  },
  {
   "cell_type": "code",
   "execution_count": 29,
   "id": "fadec9a9",
   "metadata": {},
   "outputs": [],
   "source": [
    "with open('new_csv_file.csv', 'w', newline='') as new_csv_file:\n",
    "    csv_writer = csv.writer(new_csv_file)\n",
    "    for row in unique_word_labels:\n",
    "        csv_writer.writerow(row)"
   ]
  },
  {
   "cell_type": "code",
   "execution_count": 32,
   "id": "857b7c1f",
   "metadata": {},
   "outputs": [
    {
     "name": "stdout",
     "output_type": "stream",
     "text": [
      "True\n"
     ]
    }
   ],
   "source": [
    "import os\n",
    "print(os.path.isfile('extracted_strong_words.csv'))"
   ]
  },
  {
   "cell_type": "code",
   "execution_count": null,
   "id": "5d36d1a1",
   "metadata": {},
   "outputs": [],
   "source": []
  }
 ],
 "metadata": {
  "kernelspec": {
   "display_name": "Python 3 (ipykernel)",
   "language": "python",
   "name": "python3"
  },
  "language_info": {
   "codemirror_mode": {
    "name": "ipython",
    "version": 3
   },
   "file_extension": ".py",
   "mimetype": "text/x-python",
   "name": "python",
   "nbconvert_exporter": "python",
   "pygments_lexer": "ipython3",
   "version": "3.9.0"
  }
 },
 "nbformat": 4,
 "nbformat_minor": 5
}
