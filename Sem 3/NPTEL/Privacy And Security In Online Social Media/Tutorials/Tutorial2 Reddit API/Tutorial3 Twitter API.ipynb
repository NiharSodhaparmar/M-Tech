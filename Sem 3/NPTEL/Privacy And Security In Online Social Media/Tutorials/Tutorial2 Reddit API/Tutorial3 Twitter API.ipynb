{
 "cells": [
  {
   "cell_type": "code",
   "execution_count": 1,
   "id": "0190fd85",
   "metadata": {},
   "outputs": [],
   "source": [
    "# from keys import * \n",
    "import json\n",
    "import tweepy\n",
    "\n",
    "# API Key\n",
    "consumer_key = \"IYxLiF4qiNAgMspAwhjjQXvy2\"\n",
    "\n",
    "# API Key Secret\n",
    "consumer_secret = \"u6cAgtsAiyWyGU19R97vfKTvdmivTv8iKSjMexeymDPvQ0FDqV\"\n",
    "\n",
    "# Access Token\n",
    "access_token = \"1691487764913737728-ufO4kXa88QIdjA6WTet9PUMYNgmx4S\"\n",
    "\n",
    "# Access Token Secret\n",
    "access_secret = \"9h0NQuLXZtKB19Mpq1um6uRunWLeRai39mts5vqjIcp6y\""
   ]
  },
  {
   "cell_type": "code",
   "execution_count": 2,
   "id": "cbf8794b",
   "metadata": {},
   "outputs": [
    {
     "name": "stdout",
     "output_type": "stream",
     "text": [
      "Authentication successfull!!! :D\n"
     ]
    }
   ],
   "source": [
    "#Consumer Key (API Key), Consumer Secret (API Secret)\n",
    "# consumer_key=\"random\"\n",
    "auth = tweepy.OAuthHandler(consumer_key, consumer_secret)\n",
    "# Access Token, Access Token Secret\n",
    "auth.set_access_token(access_token, access_secret)\n",
    "\n",
    "api = tweepy.API(auth)\n",
    "\n",
    "if (not api):\n",
    "    print(\"Authentication failed: (\")\n",
    "else:\n",
    "    print(\"Authentication successfull!!! :D\")"
   ]
  },
  {
   "cell_type": "markdown",
   "id": "e4aa5fee",
   "metadata": {},
   "source": [
    "## Search API\n",
    "### Search Parameters"
   ]
  },
  {
   "cell_type": "code",
   "execution_count": 3,
   "id": "2740b23b",
   "metadata": {},
   "outputs": [],
   "source": [
    "query = 'Serum Institute' # this is what we're searching for\n",
    "en_lang= 'en' # this is used to specify the language of the tweets\n",
    "extended_mode = 'extended' # used to tell the API not to truncate the tweet"
   ]
  },
  {
   "cell_type": "code",
   "execution_count": 4,
   "id": "2a00df9e",
   "metadata": {},
   "outputs": [
    {
     "ename": "TweepError",
     "evalue": "[{'message': 'You currently have access to a subset of Twitter API v2 endpoints and limited v1.1 endpoints (e.g. media post, oauth) only. If you need access to this endpoint, you may need a different access level. You can learn more here: https://developer.twitter.com/en/portal/product', 'code': 453}]",
     "output_type": "error",
     "traceback": [
      "\u001b[1;31m---------------------------------------------------------------------------\u001b[0m",
      "\u001b[1;31mTweepError\u001b[0m                                Traceback (most recent call last)",
      "Cell \u001b[1;32mIn[4], line 1\u001b[0m\n\u001b[1;32m----> 1\u001b[0m search_results \u001b[38;5;241m=\u001b[39m \u001b[43mapi\u001b[49m\u001b[38;5;241;43m.\u001b[39;49m\u001b[43msearch\u001b[49m\u001b[43m(\u001b[49m\u001b[43mq\u001b[49m\u001b[38;5;241;43m=\u001b[39;49m\u001b[43mquery\u001b[49m\u001b[43m,\u001b[49m\u001b[43m \u001b[49m\u001b[43mlang\u001b[49m\u001b[38;5;241;43m=\u001b[39;49m\u001b[43men_lang\u001b[49m\u001b[43m,\u001b[49m\u001b[43m \u001b[49m\u001b[43mtweet_mode\u001b[49m\u001b[38;5;241;43m=\u001b[39;49m\u001b[43mextended_mode\u001b[49m\u001b[43m,\u001b[49m\u001b[43m \u001b[49m\u001b[43mcount\u001b[49m\u001b[38;5;241;43m=\u001b[39;49m\u001b[38;5;241;43m20\u001b[39;49m\u001b[43m)\u001b[49m\n",
      "File \u001b[1;32mc:\\users\\nihar\\appdata\\local\\programs\\python\\python39\\lib\\site-packages\\tweepy\\binder.py:253\u001b[0m, in \u001b[0;36mbind_api.<locals>._call\u001b[1;34m(*args, **kwargs)\u001b[0m\n\u001b[0;32m    251\u001b[0m         \u001b[38;5;28;01mreturn\u001b[39;00m method\n\u001b[0;32m    252\u001b[0m     \u001b[38;5;28;01melse\u001b[39;00m:\n\u001b[1;32m--> 253\u001b[0m         \u001b[38;5;28;01mreturn\u001b[39;00m \u001b[43mmethod\u001b[49m\u001b[38;5;241;43m.\u001b[39;49m\u001b[43mexecute\u001b[49m\u001b[43m(\u001b[49m\u001b[43m)\u001b[49m\n\u001b[0;32m    254\u001b[0m \u001b[38;5;28;01mfinally\u001b[39;00m:\n\u001b[0;32m    255\u001b[0m     method\u001b[38;5;241m.\u001b[39msession\u001b[38;5;241m.\u001b[39mclose()\n",
      "File \u001b[1;32mc:\\users\\nihar\\appdata\\local\\programs\\python\\python39\\lib\\site-packages\\tweepy\\binder.py:234\u001b[0m, in \u001b[0;36mbind_api.<locals>.APIMethod.execute\u001b[1;34m(self)\u001b[0m\n\u001b[0;32m    232\u001b[0m         \u001b[38;5;28;01mraise\u001b[39;00m RateLimitError(error_msg, resp)\n\u001b[0;32m    233\u001b[0m     \u001b[38;5;28;01melse\u001b[39;00m:\n\u001b[1;32m--> 234\u001b[0m         \u001b[38;5;28;01mraise\u001b[39;00m TweepError(error_msg, resp, api_code\u001b[38;5;241m=\u001b[39mapi_error_code)\n\u001b[0;32m    236\u001b[0m \u001b[38;5;66;03m# Parse the response payload\u001b[39;00m\n\u001b[0;32m    237\u001b[0m \u001b[38;5;28mself\u001b[39m\u001b[38;5;241m.\u001b[39mreturn_cursors \u001b[38;5;241m=\u001b[39m (\u001b[38;5;28mself\u001b[39m\u001b[38;5;241m.\u001b[39mreturn_cursors \u001b[38;5;129;01mor\u001b[39;00m\n\u001b[0;32m    238\u001b[0m                        \u001b[38;5;124m'\u001b[39m\u001b[38;5;124mcursor\u001b[39m\u001b[38;5;124m'\u001b[39m \u001b[38;5;129;01min\u001b[39;00m \u001b[38;5;28mself\u001b[39m\u001b[38;5;241m.\u001b[39msession\u001b[38;5;241m.\u001b[39mparams \u001b[38;5;129;01mor\u001b[39;00m \u001b[38;5;124m'\u001b[39m\u001b[38;5;124mnext\u001b[39m\u001b[38;5;124m'\u001b[39m \u001b[38;5;129;01min\u001b[39;00m \u001b[38;5;28mself\u001b[39m\u001b[38;5;241m.\u001b[39msession\u001b[38;5;241m.\u001b[39mparams)\n",
      "\u001b[1;31mTweepError\u001b[0m: [{'message': 'You currently have access to a subset of Twitter API v2 endpoints and limited v1.1 endpoints (e.g. media post, oauth) only. If you need access to this endpoint, you may need a different access level. You can learn more here: https://developer.twitter.com/en/portal/product', 'code': 453}]"
     ]
    }
   ],
   "source": [
    "search_results = api.search(q=query, lang=en_lang, tweet_mode=extended_mode, count=20)"
   ]
  },
  {
   "cell_type": "code",
   "execution_count": 28,
   "id": "3a5aef70",
   "metadata": {},
   "outputs": [
    {
     "ename": "NameError",
     "evalue": "name 'search_results' is not defined",
     "output_type": "error",
     "traceback": [
      "\u001b[1;31m---------------------------------------------------------------------------\u001b[0m",
      "\u001b[1;31mNameError\u001b[0m                                 Traceback (most recent call last)",
      "Cell \u001b[1;32mIn[28], line 1\u001b[0m\n\u001b[1;32m----> 1\u001b[0m \u001b[38;5;28mlen\u001b[39m (\u001b[43msearch_results\u001b[49m)\n",
      "\u001b[1;31mNameError\u001b[0m: name 'search_results' is not defined"
     ]
    }
   ],
   "source": [
    "len (search_results)"
   ]
  },
  {
   "cell_type": "code",
   "execution_count": null,
   "id": "3bafe754",
   "metadata": {},
   "outputs": [],
   "source": [
    "search_results[0]._json"
   ]
  },
  {
   "cell_type": "code",
   "execution_count": null,
   "id": "54efa6c7",
   "metadata": {},
   "outputs": [],
   "source": [
    "for i in search results:\n",
    "    with open (f\"data/sr/{i._json ['id']}.json\",\"w\") as fp:\n",
    "        json.dump(i._json, fp, indent=4)"
   ]
  },
  {
   "cell_type": "markdown",
   "id": "b9e4ce42",
   "metadata": {},
   "source": [
    "## Streaming API\n",
    "### To collect live data"
   ]
  },
  {
   "cell_type": "code",
   "execution_count": 11,
   "id": "83b84529",
   "metadata": {},
   "outputs": [],
   "source": [
    "class MyStreamListener(tweepy.StreamListener):\n",
    "    \n",
    "    def on_status (self, status):\n",
    "        print (status. text)\n",
    "        with open(f\"data/sr/{status._json['id']}.json\", \"w\") as fp:\n",
    "            json.dump (status._json, fp, indent=4)"
   ]
  },
  {
   "cell_type": "code",
   "execution_count": 12,
   "id": "3ea5abda",
   "metadata": {},
   "outputs": [],
   "source": [
    "myStream = tweepy.Stream(auth = api.auth, listener=MyStreamListener())"
   ]
  },
  {
   "cell_type": "code",
   "execution_count": 13,
   "id": "564a62b4",
   "metadata": {},
   "outputs": [],
   "source": [
    "myStream.filter(track=['serum institute'], languages=[\"en\"])"
   ]
  },
  {
   "cell_type": "code",
   "execution_count": null,
   "id": "471ca7b0",
   "metadata": {},
   "outputs": [],
   "source": []
  }
 ],
 "metadata": {
  "kernelspec": {
   "display_name": "Python 3 (ipykernel)",
   "language": "python",
   "name": "python3"
  },
  "language_info": {
   "codemirror_mode": {
    "name": "ipython",
    "version": 3
   },
   "file_extension": ".py",
   "mimetype": "text/x-python",
   "name": "python",
   "nbconvert_exporter": "python",
   "pygments_lexer": "ipython3",
   "version": "3.9.0"
  }
 },
 "nbformat": 4,
 "nbformat_minor": 5
}
