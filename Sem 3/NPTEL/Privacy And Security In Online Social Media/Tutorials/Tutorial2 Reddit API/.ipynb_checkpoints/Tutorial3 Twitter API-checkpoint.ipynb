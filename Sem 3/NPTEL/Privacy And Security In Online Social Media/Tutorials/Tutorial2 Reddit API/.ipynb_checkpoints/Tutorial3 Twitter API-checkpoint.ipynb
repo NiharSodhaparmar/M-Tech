{
 "cells": [
  {
   "cell_type": "code",
   "execution_count": 24,
   "id": "0190fd85",
   "metadata": {},
   "outputs": [],
   "source": [
    "# from keys import * \n",
    "import json\n",
    "import tweepy\n",
    "\n",
    "# API Key\n",
    "consumer_key = \"IYxLiF4qiNAgMspAwhjjQXvy2\"\n",
    "\n",
    "# API Key Secret\n",
    "consumer_secret = \"u6cAgtsAiyWyGU19R97vfKTvdmivTv8iKSjMexeymDPvQ0FDqV\"\n",
    "\n",
    "# Access Token\n",
    "access_token = \"1691487764913737728-ufO4kXa88QIdjA6WTet9PUMYNgmx4S\"\n",
    "\n",
    "# Access Token Secret\n",
    "access_secret = \"9h0NQuLXZtKB19Mpq1um6uRunWLeRai39mts5vqjIcp6y\""
   ]
  },
  {
   "cell_type": "code",
   "execution_count": 25,
   "id": "cbf8794b",
   "metadata": {},
   "outputs": [
    {
     "name": "stdout",
     "output_type": "stream",
     "text": [
      "Authentication successfull!!! :D\n"
     ]
    }
   ],
   "source": [
    "#Consumer Key (API Key), Consumer Secret (API Secret)\n",
    "# consumer_key=\"random\"\n",
    "auth = tweepy.OAuthHandler(consumer_key, consumer_secret)\n",
    "# Access Token, Access Token Secret\n",
    "auth.set_access_token(access_token, access_secret)\n",
    "\n",
    "api = tweepy.API(auth)\n",
    "\n",
    "if (not api):\n",
    "    print(\"Authentication failed: (\")\n",
    "else:\n",
    "    print(\"Authentication successfull!!! :D\")"
   ]
  },
  {
   "cell_type": "markdown",
   "id": "e4aa5fee",
   "metadata": {},
   "source": [
    "## Search API\n",
    "### Search Parameters"
   ]
  },
  {
   "cell_type": "code",
   "execution_count": 26,
   "id": "2740b23b",
   "metadata": {},
   "outputs": [],
   "source": [
    "query = 'Serum Institute' # this is what we're searching for\n",
    "en_lang= 'en' # this is used to specify the language of the tweets\n",
    "extended_mode = 'extended' # used to tell the API not to truncate the tweet"
   ]
  },
  {
   "cell_type": "code",
   "execution_count": 27,
   "id": "2a00df9e",
   "metadata": {},
   "outputs": [
    {
     "ename": "AttributeError",
     "evalue": "'API' object has no attribute 'search'",
     "output_type": "error",
     "traceback": [
      "\u001b[1;31m---------------------------------------------------------------------------\u001b[0m",
      "\u001b[1;31mAttributeError\u001b[0m                            Traceback (most recent call last)",
      "Cell \u001b[1;32mIn[27], line 1\u001b[0m\n\u001b[1;32m----> 1\u001b[0m search_results \u001b[38;5;241m=\u001b[39m \u001b[43mapi\u001b[49m\u001b[38;5;241;43m.\u001b[39;49m\u001b[43msearch\u001b[49m(q\u001b[38;5;241m=\u001b[39mquery, lang\u001b[38;5;241m=\u001b[39men_lang, tweet_mode\u001b[38;5;241m=\u001b[39mextended_mode, count\u001b[38;5;241m=\u001b[39m\u001b[38;5;241m20\u001b[39m)\n",
      "\u001b[1;31mAttributeError\u001b[0m: 'API' object has no attribute 'search'"
     ]
    }
   ],
   "source": [
    "search_results = api.search(q=query, lang=en_lang, tweet_mode=extended_mode, count=20)"
   ]
  },
  {
   "cell_type": "code",
   "execution_count": 28,
   "id": "3a5aef70",
   "metadata": {},
   "outputs": [
    {
     "ename": "NameError",
     "evalue": "name 'search_results' is not defined",
     "output_type": "error",
     "traceback": [
      "\u001b[1;31m---------------------------------------------------------------------------\u001b[0m",
      "\u001b[1;31mNameError\u001b[0m                                 Traceback (most recent call last)",
      "Cell \u001b[1;32mIn[28], line 1\u001b[0m\n\u001b[1;32m----> 1\u001b[0m \u001b[38;5;28mlen\u001b[39m (\u001b[43msearch_results\u001b[49m)\n",
      "\u001b[1;31mNameError\u001b[0m: name 'search_results' is not defined"
     ]
    }
   ],
   "source": [
    "len (search_results)"
   ]
  },
  {
   "cell_type": "code",
   "execution_count": null,
   "id": "3bafe754",
   "metadata": {},
   "outputs": [],
   "source": [
    "search_results[0]._json"
   ]
  },
  {
   "cell_type": "code",
   "execution_count": null,
   "id": "54efa6c7",
   "metadata": {},
   "outputs": [],
   "source": [
    "for i in search results:\n",
    "    with open (f\"data/sr/{i._json ['id']}.json\",\"w\") as fp:\n",
    "        json.dump(i._json, fp, indent=4)"
   ]
  },
  {
   "cell_type": "markdown",
   "id": "b9e4ce42",
   "metadata": {},
   "source": [
    "## Streaming API\n",
    "### To collect live data"
   ]
  },
  {
   "cell_type": "code",
   "execution_count": 29,
   "id": "83b84529",
   "metadata": {},
   "outputs": [
    {
     "ename": "AttributeError",
     "evalue": "module 'tweepy' has no attribute 'StreamListener'",
     "output_type": "error",
     "traceback": [
      "\u001b[1;31m---------------------------------------------------------------------------\u001b[0m",
      "\u001b[1;31mAttributeError\u001b[0m                            Traceback (most recent call last)",
      "Cell \u001b[1;32mIn[29], line 1\u001b[0m\n\u001b[1;32m----> 1\u001b[0m \u001b[38;5;28;01mclass\u001b[39;00m \u001b[38;5;21;01mMyStreamListener\u001b[39;00m(\u001b[43mtweepy\u001b[49m\u001b[38;5;241;43m.\u001b[39;49m\u001b[43mStreamListener\u001b[49m):\n\u001b[0;32m      2\u001b[0m     \u001b[38;5;28;01mdef\u001b[39;00m \u001b[38;5;21mon_status\u001b[39m (\u001b[38;5;28mself\u001b[39m, status):\n\u001b[0;32m      3\u001b[0m         \u001b[38;5;28mprint\u001b[39m (status\u001b[38;5;241m.\u001b[39m text)\n",
      "\u001b[1;31mAttributeError\u001b[0m: module 'tweepy' has no attribute 'StreamListener'"
     ]
    }
   ],
   "source": [
    "class MyStreamListener(tweepy.StreamListener):\n",
    "    def on_status (self, status):\n",
    "        print (status. text)\n",
    "        with open(f\"data/sr/{status._json['id']}.json\", \"w\") as fp:\n",
    "            json.dump (status._json, fp, indent=4)"
   ]
  },
  {
   "cell_type": "code",
   "execution_count": 3,
   "id": "3ea5abda",
   "metadata": {},
   "outputs": [
    {
     "ename": "NameError",
     "evalue": "name 'tweepy' is not defined",
     "output_type": "error",
     "traceback": [
      "\u001b[1;31m---------------------------------------------------------------------------\u001b[0m",
      "\u001b[1;31mNameError\u001b[0m                                 Traceback (most recent call last)",
      "Cell \u001b[1;32mIn[3], line 1\u001b[0m\n\u001b[1;32m----> 1\u001b[0m myStream \u001b[38;5;241m=\u001b[39m \u001b[43mtweepy\u001b[49m\u001b[38;5;241m.\u001b[39m Stream(auth \u001b[38;5;241m=\u001b[39m api\u001b[38;5;241m.\u001b[39mauth, listener\u001b[38;5;241m=\u001b[39mMyStreamListener())\n",
      "\u001b[1;31mNameError\u001b[0m: name 'tweepy' is not defined"
     ]
    }
   ],
   "source": [
    "myStream = tweepy. Stream(auth = api.auth, listener=MyStreamListener())"
   ]
  },
  {
   "cell_type": "code",
   "execution_count": null,
   "id": "564a62b4",
   "metadata": {},
   "outputs": [],
   "source": [
    "myStream.filter (track=['serum institute'], languages=[\"en\"])"
   ]
  }
 ],
 "metadata": {
  "kernelspec": {
   "display_name": "Python 3 (ipykernel)",
   "language": "python",
   "name": "python3"
  },
  "language_info": {
   "codemirror_mode": {
    "name": "ipython",
    "version": 3
   },
   "file_extension": ".py",
   "mimetype": "text/x-python",
   "name": "python",
   "nbconvert_exporter": "python",
   "pygments_lexer": "ipython3",
   "version": "3.9.0"
  }
 },
 "nbformat": 4,
 "nbformat_minor": 5
}
