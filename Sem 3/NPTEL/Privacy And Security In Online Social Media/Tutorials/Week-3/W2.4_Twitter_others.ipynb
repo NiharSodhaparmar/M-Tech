{
 "cells": [
  {
   "cell_type": "code",
   "execution_count": 1,
   "metadata": {},
   "outputs": [],
   "source": [
    "import tweepy\n",
    "from keys import *\n",
    "from pprint import pprint\n",
    "import json"
   ]
  },
  {
   "cell_type": "code",
   "execution_count": 2,
   "metadata": {},
   "outputs": [
    {
     "name": "stdout",
     "output_type": "stream",
     "text": [
      "Authentication successfull!!! :D\n"
     ]
    }
   ],
   "source": [
    "#Consumer Key (API Key), Consumer Secret (API Secret)\n",
    "auth = tweepy.OAuthHandler(Consumer_Key, \n",
    "                           Consumer_Secret)\n",
    "# Access Token, Access Token Secret\n",
    "auth.set_access_token(Access_Token, \n",
    "                      Access_Token_Secret)\n",
    "\n",
    "api = tweepy.API(auth)\n",
    "if (not api):\n",
    "    print(\"Authentication failed :(\")\n",
    "else:\n",
    "    print(\"Authentication successfull!!! :D\")"
   ]
  },
  {
   "cell_type": "code",
   "execution_count": 3,
   "metadata": {},
   "outputs": [],
   "source": [
    "with open(\"tweet_dump/tweet_pk.json\",'r') as fp:\n",
    "    tweet = json.load(fp)"
   ]
  },
  {
   "cell_type": "code",
   "execution_count": 4,
   "metadata": {},
   "outputs": [
    {
     "data": {
      "text/plain": [
       "{'created_at': 'Wed Dec 21 05:10:00 +0000 2022',\n",
       " 'id': 1605430364335636480,\n",
       " 'id_str': '1605430364335636480',\n",
       " 'text': 'Very engaging 40+ students from #Delhi #Gandhinagar #Gwalior #Mumbai #Patna #Pune etc. at the Winter School on Digi… https://t.co/HU6o4gGKL0',\n",
       " 'truncated': True,\n",
       " 'entities': {'hashtags': [{'text': 'Delhi', 'indices': [32, 38]},\n",
       "   {'text': 'Gandhinagar', 'indices': [39, 51]},\n",
       "   {'text': 'Gwalior', 'indices': [52, 60]},\n",
       "   {'text': 'Mumbai', 'indices': [61, 68]},\n",
       "   {'text': 'Patna', 'indices': [69, 75]},\n",
       "   {'text': 'Pune', 'indices': [76, 81]}],\n",
       "  'symbols': [],\n",
       "  'user_mentions': [],\n",
       "  'urls': [{'url': 'https://t.co/HU6o4gGKL0',\n",
       "    'expanded_url': 'https://twitter.com/i/web/status/1605430364335636480',\n",
       "    'display_url': 'twitter.com/i/web/status/1…',\n",
       "    'indices': [117, 140]}]},\n",
       " 'source': '<a href=\"https://mobile.twitter.com\" rel=\"nofollow\">Twitter Web App</a>',\n",
       " 'in_reply_to_status_id': None,\n",
       " 'in_reply_to_status_id_str': None,\n",
       " 'in_reply_to_user_id': None,\n",
       " 'in_reply_to_user_id_str': None,\n",
       " 'in_reply_to_screen_name': None,\n",
       " 'user': {'id': 72248158,\n",
       "  'id_str': '72248158',\n",
       "  'name': 'Ponnurangam Kumaraguru “PK”',\n",
       "  'screen_name': 'ponguru',\n",
       "  'location': 'Hyderabad, India',\n",
       "  'description': '#ProfGiri #PGChairGiri @iiit_hyderabad, Distinguished Member @TheOfficialACM, TEDx Speaker, Angel Investor, Alumni @CarnegieMellon @bitspilaniindia',\n",
       "  'url': 'https://t.co/KWXoLntqY4',\n",
       "  'entities': {'url': {'urls': [{'url': 'https://t.co/KWXoLntqY4',\n",
       "      'expanded_url': 'http://precog.iiitd.edu.in',\n",
       "      'display_url': 'precog.iiitd.edu.in',\n",
       "      'indices': [0, 23]}]},\n",
       "   'description': {'urls': []}},\n",
       "  'protected': False,\n",
       "  'followers_count': 5321,\n",
       "  'friends_count': 361,\n",
       "  'listed_count': 43,\n",
       "  'created_at': 'Mon Sep 07 09:35:44 +0000 2009',\n",
       "  'favourites_count': 215,\n",
       "  'utc_offset': None,\n",
       "  'time_zone': None,\n",
       "  'geo_enabled': True,\n",
       "  'verified': True,\n",
       "  'statuses_count': 4419,\n",
       "  'lang': None,\n",
       "  'contributors_enabled': False,\n",
       "  'is_translator': False,\n",
       "  'is_translation_enabled': False,\n",
       "  'profile_background_color': '000000',\n",
       "  'profile_background_image_url': 'http://abs.twimg.com/images/themes/theme1/bg.png',\n",
       "  'profile_background_image_url_https': 'https://abs.twimg.com/images/themes/theme1/bg.png',\n",
       "  'profile_background_tile': False,\n",
       "  'profile_image_url': 'http://pbs.twimg.com/profile_images/1590865789640671232/pvkSdzw2_normal.jpg',\n",
       "  'profile_image_url_https': 'https://pbs.twimg.com/profile_images/1590865789640671232/pvkSdzw2_normal.jpg',\n",
       "  'profile_banner_url': 'https://pbs.twimg.com/profile_banners/72248158/1666229781',\n",
       "  'profile_link_color': '3B94D9',\n",
       "  'profile_sidebar_border_color': '000000',\n",
       "  'profile_sidebar_fill_color': '000000',\n",
       "  'profile_text_color': '000000',\n",
       "  'profile_use_background_image': False,\n",
       "  'has_extended_profile': False,\n",
       "  'default_profile': False,\n",
       "  'default_profile_image': False,\n",
       "  'following': True,\n",
       "  'follow_request_sent': False,\n",
       "  'notifications': False,\n",
       "  'translator_type': 'none',\n",
       "  'withheld_in_countries': []},\n",
       " 'geo': None,\n",
       " 'coordinates': None,\n",
       " 'place': None,\n",
       " 'contributors': None,\n",
       " 'is_quote_status': False,\n",
       " 'retweet_count': 3,\n",
       " 'favorite_count': 9,\n",
       " 'favorited': False,\n",
       " 'retweeted': False,\n",
       " 'possibly_sensitive': False,\n",
       " 'possibly_sensitive_appealable': False,\n",
       " 'lang': 'en'}"
      ]
     },
     "execution_count": 4,
     "metadata": {},
     "output_type": "execute_result"
    }
   ],
   "source": [
    "tweet"
   ]
  },
  {
   "cell_type": "code",
   "execution_count": 5,
   "metadata": {
    "scrolled": false
   },
   "outputs": [
    {
     "data": {
      "text/plain": [
       "'Very engaging 40+ students from #Delhi #Gandhinagar #Gwalior #Mumbai #Patna #Pune etc. at the Winter School on Digi… https://t.co/HU6o4gGKL0'"
      ]
     },
     "execution_count": 5,
     "metadata": {},
     "output_type": "execute_result"
    }
   ],
   "source": [
    "tweet['text']"
   ]
  },
  {
   "cell_type": "code",
   "execution_count": 6,
   "metadata": {},
   "outputs": [
    {
     "data": {
      "text/plain": [
       "1605430364335636480"
      ]
     },
     "execution_count": 6,
     "metadata": {},
     "output_type": "execute_result"
    }
   ],
   "source": [
    "tweet['id']"
   ]
  },
  {
   "cell_type": "code",
   "execution_count": 7,
   "metadata": {},
   "outputs": [
    {
     "data": {
      "text/plain": [
       "3"
      ]
     },
     "execution_count": 7,
     "metadata": {},
     "output_type": "execute_result"
    }
   ],
   "source": [
    "tweet['retweet_count']"
   ]
  },
  {
   "cell_type": "code",
   "execution_count": 8,
   "metadata": {},
   "outputs": [
    {
     "data": {
      "text/plain": [
       "9"
      ]
     },
     "execution_count": 8,
     "metadata": {},
     "output_type": "execute_result"
    }
   ],
   "source": [
    "tweet['favorite_count']"
   ]
  },
  {
   "cell_type": "markdown",
   "metadata": {},
   "source": [
    "#### WHO retweeted?"
   ]
  },
  {
   "cell_type": "code",
   "execution_count": 9,
   "metadata": {},
   "outputs": [],
   "source": [
    "retweeters = api.get_retweeter_ids(id = tweet['id'])"
   ]
  },
  {
   "cell_type": "code",
   "execution_count": 10,
   "metadata": {},
   "outputs": [
    {
     "data": {
      "text/plain": [
       "[1346184130996838400, 1172944282166210561, 1437489596250537986]"
      ]
     },
     "execution_count": 10,
     "metadata": {},
     "output_type": "execute_result"
    }
   ],
   "source": [
    "retweeters"
   ]
  },
  {
   "cell_type": "code",
   "execution_count": 11,
   "metadata": {},
   "outputs": [],
   "source": [
    "retweeters_profiles = api.get_user(user_id = retweeters[0])"
   ]
  },
  {
   "cell_type": "code",
   "execution_count": 12,
   "metadata": {},
   "outputs": [
    {
     "data": {
      "text/plain": [
       "{'id': 1346184130996838400,\n",
       " 'id_str': '1346184130996838400',\n",
       " 'name': 'Harsh Shah',\n",
       " 'screen_name': 'Harsh_h_shah',\n",
       " 'location': 'Mumbai, India',\n",
       " 'profile_location': {'id': '7929cea6bd5b32bd',\n",
       "  'url': 'https://api.twitter.com/1.1/geo/id/7929cea6bd5b32bd.json',\n",
       "  'place_type': 'unknown',\n",
       "  'name': 'Mumbai, India',\n",
       "  'full_name': 'Mumbai, India',\n",
       "  'country_code': '',\n",
       "  'country': '',\n",
       "  'contained_within': [],\n",
       "  'bounding_box': None,\n",
       "  'attributes': {}},\n",
       " 'description': 'Community lead @gdsctsec | @getpostman student expert | @SIH2022_MIC winner | web developer 🚀',\n",
       " 'url': None,\n",
       " 'entities': {'description': {'urls': []}},\n",
       " 'protected': False,\n",
       " 'followers_count': 370,\n",
       " 'friends_count': 693,\n",
       " 'listed_count': 1,\n",
       " 'created_at': 'Mon Jan 04 19:58:23 +0000 2021',\n",
       " 'favourites_count': 1423,\n",
       " 'utc_offset': None,\n",
       " 'time_zone': None,\n",
       " 'geo_enabled': True,\n",
       " 'verified': False,\n",
       " 'statuses_count': 356,\n",
       " 'lang': None,\n",
       " 'status': {'created_at': 'Fri Jan 06 09:19:17 +0000 2023',\n",
       "  'id': 1611291302284623873,\n",
       "  'id_str': '1611291302284623873',\n",
       "  'text': '@Harsha052001 @HemanthSai3187 @joshith_gopidi Congratulations Harsha!🥳',\n",
       "  'truncated': False,\n",
       "  'entities': {'hashtags': [],\n",
       "   'symbols': [],\n",
       "   'user_mentions': [{'screen_name': 'Harsha052001',\n",
       "     'name': 'Harsha',\n",
       "     'id': 1275292854211022848,\n",
       "     'id_str': '1275292854211022848',\n",
       "     'indices': [0, 13]},\n",
       "    {'screen_name': 'HemanthSai3187',\n",
       "     'name': 'Hemanth Sai',\n",
       "     'id': 1421773874039984128,\n",
       "     'id_str': '1421773874039984128',\n",
       "     'indices': [14, 29]},\n",
       "    {'screen_name': 'joshith_gopidi',\n",
       "     'name': 'Joshith Reddy Gopidi',\n",
       "     'id': 1371345707043409925,\n",
       "     'id_str': '1371345707043409925',\n",
       "     'indices': [30, 45]}],\n",
       "   'urls': []},\n",
       "  'source': '<a href=\"http://twitter.com/download/android\" rel=\"nofollow\">Twitter for Android</a>',\n",
       "  'in_reply_to_status_id': 1611090119095889921,\n",
       "  'in_reply_to_status_id_str': '1611090119095889921',\n",
       "  'in_reply_to_user_id': 1275292854211022848,\n",
       "  'in_reply_to_user_id_str': '1275292854211022848',\n",
       "  'in_reply_to_screen_name': 'Harsha052001',\n",
       "  'geo': None,\n",
       "  'coordinates': None,\n",
       "  'place': None,\n",
       "  'contributors': None,\n",
       "  'is_quote_status': False,\n",
       "  'retweet_count': 0,\n",
       "  'favorite_count': 1,\n",
       "  'favorited': False,\n",
       "  'retweeted': False,\n",
       "  'lang': 'en'},\n",
       " 'contributors_enabled': False,\n",
       " 'is_translator': False,\n",
       " 'is_translation_enabled': False,\n",
       " 'profile_background_color': 'F5F8FA',\n",
       " 'profile_background_image_url': None,\n",
       " 'profile_background_image_url_https': None,\n",
       " 'profile_background_tile': False,\n",
       " 'profile_image_url': 'http://pbs.twimg.com/profile_images/1519760368922288128/DATPEWgp_normal.jpg',\n",
       " 'profile_image_url_https': 'https://pbs.twimg.com/profile_images/1519760368922288128/DATPEWgp_normal.jpg',\n",
       " 'profile_banner_url': 'https://pbs.twimg.com/profile_banners/1346184130996838400/1638342270',\n",
       " 'profile_link_color': '1DA1F2',\n",
       " 'profile_sidebar_border_color': 'C0DEED',\n",
       " 'profile_sidebar_fill_color': 'DDEEF6',\n",
       " 'profile_text_color': '333333',\n",
       " 'profile_use_background_image': True,\n",
       " 'has_extended_profile': True,\n",
       " 'default_profile': True,\n",
       " 'default_profile_image': False,\n",
       " 'following': False,\n",
       " 'follow_request_sent': False,\n",
       " 'notifications': False,\n",
       " 'translator_type': 'none',\n",
       " 'withheld_in_countries': []}"
      ]
     },
     "execution_count": 12,
     "metadata": {},
     "output_type": "execute_result"
    }
   ],
   "source": [
    "retweeters_profiles._json"
   ]
  },
  {
   "cell_type": "markdown",
   "metadata": {},
   "source": [
    "### Need to be following/friends!!"
   ]
  },
  {
   "cell_type": "code",
   "execution_count": 14,
   "metadata": {},
   "outputs": [
    {
     "data": {
      "text/plain": [
       "72248158"
      ]
     },
     "execution_count": 14,
     "metadata": {},
     "output_type": "execute_result"
    }
   ],
   "source": [
    "tweet['user']['id']"
   ]
  },
  {
   "cell_type": "code",
   "execution_count": 15,
   "metadata": {},
   "outputs": [],
   "source": [
    "pk_profiles = api.get_user(user_id = tweet['user']['id'])"
   ]
  },
  {
   "cell_type": "code",
   "execution_count": 16,
   "metadata": {},
   "outputs": [
    {
     "data": {
      "text/plain": [
       "{'id': 72248158,\n",
       " 'id_str': '72248158',\n",
       " 'name': 'Ponnurangam Kumaraguru “PK”',\n",
       " 'screen_name': 'ponguru',\n",
       " 'location': 'Hyderabad, India',\n",
       " 'profile_location': None,\n",
       " 'description': '#ProfGiri #PGChairGiri @iiit_hyderabad, Distinguished Member @TheOfficialACM, TEDx Speaker, Angel Investor, Alumni @CarnegieMellon @bitspilaniindia',\n",
       " 'url': 'https://t.co/KWXoLntqY4',\n",
       " 'entities': {'url': {'urls': [{'url': 'https://t.co/KWXoLntqY4',\n",
       "     'expanded_url': 'http://precog.iiitd.edu.in',\n",
       "     'display_url': 'precog.iiitd.edu.in',\n",
       "     'indices': [0, 23]}]},\n",
       "  'description': {'urls': []}},\n",
       " 'protected': False,\n",
       " 'followers_count': 5338,\n",
       " 'friends_count': 360,\n",
       " 'listed_count': 43,\n",
       " 'created_at': 'Mon Sep 07 09:35:44 +0000 2009',\n",
       " 'favourites_count': 216,\n",
       " 'utc_offset': None,\n",
       " 'time_zone': None,\n",
       " 'geo_enabled': True,\n",
       " 'verified': True,\n",
       " 'statuses_count': 4434,\n",
       " 'lang': None,\n",
       " 'status': {'created_at': 'Tue Jan 10 04:57:17 +0000 2023',\n",
       "  'id': 1612674920420638720,\n",
       "  'id_str': '1612674920420638720',\n",
       "  'text': 'Perks of having #Precog #IIITH #IIITD #alumni from academic institutes (current or graduated) around the world, als… https://t.co/yjMqhboWMO',\n",
       "  'truncated': True,\n",
       "  'entities': {'hashtags': [{'text': 'Precog', 'indices': [16, 23]},\n",
       "    {'text': 'IIITH', 'indices': [24, 30]},\n",
       "    {'text': 'IIITD', 'indices': [31, 37]},\n",
       "    {'text': 'alumni', 'indices': [38, 45]}],\n",
       "   'symbols': [],\n",
       "   'user_mentions': [],\n",
       "   'urls': [{'url': 'https://t.co/yjMqhboWMO',\n",
       "     'expanded_url': 'https://twitter.com/i/web/status/1612674920420638720',\n",
       "     'display_url': 'twitter.com/i/web/status/1…',\n",
       "     'indices': [117, 140]}]},\n",
       "  'source': '<a href=\"https://mobile.twitter.com\" rel=\"nofollow\">Twitter Web App</a>',\n",
       "  'in_reply_to_status_id': None,\n",
       "  'in_reply_to_status_id_str': None,\n",
       "  'in_reply_to_user_id': None,\n",
       "  'in_reply_to_user_id_str': None,\n",
       "  'in_reply_to_screen_name': None,\n",
       "  'geo': None,\n",
       "  'coordinates': None,\n",
       "  'place': None,\n",
       "  'contributors': None,\n",
       "  'is_quote_status': False,\n",
       "  'retweet_count': 0,\n",
       "  'favorite_count': 14,\n",
       "  'favorited': False,\n",
       "  'retweeted': False,\n",
       "  'possibly_sensitive': False,\n",
       "  'lang': 'en'},\n",
       " 'contributors_enabled': False,\n",
       " 'is_translator': False,\n",
       " 'is_translation_enabled': False,\n",
       " 'profile_background_color': '000000',\n",
       " 'profile_background_image_url': 'http://abs.twimg.com/images/themes/theme1/bg.png',\n",
       " 'profile_background_image_url_https': 'https://abs.twimg.com/images/themes/theme1/bg.png',\n",
       " 'profile_background_tile': False,\n",
       " 'profile_image_url': 'http://pbs.twimg.com/profile_images/1609775655075577856/3PVKcZ9B_normal.jpg',\n",
       " 'profile_image_url_https': 'https://pbs.twimg.com/profile_images/1609775655075577856/3PVKcZ9B_normal.jpg',\n",
       " 'profile_banner_url': 'https://pbs.twimg.com/profile_banners/72248158/1673243587',\n",
       " 'profile_link_color': '3B94D9',\n",
       " 'profile_sidebar_border_color': '000000',\n",
       " 'profile_sidebar_fill_color': '000000',\n",
       " 'profile_text_color': '000000',\n",
       " 'profile_use_background_image': False,\n",
       " 'has_extended_profile': False,\n",
       " 'default_profile': False,\n",
       " 'default_profile_image': False,\n",
       " 'following': True,\n",
       " 'follow_request_sent': False,\n",
       " 'notifications': False,\n",
       " 'translator_type': 'none',\n",
       " 'withheld_in_countries': []}"
      ]
     },
     "execution_count": 16,
     "metadata": {},
     "output_type": "execute_result"
    }
   ],
   "source": [
    "pk_profiles._json"
   ]
  },
  {
   "cell_type": "code",
   "execution_count": 17,
   "metadata": {},
   "outputs": [],
   "source": [
    "pk_followers = api.get_follower_ids(user_id = tweet['user']['id'])"
   ]
  },
  {
   "cell_type": "code",
   "execution_count": 19,
   "metadata": {},
   "outputs": [
    {
     "data": {
      "text/plain": [
       "5000"
      ]
     },
     "execution_count": 19,
     "metadata": {},
     "output_type": "execute_result"
    }
   ],
   "source": [
    "len(pk_followers)"
   ]
  },
  {
   "cell_type": "code",
   "execution_count": 20,
   "metadata": {},
   "outputs": [
    {
     "data": {
      "text/plain": [
       "[1573271784350134272,\n",
       " 1544053303667204096,\n",
       " 2512074433,\n",
       " 884296939,\n",
       " 1463563871323451395,\n",
       " 155836992,\n",
       " 1434463425837481985,\n",
       " 1426382823422791688,\n",
       " 1408472438908735488,\n",
       " 1480735292466233346]"
      ]
     },
     "execution_count": 20,
     "metadata": {},
     "output_type": "execute_result"
    }
   ],
   "source": [
    "pk_followers[:10]"
   ]
  },
  {
   "cell_type": "code",
   "execution_count": 21,
   "metadata": {},
   "outputs": [],
   "source": [
    "pk_timeline = api.user_timeline(user_id = tweet['user']['id'])"
   ]
  },
  {
   "cell_type": "code",
   "execution_count": 22,
   "metadata": {},
   "outputs": [
    {
     "name": "stdout",
     "output_type": "stream",
     "text": [
      "Perks of having #Precog #IIITH #IIITD #alumni from academic institutes (current or graduated) around the world, als… https://t.co/yjMqhboWMO\n",
      "----------------------------------------------------------------------------------------------------\n",
      "PhD Student in / around #Bangalore? Workshop on Computational Network Science: by Dr. Ramasuri Narayanam, @Adobe Re… https://t.co/RaO1YEJtoD\n",
      "----------------------------------------------------------------------------------------------------\n",
      "#Day3 #CODSCOMAD2023 2 Keynotes, Applied Data Science papers, D&amp;I panel discussion. Goodbye #Mumbai. #Back2HYD… https://t.co/KsLI3qNUYr\n",
      "----------------------------------------------------------------------------------------------------\n",
      "#Day2 #CODSCOMAD2023 Keynote, Research &amp; Data Science papers, D&amp;I sessions, planned lunch conversations with studen… https://t.co/RIIK1CApNt\n",
      "----------------------------------------------------------------------------------------------------\n",
      "#Day1 #CODSCOMAD2023 Fantastic technical sessions. Catching up with friends / acquaintances / students (current &amp; a… https://t.co/HZiWxiYo3V\n",
      "----------------------------------------------------------------------------------------------------\n",
      "#Hello #Mumbai #Maharashtra @iitbombay #60Hours. Applied #DataScience Track PC Chair at #CODSCOMAD2023… https://t.co/LufcB2Xq8h\n",
      "----------------------------------------------------------------------------------------------------\n",
      "🎉 12 years of Precog-ing 🥳 Celebrated 12th birthday w/ my DNA (students)! Was 😍 to have alumni join from different… https://t.co/CNq8m4X9GJ\n",
      "----------------------------------------------------------------------------------------------------\n",
      "Welcome new #PhD #MS #PGSSP students! Was super fun interacting with all of you today. Lets create 💝 memories.… https://t.co/WUbAnYF5ZO\n",
      "----------------------------------------------------------------------------------------------------\n",
      "Look 👀👀 who visited campus today! @mohit__30 #DualDegree #IIITH #classof2021, now #PhDStudent at @GeorgiaTech. Than… https://t.co/FWA1c5u7c4\n",
      "----------------------------------------------------------------------------------------------------\n",
      "🤝🏻🤝🏻 @KhatriMann a #PhDStudent at #IIITDelhi; will be spending couple of months with us at @iiit_hyderabad  He has… https://t.co/1u31xuVYmj\n",
      "----------------------------------------------------------------------------------------------------\n",
      "hmmm now I know why you wanted a pic of just me 😀....  Thank you for the tweets.... appreciate... 👍🏽 https://t.co/hDjWWXERxw\n",
      "----------------------------------------------------------------------------------------------------\n",
      "🙏👍🏽😍 @ayushsomani2307 https://t.co/xDzx4woDid\n",
      "----------------------------------------------------------------------------------------------------\n",
      "🔥🔥 Super thrilled to join the Academic Council (a.k.a. Senate, highest academic body of an institution) of… https://t.co/GK9DsIqbam\n",
      "----------------------------------------------------------------------------------------------------\n",
      "\"Power of Teaching &amp; Taking courses on @nptelindia\"  @d_bisharad #Classof2918 NIT Silchar, 2016 edition of Privacy… https://t.co/cmSjk7NF6N\n",
      "----------------------------------------------------------------------------------------------------\n",
      "#Goodbye #Delhi #24hours. Thanks @shradhasgl &amp; Divyansh for taking time to catch up. S #BTech #classof2022… https://t.co/gNWjxigbXD\n",
      "----------------------------------------------------------------------------------------------------\n",
      "Faculty friends / connections in the #US #Europe #Canada. 👌🏽👌🏽 Fantastic graduate school applications (pic shows in… https://t.co/DYjk9URiPI\n",
      "----------------------------------------------------------------------------------------------------\n",
      "Very engaging 40+ students from #Delhi #Gandhinagar #Gwalior #Mumbai #Patna #Pune etc. at the Winter School on Digi… https://t.co/HU6o4gGKL0\n",
      "----------------------------------------------------------------------------------------------------\n",
      "@mr_siddy Was great to have you @mr_siddy in the audience.... Glad you liked it....\n",
      "----------------------------------------------------------------------------------------------------\n",
      "#Hello #Mumbai #Maharastra #IITBombay #27Hours. Speaker at @Indiaacm Winter School on “Topics in Digital Trust”… https://t.co/hQSfouuZCG\n",
      "----------------------------------------------------------------------------------------------------\n",
      "#Sunday #Faculty Community #Breakfast on campus! Fantastic 👌🏾@iiit_hyderabad Mess team. #Pasta #Noodles… https://t.co/70CNlWulMo\n",
      "----------------------------------------------------------------------------------------------------\n"
     ]
    }
   ],
   "source": [
    "for status in pk_timeline:\n",
    "    print(status.text)\n",
    "    print(\"-\"*100)"
   ]
  },
  {
   "cell_type": "code",
   "execution_count": 25,
   "metadata": {},
   "outputs": [
    {
     "data": {
      "text/plain": [
       "{'created_at': 'Tue Dec 27 15:58:50 +0000 2022',\n",
       " 'id': 1607767975783981057,\n",
       " 'id_str': '1607767975783981057',\n",
       " 'text': 'hmmm now I know why you wanted a pic of just me 😀....  Thank you for the tweets.... appreciate... 👍🏽 https://t.co/hDjWWXERxw',\n",
       " 'truncated': False,\n",
       " 'entities': {'hashtags': [],\n",
       "  'symbols': [],\n",
       "  'user_mentions': [],\n",
       "  'urls': [{'url': 'https://t.co/hDjWWXERxw',\n",
       "    'expanded_url': 'https://twitter.com/Dheeraj_maske/status/1605149763401195524',\n",
       "    'display_url': 'twitter.com/Dheeraj_maske/…',\n",
       "    'indices': [101, 124]}]},\n",
       " 'source': '<a href=\"https://mobile.twitter.com\" rel=\"nofollow\">Twitter Web App</a>',\n",
       " 'in_reply_to_status_id': None,\n",
       " 'in_reply_to_status_id_str': None,\n",
       " 'in_reply_to_user_id': None,\n",
       " 'in_reply_to_user_id_str': None,\n",
       " 'in_reply_to_screen_name': None,\n",
       " 'user': {'id': 72248158,\n",
       "  'id_str': '72248158',\n",
       "  'name': 'Ponnurangam Kumaraguru “PK”',\n",
       "  'screen_name': 'ponguru',\n",
       "  'location': 'Hyderabad, India',\n",
       "  'description': '#ProfGiri #PGChairGiri @iiit_hyderabad, Distinguished Member @TheOfficialACM, TEDx Speaker, Angel Investor, Alumni @CarnegieMellon @bitspilaniindia',\n",
       "  'url': 'https://t.co/KWXoLntqY4',\n",
       "  'entities': {'url': {'urls': [{'url': 'https://t.co/KWXoLntqY4',\n",
       "      'expanded_url': 'http://precog.iiitd.edu.in',\n",
       "      'display_url': 'precog.iiitd.edu.in',\n",
       "      'indices': [0, 23]}]},\n",
       "   'description': {'urls': []}},\n",
       "  'protected': False,\n",
       "  'followers_count': 5338,\n",
       "  'friends_count': 360,\n",
       "  'listed_count': 43,\n",
       "  'created_at': 'Mon Sep 07 09:35:44 +0000 2009',\n",
       "  'favourites_count': 216,\n",
       "  'utc_offset': None,\n",
       "  'time_zone': None,\n",
       "  'geo_enabled': True,\n",
       "  'verified': True,\n",
       "  'statuses_count': 4434,\n",
       "  'lang': None,\n",
       "  'contributors_enabled': False,\n",
       "  'is_translator': False,\n",
       "  'is_translation_enabled': False,\n",
       "  'profile_background_color': '000000',\n",
       "  'profile_background_image_url': 'http://abs.twimg.com/images/themes/theme1/bg.png',\n",
       "  'profile_background_image_url_https': 'https://abs.twimg.com/images/themes/theme1/bg.png',\n",
       "  'profile_background_tile': False,\n",
       "  'profile_image_url': 'http://pbs.twimg.com/profile_images/1609775655075577856/3PVKcZ9B_normal.jpg',\n",
       "  'profile_image_url_https': 'https://pbs.twimg.com/profile_images/1609775655075577856/3PVKcZ9B_normal.jpg',\n",
       "  'profile_banner_url': 'https://pbs.twimg.com/profile_banners/72248158/1673243587',\n",
       "  'profile_link_color': '3B94D9',\n",
       "  'profile_sidebar_border_color': '000000',\n",
       "  'profile_sidebar_fill_color': '000000',\n",
       "  'profile_text_color': '000000',\n",
       "  'profile_use_background_image': False,\n",
       "  'has_extended_profile': False,\n",
       "  'default_profile': False,\n",
       "  'default_profile_image': False,\n",
       "  'following': True,\n",
       "  'follow_request_sent': False,\n",
       "  'notifications': False,\n",
       "  'translator_type': 'none',\n",
       "  'withheld_in_countries': []},\n",
       " 'geo': None,\n",
       " 'coordinates': None,\n",
       " 'place': None,\n",
       " 'contributors': None,\n",
       " 'is_quote_status': True,\n",
       " 'quoted_status_id': 1605149763401195524,\n",
       " 'quoted_status_id_str': '1605149763401195524',\n",
       " 'quoted_status': {'created_at': 'Tue Dec 20 10:35:00 +0000 2022',\n",
       "  'id': 1605149763401195524,\n",
       "  'id_str': '1605149763401195524',\n",
       "  'text': 'Major Takeaways-(Personal Life)\\n\\n1)Storytelling is an art.\\n2)To fall in love with the subject first you have to fal… https://t.co/wxvZT3onFJ',\n",
       "  'truncated': True,\n",
       "  'entities': {'hashtags': [],\n",
       "   'symbols': [],\n",
       "   'user_mentions': [],\n",
       "   'urls': [{'url': 'https://t.co/wxvZT3onFJ',\n",
       "     'expanded_url': 'https://twitter.com/i/web/status/1605149763401195524',\n",
       "     'display_url': 'twitter.com/i/web/status/1…',\n",
       "     'indices': [117, 140]}]},\n",
       "  'source': '<a href=\"https://mobile.twitter.com\" rel=\"nofollow\">Twitter Web App</a>',\n",
       "  'in_reply_to_status_id': 1605149761325002753,\n",
       "  'in_reply_to_status_id_str': '1605149761325002753',\n",
       "  'in_reply_to_user_id': 1316239248278851585,\n",
       "  'in_reply_to_user_id_str': '1316239248278851585',\n",
       "  'in_reply_to_screen_name': 'Dheeraj_maske',\n",
       "  'user': {'id': 1316239248278851585,\n",
       "   'id_str': '1316239248278851585',\n",
       "   'name': 'Dheeraj Maske',\n",
       "   'screen_name': 'Dheeraj_maske',\n",
       "   'location': 'Pune |Maharashtra| India',\n",
       "   'description': 'Technical writer at https://t.co/E8cvfWMBBP in the Blockchain domain\\n\\nStanford ( visualization )2024',\n",
       "   'url': 'https://t.co/T8NZ57oSGj',\n",
       "   'entities': {'url': {'urls': [{'url': 'https://t.co/T8NZ57oSGj',\n",
       "       'expanded_url': 'http://www.curiositycrunch.tech',\n",
       "       'display_url': 'curiositycrunch.tech',\n",
       "       'indices': [0, 23]}]},\n",
       "    'description': {'urls': [{'url': 'https://t.co/E8cvfWMBBP',\n",
       "       'expanded_url': 'http://curiositycrunch.tech',\n",
       "       'display_url': 'curiositycrunch.tech',\n",
       "       'indices': [20, 43]}]}},\n",
       "   'protected': False,\n",
       "   'followers_count': 72,\n",
       "   'friends_count': 193,\n",
       "   'listed_count': 1,\n",
       "   'created_at': 'Wed Oct 14 04:47:56 +0000 2020',\n",
       "   'favourites_count': 1683,\n",
       "   'utc_offset': None,\n",
       "   'time_zone': None,\n",
       "   'geo_enabled': False,\n",
       "   'verified': False,\n",
       "   'statuses_count': 466,\n",
       "   'lang': None,\n",
       "   'contributors_enabled': False,\n",
       "   'is_translator': False,\n",
       "   'is_translation_enabled': False,\n",
       "   'profile_background_color': 'F5F8FA',\n",
       "   'profile_background_image_url': None,\n",
       "   'profile_background_image_url_https': None,\n",
       "   'profile_background_tile': False,\n",
       "   'profile_image_url': 'http://pbs.twimg.com/profile_images/1573668467919982596/JPyZVvi3_normal.jpg',\n",
       "   'profile_image_url_https': 'https://pbs.twimg.com/profile_images/1573668467919982596/JPyZVvi3_normal.jpg',\n",
       "   'profile_banner_url': 'https://pbs.twimg.com/profile_banners/1316239248278851585/1655050005',\n",
       "   'profile_link_color': '1DA1F2',\n",
       "   'profile_sidebar_border_color': 'C0DEED',\n",
       "   'profile_sidebar_fill_color': 'DDEEF6',\n",
       "   'profile_text_color': '333333',\n",
       "   'profile_use_background_image': True,\n",
       "   'has_extended_profile': True,\n",
       "   'default_profile': True,\n",
       "   'default_profile_image': False,\n",
       "   'following': False,\n",
       "   'follow_request_sent': False,\n",
       "   'notifications': False,\n",
       "   'translator_type': 'none',\n",
       "   'withheld_in_countries': []},\n",
       "  'geo': None,\n",
       "  'coordinates': None,\n",
       "  'place': None,\n",
       "  'contributors': None,\n",
       "  'is_quote_status': False,\n",
       "  'retweet_count': 0,\n",
       "  'favorite_count': 3,\n",
       "  'favorited': False,\n",
       "  'retweeted': False,\n",
       "  'lang': 'en'},\n",
       " 'retweet_count': 0,\n",
       " 'favorite_count': 11,\n",
       " 'favorited': False,\n",
       " 'retweeted': False,\n",
       " 'possibly_sensitive': False,\n",
       " 'lang': 'en'}"
      ]
     },
     "execution_count": 25,
     "metadata": {},
     "output_type": "execute_result"
    }
   ],
   "source": [
    "pk_timeline[10]._json"
   ]
  },
  {
   "cell_type": "code",
   "execution_count": null,
   "metadata": {},
   "outputs": [],
   "source": []
  }
 ],
 "metadata": {
  "kernelspec": {
   "display_name": "Python 3 (ipykernel)",
   "language": "python",
   "name": "python3"
  },
  "language_info": {
   "codemirror_mode": {
    "name": "ipython",
    "version": 3
   },
   "file_extension": ".py",
   "mimetype": "text/x-python",
   "name": "python",
   "nbconvert_exporter": "python",
   "pygments_lexer": "ipython3",
   "version": "3.10.4"
  }
 },
 "nbformat": 4,
 "nbformat_minor": 2
}
