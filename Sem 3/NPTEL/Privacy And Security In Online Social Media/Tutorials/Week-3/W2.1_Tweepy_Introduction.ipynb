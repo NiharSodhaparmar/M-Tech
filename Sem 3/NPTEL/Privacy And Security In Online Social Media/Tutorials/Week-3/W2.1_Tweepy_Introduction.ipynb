{
 "cells": [
  {
   "cell_type": "markdown",
   "metadata": {},
   "source": [
    "# Introduction to Twitter\n",
    "\n",
    "## What is Twitter?\n",
    "Twitter is a micro-blogging social network website, where users post 280 (previously 140) characters long messages called 'Tweets'.\n",
    "\n",
    "## How does a tweet look like?"
   ]
  },
  {
   "cell_type": "code",
   "execution_count": 1,
   "metadata": {},
   "outputs": [
    {
     "data": {
      "text/html": [
       "<blockquote class=\"twitter-tweet\"><p lang=\"en\" dir=\"ltr\">Very engaging 40+ students from <a href=\"https://twitter.com/hashtag/Delhi?src=hash&amp;ref_src=twsrc%5Etfw\">#Delhi</a> <a href=\"https://twitter.com/hashtag/Gandhinagar?src=hash&amp;ref_src=twsrc%5Etfw\">#Gandhinagar</a> <a href=\"https://twitter.com/hashtag/Gwalior?src=hash&amp;ref_src=twsrc%5Etfw\">#Gwalior</a> <a href=\"https://twitter.com/hashtag/Mumbai?src=hash&amp;ref_src=twsrc%5Etfw\">#Mumbai</a> <a href=\"https://twitter.com/hashtag/Patna?src=hash&amp;ref_src=twsrc%5Etfw\">#Patna</a> <a href=\"https://twitter.com/hashtag/Pune?src=hash&amp;ref_src=twsrc%5Etfw\">#Pune</a> etc. at the Winter School on Digital Trust by Indian Institute of Technology, Bombay. Thanks <a href=\"https://twitter.com/IITBTrustLab?ref_src=twsrc%5Etfw\">@IITBTrustLab</a> for the opportunity. <a href=\"https://twitter.com/hashtag/ProfGiri?src=hash&amp;ref_src=twsrc%5Etfw\">#ProfGiri</a> <a href=\"https://twitter.com/hashtag/Back2Hyd?src=hash&amp;ref_src=twsrc%5Etfw\">#Back2Hyd</a> /c <a href=\"https://twitter.com/iitbombay?ref_src=twsrc%5Etfw\">@iitbombay</a> <a href=\"https://t.co/07RQvbKW7m\">pic.twitter.com/07RQvbKW7m</a></p>&mdash; Ponnurangam Kumaraguru “PK” (@ponguru) <a href=\"https://twitter.com/ponguru/status/1605430364335636480?ref_src=twsrc%5Etfw\">December 21, 2022</a></blockquote> <script async src=\"https://platform.twitter.com/widgets.js\" charset=\"utf-8\"></script>\n"
      ],
      "text/plain": [
       "<IPython.core.display.HTML object>"
      ]
     },
     "metadata": {},
     "output_type": "display_data"
    }
   ],
   "source": [
    "%%html\n",
    "<blockquote class=\"twitter-tweet\"><p lang=\"en\" dir=\"ltr\">Very engaging 40+ students from <a href=\"https://twitter.com/hashtag/Delhi?src=hash&amp;ref_src=twsrc%5Etfw\">#Delhi</a> <a href=\"https://twitter.com/hashtag/Gandhinagar?src=hash&amp;ref_src=twsrc%5Etfw\">#Gandhinagar</a> <a href=\"https://twitter.com/hashtag/Gwalior?src=hash&amp;ref_src=twsrc%5Etfw\">#Gwalior</a> <a href=\"https://twitter.com/hashtag/Mumbai?src=hash&amp;ref_src=twsrc%5Etfw\">#Mumbai</a> <a href=\"https://twitter.com/hashtag/Patna?src=hash&amp;ref_src=twsrc%5Etfw\">#Patna</a> <a href=\"https://twitter.com/hashtag/Pune?src=hash&amp;ref_src=twsrc%5Etfw\">#Pune</a> etc. at the Winter School on Digital Trust by Indian Institute of Technology, Bombay. Thanks <a href=\"https://twitter.com/IITBTrustLab?ref_src=twsrc%5Etfw\">@IITBTrustLab</a> for the opportunity. <a href=\"https://twitter.com/hashtag/ProfGiri?src=hash&amp;ref_src=twsrc%5Etfw\">#ProfGiri</a> <a href=\"https://twitter.com/hashtag/Back2Hyd?src=hash&amp;ref_src=twsrc%5Etfw\">#Back2Hyd</a> /c <a href=\"https://twitter.com/iitbombay?ref_src=twsrc%5Etfw\">@iitbombay</a> <a href=\"https://t.co/07RQvbKW7m\">pic.twitter.com/07RQvbKW7m</a></p>&mdash; Ponnurangam Kumaraguru “PK” (@ponguru) <a href=\"https://twitter.com/ponguru/status/1605430364335636480?ref_src=twsrc%5Etfw\">December 21, 2022</a></blockquote> <script async src=\"https://platform.twitter.com/widgets.js\" charset=\"utf-8\"></script>"
   ]
  },
  {
   "cell_type": "markdown",
   "metadata": {},
   "source": [
    "## User actions on Twitter\n",
    "\n",
    "+ Tweet -- Post a message with image/video and text within 240 characters on Twitter.\n",
    "+ Retweet -- Retweet or share a tweet made by another user within Twitter.\n",
    "+ Reply -- Post a message in respose to another user's tweet.\n",
    "+ Mentions -- Tag another user in his/her tweet or reply.\n",
    "+ Hashtag -- Another tag used to link to a topic or event.\n",
    "+ Follow -- Follow or subscribe to a user's tweets. A *Follower* is a user that follows, and the user that is being followed in *followee*.\n",
    "+ Search -- To search for tweets posted by other accounts based on a query."
   ]
  },
  {
   "cell_type": "markdown",
   "metadata": {},
   "source": [
    "## Twitter API\n",
    "Twitter provides an application programming interface (API). The API allows us to interact with the social media in many ways, like get user tweets, message users, search for tweets etc. \n",
    "\n",
    "### How does one use the API?\n",
    "To use the API to do any of the above mentioned actions, the user needs to create a Twitter Developer App and get the following keys:\n",
    "+ Customer Key\n",
    "+ Consumer Secret\n",
    "+ Access Token\n",
    "+ Access Token Secret\n",
    "\n",
    "These are necessary for the authentication process with the API.\n",
    "\n",
    "### How can I collect data from the API?\n",
    "The API has various endpoints to perform various actions. We will primarily be focussing on Search and Streaming.\n",
    "\n",
    "### API rate limits\n",
    "The Twitter API is rate limited in order to avoid the API hits hampering with the behaviour of the social network.\n",
    "\n",
    "### Libraries used\n",
    "+ Tweepy\n",
    "\n",
    "## Show me the code"
   ]
  },
  {
   "cell_type": "markdown",
   "metadata": {},
   "source": [
    "### Import library and initiate the API"
   ]
  },
  {
   "cell_type": "code",
   "execution_count": 1,
   "metadata": {},
   "outputs": [],
   "source": [
    "# !pip install tweepy"
   ]
  },
  {
   "cell_type": "code",
   "execution_count": 2,
   "metadata": {},
   "outputs": [],
   "source": [
    "import tweepy\n",
    "from keys import *"
   ]
  },
  {
   "cell_type": "code",
   "execution_count": 3,
   "metadata": {},
   "outputs": [
    {
     "name": "stdout",
     "output_type": "stream",
     "text": [
      "Authentication successfull!!! :D\n"
     ]
    }
   ],
   "source": [
    "#Consumer Key (API Key), Consumer Secret (API Secret)\n",
    "auth = tweepy.OAuthHandler(Consumer_Key, \n",
    "                           Consumer_Secret)\n",
    "# Access Token, Access Token Secret\n",
    "auth.set_access_token(Access_Token, \n",
    "                      Access_Token_Secret)\n",
    "\n",
    "api = tweepy.API(auth)\n",
    "if (not api):\n",
    "    print(\"Authentication failed :(\")\n",
    "else:\n",
    "    print(\"Authentication successfull!!! :D\")"
   ]
  },
  {
   "cell_type": "markdown",
   "metadata": {},
   "source": [
    "# Lets get a Tweet !!"
   ]
  },
  {
   "cell_type": "code",
   "execution_count": 4,
   "metadata": {},
   "outputs": [],
   "source": [
    "tweet_id = 1605430364335636480"
   ]
  },
  {
   "cell_type": "code",
   "execution_count": 5,
   "metadata": {},
   "outputs": [],
   "source": [
    "tweet = api.get_status(id=tweet_id)"
   ]
  },
  {
   "cell_type": "code",
   "execution_count": 6,
   "metadata": {},
   "outputs": [
    {
     "data": {
      "text/plain": [
       "tweepy.models.Status"
      ]
     },
     "execution_count": 6,
     "metadata": {},
     "output_type": "execute_result"
    }
   ],
   "source": [
    "type(tweet)"
   ]
  },
  {
   "cell_type": "code",
   "execution_count": 7,
   "metadata": {},
   "outputs": [
    {
     "data": {
      "text/plain": [
       "{'created_at': 'Wed Dec 21 05:10:00 +0000 2022',\n",
       " 'id': 1605430364335636480,\n",
       " 'id_str': '1605430364335636480',\n",
       " 'text': 'Very engaging 40+ students from #Delhi #Gandhinagar #Gwalior #Mumbai #Patna #Pune etc. at the Winter School on Digi… https://t.co/HU6o4gGKL0',\n",
       " 'truncated': True,\n",
       " 'entities': {'hashtags': [{'text': 'Delhi', 'indices': [32, 38]},\n",
       "   {'text': 'Gandhinagar', 'indices': [39, 51]},\n",
       "   {'text': 'Gwalior', 'indices': [52, 60]},\n",
       "   {'text': 'Mumbai', 'indices': [61, 68]},\n",
       "   {'text': 'Patna', 'indices': [69, 75]},\n",
       "   {'text': 'Pune', 'indices': [76, 81]}],\n",
       "  'symbols': [],\n",
       "  'user_mentions': [],\n",
       "  'urls': [{'url': 'https://t.co/HU6o4gGKL0',\n",
       "    'expanded_url': 'https://twitter.com/i/web/status/1605430364335636480',\n",
       "    'display_url': 'twitter.com/i/web/status/1…',\n",
       "    'indices': [117, 140]}]},\n",
       " 'source': '<a href=\"https://mobile.twitter.com\" rel=\"nofollow\">Twitter Web App</a>',\n",
       " 'in_reply_to_status_id': None,\n",
       " 'in_reply_to_status_id_str': None,\n",
       " 'in_reply_to_user_id': None,\n",
       " 'in_reply_to_user_id_str': None,\n",
       " 'in_reply_to_screen_name': None,\n",
       " 'user': {'id': 72248158,\n",
       "  'id_str': '72248158',\n",
       "  'name': 'Ponnurangam Kumaraguru “PK”',\n",
       "  'screen_name': 'ponguru',\n",
       "  'location': 'Hyderabad, India',\n",
       "  'description': '#ProfGiri #PGChairGiri @iiit_hyderabad, Distinguished Member @TheOfficialACM, TEDx Speaker, Angel Investor, Alumni @CarnegieMellon @bitspilaniindia',\n",
       "  'url': 'https://t.co/KWXoLntqY4',\n",
       "  'entities': {'url': {'urls': [{'url': 'https://t.co/KWXoLntqY4',\n",
       "      'expanded_url': 'http://precog.iiitd.edu.in',\n",
       "      'display_url': 'precog.iiitd.edu.in',\n",
       "      'indices': [0, 23]}]},\n",
       "   'description': {'urls': []}},\n",
       "  'protected': False,\n",
       "  'followers_count': 5338,\n",
       "  'friends_count': 360,\n",
       "  'listed_count': 43,\n",
       "  'created_at': 'Mon Sep 07 09:35:44 +0000 2009',\n",
       "  'favourites_count': 216,\n",
       "  'utc_offset': None,\n",
       "  'time_zone': None,\n",
       "  'geo_enabled': True,\n",
       "  'verified': True,\n",
       "  'statuses_count': 4434,\n",
       "  'lang': None,\n",
       "  'contributors_enabled': False,\n",
       "  'is_translator': False,\n",
       "  'is_translation_enabled': False,\n",
       "  'profile_background_color': '000000',\n",
       "  'profile_background_image_url': 'http://abs.twimg.com/images/themes/theme1/bg.png',\n",
       "  'profile_background_image_url_https': 'https://abs.twimg.com/images/themes/theme1/bg.png',\n",
       "  'profile_background_tile': False,\n",
       "  'profile_image_url': 'http://pbs.twimg.com/profile_images/1609775655075577856/3PVKcZ9B_normal.jpg',\n",
       "  'profile_image_url_https': 'https://pbs.twimg.com/profile_images/1609775655075577856/3PVKcZ9B_normal.jpg',\n",
       "  'profile_banner_url': 'https://pbs.twimg.com/profile_banners/72248158/1673243587',\n",
       "  'profile_link_color': '3B94D9',\n",
       "  'profile_sidebar_border_color': '000000',\n",
       "  'profile_sidebar_fill_color': '000000',\n",
       "  'profile_text_color': '000000',\n",
       "  'profile_use_background_image': False,\n",
       "  'has_extended_profile': False,\n",
       "  'default_profile': False,\n",
       "  'default_profile_image': False,\n",
       "  'following': True,\n",
       "  'follow_request_sent': False,\n",
       "  'notifications': False,\n",
       "  'translator_type': 'none',\n",
       "  'withheld_in_countries': []},\n",
       " 'geo': None,\n",
       " 'coordinates': None,\n",
       " 'place': None,\n",
       " 'contributors': None,\n",
       " 'is_quote_status': False,\n",
       " 'retweet_count': 3,\n",
       " 'favorite_count': 9,\n",
       " 'favorited': False,\n",
       " 'retweeted': False,\n",
       " 'possibly_sensitive': False,\n",
       " 'possibly_sensitive_appealable': False,\n",
       " 'lang': 'en'}"
      ]
     },
     "execution_count": 7,
     "metadata": {},
     "output_type": "execute_result"
    }
   ],
   "source": [
    "tweet._json"
   ]
  },
  {
   "cell_type": "code",
   "execution_count": null,
   "metadata": {},
   "outputs": [],
   "source": []
  },
  {
   "cell_type": "code",
   "execution_count": null,
   "metadata": {},
   "outputs": [],
   "source": []
  }
 ],
 "metadata": {
  "kernelspec": {
   "display_name": "Python 3 (ipykernel)",
   "language": "python",
   "name": "python3"
  },
  "language_info": {
   "codemirror_mode": {
    "name": "ipython",
    "version": 3
   },
   "file_extension": ".py",
   "mimetype": "text/x-python",
   "name": "python",
   "nbconvert_exporter": "python",
   "pygments_lexer": "ipython3",
   "version": "3.10.4"
  }
 },
 "nbformat": 4,
 "nbformat_minor": 2
}
