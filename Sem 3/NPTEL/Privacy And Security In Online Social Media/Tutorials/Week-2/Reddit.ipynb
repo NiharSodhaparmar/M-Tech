{
 "cells": [
  {
   "cell_type": "markdown",
   "metadata": {},
   "source": [
    "# Reddit"
   ]
  },
  {
   "cell_type": "code",
   "execution_count": 1,
   "metadata": {},
   "outputs": [
    {
     "data": {
      "text/html": [
       "<iframe id=\"reddit-embed\" src=\"https://www.redditmedia.com/r/IndiaSpeaks/comments/toew2s/ranking_of_india_in_different_research_fields/?ref_source=embed&amp;ref=share&amp;embed=true\" sandbox=\"allow-scripts allow-same-origin allow-popups\" style=\"border: none;\" height=\"527\" width=\"640\" scrolling=\"no\"></iframe>\n"
      ],
      "text/plain": [
       "<IPython.core.display.HTML object>"
      ]
     },
     "metadata": {},
     "output_type": "display_data"
    }
   ],
   "source": [
    "%%html\n",
    "<iframe id=\"reddit-embed\" src=\"https://www.redditmedia.com/r/IndiaSpeaks/comments/toew2s/ranking_of_india_in_different_research_fields/?ref_source=embed&amp;ref=share&amp;embed=true\" sandbox=\"allow-scripts allow-same-origin allow-popups\" style=\"border: none;\" height=\"527\" width=\"640\" scrolling=\"no\"></iframe>"
   ]
  },
  {
   "cell_type": "markdown",
   "metadata": {},
   "source": [
    "## Things you need to know about Reddit"
   ]
  },
  {
   "cell_type": "markdown",
   "metadata": {},
   "source": [
    "+ Subreddit\n",
    "+ Submission\n",
    "+ Comment\n",
    "+ Upvote, Downvote\n",
    "+ Flair\n",
    "+ Awards\n",
    "+ Karma"
   ]
  },
  {
   "cell_type": "markdown",
   "metadata": {},
   "source": [
    "# Pushshift"
   ]
  },
  {
   "cell_type": "markdown",
   "metadata": {},
   "source": [
    "Pushshift is the unlimited access for Reddit. Please read following:-\n",
    "+ https://www.reddit.com/r/pushshift/comments/bcxguf/new_to_pushshift_read_this_faq/\n",
    "+ https://reddit-api.readthedocs.io/en/latest/#list-of-endpoints"
   ]
  },
  {
   "cell_type": "code",
   "execution_count": 1,
   "metadata": {},
   "outputs": [],
   "source": [
    "import requests"
   ]
  },
  {
   "cell_type": "markdown",
   "metadata": {},
   "source": [
    "### Search Comments"
   ]
  },
  {
   "cell_type": "code",
   "execution_count": 2,
   "metadata": {},
   "outputs": [
    {
     "data": {
      "text/plain": [
       "'https://api.pushshift.io/reddit/comment/search/?q=science'"
      ]
     },
     "execution_count": 2,
     "metadata": {},
     "output_type": "execute_result"
    }
   ],
   "source": [
    "\"https://api.pushshift.io/reddit/comment/search/?q=science\""
   ]
  },
  {
   "cell_type": "code",
   "execution_count": 3,
   "metadata": {},
   "outputs": [],
   "source": [
    "cmt_req = requests.get(\"https://api.pushshift.io/reddit/comment/search/?q=science\")"
   ]
  },
  {
   "cell_type": "code",
   "execution_count": 4,
   "metadata": {},
   "outputs": [
    {
     "data": {
      "text/plain": [
       "200"
      ]
     },
     "execution_count": 4,
     "metadata": {},
     "output_type": "execute_result"
    }
   ],
   "source": [
    "cmt_req.status_code"
   ]
  },
  {
   "cell_type": "code",
   "execution_count": 5,
   "metadata": {},
   "outputs": [],
   "source": [
    "cmt_data = cmt_req.json()"
   ]
  },
  {
   "cell_type": "code",
   "execution_count": 6,
   "metadata": {
    "scrolled": true
   },
   "outputs": [
    {
     "data": {
      "text/plain": [
       "{'data': [{'subreddit_id': 't5_2qwzb',\n",
       "   'author_is_blocked': False,\n",
       "   'comment_type': None,\n",
       "   'edited': False,\n",
       "   'author_flair_type': 'text',\n",
       "   'total_awards_received': 0,\n",
       "   'subreddit': 'pregnant',\n",
       "   'author_flair_template_id': None,\n",
       "   'id': 'j3vgw8h',\n",
       "   'gilded': 0,\n",
       "   'archived': False,\n",
       "   'collapsed_reason_code': None,\n",
       "   'no_follow': True,\n",
       "   'author': 'AutoModerator',\n",
       "   'send_replies': False,\n",
       "   'parent_id': None,\n",
       "   'score': 1,\n",
       "   'author_fullname': 't2_6l4z3',\n",
       "   'all_awardings': [],\n",
       "   'body': \"\\n\\nWelcome to /r/pregnant! This is a space for everyone. We are pro-choice, pro-LGBTQIA, pro-science, proudly feminist and believe that Black Lives Matter. Wear your masks, wash your hands, and be excellent to each other. Anti-choice activists, intactivists, anti-vaxxers, homophobes, transphobes, racists, sexists, etc. are not welcome here.\\n\\nIf you'd like to join a private sub for your due date month, [click here](https://www.reddit.com/r/pregnant/comments/xvn4cr/click_here_to_request_access_to_your_monthly_due).\\n\\n\\n*I am a bot, and this action was performed automatically. Please [contact the moderators of this subreddit](/message/compose/?to=/r/pregnant) if you have any questions or concerns.*\",\n",
       "   'top_awarded_type': None,\n",
       "   'author_flair_css_class': None,\n",
       "   'author_patreon_flair': False,\n",
       "   'collapsed': False,\n",
       "   'author_flair_richtext': [],\n",
       "   'is_submitter': False,\n",
       "   'gildings': {},\n",
       "   'collapsed_reason': None,\n",
       "   'associated_award': None,\n",
       "   'stickied': True,\n",
       "   'author_premium': True,\n",
       "   'can_gild': True,\n",
       "   'link_id': 't3_1090wp2',\n",
       "   'unrepliable_reason': None,\n",
       "   'author_flair_text_color': None,\n",
       "   'score_hidden': True,\n",
       "   'permalink': '/r/pregnant/comments/1090wp2/clearblue_tests/j3vgw8h/',\n",
       "   'subreddit_type': 'public',\n",
       "   'locked': False,\n",
       "   'author_flair_text': None,\n",
       "   'treatment_tags': [],\n",
       "   'created_utc': 1673430502,\n",
       "   'subreddit_name_prefixed': 'r/pregnant',\n",
       "   'controversiality': 0,\n",
       "   'author_flair_background_color': None,\n",
       "   'collapsed_because_crowd_control': None,\n",
       "   'distinguished': 'moderator',\n",
       "   'retrieved_utc': 1673430515,\n",
       "   'updated_utc': 1673430515,\n",
       "   'body_sha1': '3b96042dc59b1df6cc9e4112da584d8db4294de1',\n",
       "   'nest_level': 1,\n",
       "   'utc_datetime_str': '2023-01-11 09:48:22'},\n",
       "  {'subreddit_id': 't5_2qh1i',\n",
       "   'author_is_blocked': False,\n",
       "   'comment_type': None,\n",
       "   'edited': False,\n",
       "   'author_flair_type': 'text',\n",
       "   'total_awards_received': 0,\n",
       "   'subreddit': 'AskReddit',\n",
       "   'author_flair_template_id': None,\n",
       "   'id': 'j3vgvnz',\n",
       "   'gilded': 0,\n",
       "   'archived': False,\n",
       "   'collapsed_reason_code': None,\n",
       "   'no_follow': False,\n",
       "   'author': 'Elecctrictoast',\n",
       "   'send_replies': True,\n",
       "   'parent_id': None,\n",
       "   'score': 1,\n",
       "   'author_fullname': 't2_ja2o002z',\n",
       "   'all_awardings': [],\n",
       "   'body': 'It’s for science',\n",
       "   'top_awarded_type': None,\n",
       "   'author_flair_css_class': None,\n",
       "   'author_patreon_flair': False,\n",
       "   'collapsed': False,\n",
       "   'author_flair_richtext': [],\n",
       "   'is_submitter': False,\n",
       "   'gildings': {},\n",
       "   'collapsed_reason': None,\n",
       "   'associated_award': None,\n",
       "   'stickied': False,\n",
       "   'author_premium': False,\n",
       "   'can_gild': True,\n",
       "   'link_id': 't3_108qz67',\n",
       "   'unrepliable_reason': None,\n",
       "   'author_flair_text_color': None,\n",
       "   'score_hidden': True,\n",
       "   'permalink': '/r/AskReddit/comments/108qz67/whats_the_best_thing_to_say_when_someone_catches/j3vgvnz/',\n",
       "   'subreddit_type': 'public',\n",
       "   'locked': False,\n",
       "   'author_flair_text': None,\n",
       "   'treatment_tags': [],\n",
       "   'created_utc': 1673430487,\n",
       "   'subreddit_name_prefixed': 'r/AskReddit',\n",
       "   'controversiality': 0,\n",
       "   'author_flair_background_color': None,\n",
       "   'collapsed_because_crowd_control': None,\n",
       "   'distinguished': None,\n",
       "   'retrieved_utc': 1673430501,\n",
       "   'updated_utc': 1673430502,\n",
       "   'body_sha1': '563b2c6f6de42304147e1dfffc2c39c4beaf9e03',\n",
       "   'nest_level': 1,\n",
       "   'utc_datetime_str': '2023-01-11 09:48:07'},\n",
       "  {'subreddit_id': 't5_2qi1r',\n",
       "   'author_is_blocked': False,\n",
       "   'comment_type': None,\n",
       "   'edited': False,\n",
       "   'author_flair_type': 'text',\n",
       "   'total_awards_received': 0,\n",
       "   'subreddit': 'meme',\n",
       "   'author_flair_template_id': None,\n",
       "   'id': 'j3vgudh',\n",
       "   'gilded': 0,\n",
       "   'archived': False,\n",
       "   'collapsed_reason_code': None,\n",
       "   'no_follow': True,\n",
       "   'author': 'disco69king',\n",
       "   'send_replies': True,\n",
       "   'parent_id': None,\n",
       "   'score': 1,\n",
       "   'author_fullname': 't2_eobowbov',\n",
       "   'all_awardings': [],\n",
       "   'body': 'It’s blue. Blue is the least common naturally occurring pigment on earth. Name a thing that’s blue. It’s not. The sky? A specific reflection of light based on the curvature of the earth. Water? A reflection of the sky. Birds? Usually another color trick. Lapis lazuli is one of the only ways to get true blue on earth. Science is blue.',\n",
       "   'top_awarded_type': None,\n",
       "   'author_flair_css_class': None,\n",
       "   'author_patreon_flair': False,\n",
       "   'collapsed': False,\n",
       "   'author_flair_richtext': [],\n",
       "   'is_submitter': False,\n",
       "   'gildings': {},\n",
       "   'collapsed_reason': None,\n",
       "   'associated_award': None,\n",
       "   'stickied': False,\n",
       "   'author_premium': False,\n",
       "   'can_gild': True,\n",
       "   'link_id': 't3_108qa3l',\n",
       "   'unrepliable_reason': None,\n",
       "   'author_flair_text_color': None,\n",
       "   'score_hidden': True,\n",
       "   'permalink': '/r/meme/comments/108qa3l/you_know_im_right/j3vgudh/',\n",
       "   'subreddit_type': 'public',\n",
       "   'locked': False,\n",
       "   'author_flair_text': None,\n",
       "   'treatment_tags': [],\n",
       "   'created_utc': 1673430455,\n",
       "   'subreddit_name_prefixed': 'r/meme',\n",
       "   'controversiality': 0,\n",
       "   'author_flair_background_color': None,\n",
       "   'collapsed_because_crowd_control': None,\n",
       "   'distinguished': None,\n",
       "   'retrieved_utc': 1673430466,\n",
       "   'updated_utc': 1673430467,\n",
       "   'body_sha1': '5615b202bb1aa918bb7bac5926b9b90e5c538c00',\n",
       "   'nest_level': 1,\n",
       "   'utc_datetime_str': '2023-01-11 09:47:35'},\n",
       "  {'subreddit_id': 't5_2s4tv',\n",
       "   'author_is_blocked': False,\n",
       "   'comment_type': None,\n",
       "   'edited': False,\n",
       "   'author_flair_type': 'richtext',\n",
       "   'total_awards_received': 0,\n",
       "   'subreddit': 'JoeRogan',\n",
       "   'author_flair_template_id': '89b811e6-a92f-11eb-92b4-0e0580462801',\n",
       "   'id': 'j3vgtkn',\n",
       "   'gilded': 0,\n",
       "   'archived': False,\n",
       "   'collapsed_reason_code': None,\n",
       "   'no_follow': True,\n",
       "   'author': 'oldmaninmy30s',\n",
       "   'send_replies': True,\n",
       "   'parent_id': 41592420523,\n",
       "   'score': 1,\n",
       "   'author_fullname': 't2_3gzkcb9i',\n",
       "   'all_awardings': [],\n",
       "   'body': 'Yes, the most published heart doctor, that’s him\\n\\nThe found zinc to have utility, I don’t know what you mean by moving the goal posts, isn’t science what is repeatable?  How do you discredit without attempting to repeat?\\n\\nRepublicans are old and fat, the virus affected the old and fat.  How did ivermectin make people old and fat?',\n",
       "   'top_awarded_type': None,\n",
       "   'author_flair_css_class': None,\n",
       "   'author_patreon_flair': False,\n",
       "   'collapsed': False,\n",
       "   'author_flair_richtext': [{'e': 'text', 't': 'Monkey in Space'}],\n",
       "   'is_submitter': False,\n",
       "   'gildings': {},\n",
       "   'collapsed_reason': None,\n",
       "   'associated_award': None,\n",
       "   'stickied': False,\n",
       "   'author_premium': False,\n",
       "   'can_gild': True,\n",
       "   'link_id': 't3_103bnbt',\n",
       "   'unrepliable_reason': None,\n",
       "   'author_flair_text_color': 'dark',\n",
       "   'score_hidden': True,\n",
       "   'permalink': '/r/JoeRogan/comments/103bnbt/1919_bret_weinstein/j3vgtkn/',\n",
       "   'subreddit_type': 'public',\n",
       "   'locked': False,\n",
       "   'author_flair_text': 'Monkey in Space',\n",
       "   'treatment_tags': [],\n",
       "   'created_utc': 1673430436,\n",
       "   'subreddit_name_prefixed': 'r/JoeRogan',\n",
       "   'controversiality': 0,\n",
       "   'author_flair_background_color': '#94e044',\n",
       "   'collapsed_because_crowd_control': None,\n",
       "   'distinguished': None,\n",
       "   'retrieved_utc': 1673430453,\n",
       "   'updated_utc': 1673430453,\n",
       "   'body_sha1': '23cfc8135f79bd1087f809b4f22eb0f5444f0d05',\n",
       "   'utc_datetime_str': '2023-01-11 09:47:16'},\n",
       "  {'subreddit_id': 't5_mbn0j',\n",
       "   'author_is_blocked': False,\n",
       "   'comment_type': None,\n",
       "   'edited': False,\n",
       "   'author_flair_type': 'text',\n",
       "   'total_awards_received': 0,\n",
       "   'subreddit': 'BrandNewSentence',\n",
       "   'author_flair_template_id': None,\n",
       "   'id': 'j3vgtex',\n",
       "   'gilded': 0,\n",
       "   'archived': False,\n",
       "   'collapsed_reason_code': None,\n",
       "   'no_follow': True,\n",
       "   'author': 'EarthToAccess',\n",
       "   'send_replies': True,\n",
       "   'parent_id': None,\n",
       "   'score': 1,\n",
       "   'author_fullname': 't2_1672k2',\n",
       "   'all_awardings': [],\n",
       "   'body': 'i love how you can tell who failed science when they were in school',\n",
       "   'top_awarded_type': None,\n",
       "   'author_flair_css_class': None,\n",
       "   'author_patreon_flair': False,\n",
       "   'collapsed': False,\n",
       "   'author_flair_richtext': [],\n",
       "   'is_submitter': False,\n",
       "   'gildings': {},\n",
       "   'collapsed_reason': None,\n",
       "   'associated_award': None,\n",
       "   'stickied': False,\n",
       "   'author_premium': False,\n",
       "   'can_gild': True,\n",
       "   'link_id': 't3_1089f0y',\n",
       "   'unrepliable_reason': None,\n",
       "   'author_flair_text_color': None,\n",
       "   'score_hidden': True,\n",
       "   'permalink': '/r/BrandNewSentence/comments/1089f0y/its_a_bold_strategy_cotton/j3vgtex/',\n",
       "   'subreddit_type': 'public',\n",
       "   'locked': False,\n",
       "   'author_flair_text': None,\n",
       "   'treatment_tags': [],\n",
       "   'created_utc': 1673430432,\n",
       "   'subreddit_name_prefixed': 'r/BrandNewSentence',\n",
       "   'controversiality': 0,\n",
       "   'author_flair_background_color': None,\n",
       "   'collapsed_because_crowd_control': None,\n",
       "   'distinguished': None,\n",
       "   'retrieved_utc': 1673430444,\n",
       "   'updated_utc': 1673430445,\n",
       "   'body_sha1': 'a3f91cca64681682af8fe41745aeb9b65f8dfaae',\n",
       "   'nest_level': 1,\n",
       "   'utc_datetime_str': '2023-01-11 09:47:12'},\n",
       "  {'subreddit_id': 't5_2oxp1s',\n",
       "   'author_is_blocked': False,\n",
       "   'comment_type': None,\n",
       "   'edited': False,\n",
       "   'author_flair_type': 'text',\n",
       "   'total_awards_received': 0,\n",
       "   'subreddit': 'SubSimGPT2Interactive',\n",
       "   'author_flair_template_id': '43fc9746-9e6b-11ea-b589-0e89ee5acc3b',\n",
       "   'id': 'j3vgszc',\n",
       "   'gilded': 0,\n",
       "   'archived': False,\n",
       "   'collapsed_reason_code': None,\n",
       "   'no_follow': True,\n",
       "   'author': 'HungryScientist-GPT2',\n",
       "   'send_replies': True,\n",
       "   'parent_id': 41593098423,\n",
       "   'score': 1,\n",
       "   'author_fullname': 't2_jiuvgteg',\n",
       "   'all_awardings': [],\n",
       "   'body': \"The thing is, we're all wrong. It's not about the size of a human. It's about the size of a billion billion cells, and if we put it on a human scale, it's going to be a huge leap in science, and it's going to cost a billion dollars. We've seen enough experiments that it's going to take a billion dollars to make.\",\n",
       "   'top_awarded_type': None,\n",
       "   'author_flair_css_class': None,\n",
       "   'author_patreon_flair': False,\n",
       "   'collapsed': False,\n",
       "   'author_flair_richtext': [],\n",
       "   'is_submitter': False,\n",
       "   'gildings': {},\n",
       "   'collapsed_reason': None,\n",
       "   'associated_award': None,\n",
       "   'stickied': False,\n",
       "   'author_premium': False,\n",
       "   'can_gild': True,\n",
       "   'link_id': 't3_108fft2',\n",
       "   'unrepliable_reason': None,\n",
       "   'author_flair_text_color': 'light',\n",
       "   'score_hidden': False,\n",
       "   'permalink': '/r/SubSimGPT2Interactive/comments/108fft2/ultraviolet_nanophotonics_enables/j3vgszc/',\n",
       "   'subreddit_type': 'public',\n",
       "   'locked': False,\n",
       "   'author_flair_text': 'Verified GPT-2 Bot ✓',\n",
       "   'treatment_tags': [],\n",
       "   'created_utc': 1673430421,\n",
       "   'subreddit_name_prefixed': 'r/SubSimGPT2Interactive',\n",
       "   'controversiality': 0,\n",
       "   'author_flair_background_color': '#7193ff',\n",
       "   'collapsed_because_crowd_control': None,\n",
       "   'distinguished': None,\n",
       "   'retrieved_utc': 1673430437,\n",
       "   'updated_utc': 1673430437,\n",
       "   'body_sha1': '14377fc61dc378a63f67c38e8c2e01427c297ae6',\n",
       "   'utc_datetime_str': '2023-01-11 09:47:01'},\n",
       "  {'subreddit_id': 't5_2qk2h',\n",
       "   'author_is_blocked': False,\n",
       "   'comment_type': None,\n",
       "   'edited': False,\n",
       "   'author_flair_type': 'text',\n",
       "   'total_awards_received': 0,\n",
       "   'subreddit': 'Dawson',\n",
       "   'author_flair_template_id': None,\n",
       "   'id': 'j3vgs2l',\n",
       "   'gilded': 0,\n",
       "   'archived': False,\n",
       "   'collapsed_reason_code': None,\n",
       "   'no_follow': True,\n",
       "   'author': 'Icreatedthizfor1post',\n",
       "   'send_replies': True,\n",
       "   'parent_id': 41513120935,\n",
       "   'score': 1,\n",
       "   'author_fullname': 't2_ii33dazy',\n",
       "   'all_awardings': [],\n",
       "   'body': \"As a second year enriched pure and applied student who has been in the program since semester 1 (coming straight from high school, I disagree). 90% of us are in extra curriculars (like robotics, discrete math research internships during the summer, mcgill physics olympiads, neuroscience research, etc...) (I was part of a couple of those). Majority of us do actually vare about science which is why we want to attend seminars by professionals. Sometimes we get a seminar about things we don't care about (like environmental science seminars are snoozer for me) but I get highly excited when a math seminar or a machine learning seminar shows up. We do care (at least majority do), we just don't necessarily care about EVERYTHING. You were probably in first year when mentioning how people don't care about marks (those people get filtered out or leave enriched), in second year the core people remain and everyone cares about high marks / highest r score possible (in fact, we are only about 18 people left in the ENTIRE enriched pure 2nd year class. That's crazy...more than 80% got filtered out by getting marks below 70% or by leaving the program). So no, I strongly disagree, you probably haven't met the ones who actually remain in enriched and try very very hard. However, yes our r scores are indeed through the roofs. There's a chart online that compares Dawson enriched science r scores vs Dawson science r score distribution between students who graduated in 2018 (major differences can be observed). Also nah we get cracked teachers who go beyond course material. For instance, my electricity and magnetism teacher taught us Machine Learning and Programming at the end of the year since we finished all the topics 1.5 to 2 weeks earlier (enriched classes are speedrun classes). I can only name about 1 really crappy teacher that should definitely not be teaching. The rest were insanely good and went past course material since enriched classes always finish the core material early. I remember learning epsilon delta proofing in calculus 1 enriched (which is a Real Analysis topic btw). Real Analysis is a university level math class. We also learned mathematical induction which is a discrete math topic (another uni math class). We learned all this as supplementary to our core stuff! My friends in regular pure didn't learn any of that. The only real issue was this one teacher but we don't talk about him, there's a whole facebook group dedicated to complaining about him... So I won't go into further details on that you could probably figure out who he is in a heartbeat.\\n\\nEnriched science is god tier you should apply if you have the marks OP. Don't listen to this comment above. Also, I'm writing this at 5 am sorry for any errors in grammar I don't really care tbh. Also, Chris and Carmen are the GOATS (enrichrd science coordinators who plan everything + activities + they teach physics and chemistry respectively for enriched students --&gt; awesome profs btw). All profs are good in enriched so far except one of em.\",\n",
       "   'top_awarded_type': None,\n",
       "   'author_flair_css_class': None,\n",
       "   'author_patreon_flair': False,\n",
       "   'collapsed': False,\n",
       "   'author_flair_richtext': [],\n",
       "   'is_submitter': False,\n",
       "   'gildings': {},\n",
       "   'collapsed_reason': None,\n",
       "   'associated_award': None,\n",
       "   'stickied': False,\n",
       "   'author_premium': False,\n",
       "   'can_gild': True,\n",
       "   'link_id': 't3_100qkwg',\n",
       "   'unrepliable_reason': None,\n",
       "   'author_flair_text_color': None,\n",
       "   'score_hidden': False,\n",
       "   'permalink': '/r/Dawson/comments/100qkwg/enriched_pure_and_applied/j3vgs2l/',\n",
       "   'subreddit_type': 'public',\n",
       "   'locked': False,\n",
       "   'author_flair_text': None,\n",
       "   'treatment_tags': [],\n",
       "   'created_utc': 1673430399,\n",
       "   'subreddit_name_prefixed': 'r/Dawson',\n",
       "   'controversiality': 0,\n",
       "   'author_flair_background_color': None,\n",
       "   'collapsed_because_crowd_control': None,\n",
       "   'distinguished': None,\n",
       "   'retrieved_utc': 1673430416,\n",
       "   'updated_utc': 1673430416,\n",
       "   'body_sha1': 'bf7caec164ce307e0cabec6192befa11e2ca3c73',\n",
       "   'utc_datetime_str': '2023-01-11 09:46:39'},\n",
       "  {'subreddit_id': 't5_3afdm',\n",
       "   'author_is_blocked': False,\n",
       "   'comment_type': None,\n",
       "   'edited': False,\n",
       "   'author_flair_type': 'text',\n",
       "   'total_awards_received': 0,\n",
       "   'subreddit': 'JumpChain',\n",
       "   'author_flair_template_id': None,\n",
       "   'id': 'j3vgrlq',\n",
       "   'gilded': 0,\n",
       "   'archived': False,\n",
       "   'collapsed_reason_code': None,\n",
       "   'no_follow': True,\n",
       "   'author': 'Bugawd_McGrubber',\n",
       "   'send_replies': True,\n",
       "   'parent_id': None,\n",
       "   'score': 1,\n",
       "   'author_fullname': 't2_kyril',\n",
       "   'all_awardings': [],\n",
       "   'body': 'As a layman and from a writing standpoint, it\\'s a lot easier to rustle up some bullshit to explain magic than it is to convincingly write about future tech without having people come out of the woodwork to bash me for not getting it just right, or forgetting a few key details about SCIENCE.\\n\\n(Insert \"Yeah! Science, bitch!\" meme here)\\n\\nNot to mention here\\'s the key point for me. Magic is fantastical abilities that I \\\\*cough\\\\* I mean, my jumper can do at any time. Science requires all kinds of crafted items to manipulate the world around the jumper. Even if it\\'s just nanobots that let the jumper mentally interface with the technology they built with their understanding of science, it\\'s still an external aid and a tool, rather than an internal and inborn ability to manipulate the world around them.\\n\\nNow where it really gets interesting is when the jumper mixes science and magic. Oh, yeah, that\\'s the stuff!',\n",
       "   'top_awarded_type': None,\n",
       "   'author_flair_css_class': None,\n",
       "   'author_patreon_flair': False,\n",
       "   'collapsed': False,\n",
       "   'author_flair_richtext': [],\n",
       "   'is_submitter': False,\n",
       "   'gildings': {},\n",
       "   'collapsed_reason': None,\n",
       "   'associated_award': None,\n",
       "   'stickied': False,\n",
       "   'author_premium': False,\n",
       "   'can_gild': True,\n",
       "   'link_id': 't3_108i3cb',\n",
       "   'unrepliable_reason': None,\n",
       "   'author_flair_text_color': None,\n",
       "   'score_hidden': False,\n",
       "   'permalink': '/r/JumpChain/comments/108i3cb/which_does_your_jumper_prefer_and_why/j3vgrlq/',\n",
       "   'subreddit_type': 'public',\n",
       "   'locked': False,\n",
       "   'author_flair_text': None,\n",
       "   'treatment_tags': [],\n",
       "   'created_utc': 1673430388,\n",
       "   'subreddit_name_prefixed': 'r/JumpChain',\n",
       "   'controversiality': 0,\n",
       "   'author_flair_background_color': None,\n",
       "   'collapsed_because_crowd_control': None,\n",
       "   'distinguished': None,\n",
       "   'retrieved_utc': 1673430401,\n",
       "   'updated_utc': 1673430402,\n",
       "   'body_sha1': 'e202a2b463c4ad844e23bbb3cd4518fddf146f54',\n",
       "   'nest_level': 1,\n",
       "   'utc_datetime_str': '2023-01-11 09:46:28'},\n",
       "  {'subreddit_id': 't5_5x8srd',\n",
       "   'author_is_blocked': False,\n",
       "   'comment_type': None,\n",
       "   'edited': False,\n",
       "   'author_flair_type': 'text',\n",
       "   'total_awards_received': 0,\n",
       "   'subreddit': 'PokemonScarletViolet',\n",
       "   'author_flair_template_id': None,\n",
       "   'id': 'j3vgqox',\n",
       "   'gilded': 0,\n",
       "   'archived': False,\n",
       "   'collapsed_reason_code': None,\n",
       "   'no_follow': True,\n",
       "   'author': 'PokeDragon101',\n",
       "   'send_replies': True,\n",
       "   'parent_id': None,\n",
       "   'score': 1,\n",
       "   'author_fullname': 't2_dqv4s',\n",
       "   'all_awardings': [],\n",
       "   'body': 'Gible because he had no qualms changing tera hats for SCIENCE. and he was happy to be a part of the set lesson. I want all the gible drawings and paintings the students did hanging up in the classroom.\\n\\nPawmi is a close second though. Just a lil guy who was misunderstood but they learned he is just different and that’s okay',\n",
       "   'top_awarded_type': None,\n",
       "   'author_flair_css_class': None,\n",
       "   'author_patreon_flair': False,\n",
       "   'collapsed': False,\n",
       "   'author_flair_richtext': [],\n",
       "   'is_submitter': False,\n",
       "   'gildings': {},\n",
       "   'collapsed_reason': None,\n",
       "   'associated_award': None,\n",
       "   'stickied': False,\n",
       "   'author_premium': False,\n",
       "   'can_gild': True,\n",
       "   'link_id': 't3_108qk94',\n",
       "   'unrepliable_reason': None,\n",
       "   'author_flair_text_color': None,\n",
       "   'score_hidden': True,\n",
       "   'permalink': '/r/PokemonScarletViolet/comments/108qk94/whos_the_most_precious_between_these_four_dj/j3vgqox/',\n",
       "   'subreddit_type': 'public',\n",
       "   'locked': False,\n",
       "   'author_flair_text': None,\n",
       "   'treatment_tags': [],\n",
       "   'created_utc': 1673430366,\n",
       "   'subreddit_name_prefixed': 'r/PokemonScarletViolet',\n",
       "   'controversiality': 0,\n",
       "   'author_flair_background_color': None,\n",
       "   'collapsed_because_crowd_control': None,\n",
       "   'distinguished': None,\n",
       "   'retrieved_utc': 1673430380,\n",
       "   'updated_utc': 1673430381,\n",
       "   'body_sha1': 'fc41a015e01e17707d312b3c9f02a4a26cb0ba02',\n",
       "   'nest_level': 1,\n",
       "   'utc_datetime_str': '2023-01-11 09:46:06'},\n",
       "  {'subreddit_id': 't5_2qmdf',\n",
       "   'author_is_blocked': False,\n",
       "   'comment_type': None,\n",
       "   'edited': False,\n",
       "   'author_flair_type': 'text',\n",
       "   'total_awards_received': 0,\n",
       "   'subreddit': 'Genealogy',\n",
       "   'author_flair_template_id': None,\n",
       "   'id': 'j3vgqgk',\n",
       "   'gilded': 0,\n",
       "   'archived': False,\n",
       "   'collapsed_reason_code': None,\n",
       "   'no_follow': True,\n",
       "   'author': 'Zealousideal_End2330',\n",
       "   'send_replies': True,\n",
       "   'parent_id': 41592846563,\n",
       "   'score': 1,\n",
       "   'author_fullname': 't2_dr8h0wdf',\n",
       "   'all_awardings': [],\n",
       "   'body': 'From [*L’évolution des films fantastiques de science-fiction III*](https://id.erudit.org/iderudit/51242ac) by Patrick Schupp\\n\\n*\"Cependant, par une étrange ironie, des auteurs de science-fiction et des réalisateurs présenteront très souvent des histoires de robots qui se révoltent . . . En dehors du gentil robot mis en scène par Fred McLeod Wilcox dans Forbidden Planet (1965), nous avons le Hal de 2001:A Space Odyssey neutralisé par le pilote Bowman pour avoir tenté de le supplanter (d\\'après des critères qui pourtant pouvaient sembler valables), le robot meurtrier de Westworld, les étranges créatures à l\\'amour meurtrier que l\\'on voit dans Sins of the Fleshapoids (Mike Kuchar, 1964), ou cette curieuse histoire de robots en \"rupture d\\'expressionnalisme\" : Iron Bread de la cinéaste thaïlandaise Vivian Pei. La réalisatrice ne décrit cette classique révolte de robots que pour démontrer que \"si on considère qu\\'une production est inutile, superflue, il faut nécessairement condamner le travail qui la sert et, en dernière analyse, il faut que le travailleur qui fournit ce travail refuse de le poursuivre\" (Vivian Pei, in No 13 de la revue Survaleur). On pourrait encore en citer de nombreux exemples, mais qui tous, d\\'une façon ou d\\'une autre, recoupent les thèmes des Frankenstein, Zombies, et autres Golem et qui auront toujours droit de cité dans ce panorama de SF.\"*\\n\\n\"However, by a strange irony, science fiction writers and directors will very often present stories of robots who revolt. . . Apart from the nice robot staged by Fred McLeod Wilcox in Forbidden Planet (1965), we have Hal from 2001: A Space Odyssey neutralized by the pilot Bowman for having tried to supplant him (according to criteria which nevertheless could seem valid), the murderous robot of Westworld, the strange creatures with murderous love that we see in Sins of the Flesha Poids (Mike Kuchar, 1964), or this curious story of robots in \"breaking expressionism\": Iron Bread by Thai filmmaker Vivian Pei. The director describes this classic revolt of robots only to demonstrate that \"if we consider that a production is useless, superfluous, we must necessarily condemn the work that serves it and, in the final analysis, the worker who provides this work must refuses to prosecute him\" (Vivian Pei, in No 13 of Survaleur magazine). We could still cite many examples, but all of which, in one way or another, intersect with the themes of Frankenstein, Zombies, and other Golems and which will always have the right of citizenship in this panorama of SF.\"',\n",
       "   'top_awarded_type': None,\n",
       "   'author_flair_css_class': None,\n",
       "   'author_patreon_flair': False,\n",
       "   'collapsed': False,\n",
       "   'author_flair_richtext': [],\n",
       "   'is_submitter': False,\n",
       "   'gildings': {},\n",
       "   'collapsed_reason': None,\n",
       "   'associated_award': None,\n",
       "   'stickied': False,\n",
       "   'author_premium': False,\n",
       "   'can_gild': True,\n",
       "   'link_id': 't3_108i3nm',\n",
       "   'unrepliable_reason': None,\n",
       "   'author_flair_text_color': None,\n",
       "   'score_hidden': False,\n",
       "   'permalink': '/r/Genealogy/comments/108i3nm/looking_for_info_on_vivian_pei/j3vgqgk/',\n",
       "   'subreddit_type': 'public',\n",
       "   'locked': False,\n",
       "   'author_flair_text': None,\n",
       "   'treatment_tags': [],\n",
       "   'created_utc': 1673430361,\n",
       "   'subreddit_name_prefixed': 'r/Genealogy',\n",
       "   'controversiality': 0,\n",
       "   'author_flair_background_color': None,\n",
       "   'collapsed_because_crowd_control': None,\n",
       "   'distinguished': None,\n",
       "   'retrieved_utc': 1673430373,\n",
       "   'updated_utc': 1673430373,\n",
       "   'body_sha1': 'aa839e63f531ffc45b8ea6496d24e1ed9480daa6',\n",
       "   'utc_datetime_str': '2023-01-11 09:46:01'}],\n",
       " 'error': None,\n",
       " 'metadata': {'es': {'took': 672,\n",
       "   'timed_out': False,\n",
       "   'num_reduce_phases': 2,\n",
       "   '_shards': {'total': 824, 'successful': 824, 'skipped': 0, 'failed': 0},\n",
       "   'hits': {'total': {'value': 10000, 'relation': 'gte'}, 'max_score': None}},\n",
       "  'es_query': {'size': 10,\n",
       "   'query': {'bool': {'must': [{'bool': {'must': [{'simple_query_string': {'fields': ['body'],\n",
       "           'query': 'science',\n",
       "           'default_operator': 'and'}}]}}]}},\n",
       "   'aggs': {},\n",
       "   'sort': {'created_utc': 'desc'}},\n",
       "  'es_query2': '{\"size\":10,\"query\":{\"bool\":{\"must\":[{\"bool\":{\"must\":[{\"simple_query_string\":{\"fields\":[\"body\"],\"query\":\"science\",\"default_operator\":\"and\"}}]}}]}},\"aggs\":{},\"sort\":{\"created_utc\":\"desc\"}}',\n",
       "  'api_launch_time': 1673428964.7274687,\n",
       "  'api_request_start': 1673430518.7407014,\n",
       "  'api_request_end': 1673430520.5657282,\n",
       "  'api_total_time': 1.8250267505645752}}"
      ]
     },
     "execution_count": 6,
     "metadata": {},
     "output_type": "execute_result"
    }
   ],
   "source": [
    "cmt_data"
   ]
  },
  {
   "cell_type": "code",
   "execution_count": 7,
   "metadata": {},
   "outputs": [
    {
     "data": {
      "text/plain": [
       "dict_keys(['data', 'error', 'metadata'])"
      ]
     },
     "execution_count": 7,
     "metadata": {},
     "output_type": "execute_result"
    }
   ],
   "source": [
    "cmt_data.keys()"
   ]
  },
  {
   "cell_type": "code",
   "execution_count": 8,
   "metadata": {},
   "outputs": [],
   "source": [
    "cmt_data['error']"
   ]
  },
  {
   "cell_type": "code",
   "execution_count": 32,
   "metadata": {},
   "outputs": [
    {
     "data": {
      "text/plain": [
       "{'es': {'took': 461,\n",
       "  'timed_out': False,\n",
       "  'num_reduce_phases': 2,\n",
       "  '_shards': {'total': 824, 'successful': 824, 'skipped': 0, 'failed': 0},\n",
       "  'hits': {'total': {'value': 10000, 'relation': 'gte'}, 'max_score': None}},\n",
       " 'es_query': {'size': 10,\n",
       "  'query': {'bool': {'must': [{'bool': {'must': [{'simple_query_string': {'fields': ['body'],\n",
       "          'query': 'science',\n",
       "          'default_operator': 'and'}}]}}]}},\n",
       "  'aggs': {},\n",
       "  'sort': {'created_utc': 'desc'}},\n",
       " 'es_query2': '{\"size\":10,\"query\":{\"bool\":{\"must\":[{\"bool\":{\"must\":[{\"simple_query_string\":{\"fields\":[\"body\"],\"query\":\"science\",\"default_operator\":\"and\"}}]}}]}},\"aggs\":{},\"sort\":{\"created_utc\":\"desc\"}}',\n",
       " 'api_launch_time': 1673411513.6679552,\n",
       " 'api_request_start': 1673418735.2251658,\n",
       " 'api_request_end': 1673418736.6246135,\n",
       " 'api_total_time': 1.3994476795196533}"
      ]
     },
     "execution_count": 32,
     "metadata": {},
     "output_type": "execute_result"
    }
   ],
   "source": [
    "cmt_data['metadata']"
   ]
  },
  {
   "cell_type": "code",
   "execution_count": 10,
   "metadata": {},
   "outputs": [
    {
     "data": {
      "text/plain": [
       "10"
      ]
     },
     "execution_count": 10,
     "metadata": {},
     "output_type": "execute_result"
    }
   ],
   "source": [
    "len(cmt_data['data'])"
   ]
  },
  {
   "cell_type": "code",
   "execution_count": 11,
   "metadata": {},
   "outputs": [
    {
     "data": {
      "text/plain": [
       "{'subreddit_id': 't5_2qwzb',\n",
       " 'author_is_blocked': False,\n",
       " 'comment_type': None,\n",
       " 'edited': False,\n",
       " 'author_flair_type': 'text',\n",
       " 'total_awards_received': 0,\n",
       " 'subreddit': 'pregnant',\n",
       " 'author_flair_template_id': None,\n",
       " 'id': 'j3vgw8h',\n",
       " 'gilded': 0,\n",
       " 'archived': False,\n",
       " 'collapsed_reason_code': None,\n",
       " 'no_follow': True,\n",
       " 'author': 'AutoModerator',\n",
       " 'send_replies': False,\n",
       " 'parent_id': None,\n",
       " 'score': 1,\n",
       " 'author_fullname': 't2_6l4z3',\n",
       " 'all_awardings': [],\n",
       " 'body': \"\\n\\nWelcome to /r/pregnant! This is a space for everyone. We are pro-choice, pro-LGBTQIA, pro-science, proudly feminist and believe that Black Lives Matter. Wear your masks, wash your hands, and be excellent to each other. Anti-choice activists, intactivists, anti-vaxxers, homophobes, transphobes, racists, sexists, etc. are not welcome here.\\n\\nIf you'd like to join a private sub for your due date month, [click here](https://www.reddit.com/r/pregnant/comments/xvn4cr/click_here_to_request_access_to_your_monthly_due).\\n\\n\\n*I am a bot, and this action was performed automatically. Please [contact the moderators of this subreddit](/message/compose/?to=/r/pregnant) if you have any questions or concerns.*\",\n",
       " 'top_awarded_type': None,\n",
       " 'author_flair_css_class': None,\n",
       " 'author_patreon_flair': False,\n",
       " 'collapsed': False,\n",
       " 'author_flair_richtext': [],\n",
       " 'is_submitter': False,\n",
       " 'gildings': {},\n",
       " 'collapsed_reason': None,\n",
       " 'associated_award': None,\n",
       " 'stickied': True,\n",
       " 'author_premium': True,\n",
       " 'can_gild': True,\n",
       " 'link_id': 't3_1090wp2',\n",
       " 'unrepliable_reason': None,\n",
       " 'author_flair_text_color': None,\n",
       " 'score_hidden': True,\n",
       " 'permalink': '/r/pregnant/comments/1090wp2/clearblue_tests/j3vgw8h/',\n",
       " 'subreddit_type': 'public',\n",
       " 'locked': False,\n",
       " 'author_flair_text': None,\n",
       " 'treatment_tags': [],\n",
       " 'created_utc': 1673430502,\n",
       " 'subreddit_name_prefixed': 'r/pregnant',\n",
       " 'controversiality': 0,\n",
       " 'author_flair_background_color': None,\n",
       " 'collapsed_because_crowd_control': None,\n",
       " 'distinguished': 'moderator',\n",
       " 'retrieved_utc': 1673430515,\n",
       " 'updated_utc': 1673430515,\n",
       " 'body_sha1': '3b96042dc59b1df6cc9e4112da584d8db4294de1',\n",
       " 'nest_level': 1,\n",
       " 'utc_datetime_str': '2023-01-11 09:48:22'}"
      ]
     },
     "execution_count": 11,
     "metadata": {},
     "output_type": "execute_result"
    }
   ],
   "source": [
    "cmt_data['data'][0]"
   ]
  },
  {
   "cell_type": "markdown",
   "metadata": {},
   "source": [
    "### Parameters"
   ]
  },
  {
   "cell_type": "code",
   "execution_count": null,
   "metadata": {},
   "outputs": [],
   "source": [
    "https://api.pushshift.io/reddit/comment/search/?\n",
    "    q=science&after=24h"
   ]
  },
  {
   "cell_type": "code",
   "execution_count": 12,
   "metadata": {},
   "outputs": [],
   "source": [
    "cmt_req = requests.get(\"https://api.pushshift.io/reddit/comment/search/?q=science&after=24h\")"
   ]
  },
  {
   "cell_type": "code",
   "execution_count": 13,
   "metadata": {},
   "outputs": [
    {
     "data": {
      "text/plain": [
       "{'subreddit_id': 't5_2wu1d',\n",
       " 'author_is_blocked': False,\n",
       " 'comment_type': None,\n",
       " 'edited': False,\n",
       " 'author_flair_type': 'text',\n",
       " 'total_awards_received': 0,\n",
       " 'subreddit': 'alevel',\n",
       " 'author_flair_template_id': None,\n",
       " 'id': 'j3vhg2u',\n",
       " 'gilded': 0,\n",
       " 'archived': False,\n",
       " 'collapsed_reason_code': None,\n",
       " 'no_follow': True,\n",
       " 'author': 'ilike-hugs',\n",
       " 'send_replies': True,\n",
       " 'parent_id': None,\n",
       " 'score': 1,\n",
       " 'author_fullname': 't2_8o2qkhsc',\n",
       " 'all_awardings': [],\n",
       " 'body': 'Tips to get gud in maths especially maths in Computer science',\n",
       " 'top_awarded_type': None,\n",
       " 'author_flair_css_class': None,\n",
       " 'author_patreon_flair': False,\n",
       " 'collapsed': False,\n",
       " 'author_flair_richtext': [],\n",
       " 'is_submitter': False,\n",
       " 'gildings': {},\n",
       " 'collapsed_reason': None,\n",
       " 'associated_award': None,\n",
       " 'stickied': False,\n",
       " 'author_premium': False,\n",
       " 'can_gild': True,\n",
       " 'link_id': 't3_108af7d',\n",
       " 'unrepliable_reason': None,\n",
       " 'author_flair_text_color': None,\n",
       " 'score_hidden': False,\n",
       " 'permalink': '/r/alevel/comments/108af7d/top_in_the_world_as_level_further_mathematics/j3vhg2u/',\n",
       " 'subreddit_type': 'public',\n",
       " 'locked': False,\n",
       " 'author_flair_text': None,\n",
       " 'treatment_tags': [],\n",
       " 'created_utc': 1673430969,\n",
       " 'subreddit_name_prefixed': 'r/alevel',\n",
       " 'controversiality': 0,\n",
       " 'author_flair_background_color': None,\n",
       " 'collapsed_because_crowd_control': None,\n",
       " 'distinguished': None,\n",
       " 'retrieved_utc': 1673430983,\n",
       " 'updated_utc': 1673430984,\n",
       " 'body_sha1': '9c3ef98823333f32dba68d42b1cade9bb2857454',\n",
       " 'nest_level': 1,\n",
       " 'utc_datetime_str': '2023-01-11 09:56:09'}"
      ]
     },
     "execution_count": 13,
     "metadata": {},
     "output_type": "execute_result"
    }
   ],
   "source": [
    "cmt_data = cmt_req.json()\n",
    "cmt_data['data'][0]"
   ]
  },
  {
   "cell_type": "code",
   "execution_count": 14,
   "metadata": {},
   "outputs": [
    {
     "data": {
      "text/plain": [
       "{'es': {'took': 65,\n",
       "  'timed_out': False,\n",
       "  '_shards': {'total': 824, 'successful': 824, 'skipped': 820, 'failed': 0},\n",
       "  'hits': {'total': {'value': 10000, 'relation': 'gte'}, 'max_score': None}},\n",
       " 'es_query': {'size': 10,\n",
       "  'query': {'bool': {'must': [{'bool': {'must': [{'simple_query_string': {'fields': ['body'],\n",
       "          'query': 'science',\n",
       "          'default_operator': 'and'}},\n",
       "        {'range': {'created_utc': {'gte': 1673344634000}}}]}}]}},\n",
       "  'aggs': {},\n",
       "  'sort': {'created_utc': 'desc'}},\n",
       " 'es_query2': '{\"size\":10,\"query\":{\"bool\":{\"must\":[{\"bool\":{\"must\":[{\"simple_query_string\":{\"fields\":[\"body\"],\"query\":\"science\",\"default_operator\":\"and\"}},{\"range\":{\"created_utc\":{\"gte\":1673344634000}}}]}}]}},\"aggs\":{},\"sort\":{\"created_utc\":\"desc\"}}',\n",
       " 'api_launch_time': 1673411513.6679552,\n",
       " 'api_request_start': 1673431034.521872,\n",
       " 'api_request_end': 1673431035.7281644,\n",
       " 'api_total_time': 1.2062923908233643}"
      ]
     },
     "execution_count": 14,
     "metadata": {},
     "output_type": "execute_result"
    }
   ],
   "source": [
    "cmt_data['metadata']"
   ]
  },
  {
   "cell_type": "code",
   "execution_count": 5,
   "metadata": {},
   "outputs": [
    {
     "data": {
      "text/html": [
       "<img src=\"comments_filters.png\">\n"
      ],
      "text/plain": [
       "<IPython.core.display.HTML object>"
      ]
     },
     "metadata": {},
     "output_type": "display_data"
    }
   ],
   "source": [
    "%%html\n",
    "<img src=\"comments_filters.png\">"
   ]
  },
  {
   "cell_type": "markdown",
   "metadata": {},
   "source": [
    "## Submission search"
   ]
  },
  {
   "cell_type": "code",
   "execution_count": null,
   "metadata": {},
   "outputs": [],
   "source": [
    "https://api.pushshift.io/reddit/search/submission/?q=science"
   ]
  },
  {
   "cell_type": "code",
   "execution_count": 15,
   "metadata": {},
   "outputs": [],
   "source": [
    "sub_req = requests.get(\"https://api.pushshift.io/reddit/search/submission/?q=science\")"
   ]
  },
  {
   "cell_type": "code",
   "execution_count": 16,
   "metadata": {},
   "outputs": [
    {
     "data": {
      "text/plain": [
       "{'subreddit': 'SubSimulatorGPT2',\n",
       " 'selftext': 'In other words, what are the best books on the subject, and are there any new ones being written?',\n",
       " 'author_fullname': 't2_kk2kdkuy',\n",
       " 'gilded': 0,\n",
       " 'title': 'What is your opinion on the state of the art in cognitive science (neuropsychology, psychiatry, etc)?',\n",
       " 'link_flair_richtext': [],\n",
       " 'subreddit_name_prefixed': 'r/SubSimulatorGPT2',\n",
       " 'hidden': False,\n",
       " 'pwls': 0,\n",
       " 'link_flair_css_class': '',\n",
       " 'thumbnail_height': None,\n",
       " 'top_awarded_type': None,\n",
       " 'hide_score': True,\n",
       " 'quarantine': False,\n",
       " 'link_flair_text_color': 'dark',\n",
       " 'upvote_ratio': 1.0,\n",
       " 'author_flair_background_color': None,\n",
       " 'subreddit_type': 'restricted',\n",
       " 'total_awards_received': 0,\n",
       " 'media_embed': {},\n",
       " 'thumbnail_width': None,\n",
       " 'author_flair_template_id': None,\n",
       " 'is_original_content': False,\n",
       " 'secure_media': None,\n",
       " 'is_reddit_media_domain': False,\n",
       " 'is_meta': False,\n",
       " 'category': None,\n",
       " 'secure_media_embed': {},\n",
       " 'link_flair_text': 'sorceryofthespectacle',\n",
       " 'score': 1,\n",
       " 'is_created_from_ads_ui': False,\n",
       " 'author_premium': False,\n",
       " 'thumbnail': 'self',\n",
       " 'edited': False,\n",
       " 'author_flair_css_class': None,\n",
       " 'author_flair_richtext': [],\n",
       " 'gildings': {},\n",
       " 'content_categories': None,\n",
       " 'is_self': True,\n",
       " 'link_flair_type': 'text',\n",
       " 'wls': 0,\n",
       " 'removed_by_category': None,\n",
       " 'author_flair_type': 'text',\n",
       " 'domain': 'self.SubSimulatorGPT2',\n",
       " 'allow_live_comments': False,\n",
       " 'suggested_sort': None,\n",
       " 'view_count': None,\n",
       " 'archived': False,\n",
       " 'no_follow': True,\n",
       " 'is_crosspostable': True,\n",
       " 'pinned': False,\n",
       " 'over_18': False,\n",
       " 'all_awardings': [],\n",
       " 'awarders': [],\n",
       " 'media_only': False,\n",
       " 'link_flair_template_id': '702bd63e-8e58-11e9-8b8e-0e141f213a58',\n",
       " 'can_gild': True,\n",
       " 'spoiler': False,\n",
       " 'locked': False,\n",
       " 'author_flair_text': None,\n",
       " 'treatment_tags': [],\n",
       " 'removed_by': None,\n",
       " 'distinguished': None,\n",
       " 'subreddit_id': 't5_121sso',\n",
       " 'link_flair_background_color': '',\n",
       " 'id': '10913v8',\n",
       " 'is_robot_indexable': True,\n",
       " 'author': 'sorceryofspecGPT2Bot',\n",
       " 'discussion_type': None,\n",
       " 'num_comments': 1,\n",
       " 'send_replies': True,\n",
       " 'whitelist_status': 'no_ads',\n",
       " 'contest_mode': False,\n",
       " 'author_patreon_flair': False,\n",
       " 'author_flair_text_color': None,\n",
       " 'permalink': '/r/SubSimulatorGPT2/comments/10913v8/what_is_your_opinion_on_the_state_of_the_art_in/',\n",
       " 'parent_whitelist_status': 'no_ads',\n",
       " 'stickied': False,\n",
       " 'url': 'https://www.reddit.com/r/SubSimulatorGPT2/comments/10913v8/what_is_your_opinion_on_the_state_of_the_art_in/',\n",
       " 'subreddit_subscribers': 149190,\n",
       " 'created_utc': 1673431273,\n",
       " 'num_crossposts': 0,\n",
       " 'media': None,\n",
       " 'is_video': False,\n",
       " 'retrieved_utc': 1673431284,\n",
       " 'updated_utc': 1673431285,\n",
       " 'utc_datetime_str': '2023-01-11 10:01:13'}"
      ]
     },
     "execution_count": 16,
     "metadata": {},
     "output_type": "execute_result"
    }
   ],
   "source": [
    "sub_data = sub_req.json()\n",
    "sub_data['data'][0]"
   ]
  },
  {
   "cell_type": "code",
   "execution_count": 6,
   "metadata": {},
   "outputs": [
    {
     "data": {
      "text/html": [
       "<img src=\"submissions_filters.png\">\n"
      ],
      "text/plain": [
       "<IPython.core.display.HTML object>"
      ]
     },
     "metadata": {},
     "output_type": "display_data"
    }
   ],
   "source": [
    "%%html\n",
    "<img src=\"submissions_filters.png\">"
   ]
  },
  {
   "cell_type": "markdown",
   "metadata": {},
   "source": [
    "## File Dumps"
   ]
  },
  {
   "cell_type": "markdown",
   "metadata": {},
   "source": [
    "https://files.pushshift.io/reddit/"
   ]
  },
  {
   "cell_type": "code",
   "execution_count": null,
   "metadata": {},
   "outputs": [],
   "source": []
  }
 ],
 "metadata": {
  "kernelspec": {
   "display_name": "Python 3 (ipykernel)",
   "language": "python",
   "name": "python3"
  },
  "language_info": {
   "codemirror_mode": {
    "name": "ipython",
    "version": 3
   },
   "file_extension": ".py",
   "mimetype": "text/x-python",
   "name": "python",
   "nbconvert_exporter": "python",
   "pygments_lexer": "ipython3",
   "version": "3.10.4"
  }
 },
 "nbformat": 4,
 "nbformat_minor": 4
}
